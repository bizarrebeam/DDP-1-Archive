{
 "cells": [
  {
   "cell_type": "code",
   "execution_count": 1,
   "id": "7355501f",
   "metadata": {},
   "outputs": [],
   "source": [
    "txt = '<putusan amar=\"pidana\" amar_lainnya=\"jatuh-pidana-oleh-karena-itu-kepada-dakwa-ir-bambang-sasongko-bin-r-soewarno-dengan-pidana-penjara-lama-4-empat-bulan\" id=\"0006582ad67cd9bd1ddf4261a09bf382\" klasifikasi=\"pidana-umum\" lama_hukuman=\"120\" lembaga_peradilan=\"pn-kediri\" provinsi=\"jatim\" status=\"berkekuatan-hukum-tetap\" sub_klasifikasi=\"kejahatan-terhadap-keamanan-negara\" url=\"https://putusan3.mahkamahagung.go.id/direktori/putusan/0006582ad67cd9bd1ddf4261a09bf382.html\">'"
   ]
  },
  {
   "cell_type": "code",
   "execution_count": 6,
   "id": "6dc69753",
   "metadata": {},
   "outputs": [],
   "source": [
    "mytxt = txt.strip()\n",
    "mytxt2 = txt.split()\n",
    "mytxt3 = txt.strip().split()"
   ]
  },
  {
   "cell_type": "code",
   "execution_count": 7,
   "id": "ce3e443e",
   "metadata": {},
   "outputs": [
    {
     "name": "stdout",
     "output_type": "stream",
     "text": [
      "<putusan amar=\"pidana\" amar_lainnya=\"jatuh-pidana-oleh-karena-itu-kepada-dakwa-ir-bambang-sasongko-bin-r-soewarno-dengan-pidana-penjara-lama-4-empat-bulan\" id=\"0006582ad67cd9bd1ddf4261a09bf382\" klasifikasi=\"pidana-umum\" lama_hukuman=\"120\" lembaga_peradilan=\"pn-kediri\" provinsi=\"jatim\" status=\"berkekuatan-hukum-tetap\" sub_klasifikasi=\"kejahatan-terhadap-keamanan-negara\" url=\"https://putusan3.mahkamahagung.go.id/direktori/putusan/0006582ad67cd9bd1ddf4261a09bf382.html\">\n"
     ]
    }
   ],
   "source": [
    "print(txt)"
   ]
  },
  {
   "cell_type": "code",
   "execution_count": 8,
   "id": "5ba131db",
   "metadata": {},
   "outputs": [
    {
     "name": "stdout",
     "output_type": "stream",
     "text": [
      "<putusan amar=\"pidana\" amar_lainnya=\"jatuh-pidana-oleh-karena-itu-kepada-dakwa-ir-bambang-sasongko-bin-r-soewarno-dengan-pidana-penjara-lama-4-empat-bulan\" id=\"0006582ad67cd9bd1ddf4261a09bf382\" klasifikasi=\"pidana-umum\" lama_hukuman=\"120\" lembaga_peradilan=\"pn-kediri\" provinsi=\"jatim\" status=\"berkekuatan-hukum-tetap\" sub_klasifikasi=\"kejahatan-terhadap-keamanan-negara\" url=\"https://putusan3.mahkamahagung.go.id/direktori/putusan/0006582ad67cd9bd1ddf4261a09bf382.html\">\n"
     ]
    }
   ],
   "source": [
    "print(mytxt)"
   ]
  },
  {
   "cell_type": "code",
   "execution_count": 9,
   "id": "120df57e",
   "metadata": {},
   "outputs": [
    {
     "name": "stdout",
     "output_type": "stream",
     "text": [
      "['<putusan', 'amar=\"pidana\"', 'amar_lainnya=\"jatuh-pidana-oleh-karena-itu-kepada-dakwa-ir-bambang-sasongko-bin-r-soewarno-dengan-pidana-penjara-lama-4-empat-bulan\"', 'id=\"0006582ad67cd9bd1ddf4261a09bf382\"', 'klasifikasi=\"pidana-umum\"', 'lama_hukuman=\"120\"', 'lembaga_peradilan=\"pn-kediri\"', 'provinsi=\"jatim\"', 'status=\"berkekuatan-hukum-tetap\"', 'sub_klasifikasi=\"kejahatan-terhadap-keamanan-negara\"', 'url=\"https://putusan3.mahkamahagung.go.id/direktori/putusan/0006582ad67cd9bd1ddf4261a09bf382.html\">']\n"
     ]
    }
   ],
   "source": [
    "print(mytxt2)"
   ]
  },
  {
   "cell_type": "code",
   "execution_count": 29,
   "id": "40b4ff42",
   "metadata": {},
   "outputs": [
    {
     "name": "stdout",
     "output_type": "stream",
     "text": [
      "jatim\n"
     ]
    }
   ],
   "source": [
    "for word in mytxt2:\n",
    "    if word.startswith(\"provinsi=\"):\n",
    "        print(word.split('\"')[1])\n"
   ]
  },
  {
   "cell_type": "code",
   "execution_count": null,
   "id": "4428ae6f",
   "metadata": {},
   "outputs": [],
   "source": [
    "for word in mytxt2:\n",
    "    "
   ]
  },
  {
   "cell_type": "code",
   "execution_count": 10,
   "id": "fc688f93",
   "metadata": {},
   "outputs": [
    {
     "name": "stdout",
     "output_type": "stream",
     "text": [
      "['<putusan', 'amar=\"pidana\"', 'amar_lainnya=\"jatuh-pidana-oleh-karena-itu-kepada-dakwa-ir-bambang-sasongko-bin-r-soewarno-dengan-pidana-penjara-lama-4-empat-bulan\"', 'id=\"0006582ad67cd9bd1ddf4261a09bf382\"', 'klasifikasi=\"pidana-umum\"', 'lama_hukuman=\"120\"', 'lembaga_peradilan=\"pn-kediri\"', 'provinsi=\"jatim\"', 'status=\"berkekuatan-hukum-tetap\"', 'sub_klasifikasi=\"kejahatan-terhadap-keamanan-negara\"', 'url=\"https://putusan3.mahkamahagung.go.id/direktori/putusan/0006582ad67cd9bd1ddf4261a09bf382.html\">']\n"
     ]
    }
   ],
   "source": [
    "print(mytxt3)"
   ]
  },
  {
   "cell_type": "code",
   "execution_count": null,
   "id": "5d994776",
   "metadata": {},
   "outputs": [],
   "source": []
  },
  {
   "cell_type": "code",
   "execution_count": 11,
   "id": "fb265930",
   "metadata": {},
   "outputs": [],
   "source": [
    "txt = '<putusan amar=\"pidana\" amar_lainnya=\"jatuh-pidana-oleh-karena-itu-kepada-dakwa-ir-bambang-sasongko-bin-r-soewarno-dengan-pidana-penjara-lama-4-empat-bulan\" id=\"0006582ad67cd9bd1ddf4261a09bf382\" klasifikasi=\"pidana-umum\" lama_hukuman=\"120\" lembaga_peradilan=\"pn-kediri\" provinsi=\"jatim\" status=\"berkekuatan-hukum-tetap\" sub_klasifikasi=\"kejahatan-terhadap-keamanan-negara\" url=\"https://putusan3.mahkamahagung.go.id/direktori/putusan/0006582ad67cd9bd1ddf4261a09bf382.html\">'"
   ]
  },
  {
   "cell_type": "code",
   "execution_count": 17,
   "id": "334085ca",
   "metadata": {},
   "outputs": [
    {
     "ename": "AttributeError",
     "evalue": "'list' object has no attribute 'startswith'",
     "output_type": "error",
     "traceback": [
      "\u001b[1;31m---------------------------------------------------------------------------\u001b[0m",
      "\u001b[1;31mAttributeError\u001b[0m                            Traceback (most recent call last)",
      "Cell \u001b[1;32mIn[17], line 1\u001b[0m\n\u001b[1;32m----> 1\u001b[0m \u001b[38;5;28;01mif\u001b[39;00m \u001b[43mmytxt2\u001b[49m\u001b[38;5;241;43m.\u001b[39;49m\u001b[43mstartswith\u001b[49m(\u001b[38;5;124m\"\u001b[39m\u001b[38;5;124mprovinsi=\u001b[39m\u001b[38;5;124m\"\u001b[39m):\n\u001b[0;32m      2\u001b[0m     mytxt2 \u001b[38;5;241m=\u001b[39m mytxt2\u001b[38;5;241m.\u001b[39msplit(\u001b[38;5;124m'\u001b[39m\u001b[38;5;124m\"\u001b[39m\u001b[38;5;124m'\u001b[39m)[\u001b[38;5;241m1\u001b[39m]\n\u001b[0;32m      3\u001b[0m \u001b[38;5;28;01melif\u001b[39;00m mytxt2\u001b[38;5;241m.\u001b[39mstartswith(\u001b[38;5;124m'\u001b[39m\u001b[38;5;124mklasifikasi=\u001b[39m\u001b[38;5;124m\"\u001b[39m\u001b[38;5;124m'\u001b[39m):\n",
      "\u001b[1;31mAttributeError\u001b[0m: 'list' object has no attribute 'startswith'"
     ]
    }
   ],
   "source": [
    "if mytxt2.startswith(\"provinsi=\"):\n",
    "    mytxt2 = mytxt2.split('\"')[1]\n",
    "elif mytxt2.startswith('klasifikasi=\"'):\n",
    "    mytxt2 = mytxt2.split('\"')[1]\n",
    "elif mytxt2.startswith('sub_klasifikasi=\"'):\n",
    "    mytxt2 = mytxt2.split('\"')[1]\n",
    "elif mytxt2.startswith('lembaga_peradilan=\"'):\n",
    "    mytxt2 = mytxt2.split('\"')[1]"
   ]
  },
  {
   "cell_type": "code",
   "execution_count": 14,
   "id": "92e370ad",
   "metadata": {},
   "outputs": [
    {
     "name": "stdout",
     "output_type": "stream",
     "text": [
      "<putusan amar=\"pidana\" amar_lainnya=\"jatuh-pidana-oleh-karena-itu-kepada-dakwa-ir-bambang-sasongko-bin-r-soewarno-dengan-pidana-penjara-lama-4-empat-bulan\" id=\"0006582ad67cd9bd1ddf4261a09bf382\" klasifikasi=\"pidana-umum\" lama_hukuman=\"120\" lembaga_peradilan=\"pn-kediri\" provinsi=\"jatim\" status=\"berkekuatan-hukum-tetap\" sub_klasifikasi=\"kejahatan-terhadap-keamanan-negara\" url=\"https://putusan3.mahkamahagung.go.id/direktori/putusan/0006582ad67cd9bd1ddf4261a09bf382.html\">\n"
     ]
    }
   ],
   "source": []
  },
  {
   "cell_type": "code",
   "execution_count": 23,
   "id": "95ee5a98",
   "metadata": {},
   "outputs": [],
   "source": [
    "i = txt.startswith(\"<putusan\")"
   ]
  },
  {
   "cell_type": "code",
   "execution_count": 24,
   "id": "1c9afac6",
   "metadata": {},
   "outputs": [
    {
     "name": "stdout",
     "output_type": "stream",
     "text": [
      "True\n"
     ]
    }
   ],
   "source": [
    "print(i)"
   ]
  },
  {
   "cell_type": "code",
   "execution_count": 25,
   "id": "2c21565f",
   "metadata": {},
   "outputs": [],
   "source": [
    "j = txt.strip()"
   ]
  },
  {
   "cell_type": "code",
   "execution_count": 26,
   "id": "33dd0f8c",
   "metadata": {},
   "outputs": [
    {
     "name": "stdout",
     "output_type": "stream",
     "text": [
      "<putusan amar=\"pidana\" amar_lainnya=\"jatuh-pidana-oleh-karena-itu-kepada-dakwa-ir-bambang-sasongko-bin-r-soewarno-dengan-pidana-penjara-lama-4-empat-bulan\" id=\"0006582ad67cd9bd1ddf4261a09bf382\" klasifikasi=\"pidana-umum\" lama_hukuman=\"120\" lembaga_peradilan=\"pn-kediri\" provinsi=\"jatim\" status=\"berkekuatan-hukum-tetap\" sub_klasifikasi=\"kejahatan-terhadap-keamanan-negara\" url=\"https://putusan3.mahkamahagung.go.id/direktori/putusan/0006582ad67cd9bd1ddf4261a09bf382.html\">\n"
     ]
    }
   ],
   "source": [
    "print(j)"
   ]
  },
  {
   "cell_type": "code",
   "execution_count": 31,
   "id": "3e7adfef",
   "metadata": {},
   "outputs": [],
   "source": [
    "section = \"<kepala_putusan> putusan no 45 pid b 2014 pn kds demi keadilan berdasarkan ketuhanan yang maha esa pengadilan negeri kudus yang mengadili perkara perkara pidana dengan acara pemeriksaan biasa pada peradilan tingkat pertama menjatuhkan putusan dalam perkara terdakwa </kepala_putusan>\""
   ]
  },
  {
   "cell_type": "code",
   "execution_count": 41,
   "id": "a45c1bc7",
   "metadata": {},
   "outputs": [],
   "source": [
    "c_e = \"\"\n",
    "for s in section:\n",
    "    c_s = s.strip()\n",
    "\n",
    "c_e += c_s \n"
   ]
  },
  {
   "cell_type": "code",
   "execution_count": 43,
   "id": "b0d73b71",
   "metadata": {},
   "outputs": [
    {
     "data": {
      "text/plain": [
       "'>'"
      ]
     },
     "execution_count": 43,
     "metadata": {},
     "output_type": "execute_result"
    }
   ],
   "source": [
    "c_e"
   ]
  },
  {
   "cell_type": "code",
   "execution_count": 44,
   "id": "b49afb62",
   "metadata": {},
   "outputs": [
    {
     "name": "stdout",
     "output_type": "stream",
     "text": [
      "Enter the section name (e.g., fakta_hukum): fakta_hukum\n",
      "This is the fakta_hukum section you want to extract.\n"
     ]
    }
   ],
   "source": [
    "user_input_section = input(\"Enter the section name (e.g., fakta_hukum): \")\n",
    "\n",
    "xml_data = \"\"\"<kepala_putusan>\n",
    "...\n",
    "</kepala_putusan>\n",
    "<identitas>\n",
    "...\n",
    "</identitas>\n",
    "<riwayat_penahanan>\n",
    "...\n",
    "</riwayat_penahanan>\n",
    "<riwayat_perkara>\n",
    "...\n",
    "</riwayat_perkara>\n",
    "<riwayat_tuntutan>\n",
    "...\n",
    "</riwayat_tuntutan>\n",
    "<riwayat_dakwaan>\n",
    "...\n",
    "</riwayat_dakwaan>\n",
    "<fakta>\n",
    "...\n",
    "</fakta>\n",
    "<fakta_hukum>\n",
    "This is the fakta_hukum section you want to extract.\n",
    "</fakta_hukum>\n",
    "<pertimbangan_hukum>\n",
    "...\n",
    "</pertimbangan_hukum>\n",
    "\"\"\"\n",
    "\n",
    "start_tag = \"<\" + user_input_section + \">\"\n",
    "end_tag = \"</\" + user_input_section + \">\"\n",
    "start_index = xml_data.find(start_tag)\n",
    "end_index = xml_data.find(end_tag)\n",
    "\n",
    "if start_index != -1 and end_index != -1:\n",
    "    section_content = xml_data[start_index + len(start_tag):end_index].strip()\n",
    "    print(section_content)\n",
    "else:\n",
    "    print(f\"Section '{user_input_section}' not found in the XML data.\")\n"
   ]
  },
  {
   "cell_type": "code",
   "execution_count": 49,
   "id": "9371599e",
   "metadata": {},
   "outputs": [],
   "source": [
    "sections = []\n",
    "for xml in xml_data:\n",
    "    if xml.startswith(\"<\") and xml.endswith(\">\") and not xml.startswith(\"</\"):\n",
    "        tag = xml[1:-1]\n",
    "        sections.append(tag)"
   ]
  },
  {
   "cell_type": "code",
   "execution_count": 50,
   "id": "c62bbf53",
   "metadata": {},
   "outputs": [
    {
     "data": {
      "text/plain": [
       "[]"
      ]
     },
     "execution_count": 50,
     "metadata": {},
     "output_type": "execute_result"
    }
   ],
   "source": [
    "sections"
   ]
  },
  {
   "cell_type": "code",
   "execution_count": 51,
   "id": "e85944bb",
   "metadata": {},
   "outputs": [
    {
     "name": "stdout",
     "output_type": "stream",
     "text": [
      "Enter the section name (e.g., fakta_hukum): fakta_hukum\n",
      "['kepala_putusan', 'identitas', 'riwayat_penahanan', 'riwayat_perkara', 'riwayat_tuntutan', 'riwayat_dakwaan', 'fakta', 'fakta_hukum', 'pertimbangan_hukum']\n"
     ]
    }
   ],
   "source": [
    "user_input_section = input(\"Enter the section name (e.g., fakta_hukum): \")\n",
    "\n",
    "xml_data = \"\"\"<kepala_putusan>\n",
    "...\n",
    "</kepala_putusan>\n",
    "<identitas>\n",
    "...\n",
    "</identitas>\n",
    "<riwayat_penahanan>\n",
    "...\n",
    "</riwayat_penahanan>\n",
    "<riwayat_perkara>\n",
    "...\n",
    "</riwayat_perkara>\n",
    "<riwayat_tuntutan>\n",
    "...\n",
    "</riwayat_tuntutan>\n",
    "<riwayat_dakwaan>\n",
    "...\n",
    "</riwayat_dakwaan>\n",
    "<fakta>\n",
    "...\n",
    "</fakta>\n",
    "<fakta_hukum>\n",
    "This is the fakta_hukum section you want to extract.\n",
    "</fakta_hukum>\n",
    "<pertimbangan_hukum>\n",
    "...\n",
    "</pertimbangan_hukum>\n",
    "\"\"\"\n",
    "\n",
    "sections = []\n",
    "lines = xml_data.split('\\n')  # Split the XML data into lines\n",
    "\n",
    "for line in lines:\n",
    "    if line.startswith(\"<\") and line.endswith(\">\") and not line.startswith(\"</\"):\n",
    "        tag = line[1:-1]  # Extract the tag name\n",
    "        sections.append(tag)\n",
    "\n",
    "print(sections)\n"
   ]
  },
  {
   "cell_type": "code",
   "execution_count": null,
   "id": "283e2f14",
   "metadata": {},
   "outputs": [],
   "source": []
  }
 ],
 "metadata": {
  "kernelspec": {
   "display_name": "Python 3 (ipykernel)",
   "language": "python",
   "name": "python3"
  },
  "language_info": {
   "codemirror_mode": {
    "name": "ipython",
    "version": 3
   },
   "file_extension": ".py",
   "mimetype": "text/x-python",
   "name": "python",
   "nbconvert_exporter": "python",
   "pygments_lexer": "ipython3",
   "version": "3.11.4"
  }
 },
 "nbformat": 4,
 "nbformat_minor": 5
}
