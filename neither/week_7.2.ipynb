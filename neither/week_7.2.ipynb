{
 "cells": [
  {
   "cell_type": "code",
   "execution_count": null,
   "id": "6d45e4a1",
   "metadata": {},
   "outputs": [],
   "source": [
    "score = input(\"apa: \" )\n",
    "mystery = 0\n",
    "\n",
    "for chara in score:\n",
    "    \n",
    "    if int(chara) == 9:\n",
    "        break\n",
    "    if int(chara) %2 > 0:\n",
    "        continue\n",
    "    else:\n",
    "        mystery += int(chara)\n",
    "        \n",
    "print(mystery)\n",
    "    "
   ]
  },
  {
   "cell_type": "code",
   "execution_count": null,
   "id": "0c25ea10",
   "metadata": {},
   "outputs": [],
   "source": [
    "score = input(\"apa: \" )\n",
    "mystery = 0\n",
    "\n",
    "for chara in score:\n",
    "    \n",
    "    if int(chara) == 9: #9 lgsng keluar\n",
    "        break\n",
    "    if int(chara) %2 > 0: #ganjil lewat\n",
    "        continue\n",
    "    else:\n",
    "        mystery += int(chara) # cm nambahin gnap\n",
    "        \n",
    "print(mystery)\n",
    "    "
   ]
  },
  {
   "cell_type": "code",
   "execution_count": null,
   "id": "af4a2a48",
   "metadata": {},
   "outputs": [],
   "source": [
    "n = 5\n",
    "output = \"\"\n",
    "\n",
    "for i in range(0, n):\n",
    "    \n",
    "    output += str(n)\n",
    "    n += 1\n",
    "\n",
    "print(output)"
   ]
  },
  {
   "cell_type": "code",
   "execution_count": null,
   "id": "b972af77",
   "metadata": {},
   "outputs": [],
   "source": [
    "i = 0\n",
    "result = 1\n",
    "\n",
    "lst = [1,3,5,7]\n",
    "\n",
    "while (i < len(lst)):\n",
    "    result = result * lst[element];\n",
    "    i += 1;\n",
    "    print(result)\n",
    "    \n",
    "print(result)"
   ]
  },
  {
   "cell_type": "code",
   "execution_count": null,
   "id": "7624d255",
   "metadata": {},
   "outputs": [],
   "source": []
  },
  {
   "cell_type": "code",
   "execution_count": null,
   "id": "bd7c353c",
   "metadata": {},
   "outputs": [],
   "source": [
    "result = 1\n",
    "lst = [1,3,5,7]\n",
    "for element in lst:\n",
    "    result *= element"
   ]
  },
  {
   "cell_type": "code",
   "execution_count": null,
   "id": "89ad99ba",
   "metadata": {},
   "outputs": [],
   "source": [
    "re"
   ]
  },
  {
   "cell_type": "code",
   "execution_count": null,
   "id": "e2c57b7e",
   "metadata": {},
   "outputs": [],
   "source": [
    "result = 1\n",
    "lst = [1,3,5,7]\n",
    "while i< len(lst):\n",
    "    result += lst[i]\n",
    "    i += 1\n",
    "   "
   ]
  },
  {
   "cell_type": "code",
   "execution_count": null,
   "id": "1a4595c5",
   "metadata": {},
   "outputs": [],
   "source": [
    "result = 1\n",
    "i = 0\n",
    "def ngitung(lst):\n",
    "    while i < len(lst):\n",
    "        result *= lst[i]\n",
    "        i += 1\n",
    "    \n",
    "    return result\n",
    "    "
   ]
  },
  {
   "cell_type": "code",
   "execution_count": 1,
   "id": "56b2d874",
   "metadata": {},
   "outputs": [],
   "source": [
    "def count_positive_even(list):\n",
    "    result = []\n",
    "    \n",
    "    for i in list:\n",
    "        count = 0\n",
    "        for j in range(len(i)):\n",
    "            if i[j] > 0 and i[j] % 2 == 0:\n",
    "                count += 1\n",
    "        result.append(count)\n",
    "        \n",
    "    return result"
   ]
  },
  {
   "cell_type": "code",
   "execution_count": 3,
   "id": "28701877",
   "metadata": {},
   "outputs": [
    {
     "data": {
      "text/plain": [
       "[1, 2]"
      ]
     },
     "execution_count": 3,
     "metadata": {},
     "output_type": "execute_result"
    }
   ],
   "source": [
    "count_positive_even([[2,-1,0], [4,3,4]])"
   ]
  },
  {
   "cell_type": "code",
   "execution_count": 4,
   "id": "d5170e5c",
   "metadata": {},
   "outputs": [
    {
     "name": "stdout",
     "output_type": "stream",
     "text": [
      "5\n",
      "3\n",
      "9\n"
     ]
    }
   ],
   "source": [
    "i = [5,3,9]\n",
    "\n",
    "for j in i:\n",
    "    print(j)"
   ]
  },
  {
   "cell_type": "code",
   "execution_count": 6,
   "id": "f5abc3b8",
   "metadata": {},
   "outputs": [
    {
     "ename": "TypeError",
     "evalue": "'int' object is not iterable",
     "output_type": "error",
     "traceback": [
      "\u001b[1;31m---------------------------------------------------------------------------\u001b[0m",
      "\u001b[1;31mTypeError\u001b[0m                                 Traceback (most recent call last)",
      "Cell \u001b[1;32mIn[6], line 3\u001b[0m\n\u001b[0;32m      1\u001b[0m i \u001b[38;5;241m=\u001b[39m [\u001b[38;5;241m5\u001b[39m,\u001b[38;5;241m3\u001b[39m,\u001b[38;5;241m9\u001b[39m]\n\u001b[1;32m----> 3\u001b[0m \u001b[38;5;28;01mfor\u001b[39;00m j \u001b[38;5;129;01min\u001b[39;00m \u001b[38;5;28mlen\u001b[39m(i):\n\u001b[0;32m      4\u001b[0m     \u001b[38;5;28mprint\u001b[39m(i)\n",
      "\u001b[1;31mTypeError\u001b[0m: 'int' object is not iterable"
     ]
    }
   ],
   "source": [
    "i = [5,3,9]\n",
    "\n",
    "for j in len(i):\n",
    "    print(i)"
   ]
  },
  {
   "cell_type": "code",
   "execution_count": null,
   "id": "79fec2da",
   "metadata": {},
   "outputs": [],
   "source": []
  }
 ],
 "metadata": {
  "kernelspec": {
   "display_name": "Python 3 (ipykernel)",
   "language": "python",
   "name": "python3"
  },
  "language_info": {
   "codemirror_mode": {
    "name": "ipython",
    "version": 3
   },
   "file_extension": ".py",
   "mimetype": "text/x-python",
   "name": "python",
   "nbconvert_exporter": "python",
   "pygments_lexer": "ipython3",
   "version": "3.11.4"
  }
 },
 "nbformat": 4,
 "nbformat_minor": 5
}
