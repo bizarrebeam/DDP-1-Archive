{
 "cells": [
  {
   "cell_type": "markdown",
   "id": "cff0be3e",
   "metadata": {},
   "source": [
    "## swapping 2 numbers"
   ]
  },
  {
   "cell_type": "code",
   "execution_count": 6,
   "id": "3f64fccc",
   "metadata": {},
   "outputs": [
    {
     "name": "stdout",
     "output_type": "stream",
     "text": [
      "before swapping, num1 is 10, num2 is 20\n"
     ]
    }
   ],
   "source": [
    "num1=10\n",
    "num2=20\n",
    "\n",
    "print(f\"before swapping, num1 is {num1}, num2 is {num2}\")"
   ]
  },
  {
   "cell_type": "code",
   "execution_count": 3,
   "id": "c9acc3c3",
   "metadata": {},
   "outputs": [
    {
     "name": "stdout",
     "output_type": "stream",
     "text": [
      "after swapping, num1 is 20, num2 is 10\n"
     ]
    }
   ],
   "source": [
    "# temp=num1\n",
    "# num1=num2\n",
    "# num2=temp # logic like swapping place but providing\n",
    "# # a new place to store temporalily\n",
    "\n",
    "# print(f\"after swapping, num1 is {num1}, num2 is {num2}\")"
   ]
  },
  {
   "cell_type": "code",
   "execution_count": 7,
   "id": "04d4d8a5",
   "metadata": {},
   "outputs": [
    {
     "name": "stdout",
     "output_type": "stream",
     "text": [
      "after swapping, num1 is 20, num2 is 10\n"
     ]
    }
   ],
   "source": [
    "# another approach\n",
    "num1,num2 = num2,num1\n",
    "print(f\"after swapping, num1 is {num1}, num2 is {num2}\")"
   ]
  },
  {
   "cell_type": "markdown",
   "id": "a8b19ccc",
   "metadata": {},
   "source": [
    "## prime or not"
   ]
  },
  {
   "cell_type": "code",
   "execution_count": 10,
   "id": "547f30b0",
   "metadata": {},
   "outputs": [
    {
     "name": "stdout",
     "output_type": "stream",
     "text": [
      "num: 727\n",
      "It is prime number!\n"
     ]
    }
   ],
   "source": [
    "num=int(input(\"num: \"))\n",
    "count=0 # how many factors\n",
    "\n",
    "# prime def: greater than 1, only has 2 factors:\n",
    "    # itself and 1\n",
    "\n",
    "if num>1:\n",
    "    for i in range(1,num+1):\n",
    "        if num%i==0: # apakah habis dibagi dgn angka\n",
    "            # sebelum angka tesebut\n",
    "            count+=1\n",
    "    if count == 2:\n",
    "        print(\"It is prime number!\")\n",
    "    else:\n",
    "        print(\"not prime!\")\n"
   ]
  },
  {
   "cell_type": "markdown",
   "id": "31495967",
   "metadata": {},
   "source": [
    "## factorial number"
   ]
  },
  {
   "cell_type": "code",
   "execution_count": 11,
   "id": "7a0a9f3b",
   "metadata": {},
   "outputs": [
    {
     "name": "stdout",
     "output_type": "stream",
     "text": [
      "num:5\n",
      "The factorial is 120\n"
     ]
    }
   ],
   "source": [
    "num = int(input(\"num:\"))\n",
    "factorial = 1\n",
    "\n",
    "if num == 0:\n",
    "    print(\"factorial of zero is 1\")\n",
    "elif num<0:\n",
    "    print(\"mang eak\")\n",
    "else:\n",
    "    \n",
    "    for i in range(1, num+1):\n",
    "        factorial *= i\n",
    "    print(f\"The factorial is {factorial}\")\n",
    "    "
   ]
  },
  {
   "cell_type": "markdown",
   "id": "459cfb96",
   "metadata": {},
   "source": [
    "## fibonacci"
   ]
  },
  {
   "cell_type": "code",
   "execution_count": 12,
   "id": "c7f8c812",
   "metadata": {},
   "outputs": [],
   "source": [
    "# sum of 2 preceding num\n",
    "# 0 1 1 2 3 5 8 "
   ]
  },
  {
   "cell_type": "code",
   "execution_count": 22,
   "id": "96edb43f",
   "metadata": {},
   "outputs": [
    {
     "name": "stdout",
     "output_type": "stream",
     "text": [
      "How many num: 10\n",
      "0 1\n",
      "1\n",
      "2\n",
      "3\n",
      "5\n",
      "8\n",
      "13\n",
      "21\n",
      "34\n"
     ]
    }
   ],
   "source": [
    "n1=0\n",
    "n2=1\n",
    "num = int(input(\"How many num: \"))\n",
    "\n",
    "print(n1,n2) # nie initial\n",
    "\n",
    "for i in range(2, num): # we already printed 2 num\n",
    "    sum = n1+n2 \n",
    "    print(sum) # we printed 1 [col 3]\n",
    "    n1,n2 = n2, sum # geser, ky swapping num"
   ]
  },
  {
   "cell_type": "code",
   "execution_count": 23,
   "id": "8f622361",
   "metadata": {},
   "outputs": [
    {
     "name": "stdout",
     "output_type": "stream",
     "text": [
      "How many num: 10\n",
      "0\n",
      "1\n",
      "1\n",
      "2\n",
      "3\n",
      "5\n",
      "8\n",
      "13\n",
      "21\n",
      "34\n",
      "55\n"
     ]
    }
   ],
   "source": [
    "# nicer\n",
    "n1 = 0\n",
    "n2 = 1\n",
    "num = int(input(\"How many num: \"))\n",
    "\n",
    "my_fibonacci = [n1, n2]\n",
    "\n",
    "for i in range(2, num+1):\n",
    "    new_num = n1+n2\n",
    "    my_fibonacci.append(new_num)\n",
    "    n1, n2 = n2, new_num\n",
    "\n",
    "for number in my_fibonacci:\n",
    "    print(number)"
   ]
  },
  {
   "cell_type": "markdown",
   "id": "f9adba32",
   "metadata": {},
   "source": [
    "## max and min in array"
   ]
  },
  {
   "cell_type": "code",
   "execution_count": 28,
   "id": "613866ee",
   "metadata": {},
   "outputs": [
    {
     "name": "stdout",
     "output_type": "stream",
     "text": [
      "2005 5\n"
     ]
    }
   ],
   "source": [
    "my_list = [30, 5, 2005]\n",
    "\n",
    "max = my_list[0] # consider it's the max for initial\n",
    "min = my_list[0]\n",
    "n = len(my_list)\n",
    "\n",
    "for i in range(1, n):\n",
    "    if my_list[i] > max:\n",
    "        max = my_list[i] # if in the looping found\n",
    "        # a greater num, just replace\n",
    "    if my_list[i] < min:\n",
    "        min = my_list[i]\n",
    "print(max, min) # pastiin print kalau udah selesai semua\n",
    "        "
   ]
  },
  {
   "cell_type": "code",
   "execution_count": null,
   "id": "942fc529",
   "metadata": {},
   "outputs": [],
   "source": [
    "def yeay_uts_selesai():\n",
    "    nilai = ''\n",
    "    matkul_uts = [# yh bnyk lh yh ]\n",
    "    for nilai in matkul_uts:\n",
    "        nilai = \"A\"\n",
    "    \n",
    "    print(\"You did great!\")\n",
    "    \n",
    "    return \n",
    "        "
   ]
  },
  {
   "cell_type": "markdown",
   "id": "f5368107",
   "metadata": {},
   "source": [
    "## swap first and last element"
   ]
  },
  {
   "cell_type": "code",
   "execution_count": 32,
   "id": "ff406ee2",
   "metadata": {},
   "outputs": [
    {
     "name": "stdout",
     "output_type": "stream",
     "text": [
      "[9, 2, 3, 4, 5, 6, 7, 8, 1]\n"
     ]
    }
   ],
   "source": [
    "my_array = [1,2,3,4,5,6,7,8,9]\n",
    "\n",
    "temp = my_array[0]\n",
    "my_array[0] = my_array[-1]\n",
    "my_array[-1] = temp\n",
    "\n",
    "print(my_array)"
   ]
  },
  {
   "cell_type": "code",
   "execution_count": 33,
   "id": "3a40a9c8",
   "metadata": {},
   "outputs": [
    {
     "name": "stdout",
     "output_type": "stream",
     "text": [
      "[9, 2, 3, 4, 5, 6, 7, 8, 1]\n"
     ]
    }
   ],
   "source": [
    "my_array = [1,2,3,4,5,6,7,8,9]\n",
    "\n",
    "my_array[0], my_array[-1] = my_array[-1], my_array[0]\n",
    "\n",
    "print(my_array)"
   ]
  },
  {
   "cell_type": "markdown",
   "id": "daca7caf",
   "metadata": {},
   "source": [
    "## searching for element in a list"
   ]
  },
  {
   "cell_type": "code",
   "execution_count": 45,
   "id": "3a074187",
   "metadata": {},
   "outputs": [
    {
     "name": "stdout",
     "output_type": "stream",
     "text": [
      "search is matched\n"
     ]
    }
   ],
   "source": [
    "a_list = [30, 5, 2005, 10, 10, 2020]\n",
    "search_for = 2005\n",
    "\n",
    "for i in a_list:\n",
    "    if i == search_for:\n",
    "        print(\"search is matched\")"
   ]
  },
  {
   "cell_type": "markdown",
   "id": "1dc5af04",
   "metadata": {},
   "source": [
    "## reverse a list"
   ]
  },
  {
   "cell_type": "code",
   "execution_count": 46,
   "id": "9c956c63",
   "metadata": {},
   "outputs": [
    {
     "name": "stdout",
     "output_type": "stream",
     "text": [
      "[87, 0, 2, 34, 53, 10]\n"
     ]
    }
   ],
   "source": [
    "lst_a = [10, 53, 34, 2, 0, 87]\n",
    "print(lst_a[::-1])"
   ]
  },
  {
   "cell_type": "markdown",
   "id": "88d38733",
   "metadata": {},
   "source": [
    "## count occurence in list"
   ]
  },
  {
   "cell_type": "code",
   "execution_count": 47,
   "id": "1a06bc5c",
   "metadata": {},
   "outputs": [],
   "source": [
    "mylst=[15,6,7,10,12,20,10,29,10]"
   ]
  },
  {
   "cell_type": "code",
   "execution_count": 48,
   "id": "d59da1de",
   "metadata": {},
   "outputs": [
    {
     "name": "stdout",
     "output_type": "stream",
     "text": [
      "There are 3 10 in list\n"
     ]
    }
   ],
   "source": [
    "num = 10\n",
    "matched = 0\n",
    "\n",
    "for nums in mylst:\n",
    "    if nums == num:\n",
    "        matched +=1\n",
    "print(f\"There are {matched} {num} in list\")"
   ]
  },
  {
   "cell_type": "code",
   "execution_count": 49,
   "id": "f1ff30d0",
   "metadata": {},
   "outputs": [],
   "source": [
    "matches = mylst.count(10)"
   ]
  },
  {
   "cell_type": "code",
   "execution_count": 50,
   "id": "bed1f084",
   "metadata": {},
   "outputs": [
    {
     "name": "stdout",
     "output_type": "stream",
     "text": [
      "3\n"
     ]
    }
   ],
   "source": [
    "print(matches)"
   ]
  },
  {
   "cell_type": "markdown",
   "id": "06f57b44",
   "metadata": {},
   "source": [
    "## find sum of elements in list"
   ]
  },
  {
   "cell_type": "code",
   "execution_count": 51,
   "id": "e7a6f7ec",
   "metadata": {},
   "outputs": [
    {
     "name": "stdout",
     "output_type": "stream",
     "text": [
      "50\n"
     ]
    }
   ],
   "source": [
    "inputLst = [5,10,15,20]\n",
    "\n",
    "total = 0\n",
    "for num in inputLst:\n",
    "    total += num\n",
    "\n",
    "print(total)\n",
    "    "
   ]
  },
  {
   "cell_type": "code",
   "execution_count": 53,
   "id": "c4e4bd2d",
   "metadata": {},
   "outputs": [
    {
     "name": "stdout",
     "output_type": "stream",
     "text": [
      "50\n"
     ]
    }
   ],
   "source": [
    "inputLst = [5,10,15,20]\n",
    "\n",
    "total = 0\n",
    "for num in range(0, len(inputLst)):\n",
    "    total += inputLst[num]\n",
    "\n",
    "print(total)\n",
    "    "
   ]
  },
  {
   "cell_type": "markdown",
   "id": "ff1c0ed2",
   "metadata": {},
   "source": [
    "## multiply all numbers in the list"
   ]
  },
  {
   "cell_type": "code",
   "execution_count": 54,
   "id": "29c06c9d",
   "metadata": {},
   "outputs": [],
   "source": [
    "mylist = [5, 6, 7]"
   ]
  },
  {
   "cell_type": "code",
   "execution_count": 57,
   "id": "5c9846a9",
   "metadata": {},
   "outputs": [
    {
     "name": "stdout",
     "output_type": "stream",
     "text": [
      "210\n"
     ]
    }
   ],
   "source": [
    "accumulate = 1\n",
    "for i in mylist:\n",
    "    accumulate *= i\n",
    "print(accumulate)"
   ]
  },
  {
   "cell_type": "markdown",
   "id": "02721088",
   "metadata": {},
   "source": [
    "## find smallest and largest num in list"
   ]
  },
  {
   "cell_type": "code",
   "execution_count": 58,
   "id": "45f29bc1",
   "metadata": {},
   "outputs": [],
   "source": [
    "mylist = [20,100,20,1,10]"
   ]
  },
  {
   "cell_type": "code",
   "execution_count": 59,
   "id": "da1facd3",
   "metadata": {},
   "outputs": [
    {
     "name": "stdout",
     "output_type": "stream",
     "text": [
      "Here is max 100, min 1\n"
     ]
    }
   ],
   "source": [
    "max_num = mylist[0]\n",
    "min_num = mylist[0]\n",
    "\n",
    "for num in mylist:\n",
    "    if num > max_num:\n",
    "        max_num = num\n",
    "    elif num < min_num:\n",
    "        min_num = num\n",
    "print(f\"Here is max {max_num}, min {min_num}\")"
   ]
  },
  {
   "cell_type": "markdown",
   "id": "23b0514c",
   "metadata": {},
   "source": [
    "## find 2nd largest num in a list"
   ]
  },
  {
   "cell_type": "code",
   "execution_count": 61,
   "id": "0b3283e2",
   "metadata": {},
   "outputs": [],
   "source": [
    "mylist = [20,100,20,1,10]"
   ]
  },
  {
   "cell_type": "code",
   "execution_count": 62,
   "id": "9243e9c1",
   "metadata": {},
   "outputs": [],
   "source": [
    "my_newlist = sorted(mylist)"
   ]
  },
  {
   "cell_type": "code",
   "execution_count": 64,
   "id": "953d3c79",
   "metadata": {},
   "outputs": [
    {
     "name": "stdout",
     "output_type": "stream",
     "text": [
      "20\n"
     ]
    }
   ],
   "source": [
    "print(my_newlist[-2])"
   ]
  },
  {
   "cell_type": "markdown",
   "id": "989d21d5",
   "metadata": {},
   "source": [
    "## palindrome"
   ]
  },
  {
   "cell_type": "code",
   "execution_count": 65,
   "id": "687b9346",
   "metadata": {},
   "outputs": [],
   "source": [
    "string = \"kasurrusak\""
   ]
  },
  {
   "cell_type": "code",
   "execution_count": 66,
   "id": "e61765c8",
   "metadata": {},
   "outputs": [
    {
     "name": "stdout",
     "output_type": "stream",
     "text": [
      "Its a palindrome\n"
     ]
    }
   ],
   "source": [
    "new_string = string[::-1]\n",
    "\n",
    "if new_string == string:\n",
    "    print(\"Its a palindrome\")\n",
    "else:\n",
    "    print(\"it's not a palindrome\")"
   ]
  },
  {
   "cell_type": "markdown",
   "id": "c6c3ae23",
   "metadata": {},
   "source": [
    "## reverse word in a string"
   ]
  },
  {
   "cell_type": "code",
   "execution_count": 68,
   "id": "2cb93813",
   "metadata": {},
   "outputs": [
    {
     "name": "stdout",
     "output_type": "stream",
     "text": [
      "['string', 'the', 'reverse', 'you', 'how', 'is', 'this']\n"
     ]
    }
   ],
   "source": [
    "mystr = \"this is how you reverse the string\"\n",
    "\n",
    "words = mystr.split()\n",
    "reverse_words = words[::-1]\n",
    "print(reverse_words)"
   ]
  },
  {
   "cell_type": "code",
   "execution_count": 72,
   "id": "c2ac2c69",
   "metadata": {},
   "outputs": [
    {
     "name": "stdout",
     "output_type": "stream",
     "text": [
      "string the reverse you how is this "
     ]
    }
   ],
   "source": [
    "for word in reverse_words:\n",
    "    print(word, end=\" \")"
   ]
  },
  {
   "cell_type": "code",
   "execution_count": null,
   "id": "c7ca0919",
   "metadata": {},
   "outputs": [],
   "source": []
  }
 ],
 "metadata": {
  "kernelspec": {
   "display_name": "Python 3 (ipykernel)",
   "language": "python",
   "name": "python3"
  },
  "language_info": {
   "codemirror_mode": {
    "name": "ipython",
    "version": 3
   },
   "file_extension": ".py",
   "mimetype": "text/x-python",
   "name": "python",
   "nbconvert_exporter": "python",
   "pygments_lexer": "ipython3",
   "version": "3.11.4"
  }
 },
 "nbformat": 4,
 "nbformat_minor": 5
}
