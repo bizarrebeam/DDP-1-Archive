{
 "cells": [
  {
   "cell_type": "markdown",
   "id": "5a0ccf43",
   "metadata": {},
   "source": [
    "## 1. returns the biggest asci code chara from a sentence"
   ]
  },
  {
   "cell_type": "code",
   "execution_count": 2,
   "id": "470f0267",
   "metadata": {},
   "outputs": [
    {
     "name": "stdout",
     "output_type": "stream",
     "text": [
      "Masukkan string: aku suka ddp\n",
      "Output:  u\n"
     ]
    }
   ],
   "source": [
    "def func(str):\n",
    "    tmp = chr(0)\n",
    "    \n",
    "    for i in str:\n",
    "        if ord(i) > ord(tmp): \n",
    "            tmp = i \n",
    "    return tmp \n",
    "mystr = input(\"Masukkan string: \")\n",
    "print(\"Output: \", func(mystr))"
   ]
  },
  {
   "cell_type": "markdown",
   "id": "13de05e1",
   "metadata": {},
   "source": [
    "jadi dia bakal loop ke setiap karakter di string (kalimat)\n",
    "nanti variabel tmp bakal terus keupdate kalau nemu yang lebih gede, dan bakal ada kemungkinan yang lebih gede lagi. kalau gaada yg lebih gede lagi, ya variableny agabakal keupdate"
   ]
  },
  {
   "cell_type": "markdown",
   "id": "b68d6ba9",
   "metadata": {},
   "source": [
    "## 2. Pattern x"
   ]
  },
  {
   "cell_type": "code",
   "execution_count": 10,
   "id": "8b84ebd9",
   "metadata": {},
   "outputs": [
    {
     "name": "stdout",
     "output_type": "stream",
     "text": [
      "n = 6\n",
      "x    x\n",
      " x  x \n",
      "  xx  \n",
      "  xx  \n",
      " x  x \n",
      "x    x\n"
     ]
    }
   ],
   "source": [
    "n = int(input(\"n = \"))\n",
    "\n",
    "index = 0 # dia cm ngambil brp baris sie buat\n",
    "            # ngebikin patternya\n",
    "\n",
    "while index < n and n > 2 and n < 10:\n",
    "    empty_space_list = [\" \"]*n\n",
    "    # ngerjain dari kiri, trs x lama2 maju\n",
    "    empty_space_list[index] = \"x\"\n",
    "    # ngerjain dari kanan, x lama-lama mundur\n",
    "    empty_space_list[len(empty_space_list)-index-1] = \"x\"\n",
    "    index += 1\n",
    "    print(\"\".join(empty_space_list))\n",
    "    "
   ]
  },
  {
   "cell_type": "markdown",
   "id": "bc4b7dd1",
   "metadata": {},
   "source": [
    "## 3. find 2 largest num"
   ]
  },
  {
   "cell_type": "code",
   "execution_count": 12,
   "id": "2ab7f736",
   "metadata": {},
   "outputs": [],
   "source": [
    "def find_two_largest_num(numbers):\n",
    "    # set dulu ke paling lowest\n",
    "    # punya 2 v: terbesar dan kedua terbesar\n",
    "    largest = second_largest = float(\"-inf\")\n",
    "    \n",
    "    for num in numbers:\n",
    "        if num > largest:\n",
    "            second_largest = largest\n",
    "            largest = num\n",
    "            # make sure si largest bakal selalu\n",
    "            # paling update yg terbesar,\n",
    "            # num dapet sisaan terbesarnya\n",
    "        elif num > second_largest and num != largest:\n",
    "        # handle kalau misalnya iterasi loop nemu\n",
    "        # yg bisa replace second_large tp lebih kecil\n",
    "        # dari large\n",
    "            second_largest = num\n",
    "    return largest, second_largest\n"
   ]
  },
  {
   "cell_type": "code",
   "execution_count": 13,
   "id": "b5140be1",
   "metadata": {},
   "outputs": [
    {
     "name": "stdout",
     "output_type": "stream",
     "text": [
      "largest: 40, 2nd: 35\n"
     ]
    }
   ],
   "source": [
    "numbers = [10,25,8,17,40,35]\n",
    "largest, second_largest = find_two_largest_num(numbers)\n",
    "print(f\"largest: {largest}, 2nd: {second_largest}\")"
   ]
  },
  {
   "cell_type": "markdown",
   "id": "71e6a508",
   "metadata": {},
   "source": [
    "## 4. deleting ber/be from sentence"
   ]
  },
  {
   "cell_type": "code",
   "execution_count": 1,
   "id": "0043f252",
   "metadata": {},
   "outputs": [
    {
     "name": "stdout",
     "output_type": "stream",
     "text": [
      "kalimat: aku sudah belajar\n",
      "aku sudah lajar\n"
     ]
    }
   ],
   "source": [
    "def berstemmer(kalimat):\n",
    "    stemmed_words = []\n",
    "\n",
    "    for word in kalimat.split():\n",
    "        if len(word) >= 3 and word[:3] == \"ber\":\n",
    "            word = word[3:]  # Remove the \"ber\" prefix\n",
    "        elif len(word) >= 2 and word[:2] == \"be\":\n",
    "            word = word[2:]  # Remove the \"be\" prefix\n",
    "\n",
    "        stemmed_words.append(word)\n",
    "\n",
    "    stemmed_kalimat = \" \".join(stemmed_words)\n",
    "    return stemmed_kalimat\n",
    "\n",
    "stem_kalimat = input(\"kalimat: \").lower()\n",
    "print(berstemmer(stem_kalimat))\n"
   ]
  },
  {
   "cell_type": "code",
   "execution_count": 2,
   "id": "953e0bad",
   "metadata": {},
   "outputs": [
    {
     "name": "stdout",
     "output_type": "stream",
     "text": [
      "kalimat: aku sudah belajar ddp supaya nilai a\n",
      "aku sudah lajar ddp supaya nilai a \n"
     ]
    }
   ],
   "source": [
    "def berstemmer(kalimat):\n",
    "    stemmed_words = \"\"\n",
    "    \n",
    "    for word in kalimat.split():\n",
    "        if len(word) >= 3 and word[:3].lower() == \"ber\":\n",
    "            word = word[3:]  # Remove the \"ber\" prefix\n",
    "        elif len(word) >= 2 and word[:2].lower() == \"be\":\n",
    "            word = word[2:]  # Remove the \"be\" prefix\n",
    "\n",
    "        stemmed_words += word + \" \"\n",
    "        \n",
    "    return stemmed_words\n",
    "\n",
    "stem_kalimat = input(\"kalimat: \").lower()\n",
    "print(berstemmer(stem_kalimat))\n"
   ]
  },
  {
   "cell_type": "markdown",
   "id": "fe43ab99",
   "metadata": {},
   "source": [
    "## 5. nambahin email ke baris akhir file"
   ]
  },
  {
   "cell_type": "code",
   "execution_count": 5,
   "id": "bdfacada",
   "metadata": {},
   "outputs": [
    {
     "name": "stdout",
     "output_type": "stream",
     "text": [
      "Masukkan alamat email: adelyaamanda@gmail.com\n",
      "Email tidak berhasil ditambahkan\n"
     ]
    }
   ],
   "source": [
    "def daftar(file_name, email_addr):\n",
    "    # ini handling opening filenya dlu\n",
    "    try:\n",
    "        file_object = open(file_name, \"a\")\n",
    "        file_object.write(email_addr)\n",
    "        file.object.close()\n",
    "        return True\n",
    "    except:\n",
    "        return False\n",
    "\n",
    "nama_file = \"emails.txt\"\n",
    "email = input(\"Masukkan alamat email: \")\n",
    "\n",
    "if daftar(nama_file, email):\n",
    "    print(\"Email berhasil ditambahkan\")\n",
    "else:\n",
    "    print(\"Email tidak berhasil ditambahkan\")"
   ]
  },
  {
   "cell_type": "markdown",
   "id": "7801abbc",
   "metadata": {},
   "source": [
    "di keterangan soalnya bilang kalau functionnya itu return true atau false. makanya, di bagian selection, ditulis if daftar(func) karena itu sm aja kaya bilang if true, then..."
   ]
  },
  {
   "cell_type": "markdown",
   "id": "8e21d6e9",
   "metadata": {},
   "source": [
    "## 6. jenis error di file"
   ]
  },
  {
   "cell_type": "markdown",
   "id": "0bab6044",
   "metadata": {},
   "source": [
    "please harus catet semua yg ada di slide fuki ke citsit"
   ]
  },
  {
   "cell_type": "markdown",
   "id": "689af3b2",
   "metadata": {},
   "source": [
    "type error: wrong tools for the job, eg try to sum int and str. or like concatenate str and int without f-string and without convert the int into str(int)\n",
    "\n",
    "indexerror: index out of range, access nonexist index\n",
    "\n",
    "nameerror: using variable hasn't been defined, variable out of scope\n",
    "\n",
    "indexing make sure untuk liat dr yang paling dalem"
   ]
  },
  {
   "cell_type": "markdown",
   "id": "7e1c9259",
   "metadata": {},
   "source": [
    "## 7. function and its scope"
   ]
  },
  {
   "cell_type": "markdown",
   "id": "b063789b",
   "metadata": {},
   "source": [
    "misal, udah declare sebuah variable\n",
    "tp di func gaditulis global variable\n",
    "meskipun variablenya sama dgn yg udah dideclare sebelumnya, dia bakal nganggep tu variable name yg dikerjain adalah yang DI SCOPE functionnya aj. yg dh didefined sebelumnya, gabakal terpengaruh sama block of code funcnya\n"
   ]
  },
  {
   "cell_type": "markdown",
   "id": "5a2ef00c",
   "metadata": {},
   "source": [
    "misal,\n",
    "a = 10\n",
    "b = 12\n",
    "d = 15\n",
    "\n",
    "def myfunc(a, b, c):\n",
    "    d = a * b\n",
    "\n",
    "#### memproses/bikin variable\n",
    "dia bakal ngolah a sama b yg di pass ke parameter func nya, dan d gabakal related sm d yang dh didefine sebelumnya\n",
    "\n",
    "beda ceritanya kalau dia manggil global d. dia baru bakal replace d dengan yg diproses di func\n",
    "\n",
    "#### memanggil variable\n",
    "beda ceritanya kalau semisalnya di bawah func ditulis x = a + d. a dipake yg di pass kefunc, tp d pake yg global. py bakal cari di local, trnyt gaada, baru ke global\n",
    "\n",
    "note the difference between proses dan manggil!!!"
   ]
  },
  {
   "cell_type": "code",
   "execution_count": 27,
   "id": "777f01bf",
   "metadata": {},
   "outputs": [],
   "source": [
    "a = 1\n",
    "b = 2\n",
    "c = 3\n",
    "d = 4\n",
    "\n",
    "def f():\n",
    "    global b\n",
    "    a = 10 + 20\n",
    "    b = 20\n",
    "\n",
    "def new_f(param1, param2):\n",
    "    global a\n",
    "    a = 10 + 20\n",
    "    c = d * 2\n",
    "    return a, c"
   ]
  },
  {
   "cell_type": "code",
   "execution_count": 28,
   "id": "8dbb333a",
   "metadata": {},
   "outputs": [
    {
     "name": "stdout",
     "output_type": "stream",
     "text": [
      "a: 1\n",
      "b: 20\n"
     ]
    }
   ],
   "source": [
    "f()\n",
    "print(f\"a: {a}\")\n",
    "print(f\"b: {b}\")"
   ]
  },
  {
   "cell_type": "code",
   "execution_count": 29,
   "id": "95e7a432",
   "metadata": {},
   "outputs": [
    {
     "data": {
      "text/plain": [
       "(30, 8)"
      ]
     },
     "execution_count": 29,
     "metadata": {},
     "output_type": "execute_result"
    }
   ],
   "source": [
    "new_f(3, 4) # liat si c make global d"
   ]
  },
  {
   "cell_type": "markdown",
   "id": "5b567cf4",
   "metadata": {},
   "source": [
    "## 8. list"
   ]
  },
  {
   "cell_type": "markdown",
   "id": "4c8ed00a",
   "metadata": {},
   "source": [
    "#### talks about references\n",
    "string itu immutable, jd dia bukan replace tp ganti reference misal,\n",
    "\n",
    "a_str = \"a\", a_str = \"b\". di memory ada \"a\", \"b\". awalnya si a_str refer ke a, tp habis itu dia refer ke b\n",
    "\n",
    "a_list = [0, 1], a_list[0} = [2]\n",
    "ini di memory ada 0,1. tp si 0 nya di replace jadi 2. jd, memory hold [2, 0], bukannya ganti reference\n"
   ]
  },
  {
   "cell_type": "code",
   "execution_count": 31,
   "id": "bfb03665",
   "metadata": {},
   "outputs": [
    {
     "name": "stdout",
     "output_type": "stream",
     "text": [
      "[1, 2, 3, 4]\n",
      "[1, 2, 3, 4]\n"
     ]
    }
   ],
   "source": [
    "a = [1,2,3]\n",
    "b = a\n",
    "\n",
    "# karna list referensinya sama, jd apapun yg lo otak\n",
    "# atik bakal kepengaruh ke variable lainnya\n",
    "b.append(4)\n",
    "print(a)\n",
    "print(b)"
   ]
  },
  {
   "cell_type": "markdown",
   "id": "c673f70d",
   "metadata": {},
   "source": [
    "pop: hapus sekaligus return value yg diremove\n",
    "remove berdasarkan index\n",
    "\n",
    "remove: hapus tp kasitau gue value yg mw di remove apa"
   ]
  },
  {
   "cell_type": "markdown",
   "id": "dfec96ce",
   "metadata": {},
   "source": [
    "## 9. soal mngenai list"
   ]
  },
  {
   "cell_type": "code",
   "execution_count": 36,
   "id": "a62de034",
   "metadata": {},
   "outputs": [
    {
     "name": "stdout",
     "output_type": "stream",
     "text": [
      "Test1\n",
      "[1, 2]\n",
      "Test2\n",
      "[2, 0, 1]\n"
     ]
    }
   ],
   "source": [
    "def hitung_nama_dengan_promo(daftar_promo, daftar_pelanggan):\n",
    "    list_count = []\n",
    "    for promo in daftar_promo:\n",
    "        count = 0\n",
    "        for pelanggan in daftar_pelanggan:\n",
    "            count_nama = 0\n",
    "            for kata in pelanggan.split(\" \"):\n",
    "                if count_nama < 1 and kata == promo:\n",
    "                    # pakai and krn kondisinya kalau bner2 match aja\n",
    "                    # kalau udh ga match, ywd gaus disamain lg\n",
    "                    count += 1 # Handle case kalau Bambang Bambang gt\n",
    "                    count_nama += 1\n",
    "        list_count.append(count)\n",
    "    \n",
    "    return list_count\n",
    "        \n",
    "\n",
    "print(\"Test1\")\n",
    "print(hitung_nama_dengan_promo([\"Herman\", \"Cecep\"], [\"Cecep Sudrajat\", \"Cecep Herman\"]))\n",
    "print(\"Test2\")\n",
    "print(hitung_nama_dengan_promo([\"Bambang\", \"Herman\", \"Usep\"], [\"Bambang Bambang\", \"Riza Satria\", \"Usep Hermansyah\", \"Bambang Yudhyono\"]))"
   ]
  },
  {
   "cell_type": "markdown",
   "id": "931ce72d",
   "metadata": {},
   "source": [
    "jadi intinya, kan ada dua list tuh sebagai parameter fungsinya\n",
    "\n",
    "nah, pastiin kita udh bisa akses setiap kata di list1 dgn loop. baru, akses setiap kata di list2. nah di contoh, karena list2 bisa jadi lebih dari 1 kata, pastiin buat loop lg tapi dengan split"
   ]
  },
  {
   "cell_type": "code",
   "execution_count": 1,
   "id": "da279579",
   "metadata": {},
   "outputs": [],
   "source": [
    "stra = \"tell me am i crazy now\""
   ]
  },
  {
   "cell_type": "code",
   "execution_count": 2,
   "id": "c01a841d",
   "metadata": {},
   "outputs": [],
   "source": [
    "strb = stra.capitalize()"
   ]
  },
  {
   "cell_type": "code",
   "execution_count": 3,
   "id": "c34e164a",
   "metadata": {},
   "outputs": [
    {
     "name": "stdout",
     "output_type": "stream",
     "text": [
      "Tell me am i crazy now\n"
     ]
    }
   ],
   "source": [
    "print(strb)"
   ]
  },
  {
   "cell_type": "code",
   "execution_count": null,
   "id": "42985ae3",
   "metadata": {},
   "outputs": [],
   "source": []
  }
 ],
 "metadata": {
  "kernelspec": {
   "display_name": "Python 3 (ipykernel)",
   "language": "python",
   "name": "python3"
  },
  "language_info": {
   "codemirror_mode": {
    "name": "ipython",
    "version": 3
   },
   "file_extension": ".py",
   "mimetype": "text/x-python",
   "name": "python",
   "nbconvert_exporter": "python",
   "pygments_lexer": "ipython3",
   "version": "3.11.4"
  }
 },
 "nbformat": 4,
 "nbformat_minor": 5
}
