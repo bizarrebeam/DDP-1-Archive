{
 "cells": [
  {
   "cell_type": "code",
   "execution_count": 2,
   "id": "c58b93df",
   "metadata": {},
   "outputs": [
    {
     "name": "stdout",
     "output_type": "stream",
     "text": [
      "[[3, 4], [1, 3], [0, 1]]\n"
     ]
    }
   ],
   "source": [
    "trips = [[ x -1 ,x , x +1] for x in range (1 ,4)]\n",
    "for t in trips:\n",
    "    t.remove(2)\n",
    "trips.reverse()\n",
    "print(trips)"
   ]
  },
  {
   "cell_type": "code",
   "execution_count": 3,
   "id": "85507537",
   "metadata": {},
   "outputs": [
    {
     "data": {
      "text/plain": [
       "['r', 'e', 'a', 'd']"
      ]
     },
     "execution_count": 3,
     "metadata": {},
     "output_type": "execute_result"
    }
   ],
   "source": [
    "list(\"read\")"
   ]
  },
  {
   "cell_type": "code",
   "execution_count": 5,
   "id": "a74a7625",
   "metadata": {},
   "outputs": [],
   "source": [
    "list1 = list(\"read\")\n",
    "list2 = list1[:]\n",
    "list3 = list1"
   ]
  },
  {
   "cell_type": "code",
   "execution_count": 6,
   "id": "32254520",
   "metadata": {},
   "outputs": [],
   "source": [
    "list1.append(\"er\")"
   ]
  },
  {
   "cell_type": "code",
   "execution_count": 7,
   "id": "9b873f46",
   "metadata": {},
   "outputs": [
    {
     "data": {
      "text/plain": [
       "['r', 'e', 'a', 'd', 'er']"
      ]
     },
     "execution_count": 7,
     "metadata": {},
     "output_type": "execute_result"
    }
   ],
   "source": [
    "list1"
   ]
  },
  {
   "cell_type": "code",
   "execution_count": 8,
   "id": "20174605",
   "metadata": {},
   "outputs": [
    {
     "name": "stdout",
     "output_type": "stream",
     "text": [
      "read\n"
     ]
    }
   ],
   "source": [
    "print(\"\".join(list2))"
   ]
  },
  {
   "cell_type": "code",
   "execution_count": 9,
   "id": "d21048ce",
   "metadata": {},
   "outputs": [
    {
     "name": "stdout",
     "output_type": "stream",
     "text": [
      "reader\n"
     ]
    }
   ],
   "source": [
    "print(\"\".join(list3))"
   ]
  },
  {
   "cell_type": "code",
   "execution_count": 10,
   "id": "cb1d9fd5",
   "metadata": {},
   "outputs": [],
   "source": [
    "original_list = [1, 2, 3]\n",
    "new_list = original_list[:]"
   ]
  },
  {
   "cell_type": "code",
   "execution_count": 11,
   "id": "e0c6d763",
   "metadata": {},
   "outputs": [],
   "source": [
    "original_list[0] = \"x\""
   ]
  },
  {
   "cell_type": "code",
   "execution_count": 12,
   "id": "ea98adcd",
   "metadata": {},
   "outputs": [
    {
     "data": {
      "text/plain": [
       "[1, 2, 3]"
      ]
     },
     "execution_count": 12,
     "metadata": {},
     "output_type": "execute_result"
    }
   ],
   "source": [
    "new_list"
   ]
  },
  {
   "cell_type": "code",
   "execution_count": 13,
   "id": "b3911b27",
   "metadata": {},
   "outputs": [
    {
     "data": {
      "text/plain": [
       "['x', 2, 3]"
      ]
     },
     "execution_count": 13,
     "metadata": {},
     "output_type": "execute_result"
    }
   ],
   "source": [
    "original_list"
   ]
  },
  {
   "cell_type": "code",
   "execution_count": 14,
   "id": "14b1fbbf",
   "metadata": {},
   "outputs": [],
   "source": [
    "new_list[0] = \"y\""
   ]
  },
  {
   "cell_type": "code",
   "execution_count": 15,
   "id": "cec4d6c7",
   "metadata": {},
   "outputs": [
    {
     "data": {
      "text/plain": [
       "['y', 2, 3]"
      ]
     },
     "execution_count": 15,
     "metadata": {},
     "output_type": "execute_result"
    }
   ],
   "source": [
    "new_list"
   ]
  },
  {
   "cell_type": "code",
   "execution_count": 16,
   "id": "eaf8068e",
   "metadata": {},
   "outputs": [
    {
     "data": {
      "text/plain": [
       "['x', 2, 3]"
      ]
     },
     "execution_count": 16,
     "metadata": {},
     "output_type": "execute_result"
    }
   ],
   "source": [
    "original_list"
   ]
  },
  {
   "cell_type": "code",
   "execution_count": 18,
   "id": "cb6529dc",
   "metadata": {},
   "outputs": [
    {
     "data": {
      "text/plain": [
       "6"
      ]
     },
     "execution_count": 18,
     "metadata": {},
     "output_type": "execute_result"
    }
   ],
   "source": [
    "(-15) % 7"
   ]
  },
  {
   "cell_type": "code",
   "execution_count": 19,
   "id": "b3b95368",
   "metadata": {},
   "outputs": [
    {
     "data": {
      "text/plain": [
       "-3"
      ]
     },
     "execution_count": 19,
     "metadata": {},
     "output_type": "execute_result"
    }
   ],
   "source": [
    "-15//7"
   ]
  },
  {
   "cell_type": "code",
   "execution_count": 21,
   "id": "168ec9e7",
   "metadata": {},
   "outputs": [
    {
     "name": "stdout",
     "output_type": "stream",
     "text": [
      "6\n"
     ]
    }
   ],
   "source": [
    "b = 7\n",
    "print(-15%b)"
   ]
  },
  {
   "cell_type": "code",
   "execution_count": 22,
   "id": "ee199a17",
   "metadata": {},
   "outputs": [
    {
     "data": {
      "text/plain": [
       "2"
      ]
     },
     "execution_count": 22,
     "metadata": {},
     "output_type": "execute_result"
    }
   ],
   "source": [
    "-10%12"
   ]
  },
  {
   "cell_type": "code",
   "execution_count": 23,
   "id": "1ce914eb",
   "metadata": {},
   "outputs": [
    {
     "data": {
      "text/plain": [
       "5"
      ]
     },
     "execution_count": 23,
     "metadata": {},
     "output_type": "execute_result"
    }
   ],
   "source": [
    "-35%40"
   ]
  },
  {
   "cell_type": "code",
   "execution_count": 24,
   "id": "88f807f9",
   "metadata": {},
   "outputs": [
    {
     "data": {
      "text/plain": [
       "7.75"
      ]
     },
     "execution_count": 24,
     "metadata": {},
     "output_type": "execute_result"
    }
   ],
   "source": [
    "31/4"
   ]
  },
  {
   "cell_type": "code",
   "execution_count": 31,
   "id": "7be286ac",
   "metadata": {},
   "outputs": [
    {
     "name": "stdout",
     "output_type": "stream",
     "text": [
      "hunt\n"
     ]
    }
   ],
   "source": [
    "a_str = 'Donald Knuth'\n",
    "print ( a_str [-1:-4:-2] + a_str [-4::2])"
   ]
  },
  {
   "cell_type": "code",
   "execution_count": 32,
   "id": "1c415274",
   "metadata": {},
   "outputs": [
    {
     "data": {
      "text/plain": [
       "'hu'"
      ]
     },
     "execution_count": 32,
     "metadata": {},
     "output_type": "execute_result"
    }
   ],
   "source": [
    "a_str [ -1: -4: -2]"
   ]
  },
  {
   "cell_type": "code",
   "execution_count": 33,
   "id": "a466d714",
   "metadata": {},
   "outputs": [
    {
     "data": {
      "text/plain": [
       "'nt'"
      ]
     },
     "execution_count": 33,
     "metadata": {},
     "output_type": "execute_result"
    }
   ],
   "source": [
    "a_str [ -4::2]"
   ]
  },
  {
   "cell_type": "code",
   "execution_count": 34,
   "id": "1fa66776",
   "metadata": {},
   "outputs": [],
   "source": [
    "a = 0\n",
    "if a == 0:\n",
    "    b = 1\n",
    "\n",
    "def func(c):\n",
    "    d = 3\n",
    "    print(c)\n",
    "    print(d)\n"
   ]
  },
  {
   "cell_type": "code",
   "execution_count": 35,
   "id": "a2163306",
   "metadata": {},
   "outputs": [
    {
     "name": "stdout",
     "output_type": "stream",
     "text": [
      "7\n",
      "3\n",
      "0\n",
      "1\n"
     ]
    },
    {
     "ename": "NameError",
     "evalue": "name 'c' is not defined",
     "output_type": "error",
     "traceback": [
      "\u001b[1;31m---------------------------------------------------------------------------\u001b[0m",
      "\u001b[1;31mNameError\u001b[0m                                 Traceback (most recent call last)",
      "Cell \u001b[1;32mIn[35], line 4\u001b[0m\n\u001b[0;32m      2\u001b[0m \u001b[38;5;28mprint\u001b[39m(a)\n\u001b[0;32m      3\u001b[0m \u001b[38;5;28mprint\u001b[39m(b)\n\u001b[1;32m----> 4\u001b[0m \u001b[38;5;28mprint\u001b[39m(\u001b[43mc\u001b[49m)\n\u001b[0;32m      5\u001b[0m \u001b[38;5;28mprint\u001b[39m(d)\n",
      "\u001b[1;31mNameError\u001b[0m: name 'c' is not defined"
     ]
    }
   ],
   "source": [
    "func(7)\n",
    "print(a)\n",
    "print(b)\n",
    "print(c)\n",
    "print(d)"
   ]
  },
  {
   "cell_type": "code",
   "execution_count": null,
   "id": "33efeef9",
   "metadata": {},
   "outputs": [],
   "source": []
  }
 ],
 "metadata": {
  "kernelspec": {
   "display_name": "Python 3 (ipykernel)",
   "language": "python",
   "name": "python3"
  },
  "language_info": {
   "codemirror_mode": {
    "name": "ipython",
    "version": 3
   },
   "file_extension": ".py",
   "mimetype": "text/x-python",
   "name": "python",
   "nbconvert_exporter": "python",
   "pygments_lexer": "ipython3",
   "version": "3.11.4"
  }
 },
 "nbformat": 4,
 "nbformat_minor": 5
}
