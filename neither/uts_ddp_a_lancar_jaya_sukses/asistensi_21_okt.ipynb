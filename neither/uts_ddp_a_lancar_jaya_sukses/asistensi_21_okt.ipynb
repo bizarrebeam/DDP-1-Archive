{
 "cells": [
  {
   "cell_type": "code",
   "execution_count": 1,
   "id": "7115ca45",
   "metadata": {},
   "outputs": [],
   "source": [
    "kucing_safira = \\\n",
    "[\"Titut\", \"Ming\", \"Areng\", \"Uyik\", \"Cimung\", \"Huki\",\n",
    "\"Hugo\"]"
   ]
  },
  {
   "cell_type": "code",
   "execution_count": 2,
   "id": "4a95202e",
   "metadata": {},
   "outputs": [],
   "source": [
    "kucing_kesayangan = kucing_safira[-7:-2:2] + [kucing_safira[5]]"
   ]
  },
  {
   "cell_type": "code",
   "execution_count": 3,
   "id": "6f2d9cf9",
   "metadata": {},
   "outputs": [
    {
     "name": "stdout",
     "output_type": "stream",
     "text": [
      "['Titut', 'Areng', 'Cimung', 'Huki']\n"
     ]
    }
   ],
   "source": [
    "print(kucing_kesayangan)"
   ]
  },
  {
   "cell_type": "code",
   "execution_count": 4,
   "id": "478980f0",
   "metadata": {},
   "outputs": [],
   "source": [
    "lst1 = [\"a\",'b',\"c\"]\n",
    "lst2 = ['d', 'e', 'f']"
   ]
  },
  {
   "cell_type": "code",
   "execution_count": 5,
   "id": "c570b70c",
   "metadata": {},
   "outputs": [],
   "source": [
    "aku = lst1 + lst2"
   ]
  },
  {
   "cell_type": "code",
   "execution_count": 6,
   "id": "0f12772d",
   "metadata": {},
   "outputs": [
    {
     "data": {
      "text/plain": [
       "['a', 'b', 'c', 'd', 'e', 'f']"
      ]
     },
     "execution_count": 6,
     "metadata": {},
     "output_type": "execute_result"
    }
   ],
   "source": [
    "aku"
   ]
  },
  {
   "cell_type": "code",
   "execution_count": 9,
   "id": "a743fb46",
   "metadata": {},
   "outputs": [
    {
     "ename": "TypeError",
     "evalue": "can only concatenate list (not \"str\") to list",
     "output_type": "error",
     "traceback": [
      "\u001b[1;31m---------------------------------------------------------------------------\u001b[0m",
      "\u001b[1;31mTypeError\u001b[0m                                 Traceback (most recent call last)",
      "Cell \u001b[1;32mIn[9], line 1\u001b[0m\n\u001b[1;32m----> 1\u001b[0m kucing_kesayangan \u001b[38;5;241m=\u001b[39m \u001b[43mkucing_safira\u001b[49m\u001b[43m[\u001b[49m\u001b[38;5;241;43m0\u001b[39;49m\u001b[43m:\u001b[49m\u001b[38;5;241;43m5\u001b[39;49m\u001b[43m:\u001b[49m\u001b[38;5;241;43m2\u001b[39;49m\u001b[43m]\u001b[49m\u001b[43m \u001b[49m\u001b[38;5;241;43m+\u001b[39;49m\u001b[43m \u001b[49m\u001b[43mkucing_safira\u001b[49m\u001b[43m[\u001b[49m\u001b[38;5;241;43m-\u001b[39;49m\u001b[38;5;241;43m2\u001b[39;49m\u001b[43m]\u001b[49m\n",
      "\u001b[1;31mTypeError\u001b[0m: can only concatenate list (not \"str\") to list"
     ]
    }
   ],
   "source": [
    "kucing_kesayangan = kucing_safira[0:5:2] + kucing_safira[-2]"
   ]
  },
  {
   "cell_type": "markdown",
   "id": "ecfacb79",
   "metadata": {},
   "source": [
    "## 4"
   ]
  },
  {
   "cell_type": "code",
   "execution_count": null,
   "id": "dbba9866",
   "metadata": {},
   "outputs": [],
   "source": [
    "def merge(lst1, lst2):\n",
    "    result = []\n",
    "    i, j = 0, 0\n",
    "    \n",
    "    while (i < len(lst1) and j < len(lst2)):\n",
    "        if lst1[i] < lst2[j]:\n",
    "            result.append(lst1[i])\n",
    "            i += 1\n",
    "        else:\n",
    "            result.append(lst2[j])\n",
    "            j += 1\n",
    "        # kalau ada yg lebih kecil, dimasukkin duluan\n",
    "   \n",
    "    # kalau ada sisa, tetep tambahin\n",
    "    # sisa ini kemungkinan pas misal ada list yg lebih\n",
    "    # panjang kan, nah kita gaperlu mikirin urutan lg\n",
    "    # karena listnya sendiri udh urut\n",
    "    while i < len(lst1):\n",
    "        result.append(lst1[i])\n",
    "        i += 1\n",
    "    while j < len(lst2):\n",
    "        result.append(lst2[j])\n",
    "        j += 1\n",
    "            \n",
    "    return result"
   ]
  },
  {
   "cell_type": "code",
   "execution_count": 13,
   "id": "26fd704b",
   "metadata": {},
   "outputs": [],
   "source": [
    "# cara lain\n",
    "\n",
    "def merge2(lst1, lst2):\n",
    "    result = lst1 + lst2\n",
    "    for i in range(len(result)):\n",
    "        for j in range(len(result)-1):\n",
    "            if result[j] > result[j+1]:\n",
    "                # perhatiin ini adalah cara swap!\n",
    "                tmp = result[j]\n",
    "                result[j] = result[j+1]\n",
    "                result[j+1] = tmp\n",
    "return result\n",
    "# jd ini cara ngeliat elemen berurutan dgn swap trs 2 kali trs maju\n",
    "            \n",
    "        "
   ]
  },
  {
   "cell_type": "code",
   "execution_count": 14,
   "id": "4729d848",
   "metadata": {},
   "outputs": [
    {
     "data": {
      "text/plain": [
       "[1, 2, 2, 2, 6, 5]"
      ]
     },
     "execution_count": 14,
     "metadata": {},
     "output_type": "execute_result"
    }
   ],
   "source": [
    "merge2([1,3,2], [4,6,5])"
   ]
  },
  {
   "cell_type": "code",
   "execution_count": 15,
   "id": "d27eeffc",
   "metadata": {},
   "outputs": [
    {
     "name": "stdout",
     "output_type": "stream",
     "text": [
      "['z', 'b', 'c']\n"
     ]
    },
    {
     "ename": "TypeError",
     "evalue": "'str' object does not support item assignment",
     "output_type": "error",
     "traceback": [
      "\u001b[1;31m---------------------------------------------------------------------------\u001b[0m",
      "\u001b[1;31mTypeError\u001b[0m                                 Traceback (most recent call last)",
      "Cell \u001b[1;32mIn[15], line 5\u001b[0m\n\u001b[0;32m      3\u001b[0m ini_list[\u001b[38;5;241m0\u001b[39m] \u001b[38;5;241m=\u001b[39m \u001b[38;5;124m\"\u001b[39m\u001b[38;5;124mz\u001b[39m\u001b[38;5;124m\"\u001b[39m\n\u001b[0;32m      4\u001b[0m \u001b[38;5;28mprint\u001b[39m(ini_list)\n\u001b[1;32m----> 5\u001b[0m \u001b[43mini_str\u001b[49m\u001b[43m[\u001b[49m\u001b[38;5;241;43m0\u001b[39;49m\u001b[43m]\u001b[49m \u001b[38;5;241m=\u001b[39m \u001b[38;5;124m\"\u001b[39m\u001b[38;5;124mz\u001b[39m\u001b[38;5;124m\"\u001b[39m\n\u001b[0;32m      6\u001b[0m \u001b[38;5;28mprint\u001b[39m(ini_str)\n",
      "\u001b[1;31mTypeError\u001b[0m: 'str' object does not support item assignment"
     ]
    }
   ],
   "source": [
    "ini_list = [\"a\",\"b\",\"c\"]\n",
    "ini_str = \"abc\"\n",
    "ini_list[0] = \"z\"\n",
    "print(ini_list)\n",
    "ini_str[0] = \"z\"\n",
    "print(ini_str)"
   ]
  },
  {
   "cell_type": "code",
   "execution_count": null,
   "id": "78a82705",
   "metadata": {},
   "outputs": [],
   "source": []
  }
 ],
 "metadata": {
  "kernelspec": {
   "display_name": "Python 3 (ipykernel)",
   "language": "python",
   "name": "python3"
  },
  "language_info": {
   "codemirror_mode": {
    "name": "ipython",
    "version": 3
   },
   "file_extension": ".py",
   "mimetype": "text/x-python",
   "name": "python",
   "nbconvert_exporter": "python",
   "pygments_lexer": "ipython3",
   "version": "3.11.4"
  }
 },
 "nbformat": 4,
 "nbformat_minor": 5
}
