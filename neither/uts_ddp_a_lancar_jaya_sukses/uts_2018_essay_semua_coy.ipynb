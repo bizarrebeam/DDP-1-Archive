{
 "cells": [
  {
   "cell_type": "markdown",
   "id": "24c72c1e",
   "metadata": {},
   "source": [
    "## 1"
   ]
  },
  {
   "cell_type": "code",
   "execution_count": 1,
   "id": "1851352e",
   "metadata": {},
   "outputs": [],
   "source": [
    "for i in range(1000, 0, -2):\n",
    "    i *= i"
   ]
  },
  {
   "cell_type": "markdown",
   "id": "e4a5156e",
   "metadata": {},
   "source": [
    "## 2 on hold dlu yeah bljr biner"
   ]
  },
  {
   "cell_type": "markdown",
   "id": "d05375f9",
   "metadata": {},
   "source": [
    "## 244 biner\n",
    "244 jd 122 sisa 0\n",
    "122 jd 61 sisa 0\n",
    "61 jd 30 sisa 1\n",
    "30 jd 15 sisa 0\n",
    "15 jd 7 sisa 1\n",
    "7 jd 3 sisa 1\n",
    "3 jd 1 sisa 1\n",
    "1 jd 0 sisa 1\n",
    "\n",
    "11110100"
   ]
  },
  {
   "cell_type": "markdown",
   "id": "6b5e165c",
   "metadata": {},
   "source": [
    "kalo mw jd hex, group 4 dr kanan\n",
    "\n",
    "1111 0100\n",
    "\n",
    "15   4\n",
    "\n",
    "f4"
   ]
  },
  {
   "cell_type": "markdown",
   "id": "5ac9b6e0",
   "metadata": {},
   "source": [
    "-244, td kan dia 11110100\n",
    "\n",
    "jd 00001011\n",
    "          1\n",
    "\n",
    "jd 00001100"
   ]
  },
  {
   "cell_type": "markdown",
   "id": "f0aeebcb",
   "metadata": {},
   "source": [
    "octalnya -244\n",
    "jd in set of 3 dr kanan\n",
    "\n",
    "000 011 00\n",
    "0   "
   ]
  },
  {
   "cell_type": "markdown",
   "id": "659d77f8",
   "metadata": {},
   "source": [
    "## 3 "
   ]
  },
  {
   "cell_type": "code",
   "execution_count": 6,
   "id": "009441ab",
   "metadata": {},
   "outputs": [
    {
     "name": "stdout",
     "output_type": "stream",
     "text": [
      "m-o-k-l-i-i-l-k-o-m\n"
     ]
    }
   ],
   "source": [
    "lst = ['s','e','f','a','s','i','l','k','o','m']\n",
    "end = len(lst)-1\n",
    "for k in range(0,len(lst)):\n",
    "    lst[k] = lst[end-k]\n",
    "print(\"-\".join(lst))"
   ]
  },
  {
   "cell_type": "code",
   "execution_count": 8,
   "id": "c9d407ca",
   "metadata": {},
   "outputs": [
    {
     "name": "stdout",
     "output_type": "stream",
     "text": [
      "512\n"
     ]
    }
   ],
   "source": [
    "k = 1\n",
    "while k < 500:\n",
    "    k *= 2\n",
    "print(k) # ini kan pangkat 2 gt yh\n",
    "# jd cari pangkat dua sesudah 500\n",
    "# karena k stop sebelum 500\n",
    "# jd pasti masih diproses kali 2 yg hasilnya bakal lebih dr 500"
   ]
  },
  {
   "cell_type": "markdown",
   "id": "50ec9379",
   "metadata": {},
   "source": [
    "## 4"
   ]
  },
  {
   "cell_type": "markdown",
   "id": "ce2b9e66",
   "metadata": {},
   "source": [
    "## 5"
   ]
  },
  {
   "cell_type": "code",
   "execution_count": 9,
   "id": "4b7ebd01",
   "metadata": {},
   "outputs": [
    {
     "name": "stdout",
     "output_type": "stream",
     "text": [
      "9\n",
      "12\n",
      "True\n",
      "66\n",
      "-1\n",
      "2\n",
      "['ol', 'tu', 'ua', 'ga']\n",
      "s\n"
     ]
    }
   ],
   "source": [
    "lst = ['nol','satu', 'dua', 'tiga']\n",
    "lst2 = [ kata[-2:] for kata in lst ] # dua tiga\n",
    "a,b = 57,12\n",
    "s = 'B'\n",
    "print( a % b ) # 48 sisa 9\n",
    "print( b % a ) # 0 sisa 12\n",
    "print( (a < b) or (a != b) ) # f, TRUE\n",
    "print( ord(s) ) # 66\n",
    "print( -10//b ) # -10/12, 0?\n",
    "print( -10%b ) # 0 sisa -10?\n",
    "print( lst2 ) # dua tiga\n",
    "print( lst[1][:1] ) # satu, s aj"
   ]
  },
  {
   "cell_type": "markdown",
   "id": "7195e55e",
   "metadata": {},
   "source": [
    "NOTE that -10//12 itu kan -0 koma, makanya floor ke -1\n",
    "\n",
    "KATA[-2:] dh jelas itu take tiap element di list, baru di slicing indexnya\n",
    "\n",
    "-10//12 itu (-12 * 1) + 2. JADI SISA 2\n",
    "coba -35//40. (-40 * 1) + 5 jd sisa 5"
   ]
  },
  {
   "cell_type": "markdown",
   "id": "2f4249fe",
   "metadata": {},
   "source": [
    "## 6"
   ]
  },
  {
   "cell_type": "code",
   "execution_count": 10,
   "id": "4a07bffb",
   "metadata": {},
   "outputs": [
    {
     "name": "stdout",
     "output_type": "stream",
     "text": [
      "9 8\n",
      "[5, 6, 7, 8, 9]\n",
      "8 7\n",
      "[5, 6, 8, 7, 9]\n",
      "8 6\n",
      "[5, 6, 8, 7, 9]\n"
     ]
    }
   ],
   "source": [
    "def swap1(x, y):\n",
    "    x,y = y,x\n",
    "    print(x,y) # mereka pake local variable, jd ga ganti nilai aslnya!!\n",
    "    \n",
    "def swap2(lst, index1, index2):\n",
    "    lst[index1],lst[index2] = lst[index2],lst[index1]\n",
    "    print(lst[index1],lst[index2]) # ini akses nilai list langsung, jd ganti nilai asli!!\n",
    "    \n",
    "def swap3(x, y): # ini pake local variable, ga gnti nilai aslinya!!\n",
    "    temp = x\n",
    "    x = y\n",
    "    y = temp\n",
    "    print(x,y)\n",
    "    \n",
    "numList = [5,6,7,8,9]\n",
    "swap1(numList[3], numList[4]) # 9,8\n",
    "print(numList) # 56789\n",
    "\n",
    "swap2(numList, 2, 3) # 87\n",
    "print(numList) # 56879\n",
    "\n",
    "swap3(numList[1], numList[2]) # cetak 9,6\n",
    "print(numList) # 56879"
   ]
  },
  {
   "cell_type": "markdown",
   "id": "0bc0df21",
   "metadata": {},
   "source": [
    "## 7"
   ]
  },
  {
   "cell_type": "markdown",
   "id": "c827f91c",
   "metadata": {},
   "source": [
    "g ngapa ngapain awowkewokeowk org diclose\n",
    "ValueError--I/O trying to read a closed file"
   ]
  },
  {
   "cell_type": "markdown",
   "id": "d888918d",
   "metadata": {},
   "source": [
    "## 8"
   ]
  },
  {
   "cell_type": "code",
   "execution_count": 12,
   "id": "2be933b6",
   "metadata": {},
   "outputs": [],
   "source": [
    "def is_valid_password(password):\n",
    "    \"\"\" returns True when password length is at least 8\n",
    "    characters, contains at least 1 uppercase character, 1\n",
    "    lowercase character, and 1 digit\"\"\"\n",
    "    if len(password) < 8:\n",
    "        return False\n",
    "    \n",
    "    uppercase = False\n",
    "    lowercase = False\n",
    "    digit = False\n",
    "    \n",
    "    for ch in password:\n",
    "        if ch.isupper():\n",
    "            uppercase = True\n",
    "        elif ch.islower():\n",
    "            lowercase = True\n",
    "        elif ch.isdigit ():\n",
    "            digit = True\n",
    "    \n",
    "    return uppercase and lowercase and digit\n",
    "\n",
    "# karena harus true semua kn yh\n",
    "    "
   ]
  },
  {
   "cell_type": "markdown",
   "id": "8812654c",
   "metadata": {},
   "source": [
    "## 10"
   ]
  },
  {
   "cell_type": "code",
   "execution_count": 16,
   "id": "255483c3",
   "metadata": {},
   "outputs": [
    {
     "name": "stdout",
     "output_type": "stream",
     "text": [
      "Binary-> Decimal: 27\n"
     ]
    }
   ],
   "source": [
    "def bin2decimal(binStr):\n",
    "    decimal = 0\n",
    "    power = 0\n",
    "    \n",
    "    # Start from the rightmost (least significant) digit\n",
    "    for digit in reversed(binStr):\n",
    "        if digit == '1':\n",
    "            decimal += 2 ** power\n",
    "        power += 1\n",
    "    \n",
    "    return decimal\n",
    "\n",
    "# Test the function\n",
    "decimal_result = bin2decimal(\"11011\")\n",
    "print(f\"Binary-> Decimal: {decimal_result}\")\n"
   ]
  },
  {
   "cell_type": "code",
   "execution_count": 17,
   "id": "229774f6",
   "metadata": {},
   "outputs": [
    {
     "name": "stdout",
     "output_type": "stream",
     "text": [
      "2's Complement: 0110 -> Decimal: 6\n",
      "2's Complement: 1010 -> Decimal: -6\n"
     ]
    }
   ],
   "source": [
    "def twos_complement_to_decimal(binary_str):\n",
    "    if binary_str[0] == '0':\n",
    "        # Positive binary number, convert as usual\n",
    "        decimal = 0\n",
    "        power = 0\n",
    "        for digit in reversed(binary_str):\n",
    "            if digit == '1':\n",
    "                decimal += 2 ** power\n",
    "            power += 1\n",
    "        return decimal\n",
    "    \n",
    "    else:\n",
    "        # Negative 2's complement binary number\n",
    "        inverted = ''\n",
    "        for digit in binary_str:\n",
    "            if digit == \"0\":\n",
    "                inverted += '1'\n",
    "            else:\n",
    "                inverted += \"0\"\n",
    "        \n",
    "        decimal = 0\n",
    "        power = 0\n",
    "        for digit in reversed(inverted):\n",
    "            if digit == '1':\n",
    "                decimal += 2 ** power\n",
    "            power += 1\n",
    "        \n",
    "        # Add 1 to the result to get the negative decimal value\n",
    "        decimal = -decimal - 1\n",
    "        return decimal\n",
    "\n",
    "# Test the function\n",
    "twos_comp_positive = '0110'  # Positive number\n",
    "twos_comp_negative = '1010'  # Negative number\n",
    "decimal_positive = twos_complement_to_decimal(twos_comp_positive)\n",
    "decimal_negative = twos_complement_to_decimal(twos_comp_negative)\n",
    "\n",
    "print(f\"2's Complement: {twos_comp_positive} -> Decimal: {decimal_positive}\")\n",
    "print(f\"2's Complement: {twos_comp_negative} -> Decimal: {decimal_negative}\")\n"
   ]
  },
  {
   "cell_type": "code",
   "execution_count": 18,
   "id": "02403da9",
   "metadata": {},
   "outputs": [
    {
     "name": "stdout",
     "output_type": "stream",
     "text": [
      "Decimal -> Octal: 33\n"
     ]
    }
   ],
   "source": [
    "def int2octal(num):\n",
    "    octal = \"\"\n",
    "    \n",
    "    while num > 0:\n",
    "        remainder = num % 8\n",
    "        octal += str(remainder) \n",
    "        num //= 8\n",
    "    \n",
    "    return octal\n",
    "\n",
    "# Test the function\n",
    "octal_result = int2octal(27)\n",
    "print(f\"Decimal -> Octal: {octal_result}\")\n"
   ]
  },
  {
   "cell_type": "code",
   "execution_count": null,
   "id": "fb09a011",
   "metadata": {},
   "outputs": [],
   "source": []
  }
 ],
 "metadata": {
  "kernelspec": {
   "display_name": "Python 3 (ipykernel)",
   "language": "python",
   "name": "python3"
  },
  "language_info": {
   "codemirror_mode": {
    "name": "ipython",
    "version": 3
   },
   "file_extension": ".py",
   "mimetype": "text/x-python",
   "name": "python",
   "nbconvert_exporter": "python",
   "pygments_lexer": "ipython3",
   "version": "3.11.4"
  }
 },
 "nbformat": 4,
 "nbformat_minor": 5
}
