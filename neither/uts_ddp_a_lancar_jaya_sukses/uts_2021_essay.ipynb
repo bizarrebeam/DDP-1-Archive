{
 "cells": [
  {
   "cell_type": "markdown",
   "id": "babfa046",
   "metadata": {},
   "source": [
    "## nomor 21"
   ]
  },
  {
   "cell_type": "code",
   "execution_count": 3,
   "id": "a2940e06",
   "metadata": {},
   "outputs": [
    {
     "name": "stdout",
     "output_type": "stream",
     "text": [
      "File tidak valid.\n"
     ]
    }
   ],
   "source": [
    "kata_depan = [\"dalam\", \"atas\", \"antara\", \"kepada\", \"akan\", \"terhadap\", \\\n",
    "\"oleh\", \"dengan\", \"berkat\", \"tentang\", \"sampai\", \"guna\", \\\n",
    "\"demi\", \"untuk\", \"bagi\", \"menurut\"]\n",
    "\n",
    "hitung = 0\n",
    "\n",
    "try:\n",
    "    with open(input.txt, \"r\") as f:\n",
    "        for baris in f:\n",
    "            kata_kata = baris.lower().split()\n",
    "\n",
    "            for kata in kata_kata:\n",
    "                if kata in kata_depan:\n",
    "                    hitung += 1\n",
    "\n",
    "    print(f\"Banyaknya kata depan yang muncul adalah {hitung}\")\n",
    "\n",
    "except:\n",
    "    print(\"File tidak valid.\")"
   ]
  },
  {
   "cell_type": "markdown",
   "id": "673acb6d",
   "metadata": {},
   "source": [
    "## median bilangan bulat"
   ]
  },
  {
   "cell_type": "code",
   "execution_count": 4,
   "id": "e529468d",
   "metadata": {},
   "outputs": [],
   "source": [
    "# kalo ganjil, ambil yg paling tengah\n",
    "# kalo genap, hrus dihitung"
   ]
  },
  {
   "cell_type": "code",
   "execution_count": 2,
   "id": "774e3d2a",
   "metadata": {},
   "outputs": [],
   "source": [
    "def my_median(lst):\n",
    "    if len(lst) == 0:\n",
    "        return None\n",
    "    else:\n",
    "        x = sorted(lst)\n",
    "        \n",
    "        if len(x) % 2 == 0:\n",
    "            return float((x[len(x) // 2] + x[(len(x) // 2) - 1]) / 2)\n",
    "        else:\n",
    "            return float(x[(len(x) - 1) - ((len(x) - 1) // 2)])\n"
   ]
  },
  {
   "cell_type": "code",
   "execution_count": 5,
   "id": "4b382a63",
   "metadata": {},
   "outputs": [
    {
     "name": "stdout",
     "output_type": "stream",
     "text": [
      "None\n"
     ]
    }
   ],
   "source": [
    "print(my_median([]))"
   ]
  },
  {
   "cell_type": "markdown",
   "id": "fbb640be",
   "metadata": {},
   "source": [
    "### nomor 23"
   ]
  },
  {
   "cell_type": "code",
   "execution_count": 12,
   "id": "00aee0d6",
   "metadata": {},
   "outputs": [],
   "source": [
    "def mystery(param):\n",
    "    i, j = 0, len(param)-1 # index awal smp akhir\n",
    "\n",
    "    while i < j and param[i] == param[j]:\n",
    "        i += 1\n",
    "        j -= 1\n",
    "    return i <= j"
   ]
  },
  {
   "cell_type": "code",
   "execution_count": 13,
   "id": "e58a4ac5",
   "metadata": {},
   "outputs": [
    {
     "data": {
      "text/plain": [
       "True"
      ]
     },
     "execution_count": 13,
     "metadata": {},
     "output_type": "execute_result"
    }
   ],
   "source": [
    "mystery(\"katak\")"
   ]
  },
  {
   "cell_type": "markdown",
   "id": "808a27ad",
   "metadata": {},
   "source": [
    "## nomor 24"
   ]
  },
  {
   "cell_type": "code",
   "execution_count": 14,
   "id": "a6778fda",
   "metadata": {},
   "outputs": [],
   "source": [
    "def replace_with_1(s, c):\n",
    "    result = \"\"\n",
    "    \n",
    "    for word in s:\n",
    "        if word == c:\n",
    "            result += \"1\"\n",
    "        else:\n",
    "            result += word\n",
    "    return result"
   ]
  },
  {
   "cell_type": "code",
   "execution_count": 15,
   "id": "d7faf3a3",
   "metadata": {},
   "outputs": [
    {
     "data": {
      "text/plain": [
       "'mang1ak'"
      ]
     },
     "execution_count": 15,
     "metadata": {},
     "output_type": "execute_result"
    }
   ],
   "source": [
    "replace_with_1(\"mangeak\", \"e\")"
   ]
  },
  {
   "cell_type": "markdown",
   "id": "efaab459",
   "metadata": {},
   "source": [
    "## nomor 25"
   ]
  },
  {
   "cell_type": "code",
   "execution_count": 20,
   "id": "befe1ca5",
   "metadata": {},
   "outputs": [
    {
     "name": "stdout",
     "output_type": "stream",
     "text": [
      "-7\n"
     ]
    }
   ],
   "source": [
    "def biner2desimal(binstr):\n",
    "    twos = int(binstr)\n",
    "    \n",
    "    if binstr[0] == '1': # means it's negative\n",
    "        # means we need to convert the 2s complement\n",
    "        ones = twos - 1\n",
    "        ones_string = str(ones)\n",
    "        bcd_list = []\n",
    "        \n",
    "        for i in ones_string:\n",
    "            if i == '0':\n",
    "                bcd_list.append('1')\n",
    "            else:\n",
    "                bcd_list.append('0')\n",
    "        bcd=''.join(bcd_list) # join cm bisa str\n",
    "        \n",
    "        # built in to convert. 2 kan base binary\n",
    "        # bisa diganti 8 atau 16\n",
    "        dec_pos = int(bcd,2)\n",
    "        dec = dec_pos\n",
    "        dec = 0 - dec # karna mw jd negatif\n",
    "        return dec\n",
    "    \n",
    "    else:\n",
    "        return int(str(twos),2)\n",
    "    \n",
    "print(biner2desimal('11001'))"
   ]
  },
  {
   "cell_type": "code",
   "execution_count": 21,
   "id": "cd07cae0",
   "metadata": {},
   "outputs": [
    {
     "data": {
      "text/plain": [
       "25"
      ]
     },
     "execution_count": 21,
     "metadata": {},
     "output_type": "execute_result"
    }
   ],
   "source": [
    "int(0b11001)"
   ]
  },
  {
   "cell_type": "code",
   "execution_count": 23,
   "id": "ba660c12",
   "metadata": {},
   "outputs": [
    {
     "name": "stdout",
     "output_type": "stream",
     "text": [
      "akukamudia\n"
     ]
    }
   ],
   "source": [
    "mylst = [\"aku\", \"kamu\", \"dia\"]\n",
    "print(\"\".join(mylst))"
   ]
  },
  {
   "cell_type": "code",
   "execution_count": 24,
   "id": "64c4addc",
   "metadata": {},
   "outputs": [],
   "source": [
    "def biner2desimal(binstr):\n",
    "    twos = int(binstr)\n",
    "    \n",
    "    if binstr[0] == '1': # means it's negative\n",
    "        # means we need to convert the 2s complement\n",
    "        ones = str(twos - 1)\n",
    "        invert_ones = []\n",
    "        \n",
    "        for i in ones:\n",
    "            if i == \"0\":\n",
    "                invert_ones.append(\"1\")\n",
    "            else:\n",
    "                invert_ones.append(\"0\")\n",
    "        binary = \"\".join(invert_ones)\n",
    "        \n",
    "        decimal = 0 - (int(binary, 2))\n",
    "        return decimal\n",
    "    \n",
    "    else:\n",
    "        return int(str(twos), 2)\n",
    "        "
   ]
  },
  {
   "cell_type": "code",
   "execution_count": 25,
   "id": "d17a818a",
   "metadata": {},
   "outputs": [
    {
     "name": "stdout",
     "output_type": "stream",
     "text": [
      "-7\n"
     ]
    }
   ],
   "source": [
    "print(biner2desimal(\"11001\"))"
   ]
  },
  {
   "cell_type": "markdown",
   "id": "8673a39a",
   "metadata": {},
   "source": [
    "## nomor 26"
   ]
  },
  {
   "cell_type": "code",
   "execution_count": 33,
   "id": "1c7ec734",
   "metadata": {},
   "outputs": [],
   "source": [
    "int_mode = 1\n",
    "float_mode = 2\n",
    "str_mode = 3\n",
    "\n",
    "def convert_list(a_list, convert_mode):\n",
    "    a_new_list = []\n",
    "    for element in a_list:\n",
    "        try:\n",
    "            if convert_mode == 1:\n",
    "                element = int(element)\n",
    "            elif convert_mode == 2:\n",
    "                element = float(element)\n",
    "            elif convert_mode == 3:\n",
    "                element = str(element)\n",
    "        except ValueError:\n",
    "            element = \"Conversion Error\"\n",
    "        \n",
    "        a_new_list.append(element)\n",
    "        \n",
    "    return a_new_list"
   ]
  },
  {
   "cell_type": "code",
   "execution_count": 34,
   "id": "1dc9fbad",
   "metadata": {},
   "outputs": [],
   "source": [
    "a_list = [1,\"2\",3.0,\"2.1\",\"x\"]\n",
    "a_list = convert_list(a_list, int_mode)"
   ]
  },
  {
   "cell_type": "code",
   "execution_count": 35,
   "id": "fa70bcad",
   "metadata": {},
   "outputs": [
    {
     "name": "stdout",
     "output_type": "stream",
     "text": [
      "[1, 2, 3, 'Conversion Error', 'Conversion Error']\n"
     ]
    }
   ],
   "source": [
    "print(a_list)"
   ]
  },
  {
   "cell_type": "code",
   "execution_count": 36,
   "id": "a84d698a",
   "metadata": {},
   "outputs": [
    {
     "ename": "TypeError",
     "evalue": "'x' is an invalid keyword argument for print()",
     "output_type": "error",
     "traceback": [
      "\u001b[1;31m---------------------------------------------------------------------------\u001b[0m",
      "\u001b[1;31mTypeError\u001b[0m                                 Traceback (most recent call last)",
      "Cell \u001b[1;32mIn[36], line 1\u001b[0m\n\u001b[1;32m----> 1\u001b[0m \u001b[38;5;28;43mprint\u001b[39;49m\u001b[43m(\u001b[49m\u001b[43mx\u001b[49m\u001b[38;5;241;43m=\u001b[39;49m\u001b[38;5;241;43m5\u001b[39;49m\u001b[43m)\u001b[49m\n",
      "\u001b[1;31mTypeError\u001b[0m: 'x' is an invalid keyword argument for print()"
     ]
    }
   ],
   "source": [
    "print(x=5)"
   ]
  },
  {
   "cell_type": "code",
   "execution_count": 40,
   "id": "439c5a68",
   "metadata": {},
   "outputs": [
    {
     "name": "stdout",
     "output_type": "stream",
     "text": [
      "halo pyman 1\n"
     ]
    }
   ],
   "source": [
    "print(\"halo\", \"pyman\", \"1\")"
   ]
  },
  {
   "cell_type": "code",
   "execution_count": null,
   "id": "0cb56910",
   "metadata": {},
   "outputs": [],
   "source": []
  }
 ],
 "metadata": {
  "kernelspec": {
   "display_name": "Python 3 (ipykernel)",
   "language": "python",
   "name": "python3"
  },
  "language_info": {
   "codemirror_mode": {
    "name": "ipython",
    "version": 3
   },
   "file_extension": ".py",
   "mimetype": "text/x-python",
   "name": "python",
   "nbconvert_exporter": "python",
   "pygments_lexer": "ipython3",
   "version": "3.11.4"
  }
 },
 "nbformat": 4,
 "nbformat_minor": 5
}
