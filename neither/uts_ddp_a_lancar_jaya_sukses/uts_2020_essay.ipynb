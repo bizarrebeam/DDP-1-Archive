{
 "cells": [
  {
   "cell_type": "markdown",
   "id": "e64bcc2b",
   "metadata": {},
   "source": [
    "## nomor 1"
   ]
  },
  {
   "cell_type": "code",
   "execution_count": 2,
   "id": "f140c327",
   "metadata": {},
   "outputs": [],
   "source": [
    "result = []\n",
    "\n",
    "for i in range(0, 5, 2):\n",
    "    for j in range(0, 5, 2):\n",
    "        result.append([i, j])"
   ]
  },
  {
   "cell_type": "code",
   "execution_count": 3,
   "id": "36a8c712",
   "metadata": {},
   "outputs": [
    {
     "name": "stdout",
     "output_type": "stream",
     "text": [
      "[[0, 0], [0, 2], [0, 4], [2, 0], [2, 2], [2, 4], [4, 0], [4, 2], [4, 4]]\n"
     ]
    }
   ],
   "source": [
    "print(result)"
   ]
  },
  {
   "cell_type": "code",
   "execution_count": 7,
   "id": "839b4b19",
   "metadata": {},
   "outputs": [],
   "source": [
    "res = [[i,j] for i in range(0, 5, 2) for j in range(0, 5, 2)]"
   ]
  },
  {
   "cell_type": "code",
   "execution_count": 8,
   "id": "84b13f0c",
   "metadata": {},
   "outputs": [
    {
     "name": "stdout",
     "output_type": "stream",
     "text": [
      "[[0, 0], [0, 2], [0, 4], [2, 0], [2, 2], [2, 4], [4, 0], [4, 2], [4, 4]]\n"
     ]
    }
   ],
   "source": [
    "print(res)"
   ]
  },
  {
   "cell_type": "markdown",
   "id": "863e69cb",
   "metadata": {},
   "source": [
    "## nomor 2"
   ]
  },
  {
   "cell_type": "code",
   "execution_count": 13,
   "id": "05b42c00",
   "metadata": {},
   "outputs": [
    {
     "name": "stdout",
     "output_type": "stream",
     "text": [
      "masukkan nilai n: 5\n",
      "x   x\n",
      " x x \n",
      "  x  \n",
      " x x \n",
      "x   x\n"
     ]
    }
   ],
   "source": [
    "n = int(input(\"masukkan nilai n: \"))\n",
    "index = 0\n",
    "\n",
    "while index < n and n > 2 and n < 10:\n",
    "    empty_space_list = [\" \"] * n\n",
    "    empty_space_list[index] = \"x\"\n",
    "    empty_space_list[len(empty_space_list)-1-index] = \"x\"\n",
    "    index += 1\n",
    "    \n",
    "    print(\"\". join(empty_space_list))\n",
    "    "
   ]
  },
  {
   "cell_type": "markdown",
   "id": "bf457f56",
   "metadata": {},
   "source": [
    "## nomor 3"
   ]
  },
  {
   "cell_type": "code",
   "execution_count": null,
   "id": "8e01bd7a",
   "metadata": {},
   "outputs": [],
   "source": [
    "def maks_ganjil(lst):\n",
    "    \n",
    "    m = None\n",
    "    \n",
    "    if not len(lst):\n",
    "        return m\n",
    "    \n",
    "    for e in lst:\n",
    "        if e %2 and m == None: # 1 is true, 0 false\n",
    "            m = e # kalo dia ganjil, ywdh masukin\n",
    "            # dia ke m, track kalo dia ganjil\n",
    "        elif e % 2 and e > m:\n",
    "            m = e # tp kalo ada yg lebih gede, ini aj\n",
    "    \n",
    "    return m"
   ]
  },
  {
   "cell_type": "markdown",
   "id": "93854360",
   "metadata": {},
   "source": [
    "## nomor 4"
   ]
  },
  {
   "cell_type": "code",
   "execution_count": 17,
   "id": "aeee512d",
   "metadata": {},
   "outputs": [
    {
     "name": "stdout",
     "output_type": "stream",
     "text": [
      "input = ayah sedang bekerja\n",
      "output = ayah sedang kerja \n"
     ]
    }
   ],
   "source": [
    "def berstemmer(kalimat):\n",
    "    stem_kalimat = \"\"\n",
    "    \n",
    "    for word in kalimat.lower().split():\n",
    "        if word[:3] == \"ber\":\n",
    "            word = word[3:]\n",
    "        elif word[:2] == \"be\":\n",
    "            word = word[2:]\n",
    "        stem_kalimat += word + \" \"\n",
    "    return stem_kalimat\n",
    "\n",
    "kalimat = \"ayah sedang bekerja\"\n",
    "print(f\"input = {kalimat}\")\n",
    "print(f\"output = {berstemmer(kalimat)}\")\n",
    "            "
   ]
  },
  {
   "cell_type": "markdown",
   "id": "b35e2604",
   "metadata": {},
   "source": [
    "## nomor 5"
   ]
  },
  {
   "cell_type": "code",
   "execution_count": null,
   "id": "7171f179",
   "metadata": {},
   "outputs": [],
   "source": [
    "while True:\n",
    "    try:\n",
    "        namafile = input(\"Masukkan nama file: \")\n",
    "        fileku = open(namafile, 'w', encoding = \"utf-8\")\n",
    "        freq = [0] * 26\n",
    "        \n",
    "        for baris in fileku:\n",
    "            for char in baris:\n",
    "                char = char.upper()\n",
    "                ind = ord(char) - 65\n",
    "                # setting a to 0, b to 1, z to 25\n",
    "                if ind >= 0 and ind <=25:\n",
    "                    freq[ind] += 1\n",
    "            \n",
    "        for i in range(26):\n",
    "            print(f\"Huruf {} memiliki jumlah kemunculan {freq[i]}\")\n",
    "            "
   ]
  }
 ],
 "metadata": {
  "kernelspec": {
   "display_name": "Python 3 (ipykernel)",
   "language": "python",
   "name": "python3"
  },
  "language_info": {
   "codemirror_mode": {
    "name": "ipython",
    "version": 3
   },
   "file_extension": ".py",
   "mimetype": "text/x-python",
   "name": "python",
   "nbconvert_exporter": "python",
   "pygments_lexer": "ipython3",
   "version": "3.11.4"
  }
 },
 "nbformat": 4,
 "nbformat_minor": 5
}
