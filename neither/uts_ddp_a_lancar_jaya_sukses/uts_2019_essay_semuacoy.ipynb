{
 "cells": [
  {
   "cell_type": "markdown",
   "id": "d7cdd175",
   "metadata": {},
   "source": [
    "## 1"
   ]
  },
  {
   "cell_type": "markdown",
   "id": "bb848a3d",
   "metadata": {},
   "source": [
    "19 jd 9 sisa 1\n",
    "9 jd 4 sisa 1\n",
    "4 jd 2 sisa 0\n",
    "2 jd 1 sisa 0\n",
    "1 jd 0 sisa 1\n",
    "\n",
    "10011"
   ]
  },
  {
   "cell_type": "markdown",
   "id": "18e11db6",
   "metadata": {},
   "source": [
    "1111 0011\n",
    "(paling ujung1 jd negatif)\n",
    "\n",
    "1111 0010\n",
    "jd 0000 1101\n",
    "\n",
    "jd 1+4+8=13\n",
    "\n",
    "-13\n"
   ]
  },
  {
   "cell_type": "markdown",
   "id": "f6af99b6",
   "metadata": {},
   "source": [
    "## 2"
   ]
  },
  {
   "cell_type": "code",
   "execution_count": 3,
   "id": "50989c8e",
   "metadata": {},
   "outputs": [
    {
     "data": {
      "text/plain": [
       "9.42477796076938"
      ]
     },
     "execution_count": 3,
     "metadata": {},
     "output_type": "execute_result"
    }
   ],
   "source": [
    "import math as m\n",
    "\n",
    "def shaded_area(d1,d2):\n",
    "    return 1/4 *m.pi*(m.pow(d2, 2) - m.pow(d1, 2))\n",
    "\n",
    "shaded_area(2, 4)"
   ]
  },
  {
   "cell_type": "markdown",
   "id": "ceaab9dd",
   "metadata": {},
   "source": [
    "## 3"
   ]
  },
  {
   "cell_type": "code",
   "execution_count": 4,
   "id": "997fa1df",
   "metadata": {},
   "outputs": [],
   "source": [
    "n = 2500\n",
    "l1 = [[1,2,3],[4,5,6]]\n",
    "l2 = [ l1[i][j]**2 for i in range(2) for j in range(3)]\n",
    "# i = 2 list itu\n",
    "# j = tiap isi dr listny\n",
    "\n",
    "# or print yg pertama kali bner"
   ]
  },
  {
   "cell_type": "code",
   "execution_count": 5,
   "id": "551a32ee",
   "metadata": {},
   "outputs": [
    {
     "name": "stdout",
     "output_type": "stream",
     "text": [
      "[1, 4, 9, 16, 25, 36]\n"
     ]
    }
   ],
   "source": [
    "print(l2)"
   ]
  },
  {
   "cell_type": "markdown",
   "id": "bc3a0922",
   "metadata": {},
   "source": [
    "## 4"
   ]
  },
  {
   "cell_type": "code",
   "execution_count": 6,
   "id": "df8a7719",
   "metadata": {},
   "outputs": [],
   "source": [
    "newlist = [x*x + 1 for x in range(100) if x%5 == 0]"
   ]
  },
  {
   "cell_type": "code",
   "execution_count": 7,
   "id": "58d274b9",
   "metadata": {},
   "outputs": [
    {
     "data": {
      "text/plain": [
       "[1,\n",
       " 26,\n",
       " 101,\n",
       " 226,\n",
       " 401,\n",
       " 626,\n",
       " 901,\n",
       " 1226,\n",
       " 1601,\n",
       " 2026,\n",
       " 2501,\n",
       " 3026,\n",
       " 3601,\n",
       " 4226,\n",
       " 4901,\n",
       " 5626,\n",
       " 6401,\n",
       " 7226,\n",
       " 8101,\n",
       " 9026]"
      ]
     },
     "execution_count": 7,
     "metadata": {},
     "output_type": "execute_result"
    }
   ],
   "source": [
    "newlist"
   ]
  },
  {
   "cell_type": "code",
   "execution_count": 8,
   "id": "90a95a28",
   "metadata": {},
   "outputs": [],
   "source": [
    "empatb = [-1**i for i in range(11)]"
   ]
  },
  {
   "cell_type": "code",
   "execution_count": 9,
   "id": "0a04c741",
   "metadata": {},
   "outputs": [
    {
     "data": {
      "text/plain": [
       "[-1, -1, -1, -1, -1, -1, -1, -1, -1, -1, -1]"
      ]
     },
     "execution_count": 9,
     "metadata": {},
     "output_type": "execute_result"
    }
   ],
   "source": [
    "empatb"
   ]
  },
  {
   "cell_type": "markdown",
   "id": "26f6b09b",
   "metadata": {},
   "source": [
    "## 5"
   ]
  },
  {
   "cell_type": "code",
   "execution_count": 16,
   "id": "b2e0e2ac",
   "metadata": {},
   "outputs": [
    {
     "name": "stdout",
     "output_type": "stream",
     "text": [
      "n: 5\n",
      "  *  \n",
      "  *  \n",
      "*****\n",
      "  *  \n",
      "  *  \n"
     ]
    }
   ],
   "source": [
    "def cetak_plus(n):\n",
    "    if n<3 or n %2 != 1:\n",
    "        print(\"Input harus berupa bilangan ganjil\")\n",
    "        return\n",
    "    else:\n",
    "        for i in range(n):\n",
    "            if i == (n//2):\n",
    "                print(\"*\" * n)\n",
    "            else:\n",
    "                print((\" \" * (n//2)) + \"*\" + (\" \" * (n//2)))\n",
    "inp = int(input(\"n: \"))\n",
    "cetak_plus(inp)"
   ]
  },
  {
   "cell_type": "markdown",
   "id": "2dbb3264",
   "metadata": {},
   "source": [
    "idenya kan dia bakal cm ngeprint satu bintang di kolom tengah kecuali kalau barisnya pas di tengah n, semua kolom diprint"
   ]
  },
  {
   "cell_type": "markdown",
   "id": "1fbd000e",
   "metadata": {},
   "source": [
    "## 6"
   ]
  },
  {
   "cell_type": "code",
   "execution_count": 17,
   "id": "0447577f",
   "metadata": {},
   "outputs": [],
   "source": [
    "def misteri(lst):\n",
    "    x = 0\n",
    "    for e in lst:\n",
    "        if e == e[::-1]:\n",
    "            x += 1\n",
    "    return x % 2 == 0"
   ]
  },
  {
   "cell_type": "code",
   "execution_count": 18,
   "id": "91cc5375",
   "metadata": {},
   "outputs": [
    {
     "data": {
      "text/plain": [
       "False"
      ]
     },
     "execution_count": 18,
     "metadata": {},
     "output_type": "execute_result"
    }
   ],
   "source": [
    "misteri(['malam', 'ini',\n",
    "'kudengar', 'suara', 'katak'])"
   ]
  },
  {
   "cell_type": "markdown",
   "id": "e8245ff2",
   "metadata": {},
   "source": [
    "## 7"
   ]
  },
  {
   "cell_type": "code",
   "execution_count": 23,
   "id": "184f49d5",
   "metadata": {},
   "outputs": [],
   "source": [
    "list1 = [[2,3,4],20,30,40]\n",
    "list2 = list1\n",
    "list3 = list2[:]\n",
    "# referensi listnya sama semua!!!"
   ]
  },
  {
   "cell_type": "code",
   "execution_count": 24,
   "id": "afdbabc5",
   "metadata": {},
   "outputs": [
    {
     "name": "stdout",
     "output_type": "stream",
     "text": [
      "[[2, 3, 4], 7, 30, 40]\n",
      "[[2, 3, 4], 7, 30, 9]\n",
      "[[2, 3, 4], 20, 0, 40]\n",
      "[[2, 3, 8], 20, 0, 40]\n"
     ]
    }
   ],
   "source": [
    "list1[1] = 7 #[[2,3,4],7,30,40] \n",
    "print(list1)\n",
    "list2[3] = 9 #[[2,3,4],7,30,9] \n",
    "print(list2)\n",
    "list3[2] = 0 #[[2,3,4],7,0,9] \n",
    "print(list3)\n",
    "list3[0][-1] = 8 # [[2,3,8],7,0,9]\n",
    "print(list3)"
   ]
  },
  {
   "cell_type": "markdown",
   "id": "edb141ed",
   "metadata": {},
   "source": [
    "ternyata list3 langsung bikin copy dr lst2, which is og list1."
   ]
  },
  {
   "cell_type": "markdown",
   "id": "4be5f7c9",
   "metadata": {},
   "source": [
    "## 8"
   ]
  },
  {
   "cell_type": "code",
   "execution_count": 3,
   "id": "308c2de5",
   "metadata": {},
   "outputs": [],
   "source": [
    "def cetakrapi(students):\n",
    "    print(f'{\"Nama Depan\":15}{\"Nama Belakang\":15}{\"Angkatan\":15}{\"IPK\":8}')\n",
    "    \n",
    "    \n",
    "    for row in students:\n",
    "        nama_depan = row[0]\n",
    "        nama_belakang = row[1]\n",
    "        angkatan = row[2]\n",
    "        ipk = row[3]\n",
    "        \n",
    "        print(f\"{nama_depan:15}{nama_belakang:15}{angkatan:15}{ipk:4.2f}\")\n",
    "    \n",
    "        "
   ]
  },
  {
   "cell_type": "code",
   "execution_count": 4,
   "id": "37a55dd3",
   "metadata": {},
   "outputs": [
    {
     "name": "stdout",
     "output_type": "stream",
     "text": [
      "Nama Depan     Nama Belakang  Angkatan       IPK     \n",
      "Sari           Devi           2018           3.45\n",
      "Asrul          Chaniago       2018           4.00\n",
      "Ketut          Pramana        2016           3.50\n"
     ]
    }
   ],
   "source": [
    "students = []\n",
    "students.append(['Sari', 'Devi', '2018', 3.45])\n",
    "students.append(['Asrul', 'Chaniago', '2018', 4.0])\n",
    "students.append(['Ketut', 'Pramana', '2016', 3.5])\n",
    "cetakrapi(students)"
   ]
  },
  {
   "cell_type": "markdown",
   "id": "3cfb8e22",
   "metadata": {},
   "source": [
    "## 9"
   ]
  },
  {
   "cell_type": "code",
   "execution_count": 42,
   "id": "c9a44e39",
   "metadata": {},
   "outputs": [],
   "source": [
    "lista = [4,2,5,3,1]\n",
    "listb = [17,28,40]"
   ]
  },
  {
   "cell_type": "code",
   "execution_count": 43,
   "id": "193e4839",
   "metadata": {},
   "outputs": [
    {
     "name": "stdout",
     "output_type": "stream",
     "text": [
      "None\n"
     ]
    }
   ],
   "source": [
    "print(lista.sort())\n",
    "# it directly sort the OG list a\n",
    "# because it didn't return a new list, that's why\n",
    "# it prints none even if i assign it to a new variable\n",
    "# i shud call the og variable name"
   ]
  },
  {
   "cell_type": "code",
   "execution_count": 46,
   "id": "2773e4dc",
   "metadata": {},
   "outputs": [
    {
     "name": "stdout",
     "output_type": "stream",
     "text": [
      "[1, 100, 3, 4, 5]\n"
     ]
    }
   ],
   "source": [
    "lista[1] = 100 # lista 1,2,3,4,5 jd 1,100,3,4,5\n",
    "print(lista)"
   ]
  },
  {
   "cell_type": "code",
   "execution_count": 47,
   "id": "fdfab046",
   "metadata": {},
   "outputs": [
    {
     "name": "stdout",
     "output_type": "stream",
     "text": [
      "[1, 3, 4, 5, 100]\n"
     ]
    }
   ],
   "source": [
    "print(sorted(lista)) # jd 1,3,4,5,100"
   ]
  },
  {
   "cell_type": "code",
   "execution_count": 48,
   "id": "110e475a",
   "metadata": {},
   "outputs": [
    {
     "name": "stdout",
     "output_type": "stream",
     "text": [
      "5\n"
     ]
    }
   ],
   "source": [
    "print(lista.pop()) \n",
    "# JGN KEGOCEK POP 100\n",
    "# INGAT SORTED ITU GANGUBAH LIST ASLI\n",
    "# jd ini pop 5"
   ]
  },
  {
   "cell_type": "code",
   "execution_count": 49,
   "id": "36a47234",
   "metadata": {},
   "outputs": [
    {
     "name": "stdout",
     "output_type": "stream",
     "text": [
      "[1, 100, 3, 4]\n"
     ]
    }
   ],
   "source": [
    "print(lista) # 1 100 3 4"
   ]
  },
  {
   "cell_type": "code",
   "execution_count": 51,
   "id": "28e5da3c",
   "metadata": {},
   "outputs": [],
   "source": [
    "listb.insert(2,0) # at index 2 insert 0"
   ]
  },
  {
   "cell_type": "code",
   "execution_count": 52,
   "id": "0d0b27ac",
   "metadata": {},
   "outputs": [
    {
     "name": "stdout",
     "output_type": "stream",
     "text": [
      "[17, 28, 0, 0, 40]\n"
     ]
    }
   ],
   "source": [
    "print(listb) # ngaco bjir"
   ]
  },
  {
   "cell_type": "markdown",
   "id": "8db123aa",
   "metadata": {},
   "source": [
    "# # 10"
   ]
  },
  {
   "cell_type": "code",
   "execution_count": 56,
   "id": "20c83845",
   "metadata": {},
   "outputs": [
    {
     "name": "stdout",
     "output_type": "stream",
     "text": [
      "Ketik integer antara 100 dan 500:200\n",
      "Terima kasih. Input Anda: 200\n"
     ]
    }
   ],
   "source": [
    "valid = False\n",
    "while not valid:\n",
    "    try:\n",
    "        num = int(input(\"Ketik integer antara 100 dan 500:\"))\n",
    "        if 100 <= num <= 500:\n",
    "            valid = True\n",
    "        else:\n",
    "            print(\"Bilangan salah. Silakan coba lagi.\")\n",
    "    \n",
    "    except ValueError:\n",
    "        print(\"Bukan integer. Silakan coba lagi.\")\n",
    "print(\"Terima kasih. Input Anda:\", num)"
   ]
  },
  {
   "cell_type": "markdown",
   "id": "46c654ab",
   "metadata": {},
   "source": [
    "## 12"
   ]
  },
  {
   "cell_type": "code",
   "execution_count": null,
   "id": "2900fe4e",
   "metadata": {},
   "outputs": [],
   "source": [
    "def hitungTokenPerKalimat(fileName):\n",
    "    with open(fileName) as f:\n",
    "        read_file = f.readlines() #kn mw ngitung banyak baris yh, pake readlines aja\n",
    "        \n",
    "        result = []\n",
    "        count_line = 0\n",
    "        \n",
    "        for line in read_file:\n",
    "            if line != \"\\n\":\n",
    "                count_line += 1\n",
    "            else: # berhenti ngitung pas ketemu baris kosong kan, semacam break paragraf gitu\n",
    "                result.append(count_line)\n",
    "                count_line = 0 # reset lg agar start fresh\n",
    "        \n",
    "        "
   ]
  }
 ],
 "metadata": {
  "kernelspec": {
   "display_name": "Python 3 (ipykernel)",
   "language": "python",
   "name": "python3"
  },
  "language_info": {
   "codemirror_mode": {
    "name": "ipython",
    "version": 3
   },
   "file_extension": ".py",
   "mimetype": "text/x-python",
   "name": "python",
   "nbconvert_exporter": "python",
   "pygments_lexer": "ipython3",
   "version": "3.11.4"
  }
 },
 "nbformat": 4,
 "nbformat_minor": 5
}
