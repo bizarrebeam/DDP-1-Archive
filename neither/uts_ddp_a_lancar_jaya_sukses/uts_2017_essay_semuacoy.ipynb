{
 "cells": [
  {
   "cell_type": "markdown",
   "id": "677f53d0",
   "metadata": {},
   "source": [
    "## 1"
   ]
  },
  {
   "cell_type": "code",
   "execution_count": null,
   "id": "18dcfc83",
   "metadata": {},
   "outputs": [],
   "source": [
    "def k_sum_pairs(a_list, k):\n",
    "    for a in a_list:\n",
    "        "
   ]
  }
 ],
 "metadata": {
  "kernelspec": {
   "display_name": "Python 3 (ipykernel)",
   "language": "python",
   "name": "python3"
  },
  "language_info": {
   "codemirror_mode": {
    "name": "ipython",
    "version": 3
   },
   "file_extension": ".py",
   "mimetype": "text/x-python",
   "name": "python",
   "nbconvert_exporter": "python",
   "pygments_lexer": "ipython3",
   "version": "3.11.4"
  }
 },
 "nbformat": 4,
 "nbformat_minor": 5
}
