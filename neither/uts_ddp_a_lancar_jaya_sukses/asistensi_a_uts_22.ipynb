{
 "cells": [
  {
   "cell_type": "markdown",
   "id": "0c9b11ad",
   "metadata": {},
   "source": [
    "## nomor 16"
   ]
  },
  {
   "cell_type": "code",
   "execution_count": null,
   "id": "04901f69",
   "metadata": {},
   "outputs": [],
   "source": [
    "nama_file = input(\"nama file:\")\n",
    "\n",
    "def hitung_rata_rata(nama_file):\n",
    "    jumlah_nilai = 0\n",
    "    jumlah_baris = 0\n",
    "    \n",
    "    with open(nama_file, \"r\") as f:\n",
    "        for line in f:\n",
    "            jumlah_baris += 1\n",
    "            \n",
    "            isi_file = line.strip(\";\")\n",
    "            nilai = float(isi_file[1])\n",
    "            \n",
    "            jumlah_nilai += nilai\n",
    "            \n",
    "        rata_rata = jumlah_nilai / jumlah_baris\n",
    "    return rata_rata       "
   ]
  },
  {
   "cell_type": "code",
   "execution_count": 1,
   "id": "d0304bbb",
   "metadata": {},
   "outputs": [],
   "source": [
    "text = \"aku;suka;ddp;nilai;ddp;aku;bagus\""
   ]
  },
  {
   "cell_type": "code",
   "execution_count": 3,
   "id": "8504b4d6",
   "metadata": {},
   "outputs": [],
   "source": [
    "aku = text.split(\";\")"
   ]
  },
  {
   "cell_type": "code",
   "execution_count": 4,
   "id": "c9a32b7d",
   "metadata": {},
   "outputs": [
    {
     "name": "stdout",
     "output_type": "stream",
     "text": [
      "['aku', 'suka', 'ddp', 'nilai', 'ddp', 'aku', 'bagus']\n"
     ]
    }
   ],
   "source": [
    "print(aku)"
   ]
  },
  {
   "cell_type": "code",
   "execution_count": 5,
   "id": "caa46528",
   "metadata": {},
   "outputs": [
    {
     "name": "stdout",
     "output_type": "stream",
     "text": [
      "90\n"
     ]
    }
   ],
   "source": [
    "angka = [\"20\", \"30\", \"40\"]\n",
    "ini_angka = 0\n",
    "for ang in angka:\n",
    "    ini_angka += int(ang)\n",
    "    \n",
    "print(ini_angka)"
   ]
  },
  {
   "cell_type": "markdown",
   "id": "f14ea416",
   "metadata": {},
   "source": [
    "## nomor 17"
   ]
  },
  {
   "cell_type": "code",
   "execution_count": 8,
   "id": "94e8c8a5",
   "metadata": {},
   "outputs": [
    {
     "name": "stdout",
     "output_type": "stream",
     "text": [
      "5\n",
      "54345\n",
      "4334\n",
      "323\n",
      "22\n",
      "1\n"
     ]
    }
   ],
   "source": [
    "n = int(input())\n",
    "\n",
    "for baris in range(n, 0, -1):\n",
    "    kolom_pattern = baris # 5 4 3 2 1 \n",
    "    # baik baris sama kolom kan sama-sama mundur\n",
    "    # kalo loop ky gini, kerjain baris dlu\n",
    "    \n",
    "    # kolom tu tiap elemen di baris kan, 1 2 3 4 5\n",
    "    \n",
    "    for kolom in range(1, baris+1): # skrg  lihat secara horizontal\n",
    "        # knp pake v baris? karena kolom_pattern bakal trs diupdate\n",
    "        if kolom <= baris/2:\n",
    "            print(kolom_pattern, end = \"\")\n",
    "            kolom_pattern -= 1\n",
    "        else:\n",
    "            print(kolom, end = \"\")\n",
    "    print()"
   ]
  },
  {
   "cell_type": "markdown",
   "id": "f9f22725",
   "metadata": {},
   "source": [
    "patternya:\n",
    "5 4 3 4 5\n",
    "4 3 3 4\n",
    "3 2 3\n",
    "2 2\n",
    "1"
   ]
  },
  {
   "cell_type": "markdown",
   "id": "65573a2f",
   "metadata": {},
   "source": [
    "## nomor 18"
   ]
  },
  {
   "cell_type": "markdown",
   "id": "00f0faa9",
   "metadata": {},
   "source": [
    "nerima bbrp bilangan positif, berhenti smp dimasukin -1. nanti ngitung 2 bilangan terbesar"
   ]
  },
  {
   "cell_type": "code",
   "execution_count": 10,
   "id": "a8f8956d",
   "metadata": {},
   "outputs": [
    {
     "name": "stdout",
     "output_type": "stream",
     "text": [
      "masukkan bilangan positif: 1\n",
      "masukkan bilangan positif: 2\n",
      "masukkan bilangan positif: 3\n",
      "masukkan bilangan positif: 4\n",
      "masukkan bilangan positif: 4\n",
      "masukkan bilangan positif: 5\n",
      "masukkan bilangan positif: 6\n",
      "masukkan bilangan positif: -1\n",
      "dua bil terbesar adalah 6, 5\n"
     ]
    }
   ],
   "source": [
    "max1 = int(input(\"masukkan bilangan positif: \"))\n",
    "max2 = int(input(\"masukkan bilangan positif: \"))\n",
    "\n",
    "# karna gaboleh pake list, maka asumsi bilangan awal\n",
    "# yg diinput itu yg paling gede, trs dicek\n",
    "\n",
    "if max1<max2:\n",
    "    max1, max2 = max2, max1 # sdh dijamin urut\n",
    "    # max 1 terbesar pertama, max 2 terbesar kedua\n",
    "\n",
    "running = True\n",
    "while running:\n",
    "    temp = int(input(\"masukkan bilangan positif: \"))\n",
    "    if temp == -1:\n",
    "        running = False\n",
    "    else:\n",
    "        if temp > max1 > max2:\n",
    "            max1,max2 = temp, max1\n",
    "print(f\"dua bil terbesar adalah {max1}, {max2}\")"
   ]
  },
  {
   "cell_type": "markdown",
   "id": "be2c2903",
   "metadata": {},
   "source": [
    "## menghasilkan huruf kecil terbesar berdasarkan ascii"
   ]
  },
  {
   "cell_type": "code",
   "execution_count": 17,
   "id": "b2b6a396",
   "metadata": {},
   "outputs": [
    {
     "name": "stdout",
     "output_type": "stream",
     "text": [
      "output: u\n"
     ]
    }
   ],
   "source": [
    "def huruf_kecil_terbesar(str):\n",
    "    tmp = chr(0) \n",
    "    \n",
    "    for i in str:\n",
    "        if ord(i) > ord(tmp):\n",
    "            tmp=i\n",
    "    return tmp\n",
    "\n",
    "mystr = \"kamu bisa kok\"\n",
    "print(\"output:\", huruf_kecil_terbesar(mystr))"
   ]
  },
  {
   "cell_type": "code",
   "execution_count": null,
   "id": "616dcb4c",
   "metadata": {},
   "outputs": [],
   "source": []
  }
 ],
 "metadata": {
  "kernelspec": {
   "display_name": "Python 3 (ipykernel)",
   "language": "python",
   "name": "python3"
  },
  "language_info": {
   "codemirror_mode": {
    "name": "ipython",
    "version": 3
   },
   "file_extension": ".py",
   "mimetype": "text/x-python",
   "name": "python",
   "nbconvert_exporter": "python",
   "pygments_lexer": "ipython3",
   "version": "3.11.4"
  }
 },
 "nbformat": 4,
 "nbformat_minor": 5
}
