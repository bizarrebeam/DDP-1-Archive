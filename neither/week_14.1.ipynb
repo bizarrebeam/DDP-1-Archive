{
 "cells": [
  {
   "cell_type": "markdown",
   "metadata": {},
   "source": [
    "## satu"
   ]
  },
  {
   "cell_type": "code",
   "execution_count": 1,
   "metadata": {},
   "outputs": [
    {
     "name": "stdout",
     "output_type": "stream",
     "text": [
      "{1: 'a', 2: 'b', 3: 'c', 4: 'd'}\n"
     ]
    }
   ],
   "source": [
    "myDict = {1:'a', 2:'b', 3:'c', 4:'d'}\n",
    "search = '1'\n",
    "\n",
    "if search in myDict:\n",
    "    myDict[search] = 'satu'\n",
    "\n",
    "print(myDict)\n"
   ]
  },
  {
   "cell_type": "markdown",
   "metadata": {},
   "source": [
    "## dua"
   ]
  },
  {
   "cell_type": "code",
   "execution_count": 2,
   "metadata": {},
   "outputs": [
    {
     "ename": "TypeError",
     "evalue": "unhashable type: 'list'",
     "output_type": "error",
     "traceback": [
      "\u001b[1;31m---------------------------------------------------------------------------\u001b[0m",
      "\u001b[1;31mTypeError\u001b[0m                                 Traceback (most recent call last)",
      "\u001b[1;32mc:\\Users\\adelya\\Downloads\\code\\ddp-1\\neither\\week_14.1.ipynb Cell 2\u001b[0m line \u001b[0;36m1\n\u001b[1;32m----> <a href='vscode-notebook-cell:/c%3A/Users/adelya/Downloads/code/ddp-1/neither/week_14.1.ipynb#W1sZmlsZQ%3D%3D?line=0'>1</a>\u001b[0m new_set\u001b[39m=\u001b[39m{[\u001b[39m'\u001b[39m\u001b[39ma\u001b[39m\u001b[39m'\u001b[39m,\u001b[39m'\u001b[39m\u001b[39mb\u001b[39m\u001b[39m'\u001b[39m,\u001b[39m1\u001b[39m,\u001b[39m2\u001b[39m,\u001b[39mNone\u001b[39;00m]}\n",
      "\u001b[1;31mTypeError\u001b[0m: unhashable type: 'list'"
     ]
    }
   ],
   "source": [
    "new_set={['a','b',1,2,None]}"
   ]
  },
  {
   "cell_type": "code",
   "execution_count": 5,
   "metadata": {},
   "outputs": [
    {
     "ename": "TypeError",
     "evalue": "unhashable type: 'dict'",
     "output_type": "error",
     "traceback": [
      "\u001b[1;31m---------------------------------------------------------------------------\u001b[0m",
      "\u001b[1;31mTypeError\u001b[0m                                 Traceback (most recent call last)",
      "\u001b[1;32mc:\\Users\\adelya\\Downloads\\code\\ddp-1\\neither\\week_14.1.ipynb Cell 4\u001b[0m line \u001b[0;36m1\n\u001b[1;32m----> <a href='vscode-notebook-cell:/c%3A/Users/adelya/Downloads/code/ddp-1/neither/week_14.1.ipynb#W2sZmlsZQ%3D%3D?line=0'>1</a>\u001b[0m new \u001b[39m=\u001b[39m \u001b[39mset\u001b[39;49m([\u001b[39m'\u001b[39;49m\u001b[39ma\u001b[39;49m\u001b[39m'\u001b[39;49m, \u001b[39m'\u001b[39;49m\u001b[39mb\u001b[39;49m\u001b[39m'\u001b[39;49m, \u001b[39m'\u001b[39;49m\u001b[39mc\u001b[39;49m\u001b[39m'\u001b[39;49m, {\u001b[39m'\u001b[39;49m\u001b[39musep\u001b[39;49m\u001b[39m'\u001b[39;49m:\u001b[39m1\u001b[39;49m,\u001b[39m'\u001b[39;49m\u001b[39mhuki\u001b[39;49m\u001b[39m'\u001b[39;49m:\u001b[39m3\u001b[39;49m}])\n",
      "\u001b[1;31mTypeError\u001b[0m: unhashable type: 'dict'"
     ]
    }
   ],
   "source": [
    "new = set(['a', 'b', 'c', {'usep':1,'huki':3}])"
   ]
  },
  {
   "cell_type": "code",
   "execution_count": null,
   "metadata": {},
   "outputs": [
    {
     "ename": "TypeError",
     "evalue": "unhashable type: 'set'",
     "output_type": "error",
     "traceback": [
      "\u001b[1;31m---------------------------------------------------------------------------\u001b[0m",
      "\u001b[1;31mTypeError\u001b[0m                                 Traceback (most recent call last)",
      "\u001b[1;32mc:\\Users\\adelya\\Downloads\\code\\ddp-1\\neither\\week_14.1.ipynb Cell 5\u001b[0m line \u001b[0;36m1\n\u001b[1;32m----> <a href='vscode-notebook-cell:/c%3A/Users/adelya/Downloads/code/ddp-1/neither/week_14.1.ipynb#W4sZmlsZQ%3D%3D?line=0'>1</a>\u001b[0m new \u001b[39m=\u001b[39m {\u001b[39m1\u001b[39m, {\u001b[39m2\u001b[39m, \u001b[39m3\u001b[39m, {\u001b[39m4\u001b[39m}}}\n",
      "\u001b[1;31mTypeError\u001b[0m: unhashable type: 'set'"
     ]
    }
   ],
   "source": [
    "new = {1, {2, 3, {4}}}"
   ]
  },
  {
   "cell_type": "code",
   "execution_count": 7,
   "metadata": {},
   "outputs": [
    {
     "ename": "TypeError",
     "evalue": "unhashable type: 'list'",
     "output_type": "error",
     "traceback": [
      "\u001b[1;31m---------------------------------------------------------------------------\u001b[0m",
      "\u001b[1;31mTypeError\u001b[0m                                 Traceback (most recent call last)",
      "\u001b[1;32mc:\\Users\\adelya\\Downloads\\code\\ddp-1\\neither\\week_14.1.ipynb Cell 6\u001b[0m line \u001b[0;36m1\n\u001b[1;32m----> <a href='vscode-notebook-cell:/c%3A/Users/adelya/Downloads/code/ddp-1/neither/week_14.1.ipynb#W5sZmlsZQ%3D%3D?line=0'>1</a>\u001b[0m new \u001b[39m=\u001b[39m {[x, x\u001b[39m+\u001b[39;49m\u001b[39m1\u001b[39;49m] \u001b[39mfor\u001b[39;49;00m x \u001b[39min\u001b[39;49;00m \u001b[39mrange\u001b[39;49m(\u001b[39m10\u001b[39;49m)}\n\u001b[0;32m      <a href='vscode-notebook-cell:/c%3A/Users/adelya/Downloads/code/ddp-1/neither/week_14.1.ipynb#W5sZmlsZQ%3D%3D?line=1'>2</a>\u001b[0m \u001b[39mprint\u001b[39m(new)\n\u001b[0;32m      <a href='vscode-notebook-cell:/c%3A/Users/adelya/Downloads/code/ddp-1/neither/week_14.1.ipynb#W5sZmlsZQ%3D%3D?line=2'>3</a>\u001b[0m \u001b[39mtype\u001b[39m(new)\n",
      "\u001b[1;32mc:\\Users\\adelya\\Downloads\\code\\ddp-1\\neither\\week_14.1.ipynb Cell 6\u001b[0m line \u001b[0;36m1\n\u001b[1;32m----> <a href='vscode-notebook-cell:/c%3A/Users/adelya/Downloads/code/ddp-1/neither/week_14.1.ipynb#W5sZmlsZQ%3D%3D?line=0'>1</a>\u001b[0m new \u001b[39m=\u001b[39m {[x, x\u001b[39m+\u001b[39m\u001b[39m1\u001b[39m] \u001b[39mfor\u001b[39;00m x \u001b[39min\u001b[39;00m \u001b[39mrange\u001b[39m(\u001b[39m10\u001b[39m)}\n\u001b[0;32m      <a href='vscode-notebook-cell:/c%3A/Users/adelya/Downloads/code/ddp-1/neither/week_14.1.ipynb#W5sZmlsZQ%3D%3D?line=1'>2</a>\u001b[0m \u001b[39mprint\u001b[39m(new)\n\u001b[0;32m      <a href='vscode-notebook-cell:/c%3A/Users/adelya/Downloads/code/ddp-1/neither/week_14.1.ipynb#W5sZmlsZQ%3D%3D?line=2'>3</a>\u001b[0m \u001b[39mtype\u001b[39m(new)\n",
      "\u001b[1;31mTypeError\u001b[0m: unhashable type: 'list'"
     ]
    }
   ],
   "source": [
    "new = {[x, x+1] for x in range(10)}\n",
    "print(new)\n",
    "type(new)"
   ]
  },
  {
   "cell_type": "code",
   "execution_count": 8,
   "metadata": {},
   "outputs": [
    {
     "name": "stdout",
     "output_type": "stream",
     "text": [
      "{(1, 2), ('a', 'b'), None}\n"
     ]
    },
    {
     "data": {
      "text/plain": [
       "set"
      ]
     },
     "execution_count": 8,
     "metadata": {},
     "output_type": "execute_result"
    }
   ],
   "source": [
    "new=set([('a','b'), (1,2), None])\n",
    "print(new)\n",
    "type(new)"
   ]
  },
  {
   "cell_type": "markdown",
   "metadata": {},
   "source": [
    "## tiga"
   ]
  },
  {
   "cell_type": "code",
   "execution_count": 9,
   "metadata": {},
   "outputs": [
    {
     "name": "stdout",
     "output_type": "stream",
     "text": [
      "{0: 20, 1: 19, 4: 18, 9: 17, 6: 16, 5: 15}\n"
     ]
    }
   ],
   "source": [
    "print({((x**2) % 10): x for x in range(21)})"
   ]
  },
  {
   "cell_type": "markdown",
   "metadata": {},
   "source": [
    "## empat"
   ]
  },
  {
   "cell_type": "code",
   "execution_count": 10,
   "metadata": {},
   "outputs": [
    {
     "name": "stdout",
     "output_type": "stream",
     "text": [
      "[1, 2, 3, 3, 2, 1, 1, 2, 3, 3, 2, 1]\n"
     ]
    }
   ],
   "source": [
    "l_1 = [1,2,3]\n",
    "l_2 = [3,2,1]\n",
    "l_3 = l_1 + l_2\n",
    "l_4 = l_3 * 2\n",
    "print(l_4)"
   ]
  },
  {
   "cell_type": "markdown",
   "metadata": {},
   "source": [
    "## lima"
   ]
  },
  {
   "cell_type": "code",
   "execution_count": 1,
   "metadata": {},
   "outputs": [],
   "source": [
    "def f(a,b):\n",
    "    if a<b:\n",
    "        return a\n",
    "    return f(a-b, b) # kelipatannya trs, sampai sisanya\n",
    "\n",
    "def g(a,b):\n",
    "    if a>b:\n",
    "        return g(a-1, b) + 1 # ini kalo handle nilai positif\n",
    "    if a<b:\n",
    "        return g(a, b-1) + 1 # handle nilai negatif\n",
    "\n",
    "    return 0\n",
    "\n",
    "# makanya absolut"
   ]
  },
  {
   "cell_type": "code",
   "execution_count": 2,
   "metadata": {},
   "outputs": [
    {
     "name": "stdout",
     "output_type": "stream",
     "text": [
      "2\n",
      "1\n"
     ]
    }
   ],
   "source": [
    "print(g(5,3))\n",
    "print(g(-3,-2))"
   ]
  },
  {
   "cell_type": "code",
   "execution_count": 16,
   "metadata": {},
   "outputs": [
    {
     "ename": "RecursionError",
     "evalue": "maximum recursion depth exceeded",
     "output_type": "error",
     "traceback": [
      "\u001b[1;31m---------------------------------------------------------------------------\u001b[0m",
      "\u001b[1;31mRecursionError\u001b[0m                            Traceback (most recent call last)",
      "\u001b[1;32mc:\\Users\\adelya\\Downloads\\code\\ddp-1\\neither\\week_14.1.ipynb Cell 15\u001b[0m line \u001b[0;36m1\n\u001b[1;32m----> <a href='vscode-notebook-cell:/c%3A/Users/adelya/Downloads/code/ddp-1/neither/week_14.1.ipynb#X24sZmlsZQ%3D%3D?line=0'>1</a>\u001b[0m \u001b[39mprint\u001b[39m(f(\u001b[39m5\u001b[39;49m, \u001b[39m0\u001b[39;49m))\n",
      "\u001b[1;32mc:\\Users\\adelya\\Downloads\\code\\ddp-1\\neither\\week_14.1.ipynb Cell 15\u001b[0m line \u001b[0;36m4\n\u001b[0;32m      <a href='vscode-notebook-cell:/c%3A/Users/adelya/Downloads/code/ddp-1/neither/week_14.1.ipynb#X24sZmlsZQ%3D%3D?line=1'>2</a>\u001b[0m \u001b[39mif\u001b[39;00m a\u001b[39m<\u001b[39mb:\n\u001b[0;32m      <a href='vscode-notebook-cell:/c%3A/Users/adelya/Downloads/code/ddp-1/neither/week_14.1.ipynb#X24sZmlsZQ%3D%3D?line=2'>3</a>\u001b[0m     \u001b[39mreturn\u001b[39;00m a\n\u001b[1;32m----> <a href='vscode-notebook-cell:/c%3A/Users/adelya/Downloads/code/ddp-1/neither/week_14.1.ipynb#X24sZmlsZQ%3D%3D?line=3'>4</a>\u001b[0m \u001b[39mreturn\u001b[39;00m f(a\u001b[39m-\u001b[39;49mb, b)\n",
      "\u001b[1;32mc:\\Users\\adelya\\Downloads\\code\\ddp-1\\neither\\week_14.1.ipynb Cell 15\u001b[0m line \u001b[0;36m4\n\u001b[0;32m      <a href='vscode-notebook-cell:/c%3A/Users/adelya/Downloads/code/ddp-1/neither/week_14.1.ipynb#X24sZmlsZQ%3D%3D?line=1'>2</a>\u001b[0m \u001b[39mif\u001b[39;00m a\u001b[39m<\u001b[39mb:\n\u001b[0;32m      <a href='vscode-notebook-cell:/c%3A/Users/adelya/Downloads/code/ddp-1/neither/week_14.1.ipynb#X24sZmlsZQ%3D%3D?line=2'>3</a>\u001b[0m     \u001b[39mreturn\u001b[39;00m a\n\u001b[1;32m----> <a href='vscode-notebook-cell:/c%3A/Users/adelya/Downloads/code/ddp-1/neither/week_14.1.ipynb#X24sZmlsZQ%3D%3D?line=3'>4</a>\u001b[0m \u001b[39mreturn\u001b[39;00m f(a\u001b[39m-\u001b[39;49mb, b)\n",
      "    \u001b[1;31m[... skipping similar frames: f at line 4 (2971 times)]\u001b[0m\n",
      "\u001b[1;32mc:\\Users\\adelya\\Downloads\\code\\ddp-1\\neither\\week_14.1.ipynb Cell 15\u001b[0m line \u001b[0;36m4\n\u001b[0;32m      <a href='vscode-notebook-cell:/c%3A/Users/adelya/Downloads/code/ddp-1/neither/week_14.1.ipynb#X24sZmlsZQ%3D%3D?line=1'>2</a>\u001b[0m \u001b[39mif\u001b[39;00m a\u001b[39m<\u001b[39mb:\n\u001b[0;32m      <a href='vscode-notebook-cell:/c%3A/Users/adelya/Downloads/code/ddp-1/neither/week_14.1.ipynb#X24sZmlsZQ%3D%3D?line=2'>3</a>\u001b[0m     \u001b[39mreturn\u001b[39;00m a\n\u001b[1;32m----> <a href='vscode-notebook-cell:/c%3A/Users/adelya/Downloads/code/ddp-1/neither/week_14.1.ipynb#X24sZmlsZQ%3D%3D?line=3'>4</a>\u001b[0m \u001b[39mreturn\u001b[39;00m f(a\u001b[39m-\u001b[39;49mb, b)\n",
      "\u001b[1;31mRecursionError\u001b[0m: maximum recursion depth exceeded"
     ]
    }
   ],
   "source": [
    "print(f(5, 0))"
   ]
  },
  {
   "cell_type": "code",
   "execution_count": 17,
   "metadata": {},
   "outputs": [
    {
     "name": "stdout",
     "output_type": "stream",
     "text": [
      "1\n"
     ]
    }
   ],
   "source": [
    "print(f(10, 3))"
   ]
  },
  {
   "cell_type": "code",
   "execution_count": 18,
   "metadata": {},
   "outputs": [
    {
     "name": "stdout",
     "output_type": "stream",
     "text": [
      "2\n"
     ]
    }
   ],
   "source": [
    "print(g(-5, -3))"
   ]
  },
  {
   "cell_type": "markdown",
   "metadata": {},
   "source": [
    "## enam"
   ]
  },
  {
   "cell_type": "code",
   "execution_count": 3,
   "metadata": {},
   "outputs": [],
   "source": [
    "def issublist(lst, other_lst):\n",
    "    if len(lst)==0:\n",
    "        return True\n",
    "    if len(other_lst)==0:\n",
    "        return False\n",
    "    if lst[0] == other_lst[0]:\n",
    "        return issublist(lst[1:], other_lst)\n",
    "    else:\n",
    "        return issublist(lst, other_lst[1:])"
   ]
  },
  {
   "cell_type": "code",
   "execution_count": 4,
   "metadata": {},
   "outputs": [
    {
     "data": {
      "text/plain": [
       "True"
      ]
     },
     "execution_count": 4,
     "metadata": {},
     "output_type": "execute_result"
    }
   ],
   "source": [
    "issublist([1,5,2],[4,1,5,3,2])"
   ]
  },
  {
   "cell_type": "code",
   "execution_count": 5,
   "metadata": {},
   "outputs": [
    {
     "data": {
      "text/plain": [
       "False"
      ]
     },
     "execution_count": 5,
     "metadata": {},
     "output_type": "execute_result"
    }
   ],
   "source": [
    "issublist([1,3],[3,6,2,1])"
   ]
  },
  {
   "cell_type": "code",
   "execution_count": 6,
   "metadata": {},
   "outputs": [
    {
     "data": {
      "text/plain": [
       "False"
      ]
     },
     "execution_count": 6,
     "metadata": {},
     "output_type": "execute_result"
    }
   ],
   "source": [
    "issublist([3,2,5], [3,6,4,5])"
   ]
  },
  {
   "cell_type": "markdown",
   "metadata": {},
   "source": [
    "## tujuh"
   ]
  },
  {
   "cell_type": "markdown",
   "metadata": {},
   "source": [
    "overloading: funsgi yg namanya sama parameternya beda. f di class b itu nurunin dari f yang ada di kelas a"
   ]
  },
  {
   "cell_type": "markdown",
   "metadata": {},
   "source": [
    "## delapan"
   ]
  },
  {
   "cell_type": "markdown",
   "metadata": {},
   "source": [
    "(a bner)\n",
    "gk ada yg private\n",
    "kurir gk ada attr\n",
    "sama kok kaya ap ag ditulis (d bner)\n",
    "(e bner) soalnya return self_list nya 1 (di method ke dua)\n",
    "tp di else method pertama jg return self_list makanya satu atau dua ttr"
   ]
  },
  {
   "cell_type": "markdown",
   "metadata": {},
   "source": [
    "## sembilan"
   ]
  },
  {
   "cell_type": "markdown",
   "metadata": {},
   "source": [
    "a bner\n",
    "\n",
    "poly: dh nururnin trs diubah (class b) b bner\n",
    "\n",
    "c slah\n",
    "\n",
    "d slah\n",
    "\n",
    "e slah"
   ]
  },
  {
   "cell_type": "markdown",
   "metadata": {},
   "source": [
    "## sepuluh"
   ]
  },
  {
   "cell_type": "markdown",
   "metadata": {},
   "source": [
    "a1 = hi\n",
    "a2 = hi\n",
    "a3 = hi\n",
    "\n",
    "trs diubah\n",
    "a1 = there\n",
    "satu kls diubah jadi fore\n",
    "a2= fore\n",
    "a3=fore (dr python, meskipun class ny kebuah, a1 nya tetep)\n",
    "\n",
    "a3 = there fore"
   ]
  },
  {
   "cell_type": "markdown",
   "metadata": {},
   "source": [
    "## sebelas"
   ]
  },
  {
   "cell_type": "markdown",
   "metadata": {},
   "source": [
    "c inherit b, b inherit a, a return 5\n",
    "\n",
    "pokoknya c, d, itu 3,3. karna total 26, e harus 20"
   ]
  },
  {
   "cell_type": "markdown",
   "metadata": {},
   "source": [
    "## dua belas"
   ]
  },
  {
   "cell_type": "markdown",
   "metadata": {},
   "source": [
    "overloading: fungsi sama tp parameternya beda (bisa diapus, ditambahin)\n",
    "overriding: fungsi sama, tp isi (block of codenya) berbeda\n",
    "\n",
    "cara ngeliat: coba cari method yang sama, trs liat class nya itu inherit class dari fungsi yang sama ga\n",
    "\n",
    "jawaban: tdk ada yg overriding"
   ]
  },
  {
   "cell_type": "markdown",
   "metadata": {},
   "source": [
    "## lima belas"
   ]
  },
  {
   "cell_type": "markdown",
   "metadata": {},
   "source": [
    "jawabannya bner"
   ]
  },
  {
   "cell_type": "code",
   "execution_count": null,
   "metadata": {},
   "outputs": [],
   "source": []
  }
 ],
 "metadata": {
  "kernelspec": {
   "display_name": "Python 3 (ipykernel)",
   "language": "python",
   "name": "python3"
  },
  "language_info": {
   "codemirror_mode": {
    "name": "ipython",
    "version": 3
   },
   "file_extension": ".py",
   "mimetype": "text/x-python",
   "name": "python",
   "nbconvert_exporter": "python",
   "pygments_lexer": "ipython3",
   "version": "3.11.4"
  }
 },
 "nbformat": 4,
 "nbformat_minor": 2
}
