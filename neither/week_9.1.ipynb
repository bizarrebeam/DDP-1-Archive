{
 "cells": [
  {
   "cell_type": "markdown",
   "id": "ac1d6ae1",
   "metadata": {},
   "source": [
    "list: mutable, index, duplicate\n",
    "\n",
    "tuple: immutable, index, duplicate\n",
    "\n",
    "set: mutable, index not guaranteed, not duplicate"
   ]
  },
  {
   "cell_type": "markdown",
   "id": "490a4d3f",
   "metadata": {},
   "source": [
    "## access both key and value"
   ]
  },
  {
   "cell_type": "markdown",
   "id": "9c130ced",
   "metadata": {},
   "source": [
    "not that dictname.items() access both key and value, but the way we call it matters....."
   ]
  },
  {
   "cell_type": "code",
   "execution_count": 1,
   "id": "0c87e31b",
   "metadata": {},
   "outputs": [
    {
     "name": "stdout",
     "output_type": "stream",
     "text": [
      "name:Ian\n",
      "health:219\n",
      "strength:199\n",
      "equipped:Axe\n"
     ]
    }
   ],
   "source": [
    "myDictionary = {\"name\" : \"Ian\", \"health\": 219, \"strength\": 199, \"equipped\": \"Axe\"}\n",
    "\n",
    "for name,value in myDictionary.items():\n",
    "    print(f\"{name}:{value}\")"
   ]
  },
  {
   "cell_type": "markdown",
   "id": "1ff86309",
   "metadata": {},
   "source": [
    "## access key"
   ]
  },
  {
   "cell_type": "markdown",
   "id": "f475545d",
   "metadata": {},
   "source": [
    "iterate manually lmao"
   ]
  },
  {
   "cell_type": "markdown",
   "id": "2e39c645",
   "metadata": {},
   "source": [
    "myDictionary = {\"name\" : \"Ian\", \"health\": 219, \"strength\": 199, \"equipped\": \"Axe\"}\n",
    "\n",
    "for i in myDictionary:\n",
    "    print(myDictionary[i])"
   ]
  },
  {
   "cell_type": "markdown",
   "id": "e603c4a7",
   "metadata": {},
   "source": [
    "## access value"
   ]
  },
  {
   "cell_type": "markdown",
   "id": "914ed766",
   "metadata": {},
   "source": [
    "using .values() method"
   ]
  },
  {
   "cell_type": "code",
   "execution_count": 3,
   "id": "92882432",
   "metadata": {},
   "outputs": [
    {
     "name": "stdout",
     "output_type": "stream",
     "text": [
      "Ian\n",
      "219\n",
      "199\n",
      "Axe\n"
     ]
    }
   ],
   "source": [
    "myDictionary = {\"name\" : \"Ian\", \"health\": 219, \"strength\": 199, \"equipped\": \"Axe\"}\n",
    "\n",
    "for value in myDictionary.values():\n",
    "    print(value)"
   ]
  },
  {
   "cell_type": "code",
   "execution_count": 6,
   "id": "29d82d5e",
   "metadata": {},
   "outputs": [],
   "source": [
    "nums_tuple = ((\"a\",1),(\"b\",2),(\"c\",3))"
   ]
  },
  {
   "cell_type": "code",
   "execution_count": 7,
   "id": "fc481bbe",
   "metadata": {},
   "outputs": [
    {
     "data": {
      "text/plain": [
       "1"
      ]
     },
     "execution_count": 7,
     "metadata": {},
     "output_type": "execute_result"
    }
   ],
   "source": [
    "nums_tuple[0][1]"
   ]
  },
  {
   "cell_type": "code",
   "execution_count": 9,
   "id": "998959ae",
   "metadata": {},
   "outputs": [],
   "source": [
    "nums_dict = dict(nums_tuple)"
   ]
  },
  {
   "cell_type": "code",
   "execution_count": 11,
   "id": "dab1aa15",
   "metadata": {},
   "outputs": [
    {
     "data": {
      "text/plain": [
       "3"
      ]
     },
     "execution_count": 11,
     "metadata": {},
     "output_type": "execute_result"
    }
   ],
   "source": [
    "nums_dict.pop(\"c\")"
   ]
  },
  {
   "cell_type": "code",
   "execution_count": 12,
   "id": "1fa2b9ce",
   "metadata": {},
   "outputs": [
    {
     "data": {
      "text/plain": [
       "{'a': 1, 'b': 2}"
      ]
     },
     "execution_count": 12,
     "metadata": {},
     "output_type": "execute_result"
    }
   ],
   "source": [
    "nums_dict"
   ]
  },
  {
   "cell_type": "code",
   "execution_count": 16,
   "id": "6a4267ea",
   "metadata": {},
   "outputs": [
    {
     "ename": "TypeError",
     "evalue": "unhashable type: 'list'",
     "output_type": "error",
     "traceback": [
      "\u001b[1;31m---------------------------------------------------------------------------\u001b[0m",
      "\u001b[1;31mTypeError\u001b[0m                                 Traceback (most recent call last)",
      "Cell \u001b[1;32mIn[16], line 1\u001b[0m\n\u001b[1;32m----> 1\u001b[0m a_dict \u001b[38;5;241m=\u001b[39m {[\u001b[38;5;241m1\u001b[39m,\u001b[38;5;241m2\u001b[39m]:\u001b[38;5;124m\"\u001b[39m\u001b[38;5;124m3\u001b[39m\u001b[38;5;124m\"\u001b[39m, [\u001b[38;5;241m4\u001b[39m,\u001b[38;5;241m5\u001b[39m]:\u001b[38;5;124m\"\u001b[39m\u001b[38;5;124m6\u001b[39m\u001b[38;5;124m\"\u001b[39m}\n",
      "\u001b[1;31mTypeError\u001b[0m: unhashable type: 'list'"
     ]
    }
   ],
   "source": [
    "a_dict = {[1,2]:\"3\", [4,5]:\"6\"}"
   ]
  },
  {
   "cell_type": "markdown",
   "id": "69aa168d",
   "metadata": {},
   "source": [
    "## which datatype could be the key?"
   ]
  },
  {
   "cell_type": "markdown",
   "id": "aaf219df",
   "metadata": {},
   "source": [
    "gabisa karena key nya adalah list yg mutable, bisa diotak atik. beda dgn pake tuple yg dia immutable"
   ]
  },
  {
   "cell_type": "code",
   "execution_count": 17,
   "id": "57807060",
   "metadata": {},
   "outputs": [],
   "source": [
    "b_dict = {(1,2):\"3\", (4,5):\"6\"}"
   ]
  },
  {
   "cell_type": "markdown",
   "id": "c945de76",
   "metadata": {},
   "source": [
    "nah dia bisa, mau pake tuple as values"
   ]
  },
  {
   "cell_type": "code",
   "execution_count": 18,
   "id": "78a01389",
   "metadata": {},
   "outputs": [
    {
     "name": "stdout",
     "output_type": "stream",
     "text": [
      "{1: 1, 2: 8, 3: 27}\n"
     ]
    }
   ],
   "source": [
    "x = {}\n",
    "for i in range(1,4):\n",
    "    x[i] = i**3\n",
    "print(x)"
   ]
  },
  {
   "cell_type": "code",
   "execution_count": 19,
   "id": "6500d884",
   "metadata": {},
   "outputs": [],
   "source": [
    "b_dict = {\"a\":1, \"a\":2, \"b\": 3}"
   ]
  },
  {
   "cell_type": "code",
   "execution_count": 20,
   "id": "5c85386a",
   "metadata": {},
   "outputs": [
    {
     "data": {
      "text/plain": [
       "2"
      ]
     },
     "execution_count": 20,
     "metadata": {},
     "output_type": "execute_result"
    }
   ],
   "source": [
    "b_dict[\"a\"]"
   ]
  },
  {
   "cell_type": "code",
   "execution_count": 21,
   "id": "b9518ce2",
   "metadata": {},
   "outputs": [
    {
     "data": {
      "text/plain": [
       "2"
      ]
     },
     "execution_count": 21,
     "metadata": {},
     "output_type": "execute_result"
    }
   ],
   "source": [
    "b_dict.pop(\"a\")"
   ]
  },
  {
   "cell_type": "code",
   "execution_count": 22,
   "id": "97a3736d",
   "metadata": {},
   "outputs": [
    {
     "data": {
      "text/plain": [
       "{'b': 3}"
      ]
     },
     "execution_count": 22,
     "metadata": {},
     "output_type": "execute_result"
    }
   ],
   "source": [
    "b_dict"
   ]
  },
  {
   "cell_type": "code",
   "execution_count": 23,
   "id": "9cd49ae8",
   "metadata": {},
   "outputs": [],
   "source": [
    "b_dict[\"c\"] = 4"
   ]
  },
  {
   "cell_type": "code",
   "execution_count": 24,
   "id": "de9bf066",
   "metadata": {},
   "outputs": [
    {
     "data": {
      "text/plain": [
       "{'b': 3, 'c': 4}"
      ]
     },
     "execution_count": 24,
     "metadata": {},
     "output_type": "execute_result"
    }
   ],
   "source": [
    "b_dict"
   ]
  },
  {
   "cell_type": "code",
   "execution_count": null,
   "id": "9f20843e",
   "metadata": {},
   "outputs": [],
   "source": []
  }
 ],
 "metadata": {
  "kernelspec": {
   "display_name": "Python 3 (ipykernel)",
   "language": "python",
   "name": "python3"
  },
  "language_info": {
   "codemirror_mode": {
    "name": "ipython",
    "version": 3
   },
   "file_extension": ".py",
   "mimetype": "text/x-python",
   "name": "python",
   "nbconvert_exporter": "python",
   "pygments_lexer": "ipython3",
   "version": "3.11.4"
  }
 },
 "nbformat": 4,
 "nbformat_minor": 5
}
