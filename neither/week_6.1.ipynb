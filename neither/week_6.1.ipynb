{
 "cells": [
  {
   "cell_type": "code",
   "execution_count": 1,
   "id": "80b1eff8",
   "metadata": {},
   "outputs": [],
   "source": [
    "x = open(\"out.txt\", \"w\")\n",
    "x.write(\"be\\npatient\")\n",
    "x.close()\n",
    "x = open(\"out.txt\", \"w\")\n",
    "x.write(\"this is a\\ntest\")\n",
    "x.close()"
   ]
  },
  {
   "cell_type": "code",
   "execution_count": 4,
   "id": "ba69b3a1",
   "metadata": {},
   "outputs": [
    {
     "name": "stdout",
     "output_type": "stream",
     "text": [
      "ValueError saat memproses satu\n",
      "Berhasil memproses 2\n",
      "Berhasil memproses 3\n"
     ]
    }
   ],
   "source": [
    "var_a = [\"satu\", 2, \"3\"]\n",
    "for x in var_a:\n",
    "    try:\n",
    "        b = int(x)\n",
    "        print(\"Berhasil memproses\", x)\n",
    "    except ValueError:\n",
    "        print(\"ValueError saat memproses\", x)"
   ]
  },
  {
   "cell_type": "code",
   "execution_count": 5,
   "id": "7cafb123",
   "metadata": {},
   "outputs": [],
   "source": [
    "a = 0\n",
    "\n",
    "if a == 0:\n",
    "    b = 1\n",
    "    \n",
    "def my_func(c):\n",
    "    d = 3\n",
    "    print(c)\n",
    "    print(d)\n",
    "\n"
   ]
  },
  {
   "cell_type": "code",
   "execution_count": 6,
   "id": "87868143",
   "metadata": {},
   "outputs": [
    {
     "name": "stdout",
     "output_type": "stream",
     "text": [
      "7\n",
      "3\n"
     ]
    }
   ],
   "source": [
    "my_func(7)"
   ]
  },
  {
   "cell_type": "code",
   "execution_count": 8,
   "id": "ff26f757",
   "metadata": {},
   "outputs": [
    {
     "name": "stdout",
     "output_type": "stream",
     "text": [
      "0\n",
      "1\n"
     ]
    },
    {
     "ename": "NameError",
     "evalue": "name 'd' is not defined",
     "output_type": "error",
     "traceback": [
      "\u001b[1;31m---------------------------------------------------------------------------\u001b[0m",
      "\u001b[1;31mNameError\u001b[0m                                 Traceback (most recent call last)",
      "Cell \u001b[1;32mIn[8], line 4\u001b[0m\n\u001b[0;32m      2\u001b[0m \u001b[38;5;28mprint\u001b[39m(b)\n\u001b[0;32m      3\u001b[0m \u001b[38;5;66;03m#print(c)\u001b[39;00m\n\u001b[1;32m----> 4\u001b[0m \u001b[38;5;28mprint\u001b[39m(\u001b[43md\u001b[49m)\n",
      "\u001b[1;31mNameError\u001b[0m: name 'd' is not defined"
     ]
    }
   ],
   "source": [
    "print(a)\n",
    "print(b)\n",
    "#print(c)\n",
    "print(d)"
   ]
  },
  {
   "cell_type": "code",
   "execution_count": null,
   "id": "f21e9e4e",
   "metadata": {},
   "outputs": [],
   "source": []
  }
 ],
 "metadata": {
  "kernelspec": {
   "display_name": "Python 3 (ipykernel)",
   "language": "python",
   "name": "python3"
  },
  "language_info": {
   "codemirror_mode": {
    "name": "ipython",
    "version": 3
   },
   "file_extension": ".py",
   "mimetype": "text/x-python",
   "name": "python",
   "nbconvert_exporter": "python",
   "pygments_lexer": "ipython3",
   "version": "3.11.4"
  }
 },
 "nbformat": 4,
 "nbformat_minor": 5
}
