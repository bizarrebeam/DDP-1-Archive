{
 "cells": [
  {
   "cell_type": "code",
   "execution_count": 1,
   "id": "ac266f94",
   "metadata": {},
   "outputs": [],
   "source": [
    "me = 'the quick brown fox jumps over the lazy dog'"
   ]
  },
  {
   "cell_type": "code",
   "execution_count": 2,
   "id": "f4d90137",
   "metadata": {},
   "outputs": [
    {
     "data": {
      "text/plain": [
       "5"
      ]
     },
     "execution_count": 2,
     "metadata": {},
     "output_type": "execute_result"
    }
   ],
   "source": [
    "me.find('ui')"
   ]
  },
  {
   "cell_type": "code",
   "execution_count": 3,
   "id": "a05e156e",
   "metadata": {},
   "outputs": [
    {
     "data": {
      "text/plain": [
       "True"
      ]
     },
     "execution_count": 3,
     "metadata": {},
     "output_type": "execute_result"
    }
   ],
   "source": [
    "'ui' in me"
   ]
  },
  {
   "cell_type": "code",
   "execution_count": 5,
   "id": "936723ce",
   "metadata": {},
   "outputs": [],
   "source": [
    "radiohead = {'in rainbow':['jigsaw falling', 'recknoner'], 'the bends':'fake plastic tree'}"
   ]
  },
  {
   "cell_type": "code",
   "execution_count": 6,
   "id": "cfd04dfb",
   "metadata": {},
   "outputs": [
    {
     "data": {
      "text/plain": [
       "False"
      ]
     },
     "execution_count": 6,
     "metadata": {},
     "output_type": "execute_result"
    }
   ],
   "source": [
    "'one' in radiohead"
   ]
  },
  {
   "cell_type": "code",
   "execution_count": 10,
   "id": "3f0ae7e1",
   "metadata": {},
   "outputs": [],
   "source": [
    "def myfunc(radiohead):\n",
    "    for key, value in radiohead.items():\n",
    "        if 'one' in key or 'one' in value:\n",
    "            return True"
   ]
  },
  {
   "cell_type": "code",
   "execution_count": 11,
   "id": "ecee2f5e",
   "metadata": {},
   "outputs": [],
   "source": [
    "myfunc(radiohead)"
   ]
  },
  {
   "cell_type": "code",
   "execution_count": 12,
   "id": "6963313d",
   "metadata": {},
   "outputs": [
    {
     "name": "stdout",
     "output_type": "stream",
     "text": [
      "Substring 'one' found in the dictionary.\n"
     ]
    }
   ],
   "source": [
    "radiohead = {'in rainbow': ['jigsaw falling', 'recknoner'], 'the bends': 'fake plastic tree'}\n",
    "\n",
    "substring = 'one'\n",
    "\n",
    "# Iterate through the values in the dictionary\n",
    "for value in radiohead.values():\n",
    "    # Check if the substring is present in the current value\n",
    "    if isinstance(value, list):\n",
    "        # If the value is a list, check each element in the list\n",
    "        if any(substring in element for element in value):\n",
    "            print(f\"Substring '{substring}' found in the dictionary.\")\n",
    "            break  # Stop searching once the substring is found\n",
    "    elif isinstance(value, str):\n",
    "        # If the value is a string, check if the substring is present\n",
    "        if substring in value:\n",
    "            print(f\"Substring '{substring}' found in the dictionary.\")\n",
    "            break  # Stop searching once the substring is found\n",
    "else:\n",
    "    print(f\"Substring '{substring}' not found in the dictionary.\")\n"
   ]
  },
  {
   "cell_type": "code",
   "execution_count": null,
   "id": "50ae6ea0",
   "metadata": {},
   "outputs": [],
   "source": []
  }
 ],
 "metadata": {
  "kernelspec": {
   "display_name": "Python 3 (ipykernel)",
   "language": "python",
   "name": "python3"
  },
  "language_info": {
   "codemirror_mode": {
    "name": "ipython",
    "version": 3
   },
   "file_extension": ".py",
   "mimetype": "text/x-python",
   "name": "python",
   "nbconvert_exporter": "python",
   "pygments_lexer": "ipython3",
   "version": "3.11.4"
  }
 },
 "nbformat": 4,
 "nbformat_minor": 5
}
