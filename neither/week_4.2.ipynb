{
 "cells": [
  {
   "cell_type": "code",
   "execution_count": null,
   "id": "dbc86649",
   "metadata": {},
   "outputs": [],
   "source": [
    "print(\"jjur gweh gatau /\n",
    "\"karena gweh nyoba aj\")"
   ]
  },
  {
   "cell_type": "code",
   "execution_count": null,
   "id": "6c55d16b",
   "metadata": {},
   "outputs": [],
   "source": [
    "chr(8) #int to chr"
   ]
  },
  {
   "cell_type": "code",
   "execution_count": null,
   "id": "accd7987",
   "metadata": {},
   "outputs": [],
   "source": [
    "ord(\"z\") #chr to int"
   ]
  },
  {
   "cell_type": "code",
   "execution_count": null,
   "id": "c8d59226",
   "metadata": {},
   "outputs": [],
   "source": [
    "i = \"hello world\""
   ]
  },
  {
   "cell_type": "code",
   "execution_count": null,
   "id": "1ff4a2df",
   "metadata": {},
   "outputs": [],
   "source": [
    "i[9]"
   ]
  },
  {
   "cell_type": "code",
   "execution_count": null,
   "id": "e259d9a3",
   "metadata": {},
   "outputs": [],
   "source": [
    "i[::-1]"
   ]
  },
  {
   "cell_type": "code",
   "execution_count": null,
   "id": "3bbc48a6",
   "metadata": {},
   "outputs": [],
   "source": [
    "i[::-2]"
   ]
  },
  {
   "cell_type": "code",
   "execution_count": null,
   "id": "b1abe80e",
   "metadata": {},
   "outputs": [],
   "source": [
    "i[3:-2]"
   ]
  },
  {
   "cell_type": "code",
   "execution_count": null,
   "id": "f70775b2",
   "metadata": {},
   "outputs": [],
   "source": [
    "i[-3:2]"
   ]
  },
  {
   "cell_type": "code",
   "execution_count": null,
   "id": "f168d42e",
   "metadata": {},
   "outputs": [],
   "source": [
    "i[:2]"
   ]
  },
  {
   "cell_type": "code",
   "execution_count": null,
   "id": "7af9e8f0",
   "metadata": {},
   "outputs": [],
   "source": [
    "j = \"Dasar-Dasar Powerpoint\""
   ]
  },
  {
   "cell_type": "code",
   "execution_count": null,
   "id": "54e4b0a9",
   "metadata": {},
   "outputs": [],
   "source": [
    "j[:11]"
   ]
  },
  {
   "cell_type": "code",
   "execution_count": null,
   "id": "1e1d07f8",
   "metadata": {},
   "outputs": [],
   "source": [
    "j[4:]"
   ]
  },
  {
   "cell_type": "code",
   "execution_count": null,
   "id": "860273d7",
   "metadata": {},
   "outputs": [],
   "source": [
    "j[::4]"
   ]
  },
  {
   "cell_type": "code",
   "execution_count": null,
   "id": "839b1ea2",
   "metadata": {},
   "outputs": [],
   "source": [
    "i[1:2:4]"
   ]
  },
  {
   "cell_type": "code",
   "execution_count": null,
   "id": "bacac47a",
   "metadata": {},
   "outputs": [],
   "source": [
    "hello world"
   ]
  },
  {
   "cell_type": "code",
   "execution_count": null,
   "id": "a408423b",
   "metadata": {},
   "outputs": [],
   "source": [
    "hello_str = 'Hello World'\n",
    "for index, ch in enumerate(hello_str):\n",
    "    print(index, ch)"
   ]
  },
  {
   "cell_type": "code",
   "execution_count": null,
   "id": "da207b34",
   "metadata": {},
   "outputs": [],
   "source": [
    "\"b\" > \"B\""
   ]
  },
  {
   "cell_type": "code",
   "execution_count": null,
   "id": "ac0c9b2b",
   "metadata": {},
   "outputs": [],
   "source": []
  },
  {
   "cell_type": "code",
   "execution_count": null,
   "id": "189b04f3",
   "metadata": {},
   "outputs": [],
   "source": [
    "\"bca\" < \"bab\""
   ]
  },
  {
   "cell_type": "code",
   "execution_count": null,
   "id": "4c5408c4",
   "metadata": {},
   "outputs": [],
   "source": [
    "s = \"python\""
   ]
  },
  {
   "cell_type": "code",
   "execution_count": null,
   "id": "8e9b33f2",
   "metadata": {},
   "outputs": [],
   "source": [
    "for i in range(len(s)-1):\n",
    "    print(f\"s[{i}] < s[{i+1}]\")"
   ]
  },
  {
   "cell_type": "code",
   "execution_count": null,
   "id": "17cd5ba4",
   "metadata": {},
   "outputs": [],
   "source": [
    "s = 'indonesia merdeka'\n",
    "print(s.title())\n",
    "print(s.count('d'))\n",
    "print(s.find('o'))\n",
    "print(s.find('nes'))\n",
    "print(s.find('xyz')) # prints -1\n",
    "print(s.index('o'))\n",
    "print(s.index('nes'))\n",
    "print(s.index('xyz')) # raise ValueError"
   ]
  },
  {
   "cell_type": "code",
   "execution_count": null,
   "id": "885589dd",
   "metadata": {},
   "outputs": [],
   "source": [
    "s = 'indonesia merdeka'\n",
    "print(s.replace('e','a'))\n",
    "print(s.replace('merdeka','jaya'))\n",
    "print(s.split()) # ['indonesia','merdeka']\n",
    "print('#'.join(['indonesia','merdeka']))"
   ]
  },
  {
   "cell_type": "code",
   "execution_count": null,
   "id": "d6ef0bfe",
   "metadata": {},
   "outputs": [],
   "source": [
    "i = 3.1413455\n",
    "print(f\"hello{i:.3f}\")"
   ]
  },
  {
   "cell_type": "code",
   "execution_count": null,
   "id": "896c8537",
   "metadata": {},
   "outputs": [],
   "source": [
    "i = int(input(\"size: \"))\n",
    "for j in range(1, i + 1):\n",
    "    for k in range(1, i + 1):\n",
    "        sqrt = j * k\n",
    "        print(f'{j} * {k} = {sqrt}'.expandtabs(10))\n",
    "    print()  \n"
   ]
  },
  {
   "cell_type": "code",
   "execution_count": null,
   "id": "ce4600b0",
   "metadata": {},
   "outputs": [],
   "source": [
    "for a in range (1,11):\n",
    "    b = a * a \n",
    "    print(f\"{a:2} * {a:2} = {b:3}\")"
   ]
  },
  {
   "cell_type": "code",
   "execution_count": 4,
   "id": "3f768ba6",
   "metadata": {},
   "outputs": [],
   "source": [
    "import random\n",
    "\n",
    "nugas = [\"ica', 'del', 'ina\"]\n",
    "tugas = ['analisis', \"2 pie chart\", \"error chart\"]"
   ]
  },
  {
   "cell_type": "code",
   "execution_count": 5,
   "id": "2cdd3147",
   "metadata": {},
   "outputs": [
    {
     "data": {
      "text/plain": [
       "\"ica', 'del', 'ina\""
      ]
     },
     "execution_count": 5,
     "metadata": {},
     "output_type": "execute_result"
    }
   ],
   "source": [
    "random.choice(nugas) "
   ]
  },
  {
   "cell_type": "code",
   "execution_count": 6,
   "id": "8e760a93",
   "metadata": {},
   "outputs": [
    {
     "data": {
      "text/plain": [
       "'error chart'"
      ]
     },
     "execution_count": 6,
     "metadata": {},
     "output_type": "execute_result"
    }
   ],
   "source": [
    "random.choice(tugas)"
   ]
  },
  {
   "cell_type": "code",
   "execution_count": 10,
   "id": "f0def080",
   "metadata": {},
   "outputs": [
    {
     "name": "stdout",
     "output_type": "stream",
     "text": [
      "50 45 40 35 30 25 20 15 10 5 0 -5 "
     ]
    }
   ],
   "source": [
    "for i in range(50, -6, -5):\n",
    "    print(i, end = \" \")"
   ]
  },
  {
   "cell_type": "code",
   "execution_count": 11,
   "id": "0f840df8",
   "metadata": {},
   "outputs": [
    {
     "name": "stdout",
     "output_type": "stream",
     "text": [
      "6 12 14 6 2 "
     ]
    }
   ],
   "source": [
    "data = [3, 4, 7, 2, 1]\n",
    "for i in range(len(data)):\n",
    "    if i % 2 == 0:\n",
    "        print(data[i] * 2, end = \" \")\n",
    "    else:\n",
    "        print(data[i] * 3, end = \" \")"
   ]
  },
  {
   "cell_type": "code",
   "execution_count": 13,
   "id": "a0e823f6",
   "metadata": {},
   "outputs": [
    {
     "name": "stdout",
     "output_type": "stream",
     "text": [
      "masukkan tahun 1900\n",
      "bukan kabisat\n"
     ]
    }
   ],
   "source": [
    "tahun = int (input (\"masukkan tahun \"))\n",
    "if tahun % 400 == 0:\n",
    "    print (\"kabisat\")\n",
    "elif tahun % 4 == 0:\n",
    "    if tahun % 100 != 0:\n",
    "        print (\"kabisat\")\n",
    "    else:\n",
    "        print(\"bukan kabisat\")\n",
    "else:\n",
    "    print (\"bukan kabisat\")"
   ]
  },
  {
   "cell_type": "code",
   "execution_count": 14,
   "id": "ef6162a3",
   "metadata": {},
   "outputs": [
    {
     "name": "stdout",
     "output_type": "stream",
     "text": [
      "masukkan bilangan 11\n",
      "11\n"
     ]
    }
   ],
   "source": [
    "n = int (input (\"masukkan bilangan \"))\n",
    "flag = True\n",
    "i = 2\n",
    "while (i<n and flag == True):\n",
    "    if n%i == 0:\n",
    "        flag = False\n",
    "    i += 1\n",
    "if flag == True:\n",
    "    print (n)"
   ]
  },
  {
   "cell_type": "code",
   "execution_count": 17,
   "id": "43554ddf",
   "metadata": {},
   "outputs": [
    {
     "name": "stdout",
     "output_type": "stream",
     "text": [
      "npm: 2306165616\n",
      "60\n"
     ]
    }
   ],
   "source": [
    "score = input(\"npm: \")\n",
    "mystery = 0\n",
    "\n",
    "for i in score:\n",
    "    if int(chara) == 9:\n",
    "        break\n",
    "    if int(chara) % 2 > 0:\n",
    "        continue\n",
    "    else: mystery += int(chara)\n",
    "\n",
    "print(mystery)"
   ]
  },
  {
   "cell_type": "code",
   "execution_count": 23,
   "id": "89050c18",
   "metadata": {},
   "outputs": [
    {
     "name": "stdout",
     "output_type": "stream",
     "text": [
      "pemogaman\n"
     ]
    }
   ],
   "source": [
    "word = \"pemrograman\"\n",
    "print(word.replace(\"r\", \"\"))\n"
   ]
  },
  {
   "cell_type": "code",
   "execution_count": 21,
   "id": "552a5b03",
   "metadata": {},
   "outputs": [
    {
     "ename": "TypeError",
     "evalue": "'str' object does not support item assignment",
     "output_type": "error",
     "traceback": [
      "\u001b[1;31m---------------------------------------------------------------------------\u001b[0m",
      "\u001b[1;31mTypeError\u001b[0m                                 Traceback (most recent call last)",
      "Cell \u001b[1;32mIn[21], line 2\u001b[0m\n\u001b[0;32m      1\u001b[0m kata \u001b[38;5;241m=\u001b[39m \u001b[38;5;124m\"\u001b[39m\u001b[38;5;124mterang\u001b[39m\u001b[38;5;124m\"\u001b[39m\n\u001b[1;32m----> 2\u001b[0m \u001b[43mkata\u001b[49m\u001b[43m[\u001b[49m\u001b[38;5;241;43m0\u001b[39;49m\u001b[43m]\u001b[49m \u001b[38;5;241m=\u001b[39m \u001b[38;5;124m\"\u001b[39m\u001b[38;5;124mk\u001b[39m\u001b[38;5;124m\"\u001b[39m\n\u001b[0;32m      3\u001b[0m \u001b[38;5;28;01mif\u001b[39;00m kata[\u001b[38;5;241m0\u001b[39m] \u001b[38;5;241m==\u001b[39m \u001b[38;5;124m\"\u001b[39m\u001b[38;5;124mk\u001b[39m\u001b[38;5;124m\"\u001b[39m:\n\u001b[0;32m      4\u001b[0m     \u001b[38;5;28mprint\u001b[39m(\u001b[38;5;124m\"\u001b[39m\u001b[38;5;124mkerang\u001b[39m\u001b[38;5;124m\"\u001b[39m)\n",
      "\u001b[1;31mTypeError\u001b[0m: 'str' object does not support item assignment"
     ]
    }
   ],
   "source": [
    "kata = \"terang\"\n",
    "kata[0] = \"k\"\n",
    "if kata[0] == \"k\":\n",
    "    print(\"kerang\")\n",
    "else:\n",
    "    print(\"terang\")"
   ]
  },
  {
   "cell_type": "code",
   "execution_count": 22,
   "id": "0cae4f6b",
   "metadata": {},
   "outputs": [
    {
     "name": "stdout",
     "output_type": "stream",
     "text": [
      "indonasia mardaka\n",
      "indonesia jaya\n",
      "['indonesia', 'merdeka']\n",
      "indonesia#merdeka\n"
     ]
    }
   ],
   "source": [
    "s = 'indonesia merdeka'\n",
    "print(s.replace('e','a'))\n",
    "print(s.replace('merdeka','jaya'))\n",
    "print(s.split()) # ['indonesia','merdeka']\n",
    "print('#'.join(['indonesia','merdeka']))"
   ]
  },
  {
   "cell_type": "code",
   "execution_count": null,
   "id": "9bd21483",
   "metadata": {},
   "outputs": [],
   "source": []
  },
  {
   "cell_type": "code",
   "execution_count": 29,
   "id": "e50b89a3",
   "metadata": {},
   "outputs": [
    {
     "name": "stdout",
     "output_type": "stream",
     "text": [
      "2\n"
     ]
    }
   ],
   "source": [
    "kal = \"kuku kaki kakekku kaku-kaku\"\n",
    "print((kal.split(\"k\")).count(\"u\"))"
   ]
  },
  {
   "cell_type": "code",
   "execution_count": 30,
   "id": "3421b162",
   "metadata": {},
   "outputs": [
    {
     "ename": "TypeError",
     "evalue": "str.capitalize() takes no arguments (1 given)",
     "output_type": "error",
     "traceback": [
      "\u001b[1;31m---------------------------------------------------------------------------\u001b[0m",
      "\u001b[1;31mTypeError\u001b[0m                                 Traceback (most recent call last)",
      "Cell \u001b[1;32mIn[30], line 2\u001b[0m\n\u001b[0;32m      1\u001b[0m you \u001b[38;5;241m=\u001b[39m \u001b[38;5;124m\"\u001b[39m\u001b[38;5;124maku mau jadi apa saja\u001b[39m\u001b[38;5;124m\"\u001b[39m\n\u001b[1;32m----> 2\u001b[0m \u001b[38;5;28mprint\u001b[39m(\u001b[43myou\u001b[49m\u001b[38;5;241;43m.\u001b[39;49m\u001b[43mcapitalize\u001b[49m\u001b[43m(\u001b[49m\u001b[38;5;124;43m\"\u001b[39;49m\u001b[38;5;124;43ma\u001b[39;49m\u001b[38;5;124;43m\"\u001b[39;49m\u001b[43m)\u001b[49m)\n",
      "\u001b[1;31mTypeError\u001b[0m: str.capitalize() takes no arguments (1 given)"
     ]
    }
   ],
   "source": [
    "you = \"aku mau jadi apa saja\"\n",
    "print(you.capitalize(\"a\"))"
   ]
  },
  {
   "cell_type": "code",
   "execution_count": null,
   "id": "7ab0f7e0",
   "metadata": {},
   "outputs": [],
   "source": []
  }
 ],
 "metadata": {
  "kernelspec": {
   "display_name": "Python 3 (ipykernel)",
   "language": "python",
   "name": "python3"
  },
  "language_info": {
   "codemirror_mode": {
    "name": "ipython",
    "version": 3
   },
   "file_extension": ".py",
   "mimetype": "text/x-python",
   "name": "python",
   "nbconvert_exporter": "python",
   "pygments_lexer": "ipython3",
   "version": "3.11.4"
  }
 },
 "nbformat": 4,
 "nbformat_minor": 5
}
