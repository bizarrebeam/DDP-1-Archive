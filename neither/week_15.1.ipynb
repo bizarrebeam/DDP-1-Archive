{
 "cells": [
  {
   "cell_type": "code",
   "execution_count": 1,
   "id": "26f573eb",
   "metadata": {},
   "outputs": [],
   "source": [
    "def process(left_side, right_side):\n",
    "    print(left_side, right_side)"
   ]
  },
  {
   "cell_type": "code",
   "execution_count": 2,
   "id": "1cb8cca6",
   "metadata": {},
   "outputs": [
    {
     "ename": "NameError",
     "evalue": "name 'MyClass' is not defined",
     "output_type": "error",
     "traceback": [
      "\u001b[1;31m---------------------------------------------------------------------------\u001b[0m",
      "\u001b[1;31mNameError\u001b[0m                                 Traceback (most recent call last)",
      "Cell \u001b[1;32mIn[2], line 1\u001b[0m\n\u001b[1;32m----> 1\u001b[0m an_object \u001b[38;5;241m=\u001b[39m \u001b[43mMyClass\u001b[49m()\n\u001b[0;32m      2\u001b[0m process(an_object, \u001b[38;5;241m25\u001b[39m)\n",
      "\u001b[1;31mNameError\u001b[0m: name 'MyClass' is not defined"
     ]
    }
   ],
   "source": [
    "an_object = MyClass()\n",
    "process(an_object, 25)"
   ]
  },
  {
   "cell_type": "code",
   "execution_count": 3,
   "id": "b9c5a6f5",
   "metadata": {},
   "outputs": [],
   "source": [
    "def cek_arg(**kwargs):\n",
    "    print(kwargs)"
   ]
  },
  {
   "cell_type": "code",
   "execution_count": 9,
   "id": "8bac068d",
   "metadata": {},
   "outputs": [
    {
     "name": "stdout",
     "output_type": "stream",
     "text": [
      "{'t': 2}\n"
     ]
    }
   ],
   "source": [
    "cek_arg(t=2)"
   ]
  },
  {
   "cell_type": "markdown",
   "id": "cbf84295",
   "metadata": {},
   "source": [
    "## decorators"
   ]
  },
  {
   "cell_type": "code",
   "execution_count": 10,
   "id": "f3b38bdc",
   "metadata": {},
   "outputs": [
    {
     "name": "stdout",
     "output_type": "stream",
     "text": [
      "40\n"
     ]
    }
   ],
   "source": [
    "def tambah_lima(func):\n",
    "    def fung_internal(*args, **kwargs):\n",
    "        return 5 + func(*args, **kwargs)\n",
    "    return fung_internal\n",
    "\n",
    "@tambah_lima\n",
    "def perkalian(kiri, kanan):\n",
    "    return kiri*kanan\n",
    "\n",
    "print(perkalian(5,7))"
   ]
  },
  {
   "cell_type": "code",
   "execution_count": 16,
   "id": "e16ff625",
   "metadata": {},
   "outputs": [],
   "source": [
    "@tambah_lima\n",
    "def pengurangan(n):\n",
    "    return n-5"
   ]
  },
  {
   "cell_type": "code",
   "execution_count": 17,
   "id": "911e38ce",
   "metadata": {},
   "outputs": [
    {
     "name": "stdout",
     "output_type": "stream",
     "text": [
      "10\n"
     ]
    }
   ],
   "source": [
    "print(pengurangan(10))"
   ]
  },
  {
   "cell_type": "markdown",
   "id": "61a2a283",
   "metadata": {},
   "source": [
    "## decorator untuk class method"
   ]
  },
  {
   "cell_type": "markdown",
   "id": "149edb68",
   "metadata": {},
   "source": [
    "biasanya kan refer ke self aatau object dari classnya, nah ini langsung ke kelasnya gt"
   ]
  },
  {
   "cell_type": "code",
   "execution_count": 20,
   "id": "f40ddde7",
   "metadata": {},
   "outputs": [],
   "source": [
    "class MyClass:\n",
    "    angka = 5 # patokan: yg biasanya jadi prioritas tuh ini, attr\n",
    "    \n",
    "    def __init__(self):\n",
    "        self.angka = 7\n",
    "        \n",
    "    def get_angka_alt(self):\n",
    "        return self.angka\n",
    "        \n",
    "    @classmethod\n",
    "    def get_angka(cls):\n",
    "        return cls.angka"
   ]
  },
  {
   "cell_type": "code",
   "execution_count": 22,
   "id": "5aedc445",
   "metadata": {},
   "outputs": [
    {
     "name": "stdout",
     "output_type": "stream",
     "text": [
      "5\n"
     ]
    }
   ],
   "source": [
    "an_object = MyClass()\n",
    "print(an_object.get_angka())\n",
    "#print(an_object.get_angka_alt())\n",
    "#print(MyClass.get_angka)"
   ]
  },
  {
   "cell_type": "code",
   "execution_count": 23,
   "id": "9aa00b0b",
   "metadata": {},
   "outputs": [
    {
     "ename": "TypeError",
     "evalue": "MyClass.get_angka_alt() missing 1 required positional argument: 'self'",
     "output_type": "error",
     "traceback": [
      "\u001b[1;31m---------------------------------------------------------------------------\u001b[0m",
      "\u001b[1;31mTypeError\u001b[0m                                 Traceback (most recent call last)",
      "Cell \u001b[1;32mIn[23], line 1\u001b[0m\n\u001b[1;32m----> 1\u001b[0m \u001b[38;5;28mprint\u001b[39m(\u001b[43mMyClass\u001b[49m\u001b[38;5;241;43m.\u001b[39;49m\u001b[43mget_angka_alt\u001b[49m\u001b[43m(\u001b[49m\u001b[43m)\u001b[49m)\n",
      "\u001b[1;31mTypeError\u001b[0m: MyClass.get_angka_alt() missing 1 required positional argument: 'self'"
     ]
    }
   ],
   "source": [
    "print(MyClass.get_angka_alt())"
   ]
  },
  {
   "cell_type": "code",
   "execution_count": 25,
   "id": "06f20dc7",
   "metadata": {},
   "outputs": [
    {
     "name": "stdout",
     "output_type": "stream",
     "text": [
      "5\n"
     ]
    }
   ],
   "source": [
    "print(MyClass.get_angka())"
   ]
  },
  {
   "cell_type": "markdown",
   "id": "66e6d880",
   "metadata": {},
   "source": [
    "## static method decorator"
   ]
  },
  {
   "cell_type": "code",
   "execution_count": 26,
   "id": "317c9fb3",
   "metadata": {},
   "outputs": [],
   "source": [
    "class MyClass:\n",
    "    \n",
    "    @staticmethod\n",
    "    def get_string():\n",
    "        return 'hehe'\n"
   ]
  },
  {
   "cell_type": "code",
   "execution_count": 27,
   "id": "05d087f0",
   "metadata": {},
   "outputs": [
    {
     "name": "stdout",
     "output_type": "stream",
     "text": [
      "hehe\n"
     ]
    }
   ],
   "source": [
    "an_object = MyClass()\n",
    "print(an_object.get_string())"
   ]
  },
  {
   "cell_type": "code",
   "execution_count": 29,
   "id": "2a2e4754",
   "metadata": {},
   "outputs": [
    {
     "name": "stdout",
     "output_type": "stream",
     "text": [
      "hehe\n"
     ]
    }
   ],
   "source": [
    "print(MyClass.get_string()) # liat nie, g di pass ap ap aj masie bisa dipanggl"
   ]
  },
  {
   "cell_type": "markdown",
   "id": "f02473a2",
   "metadata": {},
   "source": [
    "kata bapaknya ini ekstrem, bisa manggil tanpa func aslinya di pass apapun, bahkan bia langsungmanggil dari kelas"
   ]
  },
  {
   "cell_type": "markdown",
   "id": "22d73db8",
   "metadata": {},
   "source": [
    "## lambda "
   ]
  },
  {
   "cell_type": "code",
   "execution_count": 30,
   "id": "df43221b",
   "metadata": {},
   "outputs": [],
   "source": [
    "penjumlahan_lambda = lambda x,y:x+y"
   ]
  },
  {
   "cell_type": "code",
   "execution_count": 31,
   "id": "6c6b5995",
   "metadata": {},
   "outputs": [
    {
     "data": {
      "text/plain": [
       "8"
      ]
     },
     "execution_count": 31,
     "metadata": {},
     "output_type": "execute_result"
    }
   ],
   "source": [
    "penjumlahan_lambda(3,5)"
   ]
  },
  {
   "cell_type": "markdown",
   "id": "eb086f70",
   "metadata": {},
   "source": [
    "lambda bisa buat sorting"
   ]
  },
  {
   "cell_type": "code",
   "execution_count": 32,
   "id": "aa333703",
   "metadata": {},
   "outputs": [
    {
     "name": "stdout",
     "output_type": "stream",
     "text": [
      "{'Huki': 1, 'Bambang': 5, 'Usep': 7}\n"
     ]
    }
   ],
   "source": [
    "dct = {\"Bambang\": 5, \"Usep\": 7, \"Huki\": 1}\n",
    "new_dct = dict(sorted(dct.items(), key=lambda item: item[1]))\n",
    "print(new_dct)\n"
   ]
  },
  {
   "cell_type": "code",
   "execution_count": null,
   "id": "16691047",
   "metadata": {},
   "outputs": [],
   "source": [
    "def squ(x):\n",
    "    "
   ]
  }
 ],
 "metadata": {
  "kernelspec": {
   "display_name": "Python 3 (ipykernel)",
   "language": "python",
   "name": "python3"
  },
  "language_info": {
   "codemirror_mode": {
    "name": "ipython",
    "version": 3
   },
   "file_extension": ".py",
   "mimetype": "text/x-python",
   "name": "python",
   "nbconvert_exporter": "python",
   "pygments_lexer": "ipython3",
   "version": "3.11.4"
  }
 },
 "nbformat": 4,
 "nbformat_minor": 5
}
