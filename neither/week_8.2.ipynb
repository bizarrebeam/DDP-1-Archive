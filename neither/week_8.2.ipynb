{
 "cells": [
  {
   "cell_type": "code",
   "execution_count": 1,
   "id": "7d4b3ce8",
   "metadata": {},
   "outputs": [],
   "source": [
    "nums = (3,2,1)"
   ]
  },
  {
   "cell_type": "code",
   "execution_count": 2,
   "id": "319fea6c",
   "metadata": {},
   "outputs": [
    {
     "data": {
      "text/plain": [
       "tuple"
      ]
     },
     "execution_count": 2,
     "metadata": {},
     "output_type": "execute_result"
    }
   ],
   "source": [
    "type(nums)"
   ]
  },
  {
   "cell_type": "code",
   "execution_count": 4,
   "id": "2273bb8a",
   "metadata": {},
   "outputs": [],
   "source": [
    "nums2 = 3,2,1"
   ]
  },
  {
   "cell_type": "code",
   "execution_count": 5,
   "id": "ee105502",
   "metadata": {},
   "outputs": [
    {
     "data": {
      "text/plain": [
       "tuple"
      ]
     },
     "execution_count": 5,
     "metadata": {},
     "output_type": "execute_result"
    }
   ],
   "source": [
    "type(nums2)"
   ]
  },
  {
   "cell_type": "markdown",
   "id": "9b44e929",
   "metadata": {},
   "source": [
    "for one size tuple, give commas to tell python it is tuple"
   ]
  },
  {
   "cell_type": "code",
   "execution_count": 7,
   "id": "6b4abeb0",
   "metadata": {},
   "outputs": [],
   "source": [
    "tup1 = (\"borobudur\")"
   ]
  },
  {
   "cell_type": "code",
   "execution_count": 8,
   "id": "25b3e020",
   "metadata": {},
   "outputs": [
    {
     "data": {
      "text/plain": [
       "str"
      ]
     },
     "execution_count": 8,
     "metadata": {},
     "output_type": "execute_result"
    }
   ],
   "source": [
    "type(tup1)"
   ]
  },
  {
   "cell_type": "code",
   "execution_count": 10,
   "id": "c6f98745",
   "metadata": {},
   "outputs": [],
   "source": [
    "tup2 = (\"borobudur\",)"
   ]
  },
  {
   "cell_type": "code",
   "execution_count": 11,
   "id": "af7c5848",
   "metadata": {},
   "outputs": [
    {
     "data": {
      "text/plain": [
       "tuple"
      ]
     },
     "execution_count": 11,
     "metadata": {},
     "output_type": "execute_result"
    }
   ],
   "source": [
    "type(tup2)"
   ]
  },
  {
   "cell_type": "code",
   "execution_count": 13,
   "id": "290bd21d",
   "metadata": {},
   "outputs": [
    {
     "ename": "TypeError",
     "evalue": "'int' object is not iterable",
     "output_type": "error",
     "traceback": [
      "\u001b[1;31m---------------------------------------------------------------------------\u001b[0m",
      "\u001b[1;31mTypeError\u001b[0m                                 Traceback (most recent call last)",
      "Cell \u001b[1;32mIn[13], line 1\u001b[0m\n\u001b[1;32m----> 1\u001b[0m mytup \u001b[38;5;241m=\u001b[39m \u001b[38;5;28;43mtuple\u001b[39;49m\u001b[43m(\u001b[49m\u001b[38;5;241;43m5\u001b[39;49m\u001b[43m,\u001b[49m\u001b[43m)\u001b[49m\n",
      "\u001b[1;31mTypeError\u001b[0m: 'int' object is not iterable"
     ]
    }
   ],
   "source": [
    "mytup = tuple(5,)"
   ]
  },
  {
   "cell_type": "code",
   "execution_count": 14,
   "id": "5d1374e0",
   "metadata": {},
   "outputs": [
    {
     "ename": "TypeError",
     "evalue": "tuple expected at most 1 argument, got 2",
     "output_type": "error",
     "traceback": [
      "\u001b[1;31m---------------------------------------------------------------------------\u001b[0m",
      "\u001b[1;31mTypeError\u001b[0m                                 Traceback (most recent call last)",
      "Cell \u001b[1;32mIn[14], line 1\u001b[0m\n\u001b[1;32m----> 1\u001b[0m mytup \u001b[38;5;241m=\u001b[39m \u001b[38;5;28;43mtuple\u001b[39;49m\u001b[43m(\u001b[49m\u001b[38;5;241;43m5\u001b[39;49m\u001b[43m,\u001b[49m\u001b[38;5;241;43m1\u001b[39;49m\u001b[43m)\u001b[49m\n",
      "\u001b[1;31mTypeError\u001b[0m: tuple expected at most 1 argument, got 2"
     ]
    }
   ],
   "source": [
    "mytup = tuple(5,1)"
   ]
  },
  {
   "cell_type": "code",
   "execution_count": 15,
   "id": "3446f65e",
   "metadata": {},
   "outputs": [],
   "source": [
    "mytup = tuple([5,1])"
   ]
  },
  {
   "cell_type": "code",
   "execution_count": 16,
   "id": "652a6a46",
   "metadata": {},
   "outputs": [],
   "source": [
    "mytup = tuple([30,5,2005])"
   ]
  },
  {
   "cell_type": "code",
   "execution_count": 17,
   "id": "f9c85f84",
   "metadata": {},
   "outputs": [],
   "source": [
    "mytup2 = sorted(mytup)"
   ]
  },
  {
   "cell_type": "code",
   "execution_count": 18,
   "id": "6abca13f",
   "metadata": {},
   "outputs": [
    {
     "data": {
      "text/plain": [
       "[5, 30, 2005]"
      ]
     },
     "execution_count": 18,
     "metadata": {},
     "output_type": "execute_result"
    }
   ],
   "source": [
    "mytup2"
   ]
  },
  {
   "cell_type": "code",
   "execution_count": 19,
   "id": "d8e6f065",
   "metadata": {},
   "outputs": [
    {
     "ename": "AttributeError",
     "evalue": "'tuple' object has no attribute 'sort'",
     "output_type": "error",
     "traceback": [
      "\u001b[1;31m---------------------------------------------------------------------------\u001b[0m",
      "\u001b[1;31mAttributeError\u001b[0m                            Traceback (most recent call last)",
      "Cell \u001b[1;32mIn[19], line 1\u001b[0m\n\u001b[1;32m----> 1\u001b[0m mytup3 \u001b[38;5;241m=\u001b[39m \u001b[43mmytup\u001b[49m\u001b[38;5;241;43m.\u001b[39;49m\u001b[43msort\u001b[49m()\n",
      "\u001b[1;31mAttributeError\u001b[0m: 'tuple' object has no attribute 'sort'"
     ]
    }
   ],
   "source": [
    "mytup3 = mytup.sort() # sort in list modified the og list"
   ]
  },
  {
   "cell_type": "code",
   "execution_count": 20,
   "id": "08891381",
   "metadata": {},
   "outputs": [],
   "source": [
    "str_a = \"rock pop rock jazz rock rock dangdut\"\n",
    "set_a = set(str_a)"
   ]
  },
  {
   "cell_type": "code",
   "execution_count": 21,
   "id": "035a1a2d",
   "metadata": {},
   "outputs": [
    {
     "data": {
      "text/plain": [
       "{' ', 'a', 'c', 'd', 'g', 'j', 'k', 'n', 'o', 'p', 'r', 't', 'u', 'z'}"
      ]
     },
     "execution_count": 21,
     "metadata": {},
     "output_type": "execute_result"
    }
   ],
   "source": [
    "set_a"
   ]
  },
  {
   "cell_type": "code",
   "execution_count": 24,
   "id": "77fd1761",
   "metadata": {},
   "outputs": [],
   "source": [
    "name = [\"daffa\", \"nadira\"]"
   ]
  },
  {
   "cell_type": "code",
   "execution_count": 25,
   "id": "bc33aa12",
   "metadata": {},
   "outputs": [
    {
     "name": "stdout",
     "output_type": "stream",
     "text": [
      "{'i', 'n', 'a', 'r', 'f', 'd'}\n"
     ]
    }
   ],
   "source": [
    "unique_name = \"\"\n",
    "for words in name:\n",
    "    for char in words:\n",
    "        unique_name += char\n",
    "print(set(unique_name))\n",
    "        "
   ]
  },
  {
   "cell_type": "code",
   "execution_count": 33,
   "id": "a0cf7c61",
   "metadata": {},
   "outputs": [],
   "source": [
    "def common_name(str_a, str_b):\n",
    "    set_a, set_b = set(str_a), set(str_b)\n",
    "    \n",
    "    common_name = []\n",
    "    \n",
    "    for char in set_a:\n",
    "        if char in set_b:\n",
    "            common_name.append(char)\n",
    "            \n",
    "    return common_name"
   ]
  },
  {
   "cell_type": "code",
   "execution_count": 34,
   "id": "b17a0d1d",
   "metadata": {},
   "outputs": [],
   "source": [
    "str_a = \"daffa\"\n",
    "str_b = \"nadira\""
   ]
  },
  {
   "cell_type": "code",
   "execution_count": 35,
   "id": "3a26f374",
   "metadata": {},
   "outputs": [],
   "source": [
    "result = common_name(str_a, str_b)"
   ]
  },
  {
   "cell_type": "code",
   "execution_count": 36,
   "id": "81c6a4ec",
   "metadata": {},
   "outputs": [
    {
     "data": {
      "text/plain": [
       "['d', 'a']"
      ]
     },
     "execution_count": 36,
     "metadata": {},
     "output_type": "execute_result"
    }
   ],
   "source": [
    "result"
   ]
  },
  {
   "cell_type": "code",
   "execution_count": 37,
   "id": "9aad46e8",
   "metadata": {},
   "outputs": [],
   "source": [
    "def common_name(str_a, str_b):\n",
    "    set_a, set_b = set(str_a), set(str_b)\n",
    "    \n",
    "    common_name = [char for char in set_a if char in set_b] \n",
    "    # one line, shorter daripada pake empty list\n",
    "            \n",
    "    return common_name"
   ]
  },
  {
   "cell_type": "code",
   "execution_count": 40,
   "id": "fdb3c4ec",
   "metadata": {},
   "outputs": [
    {
     "name": "stdout",
     "output_type": "stream",
     "text": [
      "['d', 'a']\n"
     ]
    }
   ],
   "source": [
    "daffa = set(\"daffa\")\n",
    "nadira = set(\"nadira\")\n",
    "\n",
    "res = common_name(daffa, nadira)\n",
    "print(res)"
   ]
  },
  {
   "cell_type": "code",
   "execution_count": 42,
   "id": "6f85da14",
   "metadata": {},
   "outputs": [],
   "source": [
    "daffa = set(\"daffa\")\n",
    "nadira = set(\"nadira\")"
   ]
  },
  {
   "cell_type": "code",
   "execution_count": 45,
   "id": "96496839",
   "metadata": {},
   "outputs": [
    {
     "data": {
      "text/plain": [
       "{'a', 'd'}"
      ]
     },
     "execution_count": 45,
     "metadata": {},
     "output_type": "execute_result"
    }
   ],
   "source": [
    "daffa & nadira"
   ]
  },
  {
   "cell_type": "code",
   "execution_count": 46,
   "id": "8aef11e6",
   "metadata": {},
   "outputs": [],
   "source": [
    "nums = {30,30,30,5,5,5,2005}"
   ]
  },
  {
   "cell_type": "code",
   "execution_count": 47,
   "id": "03b3ffef",
   "metadata": {},
   "outputs": [
    {
     "data": {
      "text/plain": [
       "{5, 30, 2005}"
      ]
     },
     "execution_count": 47,
     "metadata": {},
     "output_type": "execute_result"
    }
   ],
   "source": [
    "nums"
   ]
  },
  {
   "cell_type": "markdown",
   "id": "c8392cda",
   "metadata": {},
   "source": [
    "curly brackets without ; ain't dictionary but set (himpunan)"
   ]
  },
  {
   "cell_type": "code",
   "execution_count": 48,
   "id": "d938b622",
   "metadata": {},
   "outputs": [],
   "source": [
    "nums = {} # perhatikan kalau empty, itu masih dict"
   ]
  },
  {
   "cell_type": "code",
   "execution_count": 49,
   "id": "3a10d02f",
   "metadata": {},
   "outputs": [
    {
     "data": {
      "text/plain": [
       "dict"
      ]
     },
     "execution_count": 49,
     "metadata": {},
     "output_type": "execute_result"
    }
   ],
   "source": [
    "type(nums)"
   ]
  },
  {
   "cell_type": "code",
   "execution_count": 54,
   "id": "7c5e1ce0",
   "metadata": {},
   "outputs": [],
   "source": [
    "text = \"a car a man\""
   ]
  },
  {
   "cell_type": "code",
   "execution_count": null,
   "id": "dc9e2815",
   "metadata": {},
   "outputs": [],
   "source": []
  }
 ],
 "metadata": {
  "kernelspec": {
   "display_name": "Python 3 (ipykernel)",
   "language": "python",
   "name": "python3"
  },
  "language_info": {
   "codemirror_mode": {
    "name": "ipython",
    "version": 3
   },
   "file_extension": ".py",
   "mimetype": "text/x-python",
   "name": "python",
   "nbconvert_exporter": "python",
   "pygments_lexer": "ipython3",
   "version": "3.11.4"
  }
 },
 "nbformat": 4,
 "nbformat_minor": 5
}
