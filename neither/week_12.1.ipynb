{
 "cells": [
  {
   "cell_type": "markdown",
   "metadata": {},
   "source": [
    "kalo del itu akan ngehilangin yh keseluruhan classnya\n",
    "jadi kalo dipanggil, dia bakal munculin error 'not defined'"
   ]
  },
  {
   "cell_type": "markdown",
   "metadata": {},
   "source": [
    "## private variables in an instance"
   ]
  },
  {
   "cell_type": "markdown",
   "metadata": {},
   "source": [
    "self.my_public_attr = \"public\"\n",
    "\n",
    "self.__my_private_attr = \"private\"\n",
    "\n",
    "kelihatan kalo private pakai __ di depan nya yg accesible to developer only\n",
    "\n",
    "accesible maksudnya: saat di luar scope kelasnya, terus kita manggil fungsinya kaya print(var.__my_private_attr) bakal muncul error"
   ]
  },
  {
   "cell_type": "markdown",
   "metadata": {},
   "source": [
    "super() inherit methods from parent's class\n",
    "\n",
    "misal, di class defined sebelumnya udah ada self.name = name dan self.age = age\n",
    "\n",
    "terus di class baru yg inherit, terus construct\n",
    "\n",
    "def __init(self, name, age, is_h):\n",
    "super().__init__(name, age) # ini ngambil dari yang kelas sebelumnya\n",
    "self.is_h = is_h # ini tinggal tambahin instance baru unique untuk class ini\n",
    "\n",
    "super().__init__ itu ngambil init dari si parentnnya\n",
    "\n",
    "super().methods() ini ngambil methods() [nama sesuain] punya parentnya"
   ]
  },
  {
   "cell_type": "code",
   "execution_count": 1,
   "metadata": {},
   "outputs": [
    {
     "name": "stdout",
     "output_type": "stream",
     "text": [
      "42\n"
     ]
    }
   ],
   "source": [
    "# cara akses private (manggled) variables\n",
    "class MyClass:\n",
    "    def __init__(self):\n",
    "        self.__private_variable = 42\n",
    "\n",
    "# Creating an instance of the class\n",
    "obj = MyClass()\n",
    "\n",
    "# Accessing the private variable from outside the class\n",
    "value = obj._MyClass__private_variable\n",
    "\n",
    "print(value)  # Output: 42\n",
    "\n",
    "# jadi _NamaKelas__namaPrivVariable\n"
   ]
  },
  {
   "cell_type": "code",
   "execution_count": 11,
   "metadata": {},
   "outputs": [],
   "source": [
    "class Animal:\n",
    "\n",
    "    def __init__(self, name, age):\n",
    "        self.name = name\n",
    "        self.age = age\n",
    "\n",
    "    def eats(self):\n",
    "        print(self.name, \"is eating..\")\n",
    "        "
   ]
  },
  {
   "cell_type": "code",
   "execution_count": 12,
   "metadata": {},
   "outputs": [],
   "source": [
    "class Bird(Animal):\n",
    "\n",
    "    def __init__(self, name, age, color):\n",
    "        super().__init__(name, age)\n",
    "        self.color = color\n",
    "\n",
    "    def flies(self):\n",
    "        print(self.name, \"is flying...\")\n"
   ]
  },
  {
   "cell_type": "code",
   "execution_count": 13,
   "metadata": {},
   "outputs": [
    {
     "data": {
      "text/plain": [
       "['Yellow', 'Bening']"
      ]
     },
     "execution_count": 13,
     "metadata": {},
     "output_type": "execute_result"
    }
   ],
   "source": [
    "cuckoo = Bird(\"Cuckoo\", 2, [\"Yellow\", \"Bening\"])\n",
    "cuckoo.color\n"
   ]
  },
  {
   "cell_type": "code",
   "execution_count": 14,
   "metadata": {},
   "outputs": [
    {
     "data": {
      "text/plain": [
       "'Cuckoo'"
      ]
     },
     "execution_count": 14,
     "metadata": {},
     "output_type": "execute_result"
    }
   ],
   "source": [
    "cuckoo.name"
   ]
  },
  {
   "cell_type": "code",
   "execution_count": 15,
   "metadata": {},
   "outputs": [
    {
     "data": {
      "text/plain": [
       "2"
      ]
     },
     "execution_count": 15,
     "metadata": {},
     "output_type": "execute_result"
    }
   ],
   "source": [
    "cuckoo.age"
   ]
  },
  {
   "cell_type": "code",
   "execution_count": 16,
   "metadata": {},
   "outputs": [
    {
     "name": "stdout",
     "output_type": "stream",
     "text": [
      "Cuckoo is eating..\n"
     ]
    }
   ],
   "source": [
    "cuckoo.eats()"
   ]
  },
  {
   "cell_type": "code",
   "execution_count": 17,
   "metadata": {},
   "outputs": [
    {
     "name": "stdout",
     "output_type": "stream",
     "text": [
      "Cuckoo is flying...\n"
     ]
    }
   ],
   "source": [
    "cuckoo.flies()"
   ]
  },
  {
   "cell_type": "code",
   "execution_count": 18,
   "metadata": {},
   "outputs": [
    {
     "data": {
      "text/plain": [
       "True"
      ]
     },
     "execution_count": 18,
     "metadata": {},
     "output_type": "execute_result"
    }
   ],
   "source": [
    "isinstance(cuckoo, Bird)"
   ]
  },
  {
   "cell_type": "code",
   "execution_count": 19,
   "metadata": {},
   "outputs": [
    {
     "ename": "NameError",
     "evalue": "name 'Cat' is not defined",
     "output_type": "error",
     "traceback": [
      "\u001b[1;31m---------------------------------------------------------------------------\u001b[0m",
      "\u001b[1;31mNameError\u001b[0m                                 Traceback (most recent call last)",
      "\u001b[1;32mc:\\Users\\adelya\\Downloads\\code\\ddp-1\\neither\\week_12.1.ipynb Cell 13\u001b[0m line \u001b[0;36m1\n\u001b[1;32m----> <a href='vscode-notebook-cell:/c%3A/Users/adelya/Downloads/code/ddp-1/neither/week_12.1.ipynb#X23sZmlsZQ%3D%3D?line=0'>1</a>\u001b[0m \u001b[39misinstance\u001b[39m(cuckoo, Cat)\n",
      "\u001b[1;31mNameError\u001b[0m: name 'Cat' is not defined"
     ]
    }
   ],
   "source": [
    "isinstance(cuckoo, Cat)"
   ]
  },
  {
   "cell_type": "code",
   "execution_count": null,
   "metadata": {},
   "outputs": [],
   "source": []
  }
 ],
 "metadata": {
  "kernelspec": {
   "display_name": "base",
   "language": "python",
   "name": "python3"
  },
  "language_info": {
   "codemirror_mode": {
    "name": "ipython",
    "version": 3
   },
   "file_extension": ".py",
   "mimetype": "text/x-python",
   "name": "python",
   "nbconvert_exporter": "python",
   "pygments_lexer": "ipython3",
   "version": "3.11.4"
  }
 },
 "nbformat": 4,
 "nbformat_minor": 2
}
