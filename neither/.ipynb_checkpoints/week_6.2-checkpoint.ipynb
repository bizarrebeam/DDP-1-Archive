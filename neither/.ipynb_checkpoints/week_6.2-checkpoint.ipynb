{
 "cells": [
  {
   "cell_type": "code",
   "execution_count": 5,
   "id": "5f8898e3",
   "metadata": {},
   "outputs": [
    {
     "name": "stdout",
     "output_type": "stream",
     "text": [
      "i = 1 then 1\n",
      "i = 2 then 2\n",
      "i = 3 then 6\n",
      "i = 4 then 24\n"
     ]
    }
   ],
   "source": [
    "result = 1\n",
    "for i in range(1,5):\n",
    "    result *= i\n",
    "    print(f\"i = {i} then {result}\")"
   ]
  },
  {
   "cell_type": "code",
   "execution_count": 6,
   "id": "b4c5c88b",
   "metadata": {},
   "outputs": [
    {
     "name": "stdout",
     "output_type": "stream",
     "text": [
      "[0, 1, 2, 3, 4, 5, 6, 7, 8, 9, 10, 11, 12, 13, 14, 15, 16, 17, 18, 19, 20, 21, 22, 23, 24, 25, 26, 27, 28, 29, 30, 31, 32, 33, 34, 35, 36, 37, 38, 39, 40, 41, 42, 43, 44, 45, 46, 47, 48, 49, 50, 51, 52, 53, 54, 55, 56, 57, 58, 59, 60, 61, 62, 63, 64, 65, 66, 67, 68, 69, 70, 71, 72, 73, 74, 75, 76, 77, 78, 79, 80, 81, 82, 83, 84, 85, 86, 87, 88, 89, 90, 91, 92, 93, 94, 95, 96, 97, 98, 99]\n"
     ]
    }
   ],
   "source": [
    "int_list = list()\n",
    "for i in range(100):\n",
    "    int_list.append(i)\n",
    "print(int_list)\n"
   ]
  },
  {
   "cell_type": "code",
   "execution_count": 7,
   "id": "1c58f791",
   "metadata": {},
   "outputs": [
    {
     "name": "stdout",
     "output_type": "stream",
     "text": [
      "None\n"
     ]
    }
   ],
   "source": [
    "a_list = [1, 12, 5, 12]\n",
    "print(a_list.remove(12))"
   ]
  },
  {
   "cell_type": "code",
   "execution_count": 10,
   "id": "47974253",
   "metadata": {},
   "outputs": [],
   "source": [
    "my_list = [4, 7, 1, 2]\n",
    "my_list.sort()"
   ]
  },
  {
   "cell_type": "code",
   "execution_count": 11,
   "id": "44daf826",
   "metadata": {},
   "outputs": [
    {
     "data": {
      "text/plain": [
       "[1, 2, 4, 7]"
      ]
     },
     "execution_count": 11,
     "metadata": {},
     "output_type": "execute_result"
    }
   ],
   "source": [
    "my_list"
   ]
  },
  {
   "cell_type": "code",
   "execution_count": 12,
   "id": "064672c9",
   "metadata": {},
   "outputs": [
    {
     "data": {
      "text/plain": [
       "2"
      ]
     },
     "execution_count": 12,
     "metadata": {},
     "output_type": "execute_result"
    }
   ],
   "source": [
    "my_list = [4, 7, 1, 2]\n",
    "my_list.pop()"
   ]
  },
  {
   "cell_type": "code",
   "execution_count": 13,
   "id": "4f41bcf9",
   "metadata": {},
   "outputs": [],
   "source": [
    "my_list = [4, 7, 1, 2]\n",
    "my_list.append([1,2])"
   ]
  },
  {
   "cell_type": "code",
   "execution_count": 14,
   "id": "fff2e307",
   "metadata": {},
   "outputs": [
    {
     "data": {
      "text/plain": [
       "[4, 7, 1, 2, [1, 2]]"
      ]
     },
     "execution_count": 14,
     "metadata": {},
     "output_type": "execute_result"
    }
   ],
   "source": [
    "my_list"
   ]
  },
  {
   "cell_type": "code",
   "execution_count": 15,
   "id": "42345a87",
   "metadata": {},
   "outputs": [],
   "source": [
    "my_list = [4, 7, 1, 2]\n",
    "my_list.extend([1,2])"
   ]
  },
  {
   "cell_type": "code",
   "execution_count": 16,
   "id": "6b67256a",
   "metadata": {},
   "outputs": [
    {
     "data": {
      "text/plain": [
       "[4, 7, 1, 2, 1, 2]"
      ]
     },
     "execution_count": 16,
     "metadata": {},
     "output_type": "execute_result"
    }
   ],
   "source": [
    "my_list"
   ]
  },
  {
   "cell_type": "code",
   "execution_count": 17,
   "id": "eb705ff0",
   "metadata": {},
   "outputs": [
    {
     "name": "stdout",
     "output_type": "stream",
     "text": [
      "3\t6\t1\t2\t6\t2\n",
      "3, 6, 1, 2, 6, 2\n",
      "3\n",
      "6\n",
      "1\n",
      "2\n",
      "6\n",
      "2\n"
     ]
    }
   ],
   "source": [
    "x = ['3','6','1','2','6','2']\n",
    "print('\\t'.join(x))\n",
    "print(', '.join(x))\n",
    "print('\\n'.join(x))"
   ]
  },
  {
   "cell_type": "code",
   "execution_count": 18,
   "id": "5eecfa38",
   "metadata": {},
   "outputs": [
    {
     "name": "stdout",
     "output_type": "stream",
     "text": [
      "[1, 2, 3, [5, 6, 88]]\n",
      "[5, 6, 88]\n",
      "[5, 6, 88]\n",
      "[9, 2, 3, [5, 6, 7]]\n"
     ]
    }
   ],
   "source": [
    "import copy\n",
    "a_list = [1, 2, 3]\n",
    "b_list = [5, 6, 7]\n",
    "a_list.append(b_list)\n",
    "d_list = copy.deepcopy(a_list)\n",
    "d_list[0] = 9\n",
    "c_list = b_list\n",
    "c_list[2] = 88\n",
    "print(a_list)\n",
    "print(b_list)\n",
    "print(c_list)\n",
    "print(d_list)"
   ]
  },
  {
   "cell_type": "code",
   "execution_count": 19,
   "id": "8ac87ff6",
   "metadata": {},
   "outputs": [],
   "source": [
    "import copy"
   ]
  },
  {
   "cell_type": "code",
   "execution_count": 20,
   "id": "86967ca5",
   "metadata": {},
   "outputs": [],
   "source": [
    "a_list = [1, 2, 3]\n",
    "b_list = [5, 6, 7]"
   ]
  },
  {
   "cell_type": "code",
   "execution_count": 21,
   "id": "f2cbc6b3",
   "metadata": {},
   "outputs": [],
   "source": [
    "a_list.append(b_list)"
   ]
  },
  {
   "cell_type": "code",
   "execution_count": 22,
   "id": "5b827356",
   "metadata": {},
   "outputs": [
    {
     "data": {
      "text/plain": [
       "[1, 2, 3, [5, 6, 7]]"
      ]
     },
     "execution_count": 22,
     "metadata": {},
     "output_type": "execute_result"
    }
   ],
   "source": [
    "a_list"
   ]
  },
  {
   "cell_type": "code",
   "execution_count": 23,
   "id": "1efaf048",
   "metadata": {},
   "outputs": [],
   "source": [
    "d_list = copy.deepcopy(a_list)"
   ]
  },
  {
   "cell_type": "code",
   "execution_count": 24,
   "id": "9808ed22",
   "metadata": {},
   "outputs": [
    {
     "data": {
      "text/plain": [
       "[1, 2, 3, [5, 6, 7]]"
      ]
     },
     "execution_count": 24,
     "metadata": {},
     "output_type": "execute_result"
    }
   ],
   "source": [
    "d_list"
   ]
  },
  {
   "cell_type": "code",
   "execution_count": 25,
   "id": "8166c834",
   "metadata": {},
   "outputs": [],
   "source": [
    "d_list[0] = 9"
   ]
  },
  {
   "cell_type": "code",
   "execution_count": 26,
   "id": "78b1c40b",
   "metadata": {},
   "outputs": [
    {
     "data": {
      "text/plain": [
       "[9, 2, 3, [5, 6, 7]]"
      ]
     },
     "execution_count": 26,
     "metadata": {},
     "output_type": "execute_result"
    }
   ],
   "source": [
    "d_list"
   ]
  },
  {
   "cell_type": "code",
   "execution_count": 27,
   "id": "9aafa45c",
   "metadata": {},
   "outputs": [
    {
     "data": {
      "text/plain": [
       "[1, 2, 3, [5, 6, 7]]"
      ]
     },
     "execution_count": 27,
     "metadata": {},
     "output_type": "execute_result"
    }
   ],
   "source": [
    "a_list"
   ]
  },
  {
   "cell_type": "code",
   "execution_count": 28,
   "id": "aa588684",
   "metadata": {},
   "outputs": [],
   "source": [
    "c_list = b_list"
   ]
  },
  {
   "cell_type": "code",
   "execution_count": 29,
   "id": "0fbdf602",
   "metadata": {},
   "outputs": [
    {
     "data": {
      "text/plain": [
       "[5, 6, 7]"
      ]
     },
     "execution_count": 29,
     "metadata": {},
     "output_type": "execute_result"
    }
   ],
   "source": [
    "c_list"
   ]
  },
  {
   "cell_type": "code",
   "execution_count": 30,
   "id": "4724a08c",
   "metadata": {},
   "outputs": [
    {
     "data": {
      "text/plain": [
       "[5, 6, 7]"
      ]
     },
     "execution_count": 30,
     "metadata": {},
     "output_type": "execute_result"
    }
   ],
   "source": [
    "b_list"
   ]
  },
  {
   "cell_type": "code",
   "execution_count": 31,
   "id": "e84fc89f",
   "metadata": {},
   "outputs": [],
   "source": [
    "c_list[2] = 88"
   ]
  },
  {
   "cell_type": "code",
   "execution_count": 32,
   "id": "984a7232",
   "metadata": {},
   "outputs": [
    {
     "data": {
      "text/plain": [
       "[5, 6, 88]"
      ]
     },
     "execution_count": 32,
     "metadata": {},
     "output_type": "execute_result"
    }
   ],
   "source": [
    "c_list"
   ]
  },
  {
   "cell_type": "code",
   "execution_count": 33,
   "id": "38ff44f8",
   "metadata": {},
   "outputs": [
    {
     "data": {
      "text/plain": [
       "[5, 6, 88]"
      ]
     },
     "execution_count": 33,
     "metadata": {},
     "output_type": "execute_result"
    }
   ],
   "source": [
    "b_list"
   ]
  },
  {
   "cell_type": "code",
   "execution_count": 34,
   "id": "ee3b5512",
   "metadata": {},
   "outputs": [
    {
     "data": {
      "text/plain": [
       "[1, 2, 3, [5, 6, 88]]"
      ]
     },
     "execution_count": 34,
     "metadata": {},
     "output_type": "execute_result"
    }
   ],
   "source": [
    "a_list"
   ]
  },
  {
   "cell_type": "markdown",
   "id": "8d2c84d0",
   "metadata": {},
   "source": [
    "# kuis"
   ]
  },
  {
   "cell_type": "code",
   "execution_count": 35,
   "id": "d5ea26e4",
   "metadata": {},
   "outputs": [
    {
     "name": "stdout",
     "output_type": "stream",
     "text": [
      "Variabel belum diinisiasi!\n"
     ]
    }
   ],
   "source": [
    "try:\n",
    "\n",
    "    if (y > 0):\n",
    "\n",
    "        result = x / y\n",
    "\n",
    "    print(\"Hasil: \" + result)\n",
    "\n",
    "except ZeroDivisionError:\n",
    "\n",
    "    print(\"Tidak bisa membagi dengan 0!\")\n",
    "\n",
    "except NameError:\n",
    "\n",
    "    print(\"Variabel belum diinisiasi!\")\n",
    "\n",
    "except:\n",
    "\n",
    "    print(\"Error tidak diketahui!\")"
   ]
  },
  {
   "cell_type": "code",
   "execution_count": 38,
   "id": "6fc6ed9a",
   "metadata": {},
   "outputs": [],
   "source": [
    "\n",
    "def mystery(number):\n",
    "\n",
    "    if number % 2 == 1:\n",
    "\n",
    "        return True\n",
    "\n",
    "    return False"
   ]
  },
  {
   "cell_type": "code",
   "execution_count": null,
   "id": "e157ac0f",
   "metadata": {},
   "outputs": [],
   "source": []
  }
 ],
 "metadata": {
  "kernelspec": {
   "display_name": "Python 3 (ipykernel)",
   "language": "python",
   "name": "python3"
  },
  "language_info": {
   "codemirror_mode": {
    "name": "ipython",
    "version": 3
   },
   "file_extension": ".py",
   "mimetype": "text/x-python",
   "name": "python",
   "nbconvert_exporter": "python",
   "pygments_lexer": "ipython3",
   "version": "3.11.4"
  }
 },
 "nbformat": 4,
 "nbformat_minor": 5
}
