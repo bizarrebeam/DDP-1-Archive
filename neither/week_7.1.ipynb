{
 "cells": [
  {
   "cell_type": "code",
   "execution_count": 2,
   "id": "8f17c2df",
   "metadata": {},
   "outputs": [],
   "source": [
    "def string_match(a, b):\n",
    "    shorter = min(len(a), len(b))\n",
    "    count = 0\n",
    "    \n",
    "    for i in range(shorter-1):\n",
    "        a_sub = a[i:i+2]\n",
    "        b_sub = b[i:i+2]\n",
    "\n",
    "        if a_sub == b_sub:\n",
    "            count = count + 1\n",
    "\n",
    "    return count"
   ]
  },
  {
   "cell_type": "code",
   "execution_count": 3,
   "id": "cdfc0dba",
   "metadata": {},
   "outputs": [
    {
     "data": {
      "text/plain": [
       "3"
      ]
     },
     "execution_count": 3,
     "metadata": {},
     "output_type": "execute_result"
    }
   ],
   "source": [
    "string_match(\"xxcaazz\", \"xxbaaz\")"
   ]
  },
  {
   "cell_type": "code",
   "execution_count": 5,
   "id": "b4ed12fd",
   "metadata": {},
   "outputs": [],
   "source": [
    "def string_match(a, b):\n",
    "  # Figure which string is shorter.\n",
    "    shorter = min(len(a), len(b))\n",
    "    count = 0\n",
    "  \n",
    "  # Loop i over every substring starting spot.\n",
    "  # Use length-1 here, so can use char str[i+1] in the loop\n",
    "    for i in range(shorter):\n",
    "        a_sub = a[i:i+2]\n",
    "        b_sub = b[i:i+2]\n",
    "        if a_sub == b_sub:\n",
    "            count = count + 1\n",
    "    return count"
   ]
  },
  {
   "cell_type": "code",
   "execution_count": 6,
   "id": "915c22dc",
   "metadata": {},
   "outputs": [
    {
     "data": {
      "text/plain": [
       "3"
      ]
     },
     "execution_count": 6,
     "metadata": {},
     "output_type": "execute_result"
    }
   ],
   "source": [
    "string_match(\"xxcaazz\", \"xxbaaz\")"
   ]
  },
  {
   "cell_type": "code",
   "execution_count": 7,
   "id": "e746d7d3",
   "metadata": {},
   "outputs": [
    {
     "name": "stdout",
     "output_type": "stream",
     "text": [
      "300505"
     ]
    }
   ],
   "source": [
    "my_list = [3,0,0,5,0,5]\n",
    "for e in my_list:\n",
    "    print(e, end='')"
   ]
  },
  {
   "cell_type": "code",
   "execution_count": 8,
   "id": "9b55f390",
   "metadata": {},
   "outputs": [
    {
     "name": "stdout",
     "output_type": "stream",
     "text": [
      "[1, 2, 3]\n"
     ]
    }
   ],
   "source": [
    "list_angka = list() # constructor untuk list\n",
    "list_angka.append(1)\n",
    "list_angka.append(2)\n",
    "list_angka.append(3)\n",
    "\n",
    "print(list_angka)"
   ]
  },
  {
   "cell_type": "code",
   "execution_count": 9,
   "id": "40a46cf6",
   "metadata": {},
   "outputs": [
    {
     "name": "stdout",
     "output_type": "stream",
     "text": [
      "[1, 2, 3]\n"
     ]
    }
   ],
   "source": [
    "list_dari_range = list(range(1,4))\n",
    "print(list_dari_range)"
   ]
  },
  {
   "cell_type": "code",
   "execution_count": 10,
   "id": "82b71464",
   "metadata": {},
   "outputs": [
    {
     "name": "stdout",
     "output_type": "stream",
     "text": [
      "[1, 2, 3]\n"
     ]
    }
   ],
   "source": [
    "list_dari_list = list([1,2,3])\n",
    "print(list_dari_list)"
   ]
  },
  {
   "cell_type": "code",
   "execution_count": 11,
   "id": "b09c7468",
   "metadata": {},
   "outputs": [],
   "source": [
    "todolist = [\"gimmetea\", \"yoi\"]"
   ]
  },
  {
   "cell_type": "code",
   "execution_count": 12,
   "id": "23b8a297",
   "metadata": {},
   "outputs": [
    {
     "data": {
      "text/plain": [
       "False"
      ]
     },
     "execution_count": 12,
     "metadata": {},
     "output_type": "execute_result"
    }
   ],
   "source": [
    "\"tea\" in todolist"
   ]
  },
  {
   "cell_type": "code",
   "execution_count": 17,
   "id": "7d8d3448",
   "metadata": {},
   "outputs": [
    {
     "name": "stdout",
     "output_type": "stream",
     "text": [
      "ok\n"
     ]
    }
   ],
   "source": [
    "for i in todolist:\n",
    "    if \"tea\" in todolist:\n",
    "        print(\"yoi\")\n",
    "else:\n",
    "    print(\"ok\")"
   ]
  },
  {
   "cell_type": "code",
   "execution_count": 58,
   "id": "10b3107e",
   "metadata": {},
   "outputs": [],
   "source": [
    "def sum2(nums):\n",
    "    new_nums = 0\n",
    "    \n",
    "    if len(nums) == 0:\n",
    "        pass\n",
    "    elif len(nums) <2:\n",
    "        new_nums = nums\n",
    "    else:\n",
    "        new_nums = nums[0] + nums[1]\n",
    "    return new_nums\n",
    "       "
   ]
  },
  {
   "cell_type": "code",
   "execution_count": 60,
   "id": "da1f776d",
   "metadata": {},
   "outputs": [
    {
     "data": {
      "text/plain": [
       "9"
      ]
     },
     "execution_count": 60,
     "metadata": {},
     "output_type": "execute_result"
    }
   ],
   "source": [
    "sum2([3, 6, 7])"
   ]
  },
  {
   "cell_type": "code",
   "execution_count": 63,
   "id": "316bad2f",
   "metadata": {},
   "outputs": [],
   "source": [
    "def common_end(a, b):\n",
    "    return a[0] == b[0] or a[-1] == b[-1]\n"
   ]
  },
  {
   "cell_type": "code",
   "execution_count": 64,
   "id": "b3757c93",
   "metadata": {},
   "outputs": [
    {
     "data": {
      "text/plain": [
       "True"
      ]
     },
     "execution_count": 64,
     "metadata": {},
     "output_type": "execute_result"
    }
   ],
   "source": [
    "common_end([1, 2, 3], [7, 3]) "
   ]
  },
  {
   "cell_type": "code",
   "execution_count": 89,
   "id": "f2cc7cb8",
   "metadata": {},
   "outputs": [],
   "source": [
    "def sum13(nums):\n",
    "    after_13 = False\n",
    "    total = 0\n",
    "    \n",
    "    for i in range(len(nums)):\n",
    "        if nums[i] == 13:\n",
    "            \n",
    "            "
   ]
  },
  {
   "cell_type": "code",
   "execution_count": 90,
   "id": "888bb978",
   "metadata": {},
   "outputs": [
    {
     "ename": "TypeError",
     "evalue": "'list' object cannot be interpreted as an integer",
     "output_type": "error",
     "traceback": [
      "\u001b[1;31m---------------------------------------------------------------------------\u001b[0m",
      "\u001b[1;31mTypeError\u001b[0m                                 Traceback (most recent call last)",
      "Cell \u001b[1;32mIn[90], line 1\u001b[0m\n\u001b[1;32m----> 1\u001b[0m \u001b[43msum13\u001b[49m\u001b[43m(\u001b[49m\u001b[43m[\u001b[49m\u001b[38;5;241;43m1\u001b[39;49m\u001b[43m,\u001b[49m\u001b[43m \u001b[49m\u001b[38;5;241;43m2\u001b[39;49m\u001b[43m,\u001b[49m\u001b[43m \u001b[49m\u001b[38;5;241;43m2\u001b[39;49m\u001b[43m,\u001b[49m\u001b[43m \u001b[49m\u001b[38;5;241;43m1\u001b[39;49m\u001b[43m,\u001b[49m\u001b[43m \u001b[49m\u001b[38;5;241;43m13\u001b[39;49m\u001b[43m]\u001b[49m\u001b[43m)\u001b[49m\n",
      "Cell \u001b[1;32mIn[89], line 4\u001b[0m, in \u001b[0;36msum13\u001b[1;34m(nums)\u001b[0m\n\u001b[0;32m      1\u001b[0m \u001b[38;5;28;01mdef\u001b[39;00m \u001b[38;5;21msum13\u001b[39m(nums):\n\u001b[0;32m      2\u001b[0m     new_nums \u001b[38;5;241m=\u001b[39m []\n\u001b[1;32m----> 4\u001b[0m     \u001b[38;5;28;01mfor\u001b[39;00m i \u001b[38;5;129;01min\u001b[39;00m \u001b[38;5;28;43mrange\u001b[39;49m\u001b[43m(\u001b[49m\u001b[43mnums\u001b[49m\u001b[43m)\u001b[49m:\n\u001b[0;32m      5\u001b[0m         \u001b[38;5;28;01mif\u001b[39;00m nums[i] \u001b[38;5;241m==\u001b[39m \u001b[38;5;241m13\u001b[39m:\n\u001b[0;32m      6\u001b[0m             i \u001b[38;5;241m+\u001b[39m \u001b[38;5;241m2\u001b[39m\n",
      "\u001b[1;31mTypeError\u001b[0m: 'list' object cannot be interpreted as an integer"
     ]
    }
   ],
   "source": [
    "sum13([1, 2, 2, 1, 13])"
   ]
  },
  {
   "cell_type": "code",
   "execution_count": null,
   "id": "116c6466",
   "metadata": {},
   "outputs": [],
   "source": []
  },
  {
   "cell_type": "code",
   "execution_count": null,
   "id": "8f38794f",
   "metadata": {},
   "outputs": [],
   "source": []
  }
 ],
 "metadata": {
  "kernelspec": {
   "display_name": "Python 3 (ipykernel)",
   "language": "python",
   "name": "python3"
  },
  "language_info": {
   "codemirror_mode": {
    "name": "ipython",
    "version": 3
   },
   "file_extension": ".py",
   "mimetype": "text/x-python",
   "name": "python",
   "nbconvert_exporter": "python",
   "pygments_lexer": "ipython3",
   "version": "3.11.4"
  }
 },
 "nbformat": 4,
 "nbformat_minor": 5
}
