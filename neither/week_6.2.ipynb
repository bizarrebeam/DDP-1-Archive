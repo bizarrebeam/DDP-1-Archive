{
 "cells": [
  {
   "cell_type": "code",
   "execution_count": null,
   "id": "dbce05ad",
   "metadata": {},
   "outputs": [],
   "source": [
    "result = 1\n",
    "for i in range(1,5):\n",
    "    result *= i\n",
    "    print(f\"i = {i} then {result}\")"
   ]
  },
  {
   "cell_type": "code",
   "execution_count": null,
   "id": "223fbbc2",
   "metadata": {},
   "outputs": [],
   "source": [
    "int_list = list()\n",
    "for i in range(100):\n",
    "    int_list.append(i)\n",
    "print(int_list)\n"
   ]
  },
  {
   "cell_type": "code",
   "execution_count": null,
   "id": "1de47a7b",
   "metadata": {},
   "outputs": [],
   "source": [
    "a_list = [1, 12, 5, 12]\n",
    "print(a_list.remove(12))"
   ]
  },
  {
   "cell_type": "code",
   "execution_count": null,
   "id": "74540c65",
   "metadata": {},
   "outputs": [],
   "source": [
    "my_list = [4, 7, 1, 2]\n",
    "my_list.sort()"
   ]
  },
  {
   "cell_type": "code",
   "execution_count": null,
   "id": "20953bf7",
   "metadata": {},
   "outputs": [],
   "source": [
    "my_list"
   ]
  },
  {
   "cell_type": "code",
   "execution_count": null,
   "id": "8e26018e",
   "metadata": {},
   "outputs": [],
   "source": [
    "my_list = [4, 7, 1, 2]\n",
    "my_list.pop()"
   ]
  },
  {
   "cell_type": "code",
   "execution_count": null,
   "id": "d07f7de8",
   "metadata": {},
   "outputs": [],
   "source": [
    "my_list = [4, 7, 1, 2]\n",
    "my_list.append([1,2])"
   ]
  },
  {
   "cell_type": "code",
   "execution_count": null,
   "id": "4930867c",
   "metadata": {},
   "outputs": [],
   "source": [
    "my_list"
   ]
  },
  {
   "cell_type": "code",
   "execution_count": null,
   "id": "d2ac92cf",
   "metadata": {},
   "outputs": [],
   "source": [
    "my_list = [4, 7, 1, 2]\n",
    "my_list.extend([1,2])"
   ]
  },
  {
   "cell_type": "code",
   "execution_count": null,
   "id": "1e136f10",
   "metadata": {},
   "outputs": [],
   "source": [
    "my_list"
   ]
  },
  {
   "cell_type": "code",
   "execution_count": null,
   "id": "afb18347",
   "metadata": {},
   "outputs": [],
   "source": [
    "x = ['3','6','1','2','6','2']\n",
    "print('\\t'.join(x))\n",
    "print(', '.join(x))\n",
    "print('\\n'.join(x))"
   ]
  },
  {
   "cell_type": "code",
   "execution_count": null,
   "id": "3847dea9",
   "metadata": {},
   "outputs": [],
   "source": [
    "import copy\n",
    "a_list = [1, 2, 3]\n",
    "b_list = [5, 6, 7]\n",
    "a_list.append(b_list)\n",
    "d_list = copy.deepcopy(a_list)\n",
    "d_list[0] = 9\n",
    "c_list = b_list\n",
    "c_list[2] = 88\n",
    "print(a_list)\n",
    "print(b_list)\n",
    "print(c_list)\n",
    "print(d_list)"
   ]
  },
  {
   "cell_type": "code",
   "execution_count": null,
   "id": "3827c690",
   "metadata": {},
   "outputs": [],
   "source": [
    "import copy"
   ]
  },
  {
   "cell_type": "code",
   "execution_count": null,
   "id": "9ab9eb3b",
   "metadata": {},
   "outputs": [],
   "source": [
    "a_list = [1, 2, 3]\n",
    "b_list = [5, 6, 7]"
   ]
  },
  {
   "cell_type": "code",
   "execution_count": null,
   "id": "b1828e58",
   "metadata": {},
   "outputs": [],
   "source": [
    "a_list.append(b_list)"
   ]
  },
  {
   "cell_type": "code",
   "execution_count": null,
   "id": "1b81d83e",
   "metadata": {},
   "outputs": [],
   "source": [
    "a_list"
   ]
  },
  {
   "cell_type": "code",
   "execution_count": null,
   "id": "47a464b1",
   "metadata": {},
   "outputs": [],
   "source": [
    "d_list = copy.deepcopy(a_list)"
   ]
  },
  {
   "cell_type": "code",
   "execution_count": null,
   "id": "eb5d0a88",
   "metadata": {},
   "outputs": [],
   "source": [
    "d_list"
   ]
  },
  {
   "cell_type": "code",
   "execution_count": null,
   "id": "6c9c169c",
   "metadata": {},
   "outputs": [],
   "source": [
    "d_list[0] = 9"
   ]
  },
  {
   "cell_type": "code",
   "execution_count": null,
   "id": "2d18f528",
   "metadata": {},
   "outputs": [],
   "source": [
    "d_list"
   ]
  },
  {
   "cell_type": "code",
   "execution_count": null,
   "id": "a069733b",
   "metadata": {},
   "outputs": [],
   "source": [
    "a_list"
   ]
  },
  {
   "cell_type": "code",
   "execution_count": null,
   "id": "1a665399",
   "metadata": {},
   "outputs": [],
   "source": [
    "c_list = b_list"
   ]
  },
  {
   "cell_type": "code",
   "execution_count": null,
   "id": "f5b12ed4",
   "metadata": {},
   "outputs": [],
   "source": [
    "c_list"
   ]
  },
  {
   "cell_type": "code",
   "execution_count": null,
   "id": "b7dc38d4",
   "metadata": {},
   "outputs": [],
   "source": [
    "b_list"
   ]
  },
  {
   "cell_type": "code",
   "execution_count": null,
   "id": "370f0d3b",
   "metadata": {},
   "outputs": [],
   "source": [
    "c_list[2] = 88"
   ]
  },
  {
   "cell_type": "code",
   "execution_count": null,
   "id": "f272de08",
   "metadata": {},
   "outputs": [],
   "source": [
    "c_list"
   ]
  },
  {
   "cell_type": "code",
   "execution_count": null,
   "id": "08809332",
   "metadata": {},
   "outputs": [],
   "source": [
    "b_list"
   ]
  },
  {
   "cell_type": "code",
   "execution_count": null,
   "id": "aa5e84d2",
   "metadata": {},
   "outputs": [],
   "source": [
    "a_list"
   ]
  },
  {
   "cell_type": "markdown",
   "id": "3944272e",
   "metadata": {},
   "source": [
    "# kuis"
   ]
  },
  {
   "cell_type": "code",
   "execution_count": null,
   "id": "374b6616",
   "metadata": {},
   "outputs": [],
   "source": [
    "try:\n",
    "\n",
    "    if (y > 0):\n",
    "\n",
    "        result = x / y\n",
    "\n",
    "    print(\"Hasil: \" + result)\n",
    "\n",
    "except ZeroDivisionError:\n",
    "\n",
    "    print(\"Tidak bisa membagi dengan 0!\")\n",
    "\n",
    "except NameError:\n",
    "\n",
    "    print(\"Variabel belum diinisiasi!\")\n",
    "\n",
    "except:\n",
    "\n",
    "    print(\"Error tidak diketahui!\")"
   ]
  },
  {
   "cell_type": "code",
   "execution_count": null,
   "id": "0284c2c5",
   "metadata": {},
   "outputs": [],
   "source": [
    "\n",
    "def mystery(number):\n",
    "\n",
    "    if number % 2 == 1:\n",
    "\n",
    "        return True\n",
    "\n",
    "    return False"
   ]
  },
  {
   "cell_type": "code",
   "execution_count": null,
   "id": "fd7b0315",
   "metadata": {},
   "outputs": [],
   "source": [
    "mystery(4)"
   ]
  },
  {
   "cell_type": "code",
   "execution_count": null,
   "id": "bd1402c6",
   "metadata": {},
   "outputs": [],
   "source": [
    "mystery(5)"
   ]
  },
  {
   "cell_type": "code",
   "execution_count": null,
   "id": "8bea6ab9",
   "metadata": {},
   "outputs": [],
   "source": [
    "todo_list = [\"wake up\", \"coffee\", \"rest\"]\n",
    "\n",
    "todo_list = todo_list + [\"massage\"]\n",
    "\n",
    "todo_list[0] = \"sleep\"\n",
    "\n",
    "todo_list[2] = \"rebahan\"\n",
    "\n",
    "todo_list += [\"programming\"]\n",
    "\n",
    "print(todo_list[1:])"
   ]
  },
  {
   "cell_type": "code",
   "execution_count": 12,
   "id": "2b49cdee",
   "metadata": {},
   "outputs": [],
   "source": [
    "def surprise(x):\n",
    "\n",
    "    for i in range(x):\n",
    "        print(i)\n",
    "        if i > 3:\n",
    "            print(f\"this is {x} minus {i} result {x-i}\")\n",
    "            print(i)\n",
    "\n",
    "            return"
   ]
  },
  {
   "cell_type": "code",
   "execution_count": 13,
   "id": "9b7083d0",
   "metadata": {},
   "outputs": [
    {
     "name": "stdout",
     "output_type": "stream",
     "text": [
      "0\n",
      "1\n",
      "2\n",
      "3\n",
      "4\n",
      "this is 7 minus 4 result 3\n",
      "4\n"
     ]
    }
   ],
   "source": [
    "surprise(7)"
   ]
  },
  {
   "cell_type": "markdown",
   "id": "6381314b",
   "metadata": {},
   "source": [
    "'r': open for reading (default)\n",
    "\n",
    "'w': open for writing, truncating the file first\n",
    "\n",
    "'x': open for exclusive creation, failing if the file already exists\n",
    "\n",
    "'a': open for writing, appending to the end of the file if it exists\n",
    "\n",
    "'b': binary mode\n",
    "\n",
    "'t': text mode (default)\n",
    "\n",
    "'+': open a disk file for updating (reading and writing)\n",
    "\n",
    "'U': universal newlines mode (deprecated)"
   ]
  },
  {
   "cell_type": "code",
   "execution_count": null,
   "id": "80184fa5",
   "metadata": {},
   "outputs": [],
   "source": [
    "def hayo(lst):\n",
    "\n",
    "    print(sum(lst)/len(lst))\n",
    "\n",
    "a = [int(i) for i in input().split()] # contoh input: 1 2 1 3 6 5 8 2\n",
    "\n",
    "hayo(a)"
   ]
  },
  {
   "cell_type": "code",
   "execution_count": null,
   "id": "2d26e41e",
   "metadata": {},
   "outputs": [],
   "source": [
    "sum(a)"
   ]
  },
  {
   "cell_type": "code",
   "execution_count": null,
   "id": "edb0a63c",
   "metadata": {},
   "outputs": [],
   "source": [
    "sum(a)/len(a)"
   ]
  },
  {
   "cell_type": "code",
   "execution_count": null,
   "id": "72d439c3",
   "metadata": {},
   "outputs": [],
   "source": [
    "\n",
    "def hmm(x, y):\n",
    "\n",
    "    if x > 19 and y < 1:\n",
    "\n",
    "        print(\"bukan\")\n",
    "\n",
    "    elif x < 15:\n",
    "\n",
    "        print(\"bukan\")\n",
    "\n",
    "    elif y >  10:\n",
    "\n",
    "        print(\"bukan\")\n",
    "\n",
    "    else:\n",
    "\n",
    "        print(\"akhirnya benar\")\n"
   ]
  },
  {
   "cell_type": "code",
   "execution_count": null,
   "id": "fbfe2810",
   "metadata": {},
   "outputs": [],
   "source": [
    "hmm(17, 7)"
   ]
  },
  {
   "cell_type": "code",
   "execution_count": null,
   "id": "f2df6db0",
   "metadata": {},
   "outputs": [],
   "source": [
    "def hi(name = \"Stranger\"):\n",
    "\n",
    "    print(\"Halo, \" + name + \"!\")\n",
    "\n",
    " \n",
    "\n",
    "hi()"
   ]
  },
  {
   "cell_type": "code",
   "execution_count": null,
   "id": "27b959a1",
   "metadata": {},
   "outputs": [],
   "source": [
    "print([i for i in range(2, 11, 2)])"
   ]
  },
  {
   "cell_type": "code",
   "execution_count": 1,
   "id": "6407a674",
   "metadata": {},
   "outputs": [
    {
     "name": "stdout",
     "output_type": "stream",
     "text": [
      "Variabel belum diinisiasi!\n"
     ]
    }
   ],
   "source": [
    "try:\n",
    "\n",
    "    if (y > 0):\n",
    "\n",
    "        result = x / y\n",
    "\n",
    "    print(\"Hasil: \" + result)\n",
    "\n",
    "except ZeroDivisionError:\n",
    "\n",
    "    print(\"Tidak bisa membagi dengan 0!\")\n",
    "\n",
    "except NameError:\n",
    "\n",
    "    print(\"Variabel belum diinisiasi!\")\n",
    "\n",
    "except:\n",
    "\n",
    "    print(\"Error tidak diketahui!\")"
   ]
  },
  {
   "cell_type": "code",
   "execution_count": null,
   "id": "cdcac311",
   "metadata": {},
   "outputs": [],
   "source": []
  },
  {
   "cell_type": "code",
   "execution_count": null,
   "id": "e10cc30d",
   "metadata": {},
   "outputs": [],
   "source": []
  }
 ],
 "metadata": {
  "kernelspec": {
   "display_name": "Python 3 (ipykernel)",
   "language": "python",
   "name": "python3"
  },
  "language_info": {
   "codemirror_mode": {
    "name": "ipython",
    "version": 3
   },
   "file_extension": ".py",
   "mimetype": "text/x-python",
   "name": "python",
   "nbconvert_exporter": "python",
   "pygments_lexer": "ipython3",
   "version": "3.11.4"
  }
 },
 "nbformat": 4,
 "nbformat_minor": 5
}
