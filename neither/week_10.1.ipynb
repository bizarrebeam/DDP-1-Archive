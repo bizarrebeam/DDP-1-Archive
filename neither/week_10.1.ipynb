{
 "cells": [
  {
   "cell_type": "code",
   "execution_count": 1,
   "metadata": {},
   "outputs": [],
   "source": [
    "class Item:\n",
    "    def calculateTotalPrice(self, price, quantity): # function within class called method\n",
    "        return price * quantity"
   ]
  },
  {
   "cell_type": "code",
   "execution_count": 2,
   "metadata": {},
   "outputs": [],
   "source": [
    "item1 = Item()\n",
    "item1.name = \"Phone\"\n",
    "item1.price = 100\n",
    "item1.quantity = 5\n",
    "\n",
    "item2 = Item()\n",
    "item2.name = \"Macbook\"\n",
    "item2.price = 50\n",
    "item2.quantity = 10\n"
   ]
  },
  {
   "cell_type": "code",
   "execution_count": 3,
   "metadata": {},
   "outputs": [
    {
     "data": {
      "text/plain": [
       "500"
      ]
     },
     "execution_count": 3,
     "metadata": {},
     "output_type": "execute_result"
    }
   ],
   "source": [
    "item1.calculateTotalPrice(item1.price, item1.quantity)"
   ]
  },
  {
   "cell_type": "markdown",
   "metadata": {},
   "source": [
    "see that we need to define a variable to pass in as ana argument to the methods, and that's quite tiresome. that's when __init__ come as the rescue\n",
    "\n",
    "init method would be called automatically!"
   ]
  },
  {
   "cell_type": "code",
   "execution_count": 4,
   "metadata": {},
   "outputs": [],
   "source": [
    "class Item:\n",
    "    def __init__(self) -> None:\n",
    "        print(\"I am created!\")\n",
    "    def calculateTotalPrice(self, price, quantity): # function within class called method\n",
    "        return price * quantity"
   ]
  },
  {
   "cell_type": "code",
   "execution_count": 5,
   "metadata": {},
   "outputs": [
    {
     "name": "stdout",
     "output_type": "stream",
     "text": [
      "I am created!\n"
     ]
    }
   ],
   "source": [
    "item1 = Item()"
   ]
  },
  {
   "cell_type": "code",
   "execution_count": 8,
   "metadata": {},
   "outputs": [],
   "source": [
    "class Item:\n",
    "    def __init__(self, name ):\n",
    "        print(f\"An instance {name} was created\")\n",
    "        self.name = name\n",
    "    def calculateTotalPrice(self, price, quantity): \n",
    "        return price * quantity"
   ]
  },
  {
   "cell_type": "code",
   "execution_count": 9,
   "metadata": {},
   "outputs": [
    {
     "name": "stdout",
     "output_type": "stream",
     "text": [
      "An instance Phone was created\n"
     ]
    }
   ],
   "source": [
    "item1 = Item(\"Phone\")"
   ]
  },
  {
   "cell_type": "code",
   "execution_count": 10,
   "metadata": {},
   "outputs": [
    {
     "data": {
      "text/plain": [
       "'Phone'"
      ]
     },
     "execution_count": 10,
     "metadata": {},
     "output_type": "execute_result"
    }
   ],
   "source": [
    "item1.name"
   ]
  },
  {
   "cell_type": "markdown",
   "metadata": {},
   "source": [
    "let's complete this to make it way more readable and callable...."
   ]
  },
  {
   "cell_type": "code",
   "execution_count": 11,
   "metadata": {},
   "outputs": [],
   "source": [
    "class Item:\n",
    "    def __init__(self, name, price, quantity ):\n",
    "        print(f\"An instance {name} was created\")\n",
    "        self.name = name\n",
    "        self.price = price\n",
    "        self.quantity = quantity\n",
    "    def calculateTotalPrice(self, price, quantity): \n",
    "        return price * quantity\n",
    "    "
   ]
  },
  {
   "cell_type": "code",
   "execution_count": 12,
   "metadata": {},
   "outputs": [
    {
     "name": "stdout",
     "output_type": "stream",
     "text": [
      "An instance Macbook was created\n"
     ]
    }
   ],
   "source": [
    "item1 = Item(\"Macbook\", 100, 50)"
   ]
  },
  {
   "cell_type": "code",
   "execution_count": 15,
   "metadata": {},
   "outputs": [
    {
     "ename": "TypeError",
     "evalue": "Item.calculateTotalPrice() missing 1 required positional argument: 'quantity'",
     "output_type": "error",
     "traceback": [
      "\u001b[1;31m---------------------------------------------------------------------------\u001b[0m",
      "\u001b[1;31mTypeError\u001b[0m                                 Traceback (most recent call last)",
      "\u001b[1;32mc:\\Users\\adelya\\Downloads\\code\\ddp-1\\neither\\week_10.1.ipynb Cell 13\u001b[0m line \u001b[0;36m1\n\u001b[1;32m----> <a href='vscode-notebook-cell:/c%3A/Users/adelya/Downloads/code/ddp-1/neither/week_10.1.ipynb#X23sZmlsZQ%3D%3D?line=0'>1</a>\u001b[0m i \u001b[39m=\u001b[39m Item\u001b[39m.\u001b[39;49mcalculateTotalPrice(\u001b[39m100\u001b[39;49m, \u001b[39m50\u001b[39;49m)\n",
      "\u001b[1;31mTypeError\u001b[0m: Item.calculateTotalPrice() missing 1 required positional argument: 'quantity'"
     ]
    }
   ],
   "source": [
    "i = Item.calculateTotalPrice(100, 50) # nah, the problem now\n",
    "# is how to call the methods..."
   ]
  },
  {
   "cell_type": "code",
   "execution_count": 16,
   "metadata": {},
   "outputs": [],
   "source": [
    "# let's fix that\n",
    "class Item:\n",
    "    def __init__(self, name, price, quantity ):\n",
    "        print(f\"An instance {name} was created\")\n",
    "        self.name = name\n",
    "        self.price = price\n",
    "        self.quantity = quantity\n",
    "\n",
    "    def calculateTotalPrice(self): \n",
    "        return self.price * self.quantity\n",
    "        \n"
   ]
  },
  {
   "cell_type": "code",
   "execution_count": 17,
   "metadata": {},
   "outputs": [
    {
     "name": "stdout",
     "output_type": "stream",
     "text": [
      "An instance Phone was created\n",
      "An instance Macbook was created\n"
     ]
    }
   ],
   "source": [
    "item1 = Item(\"Phone\", 100, 5)\n",
    "item2 = Item(\"Macbook\", 50, 5)"
   ]
  },
  {
   "cell_type": "code",
   "execution_count": 19,
   "metadata": {},
   "outputs": [
    {
     "data": {
      "text/plain": [
       "500"
      ]
     },
     "execution_count": 19,
     "metadata": {},
     "output_type": "execute_result"
    }
   ],
   "source": [
    "item1.calculateTotalPrice()"
   ]
  },
  {
   "cell_type": "code",
   "execution_count": 20,
   "metadata": {},
   "outputs": [],
   "source": [
    "# gonna wrote a whole, proper code\n",
    "class Item:\n",
    "\n",
    "    pay_rate = 0.8 # I want to apply 20% discount\n",
    "    # So this class attribute are accessible only by 2 ways: thru class level\n",
    "     # or through instance level. We can't call them right away!\n",
    "\n",
    "    def __init__(self, name, price, quantity ):\n",
    "       \n",
    "        assert price >= 0, \"The value is invalid\"\n",
    "        assert quantity >= 0, \"The value is invalid\"\n",
    "\n",
    "        self.name = name\n",
    "        self.price = price\n",
    "        self.quantity = quantity\n",
    "\n",
    "    def calculateTotalPrice(self): \n",
    "        return self.price * self.quantity\n",
    "    \n",
    "    def applyDiscount(self):\n",
    "        self.price = self.price * Item.pay_rate # call thru class level\n"
   ]
  },
  {
   "cell_type": "code",
   "execution_count": 21,
   "metadata": {},
   "outputs": [
    {
     "name": "stdout",
     "output_type": "stream",
     "text": [
      "0.8\n"
     ]
    }
   ],
   "source": [
    "# this is what i mean by calling the attribute\n",
    "print(Item.pay_rate)"
   ]
  },
  {
   "cell_type": "code",
   "execution_count": 25,
   "metadata": {},
   "outputs": [
    {
     "name": "stdout",
     "output_type": "stream",
     "text": [
      "0.8\n"
     ]
    }
   ],
   "source": [
    "item1 = Item(\"Phone\", 100, 5)\n",
    "print(item1.pay_rate)\n",
    "\n",
    "# it will search into this global attribute"
   ]
  },
  {
   "cell_type": "code",
   "execution_count": 28,
   "metadata": {},
   "outputs": [
    {
     "data": {
      "text/plain": [
       "80.0"
      ]
     },
     "execution_count": 28,
     "metadata": {},
     "output_type": "execute_result"
    }
   ],
   "source": [
    "# back to the created new method\n",
    "item1 = Item(\"Phone\", 100, 5)\n",
    "item1.applyDiscount() # let's take a glance that this function modify the\n",
    "    # price so it returns nothing\n",
    "\n",
    "# but let's print the updated price\n",
    "item1.price"
   ]
  },
  {
   "cell_type": "markdown",
   "metadata": {},
   "source": [
    "accessing thru class level is quite tricky because it is global\n",
    "and will keep 'permanent' (didn't want to overwrite) any changes i made outside class to modify the method. let's say i want for a particular instance, the discount is 30% not 20%"
   ]
  },
  {
   "cell_type": "code",
   "execution_count": 30,
   "metadata": {},
   "outputs": [
    {
     "data": {
      "text/plain": [
       "80.0"
      ]
     },
     "execution_count": 30,
     "metadata": {},
     "output_type": "execute_result"
    }
   ],
   "source": [
    "item1 = Item(\"Phone\", 100, 5)\n",
    "item1.pay_rate  = 0.7\n",
    "item1.applyDiscount()\n",
    "item1.price # see it is still 80"
   ]
  },
  {
   "cell_type": "code",
   "execution_count": 32,
   "metadata": {},
   "outputs": [],
   "source": [
    "# but if i make the way to call the attribute thru the instance level...\n",
    "class Item:\n",
    "\n",
    "    pay_rate = 0.8 \n",
    "\n",
    "    def __init__(self, name, price, quantity ):\n",
    "       \n",
    "        assert price >= 0, \"The value is invalid\"\n",
    "        assert quantity >= 0, \"The value is invalid\"\n",
    "\n",
    "        self.name = name\n",
    "        self.price = price\n",
    "        self.quantity = quantity\n",
    "\n",
    "    def calculateTotalPrice(self): \n",
    "        return self.price * self.quantity\n",
    "    \n",
    "    def applyDiscount(self):\n",
    "        self.price = self.price * self.pay_rate # call thru instance level\n"
   ]
  },
  {
   "cell_type": "code",
   "execution_count": 33,
   "metadata": {},
   "outputs": [
    {
     "data": {
      "text/plain": [
       "70.0"
      ]
     },
     "execution_count": 33,
     "metadata": {},
     "output_type": "execute_result"
    }
   ],
   "source": [
    "item1 = Item(\"Phone\", 100, 5)\n",
    "item1.pay_rate  = 0.7\n",
    "item1.applyDiscount()\n",
    "item1.price # it gimme the desired output"
   ]
  },
  {
   "cell_type": "markdown",
   "metadata": {},
   "source": [
    "okay, take this as i want to print all the elements in a dict (object), but calling them one by one is tiresome. here's we modified our class"
   ]
  },
  {
   "cell_type": "code",
   "execution_count": 34,
   "metadata": {},
   "outputs": [],
   "source": [
    "class Item:\n",
    "\n",
    "    pay_rate = 0.8 \n",
    "    all = [] # store in a list\n",
    "\n",
    "    def __init__(self, name, price, quantity ):\n",
    "       \n",
    "        assert price >= 0, \"The value is invalid\"\n",
    "        assert quantity >= 0, \"The value is invalid\"\n",
    "\n",
    "        self.name = name\n",
    "        self.price = price\n",
    "        self.quantity = quantity\n",
    "\n",
    "        # after instantiated the self object, it's time to store into the list\n",
    "        Item.all.append(self)\n",
    "\n",
    "    def calculateTotalPrice(self): \n",
    "        return self.price * self.quantity\n",
    "    \n",
    "    def applyDiscount(self):\n",
    "        self.price = self.price * self.pay_rate "
   ]
  },
  {
   "cell_type": "code",
   "execution_count": 35,
   "metadata": {},
   "outputs": [],
   "source": [
    "# here's all my data\n",
    "item1 = Item(\"Sumsang\", 100, 5)\n",
    "item2 = Item(\"Aipon\", 200, 6)\n",
    "item3 = Item(\"Xiomay\", 300, 7)\n",
    "item4 = Item(\"Blackcurrent\", 400, 8)\n",
    "item5 = Item(\"Realmeh\", 500, 9)"
   ]
  },
  {
   "cell_type": "code",
   "execution_count": 36,
   "metadata": {},
   "outputs": [
    {
     "name": "stdout",
     "output_type": "stream",
     "text": [
      "Sumsang\n",
      "Aipon\n",
      "Xiomay\n",
      "Blackcurrent\n",
      "Realmeh\n"
     ]
    }
   ],
   "source": [
    "for instance in Item.all:\n",
    "    print(instance.name)"
   ]
  },
  {
   "cell_type": "markdown",
   "metadata": {},
   "source": [
    "virtual assistant:\n",
    "attribute -- nama, bahasa, lingkup bahasa\n",
    "\n",
    "methods: menerima pertanyaan, mengidentifikasi bahasa, update pengtahuan"
   ]
  },
  {
   "cell_type": "markdown",
   "metadata": {},
   "source": [
    "## ini contoh dari kelas"
   ]
  },
  {
   "cell_type": "code",
   "execution_count": 37,
   "metadata": {},
   "outputs": [],
   "source": [
    "class Car:\n",
    "\n",
    "    wheels = 4 # attribute\n",
    "\n",
    "    def __init__(self, color): # constructor\n",
    "        self.color = color # this block of code contain object/instance\n",
    "        self.isOn = False # even not passed in param, could define it here\n",
    "\n",
    "    def startTheCar(self): # method\n",
    "        self.isOn = True\n",
    "        print(\"Car starts!\")\n",
    "    \n",
    "    def stopTheCar(self): # method\n",
    "        self.isOn = False\n",
    "        print(\"Car stops!\")\n"
   ]
  },
  {
   "cell_type": "code",
   "execution_count": 52,
   "metadata": {},
   "outputs": [],
   "source": [
    "class House:\n",
    "\n",
    "    floorNum = 1\n",
    "\n",
    "    def __init__(self, color=\"putih\") -> None:\n",
    "        self.color = color\n",
    "    \n",
    "    def getColor(self):\n",
    "        print(\"Your house is {} colored!\".format(self.color))\n",
    "        # kalo dari ppt, di sini return self.color\n",
    "\n",
    "    def changeColor(self, newColor):\n",
    "        self.color = newColor\n",
    "        print(\"Your house right now is {} colored!\".format(self.color))\n",
    "\n",
    "    def bedahRumah(self, newFloorNum):\n",
    "        self.floorNum = newFloorNum\n",
    "        print(\n",
    "            \"Your house right now is upgraded to {} floor!\".format(self.floorNum))"
   ]
  },
  {
   "cell_type": "code",
   "execution_count": 53,
   "metadata": {},
   "outputs": [],
   "source": [
    "myHouse = House()"
   ]
  },
  {
   "cell_type": "code",
   "execution_count": 54,
   "metadata": {},
   "outputs": [
    {
     "name": "stdout",
     "output_type": "stream",
     "text": [
      "Your house is putih colored!\n"
     ]
    }
   ],
   "source": [
    "myHouse.getColor()"
   ]
  },
  {
   "cell_type": "code",
   "execution_count": 55,
   "metadata": {},
   "outputs": [
    {
     "name": "stdout",
     "output_type": "stream",
     "text": [
      "Your house right now is red colored!\n"
     ]
    }
   ],
   "source": [
    "myHouse.changeColor(\"red\")"
   ]
  },
  {
   "cell_type": "code",
   "execution_count": 56,
   "metadata": {},
   "outputs": [
    {
     "name": "stdout",
     "output_type": "stream",
     "text": [
      "Your house right now is upgraded to 3 floor!\n"
     ]
    }
   ],
   "source": [
    "myHouse.bedahRumah(3)"
   ]
  },
  {
   "cell_type": "code",
   "execution_count": 65,
   "metadata": {},
   "outputs": [],
   "source": [
    "class Cube:\n",
    "\n",
    "    def __init__(self, length = 1) -> None:\n",
    "        self.length = length\n",
    "\n",
    "    def get_volume(self):\n",
    "        return self.length ** 3\n",
    "\n",
    "    "
   ]
  },
  {
   "cell_type": "code",
   "execution_count": 66,
   "metadata": {},
   "outputs": [],
   "source": [
    "my_cube = Cube(8)"
   ]
  },
  {
   "cell_type": "code",
   "execution_count": 67,
   "metadata": {},
   "outputs": [
    {
     "data": {
      "text/plain": [
       "512"
      ]
     },
     "execution_count": 67,
     "metadata": {},
     "output_type": "execute_result"
    }
   ],
   "source": [
    "my_cube.get_volume()"
   ]
  },
  {
   "cell_type": "code",
   "execution_count": 69,
   "metadata": {},
   "outputs": [
    {
     "data": {
      "text/plain": [
       "8"
      ]
     },
     "execution_count": 69,
     "metadata": {},
     "output_type": "execute_result"
    }
   ],
   "source": [
    "my_cube.length # calling object needs no ()"
   ]
  },
  {
   "cell_type": "code",
   "execution_count": 73,
   "metadata": {},
   "outputs": [],
   "source": [
    "class Truck:\n",
    "\n",
    "    def __init__(self, color, year) -> None:\n",
    "        self.color = color\n",
    "        self.year = year\n",
    "    \n",
    "    def __str__(self) -> str:\n",
    "        return \"{} truck from {}\".format(self.color, self.year)"
   ]
  },
  {
   "cell_type": "code",
   "execution_count": 78,
   "metadata": {},
   "outputs": [],
   "source": [
    "my_truck = Truck(\"Invisible\", 2050)"
   ]
  },
  {
   "cell_type": "code",
   "execution_count": 79,
   "metadata": {},
   "outputs": [
    {
     "data": {
      "text/plain": [
       "'Invisible truck from 2050'"
      ]
     },
     "execution_count": 79,
     "metadata": {},
     "output_type": "execute_result"
    }
   ],
   "source": [
    "my_truck.__str__()"
   ]
  },
  {
   "cell_type": "code",
   "execution_count": 81,
   "metadata": {},
   "outputs": [
    {
     "name": "stdout",
     "output_type": "stream",
     "text": [
      "Invisible truck from 2050\n"
     ]
    }
   ],
   "source": [
    "print(my_truck) # python would know to print which string right away"
   ]
  },
  {
   "cell_type": "code",
   "execution_count": 85,
   "metadata": {},
   "outputs": [],
   "source": [
    "class Person:\n",
    "\n",
    "    def __init__(self, name=\"Unknown\", age = -1):\n",
    "\n",
    "        assert age >= -1, \"Age should be valid!\"\n",
    "\n",
    "        self.name = name\n",
    "        self.age = age\n",
    "    \n",
    "    def __str__(self) -> str:\n",
    "        return \"Hi, it's me, {}!\".format(self.name)\n",
    "    \n",
    "    def get_age(self):\n",
    "        return self.age"
   ]
  },
  {
   "cell_type": "code",
   "execution_count": 86,
   "metadata": {},
   "outputs": [],
   "source": [
    "student = Person(\"Naura\", 18)"
   ]
  },
  {
   "cell_type": "code",
   "execution_count": 87,
   "metadata": {},
   "outputs": [
    {
     "name": "stdout",
     "output_type": "stream",
     "text": [
      "Hi, it's me, Naura\n"
     ]
    }
   ],
   "source": [
    "print(student)"
   ]
  },
  {
   "cell_type": "code",
   "execution_count": 89,
   "metadata": {},
   "outputs": [
    {
     "data": {
      "text/plain": [
       "18"
      ]
     },
     "execution_count": 89,
     "metadata": {},
     "output_type": "execute_result"
    }
   ],
   "source": [
    "student.get_age()"
   ]
  },
  {
   "cell_type": "code",
   "execution_count": 90,
   "metadata": {},
   "outputs": [
    {
     "ename": "AssertionError",
     "evalue": "Age should be valid",
     "output_type": "error",
     "traceback": [
      "\u001b[1;31m---------------------------------------------------------------------------\u001b[0m",
      "\u001b[1;31mAssertionError\u001b[0m                            Traceback (most recent call last)",
      "\u001b[1;32mc:\\Users\\adelya\\Downloads\\code\\ddp-1\\neither\\week_10.1.ipynb Cell 49\u001b[0m line \u001b[0;36m1\n\u001b[1;32m----> <a href='vscode-notebook-cell:/c%3A/Users/adelya/Downloads/code/ddp-1/neither/week_10.1.ipynb#Y115sZmlsZQ%3D%3D?line=0'>1</a>\u001b[0m student2 \u001b[39m=\u001b[39m Person(\u001b[39m\"\u001b[39;49m\u001b[39mMr X\u001b[39;49m\u001b[39m\"\u001b[39;49m, \u001b[39m-\u001b[39;49m\u001b[39m2\u001b[39;49m)\n",
      "\u001b[1;32mc:\\Users\\adelya\\Downloads\\code\\ddp-1\\neither\\week_10.1.ipynb Cell 49\u001b[0m line \u001b[0;36m5\n\u001b[0;32m      <a href='vscode-notebook-cell:/c%3A/Users/adelya/Downloads/code/ddp-1/neither/week_10.1.ipynb#Y115sZmlsZQ%3D%3D?line=2'>3</a>\u001b[0m \u001b[39mdef\u001b[39;00m \u001b[39m__init__\u001b[39m(\u001b[39mself\u001b[39m, name\u001b[39m=\u001b[39m\u001b[39m\"\u001b[39m\u001b[39mUnknown\u001b[39m\u001b[39m\"\u001b[39m, age \u001b[39m=\u001b[39m \u001b[39m-\u001b[39m\u001b[39m1\u001b[39m):\n\u001b[1;32m----> <a href='vscode-notebook-cell:/c%3A/Users/adelya/Downloads/code/ddp-1/neither/week_10.1.ipynb#Y115sZmlsZQ%3D%3D?line=4'>5</a>\u001b[0m     \u001b[39massert\u001b[39;00m age \u001b[39m>\u001b[39m\u001b[39m=\u001b[39m \u001b[39m-\u001b[39m\u001b[39m1\u001b[39m, \u001b[39m\"\u001b[39m\u001b[39mAge should be valid\u001b[39m\u001b[39m\"\u001b[39m\n\u001b[0;32m      <a href='vscode-notebook-cell:/c%3A/Users/adelya/Downloads/code/ddp-1/neither/week_10.1.ipynb#Y115sZmlsZQ%3D%3D?line=6'>7</a>\u001b[0m     \u001b[39mself\u001b[39m\u001b[39m.\u001b[39mname \u001b[39m=\u001b[39m name\n\u001b[0;32m      <a href='vscode-notebook-cell:/c%3A/Users/adelya/Downloads/code/ddp-1/neither/week_10.1.ipynb#Y115sZmlsZQ%3D%3D?line=7'>8</a>\u001b[0m     \u001b[39mself\u001b[39m\u001b[39m.\u001b[39mage \u001b[39m=\u001b[39m age\n",
      "\u001b[1;31mAssertionError\u001b[0m: Age should be valid"
     ]
    }
   ],
   "source": [
    "student2 = Person(\"Mr X\", -2)"
   ]
  },
  {
   "cell_type": "markdown",
   "metadata": {},
   "source": [
    "## back to freecodecamp"
   ]
  },
  {
   "cell_type": "markdown",
   "metadata": {},
   "source": [
    "how if we want to call this function using data from csv file, so i don't have to bother make a variable to store the data i would call?\n",
    "\n",
    "i could use csv file! we'll read them, then we instantiate the data from csv file to further used in my current class."
   ]
  },
  {
   "cell_type": "code",
   "execution_count": 91,
   "metadata": {},
   "outputs": [],
   "source": [
    "class Item:\n",
    "\n",
    "    pay_rate = 0.8 \n",
    "    all = [] # store in a list\n",
    "\n",
    "    def __init__(self, name, price, quantity ):\n",
    "       \n",
    "        assert price >= 0, \"The value is invalid\"\n",
    "        assert quantity >= 0, \"The value is invalid\"\n",
    "\n",
    "        self.name = name\n",
    "        self.price = price\n",
    "        self.quantity = quantity\n",
    "\n",
    "        # after instantiated the self object, it's time to store into the list\n",
    "        Item.all.append(self)\n",
    "\n",
    "    def calculateTotalPrice(self): \n",
    "        return self.price * self.quantity\n",
    "    \n",
    "    def applyDiscount(self):\n",
    "        self.price = self.price * self.pay_rate "
   ]
  },
  {
   "cell_type": "markdown",
   "metadata": {},
   "source": [
    "it is tempting to make another method here to read the file right away, but since this csv method would instantiate the 'data', we coud only call them thru class, not thru object. \n",
    "\n",
    "we could use decorator to call the class forcsv, put that in my current Item class."
   ]
  },
  {
   "cell_type": "code",
   "execution_count": 107,
   "metadata": {},
   "outputs": [],
   "source": [
    "import csv\n",
    "\n",
    "class Item:\n",
    "\n",
    "    pay_rate = 0.8 \n",
    "    all = [] # store in a list\n",
    "\n",
    "    def __init__(self, name, price, quantity ):\n",
    "       \n",
    "        assert price >= 0, \"The value is invalid\"\n",
    "        assert quantity >= 0, \"The value is invalid\"\n",
    "\n",
    "        self.name = name\n",
    "        self.price = price\n",
    "        self.quantity = quantity\n",
    "\n",
    "        # after instantiated the self object, it's time to store into the list\n",
    "        Item.all.append(self)\n",
    "\n",
    "    def calculateTotalPrice(self): \n",
    "        return self.price * self.quantity\n",
    "    \n",
    "    def applyDiscount(self):\n",
    "        self.price = self.price * self.pay_rate \n",
    "\n",
    "    @classmethod\n",
    "    def instantiateFromCsv(cls):\n",
    "        with open(\"week_10.1.csv\", \"r\") as f:\n",
    "            reader = csv.DictReader(f)\n",
    "            items = list(reader)\n",
    "\n",
    "        for item in items:\n",
    "            Item(\n",
    "                name = item.get(\"name\"),\n",
    "                price = float(item.get(\"price\")),\n",
    "                quantity = float(item.get(\"quantity\")),\n",
    "            )\n",
    "        \n",
    "    def __str__(self): # if not, you'll get memory location instead\n",
    "        return f\"Name: {self.name}, Price: {self.price}, Quantity: {self.quantity}\""
   ]
  },
  {
   "cell_type": "code",
   "execution_count": 108,
   "metadata": {},
   "outputs": [
    {
     "name": "stdout",
     "output_type": "stream",
     "text": [
      "Name: Sumsang, Price: 100.0, Quantity: 5.0\n",
      "Name: Aipon, Price: 200.0, Quantity: 6.0\n",
      "Name: Xiomay, Price: 300.0, Quantity: 7.0\n",
      "Name: Blackcurrent, Price: 400.0, Quantity: 8.0\n",
      "Name: Realmeh, Price: 500.0, Quantity: 9.0\n"
     ]
    }
   ],
   "source": [
    "# we would call it like this\n",
    "Item.instantiateFromCsv()\n",
    "\n",
    "for item in Item.all:\n",
    "    print(item)\n"
   ]
  },
  {
   "cell_type": "code",
   "execution_count": 114,
   "metadata": {},
   "outputs": [
    {
     "name": "stdout",
     "output_type": "stream",
     "text": [
      "True\n"
     ]
    }
   ],
   "source": [
    "num = 7.0\n",
    "\n",
    "def is_integer(num):\n",
    "    if isinstance(num, float):\n",
    "        return num.is_integer()\n",
    "    elif isinstance(num, int):\n",
    "        return True\n",
    "    else:\n",
    "        return False\n",
    "\n",
    "print(is_integer(num))"
   ]
  },
  {
   "cell_type": "code",
   "execution_count": null,
   "metadata": {},
   "outputs": [],
   "source": []
  },
  {
   "cell_type": "code",
   "execution_count": null,
   "metadata": {},
   "outputs": [],
   "source": []
  }
 ],
 "metadata": {
  "kernelspec": {
   "display_name": "base",
   "language": "python",
   "name": "python3"
  },
  "language_info": {
   "codemirror_mode": {
    "name": "ipython",
    "version": 3
   },
   "file_extension": ".py",
   "mimetype": "text/x-python",
   "name": "python",
   "nbconvert_exporter": "python",
   "pygments_lexer": "ipython3",
   "version": "3.11.4"
  }
 },
 "nbformat": 4,
 "nbformat_minor": 2
}
