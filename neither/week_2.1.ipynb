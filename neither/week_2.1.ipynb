{
 "cells": [
  {
   "cell_type": "markdown",
   "id": "e8238c45",
   "metadata": {},
   "source": [
    "the area of rectangle"
   ]
  },
  {
   "cell_type": "code",
   "execution_count": 1,
   "id": "cc10c0da",
   "metadata": {},
   "outputs": [
    {
     "name": "stdout",
     "output_type": "stream",
     "text": [
      "Input your length value (cm): 12\n",
      "Input your width value(cm): 12\n",
      "The area of your rectangle is 144 cm^2\n"
     ]
    }
   ],
   "source": [
    "length = int(input(\"Input your length value (cm): \"))\n",
    "width = int(input(\"Input your width value(cm): \"))\n",
    "\n",
    "area = length * width\n",
    "print(f\"The area of your rectangle is {area} cm^2\")"
   ]
  },
  {
   "cell_type": "markdown",
   "id": "e2607e0c",
   "metadata": {},
   "source": [
    "celcius to fahrenheit"
   ]
  },
  {
   "cell_type": "code",
   "execution_count": 2,
   "id": "d1e45cb4",
   "metadata": {},
   "outputs": [
    {
     "name": "stdout",
     "output_type": "stream",
     "text": [
      "Input your current celcius temperature: 100\n",
      "The current temperature in fahrenheit is 212.0 degree.\n"
     ]
    }
   ],
   "source": [
    "celcius = int(input(\"Input your current celcius temperature: \"))\n",
    "\n",
    "c_to_f = celcius * (9/5) + 32\n",
    "\n",
    "print(f\"The current temperature in fahrenheit is {c_to_f} degree.\")"
   ]
  },
  {
   "cell_type": "code",
   "execution_count": 5,
   "id": "16150b00",
   "metadata": {},
   "outputs": [
    {
     "name": "stdout",
     "output_type": "stream",
     "text": [
      "Input your current fahrenheit temperature: 212\n",
      "The current temperature in celcius is 100.0 degree.\n"
     ]
    }
   ],
   "source": [
    "fahrenheit = int(input(\"Input your current fahrenheit temperature: \"))\n",
    "\n",
    "f_to_c = 5/9 * (fahrenheit - 32)\n",
    "\n",
    "print(f\"The current temperature in celcius is {f_to_c} degree.\")"
   ]
  },
  {
   "cell_type": "markdown",
   "id": "cf4b7bf4",
   "metadata": {},
   "source": [
    "euclidean and manhattan distance"
   ]
  },
  {
   "cell_type": "code",
   "execution_count": 10,
   "id": "bea44eaf",
   "metadata": {},
   "outputs": [
    {
     "name": "stdout",
     "output_type": "stream",
     "text": [
      "Input the first coordinate point (x1, y1): 3,4\n",
      "Input the second coordinate point (x2, y2): 4,3\n",
      "The euclidean distance is 1.414 and the manhattan distance is 2\n"
     ]
    }
   ],
   "source": [
    "first_point = input('Input the first coordinate point (x1, y1): ').split(',')\n",
    "second_point = input('Input the second coordinate point (x2, y2): ').split(',')\n",
    "\n",
    "x1, y1 = map(int, first_point)\n",
    "x2, y2 = map(int, second_point)\n",
    "\n",
    "euclidean = ((x2-x1)**2 + (y2-y1)**2)**0.5\n",
    "manhattan = abs((x2-x1)) + abs(y2-y1)\n",
    "\n",
    "print(f\"The euclidean distance is {euclidean:.3f} and the manhattan distance is {manhattan}\")"
   ]
  },
  {
   "cell_type": "code",
   "execution_count": 11,
   "id": "2891cd66",
   "metadata": {},
   "outputs": [
    {
     "name": "stdout",
     "output_type": "stream",
     "text": [
      "Input the first coordinate point (x1, y1): 2,3\n",
      "Input the second coordinate point (x2, y2): 3,2\n",
      "The euclidean distance is 1.414 and the manhattan distance is 2\n"
     ]
    }
   ],
   "source": [
    "import math\n",
    "\n",
    "first_point = input('Input the first coordinate point (x1, y1): ').split(',')\n",
    "second_point = input('Input the second coordinate point (x2, y2): ').split(',')\n",
    "\n",
    "x1, y1 = map(int, first_point)\n",
    "x2, y2 = map(int, second_point)\n",
    "\n",
    "euclidean = math.sqrt(math.pow((x2-x1), 2) + math.pow((y2-y1), 2))\n",
    "manhattan = abs((x2-x1)) + abs(y2-y1)\n",
    "\n",
    "print(f\"The euclidean distance is {euclidean:.3f} and the manhattan distance is {manhattan}\")"
   ]
  },
  {
   "cell_type": "markdown",
   "id": "cac60f03",
   "metadata": {},
   "source": []
  },
  {
   "cell_type": "code",
   "execution_count": null,
   "id": "6c026e82",
   "metadata": {},
   "outputs": [],
   "source": []
  }
 ],
 "metadata": {
  "kernelspec": {
   "display_name": "Python 3 (ipykernel)",
   "language": "python",
   "name": "python3"
  },
  "language_info": {
   "codemirror_mode": {
    "name": "ipython",
    "version": 3
   },
   "file_extension": ".py",
   "mimetype": "text/x-python",
   "name": "python",
   "nbconvert_exporter": "python",
   "pygments_lexer": "ipython3",
   "version": "3.11.4"
  }
 },
 "nbformat": 4,
 "nbformat_minor": 5
}
