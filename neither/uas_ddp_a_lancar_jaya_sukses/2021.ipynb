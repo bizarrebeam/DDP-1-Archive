{
 "cells": [
  {
   "cell_type": "markdown",
   "id": "dc3f2d32",
   "metadata": {},
   "source": [
    "# 1"
   ]
  },
  {
   "cell_type": "code",
   "execution_count": 20,
   "id": "23086fa6",
   "metadata": {},
   "outputs": [],
   "source": [
    "class mystery_a:\n",
    "    def __init__(self):\n",
    "        self.a = 'str'\n",
    "        self.x = 3\n",
    "\n",
    "class mystery_b(mystery_a):\n",
    "    def __init__(self):\n",
    "        mystery_a.__init__(self)\n",
    "        self.x = 1\n",
    "        \n",
    "class mystery_c(mystery_b):\n",
    "    def __init__(self):\n",
    "        super().__init__()\n",
    "        self.y = 2\n",
    "\n",
    "def main():\n",
    "    b = mystery_c()\n",
    "    print(b.a, b.y)\n"
   ]
  },
  {
   "cell_type": "code",
   "execution_count": 21,
   "id": "9ebd1a87",
   "metadata": {},
   "outputs": [
    {
     "name": "stdout",
     "output_type": "stream",
     "text": [
      "str 2\n"
     ]
    }
   ],
   "source": [
    "main() # bjir ternyata gaada attr error, guenya yg error"
   ]
  },
  {
   "cell_type": "markdown",
   "id": "57ba0f4b",
   "metadata": {},
   "source": [
    "curiga gue: kalo mau, si b harusnya super init gasie"
   ]
  },
  {
   "cell_type": "code",
   "execution_count": 18,
   "id": "c3c73e07",
   "metadata": {},
   "outputs": [],
   "source": [
    "class mystery_a:\n",
    "    def __init__(self):\n",
    "        self.a = 'str'\n",
    "        self.x = 3\n",
    "\n",
    "class mystery_b(mystery_a):\n",
    "    def __init__(self):\n",
    "        super().__init__()\n",
    "        self.x = 1\n",
    "        \n",
    "class mystery_c(mystery_b):\n",
    "    def __init__(self):\n",
    "        super().__init__()\n",
    "        self.y = 2\n",
    "\n",
    "def main():\n",
    "    b = mystery_c()\n",
    "    print(b.a, b.y)\n"
   ]
  },
  {
   "cell_type": "code",
   "execution_count": 19,
   "id": "b503335a",
   "metadata": {},
   "outputs": [
    {
     "name": "stdout",
     "output_type": "stream",
     "text": [
      "str 2\n"
     ]
    }
   ],
   "source": [
    "main()"
   ]
  },
  {
   "cell_type": "markdown",
   "id": "c99736ad",
   "metadata": {},
   "source": [
    "when a child class wants to invoke the constructor of its parent class, you can use either super().__init__() or explicitly reference the parent class and call its __init__ method, as in mystery_a.__init__(self)"
   ]
  },
  {
   "cell_type": "markdown",
   "id": "8848b932",
   "metadata": {},
   "source": [
    "when using super().__init__(), it calls the constructor of the most immediate parent class in the inheritance chain. If there are multiple levels of inheritance, each subsequent call to super().__init__()"
   ]
  },
  {
   "cell_type": "markdown",
   "id": "67cf30ec",
   "metadata": {},
   "source": [
    "## 2"
   ]
  },
  {
   "cell_type": "code",
   "execution_count": 22,
   "id": "8b7fea5d",
   "metadata": {},
   "outputs": [
    {
     "data": {
      "text/plain": [
       "('U', 'A', 'S')"
      ]
     },
     "execution_count": 22,
     "metadata": {},
     "output_type": "execute_result"
    }
   ],
   "source": [
    "tuple('UAS')"
   ]
  },
  {
   "cell_type": "code",
   "execution_count": 23,
   "id": "65c3993d",
   "metadata": {},
   "outputs": [
    {
     "name": "stdout",
     "output_type": "stream",
     "text": [
      "{('U', 'A', 'S'), 2022}\n"
     ]
    }
   ],
   "source": [
    "a_set = {'DDP 1', tuple('UAS'),2022} \n",
    "b_set={'2022','DDP 1','UAS'} \n",
    "print(a_set.difference(b_set))"
   ]
  },
  {
   "cell_type": "markdown",
   "id": "ac337e47",
   "metadata": {},
   "source": [
    "yeay bner"
   ]
  },
  {
   "cell_type": "markdown",
   "id": "72cb2fdd",
   "metadata": {},
   "source": [
    "## 3"
   ]
  },
  {
   "cell_type": "markdown",
   "id": "a68fb119",
   "metadata": {},
   "source": [
    "questions: pop di dictionary, pop siapa?"
   ]
  },
  {
   "cell_type": "code",
   "execution_count": 24,
   "id": "8158d2a3",
   "metadata": {},
   "outputs": [
    {
     "ename": "KeyError",
     "evalue": "'name'",
     "output_type": "error",
     "traceback": [
      "\u001b[1;31m---------------------------------------------------------------------------\u001b[0m",
      "\u001b[1;31mKeyError\u001b[0m                                  Traceback (most recent call last)",
      "Cell \u001b[1;32mIn[24], line 3\u001b[0m\n\u001b[0;32m      1\u001b[0m dict1 \u001b[38;5;241m=\u001b[39m {\u001b[38;5;124m\"\u001b[39m\u001b[38;5;124mname\u001b[39m\u001b[38;5;124m\"\u001b[39m: \u001b[38;5;124m\"\u001b[39m\u001b[38;5;124mMike\u001b[39m\u001b[38;5;124m\"\u001b[39m, \u001b[38;5;124m\"\u001b[39m\u001b[38;5;124msalary\u001b[39m\u001b[38;5;124m\"\u001b[39m: \u001b[38;5;241m8000\u001b[39m} \n\u001b[0;32m      2\u001b[0m temp \u001b[38;5;241m=\u001b[39m dict1\u001b[38;5;241m.\u001b[39mpop(\u001b[38;5;124m\"\u001b[39m\u001b[38;5;124mname\u001b[39m\u001b[38;5;124m\"\u001b[39m) \n\u001b[1;32m----> 3\u001b[0m \u001b[38;5;28mprint\u001b[39m(dict1[\u001b[38;5;124m\"\u001b[39m\u001b[38;5;124mname\u001b[39m\u001b[38;5;124m\"\u001b[39m])\n",
      "\u001b[1;31mKeyError\u001b[0m: 'name'"
     ]
    }
   ],
   "source": [
    "dict1 = {\"name\": \"Mike\", \"salary\": 8000} \n",
    "temp = dict1.pop(\"name\") \n",
    "print(dict1[\"name\"])"
   ]
  },
  {
   "cell_type": "code",
   "execution_count": 29,
   "id": "41878d9e",
   "metadata": {},
   "outputs": [
    {
     "name": "stdout",
     "output_type": "stream",
     "text": [
      "{'salary': 8000}\n"
     ]
    }
   ],
   "source": [
    "#ini tuh si name udh di pop, jd dict nya tinggal salary\n",
    "print(dict1)\n",
    "# key errornya name yh, yg kita panggil not found results to error"
   ]
  },
  {
   "cell_type": "code",
   "execution_count": 26,
   "id": "b1161279",
   "metadata": {},
   "outputs": [],
   "source": [
    "# pop ini sebut key nanti pop itu pair (key,value)\n",
    "car = {\n",
    "  \"brand\": \"Ford\",\n",
    "  \"model\": \"Mustang\",\n",
    "  \"year\": 1964\n",
    "}"
   ]
  },
  {
   "cell_type": "code",
   "execution_count": 27,
   "id": "cf921862",
   "metadata": {},
   "outputs": [
    {
     "name": "stdout",
     "output_type": "stream",
     "text": [
      "Mustang\n"
     ]
    }
   ],
   "source": [
    "print(car.pop('model'))"
   ]
  },
  {
   "cell_type": "code",
   "execution_count": 28,
   "id": "d3dcf942",
   "metadata": {},
   "outputs": [
    {
     "name": "stdout",
     "output_type": "stream",
     "text": [
      "{'brand': 'Ford', 'year': 1964}\n"
     ]
    }
   ],
   "source": [
    "print(car)"
   ]
  },
  {
   "cell_type": "markdown",
   "id": "30dd21a7",
   "metadata": {},
   "source": [
    "## 4"
   ]
  },
  {
   "cell_type": "code",
   "execution_count": 32,
   "id": "3c41a5fe",
   "metadata": {},
   "outputs": [],
   "source": [
    "dict_x={\n",
    "    'name':'Jhons', 'age':21, \n",
    "    'hobby': ['football','PUBG'], \n",
    "    'faculty':'Computer Science' \n",
    "}"
   ]
  },
  {
   "cell_type": "code",
   "execution_count": 33,
   "id": "537463ae",
   "metadata": {},
   "outputs": [
    {
     "data": {
      "text/plain": [
       "dict_keys(['name', 'age', 'hobby', 'faculty'])"
      ]
     },
     "execution_count": 33,
     "metadata": {},
     "output_type": "execute_result"
    }
   ],
   "source": [
    "dict_x.keys()"
   ]
  },
  {
   "cell_type": "code",
   "execution_count": 37,
   "id": "63a91d98",
   "metadata": {},
   "outputs": [
    {
     "name": "stdout",
     "output_type": "stream",
     "text": [
      "{'name': 'Jhons', 'age': 47.25, 'hobby': ['football', 'PUBG'], 'faculty': 'Computer Science'}\n"
     ]
    }
   ],
   "source": [
    "dict_x['age']=dict_x['age']*1.5\n",
    "print(dict_x)"
   ]
  },
  {
   "cell_type": "code",
   "execution_count": 40,
   "id": "357f7b97",
   "metadata": {},
   "outputs": [
    {
     "ename": "TypeError",
     "evalue": "'str' object does not support item assignment",
     "output_type": "error",
     "traceback": [
      "\u001b[1;31m---------------------------------------------------------------------------\u001b[0m",
      "\u001b[1;31mTypeError\u001b[0m                                 Traceback (most recent call last)",
      "Cell \u001b[1;32mIn[40], line 1\u001b[0m\n\u001b[1;32m----> 1\u001b[0m dict_x[\u001b[38;5;124m'\u001b[39m\u001b[38;5;124mfaculty\u001b[39m\u001b[38;5;124m'\u001b[39m][\u001b[38;5;241m1\u001b[39m]\u001b[38;5;241m=\u001b[39m \u001b[38;5;124m'\u001b[39m\u001b[38;5;124mSystem\u001b[39m\u001b[38;5;124m'\u001b[39m\n\u001b[0;32m      2\u001b[0m \u001b[38;5;28mprint\u001b[39m(dict_x)\n",
      "\u001b[1;31mTypeError\u001b[0m: 'str' object does not support item assignment"
     ]
    }
   ],
   "source": [
    "dict_x['faculty'][1]= 'System'\n",
    "print(dict_x)\n",
    "# gweh awalnya mikir karena computer science itu udh 1 string, index 0 aj\n",
    "# taunya baru inget, iyh string gabisa direassignment\n",
    "# but bner sie"
   ]
  },
  {
   "cell_type": "markdown",
   "id": "14b0ff67",
   "metadata": {},
   "source": [
    "## 5"
   ]
  },
  {
   "cell_type": "markdown",
   "id": "db559e7b",
   "metadata": {},
   "source": [
    "misal gue piton\n",
    "\n",
    "4,3\n",
    "- (3, 12)\n",
    "---(2, 36)\n",
    "------ (1, 72)\n",
    "-------- (0, 72)\n",
    "----------- 72"
   ]
  },
  {
   "cell_type": "code",
   "execution_count": 41,
   "id": "54e090f5",
   "metadata": {},
   "outputs": [],
   "source": [
    "def foo(i, j): \n",
    "    if i == 0 : \n",
    "        return j \n",
    "    else : \n",
    "        return foo(i - 1, i * j)"
   ]
  },
  {
   "cell_type": "code",
   "execution_count": 42,
   "id": "ec31ad89",
   "metadata": {},
   "outputs": [
    {
     "data": {
      "text/plain": [
       "72"
      ]
     },
     "execution_count": 42,
     "metadata": {},
     "output_type": "execute_result"
    }
   ],
   "source": [
    "foo(4,3)"
   ]
  },
  {
   "cell_type": "markdown",
   "id": "0bcbb685",
   "metadata": {},
   "source": [
    "## 6"
   ]
  },
  {
   "cell_type": "markdown",
   "id": "5f90d4e3",
   "metadata": {},
   "source": [
    "misal gue piton\n",
    "jir dia gananya manggilnya gmn\n"
   ]
  },
  {
   "cell_type": "markdown",
   "id": "f918c8a9",
   "metadata": {},
   "source": [
    "## 7"
   ]
  },
  {
   "cell_type": "markdown",
   "id": "3d6340f3",
   "metadata": {},
   "source": [
    "pop up questions: instansiasi obj harus pake variabel ga hehehehe"
   ]
  },
  {
   "cell_type": "code",
   "execution_count": 43,
   "id": "61a536bd",
   "metadata": {},
   "outputs": [],
   "source": [
    "class Dog:\n",
    "    def __init__(self, name, age):\n",
    "        self.name = name\n",
    "        self.age = age"
   ]
  },
  {
   "cell_type": "code",
   "execution_count": 44,
   "id": "b95bbd83",
   "metadata": {},
   "outputs": [
    {
     "data": {
      "text/plain": [
       "<__main__.Dog at 0x1a984fdfe50>"
      ]
     },
     "execution_count": 44,
     "metadata": {},
     "output_type": "execute_result"
    }
   ],
   "source": [
    "Dog('Ru', 1) # ohiya cm manggil memory "
   ]
  },
  {
   "cell_type": "code",
   "execution_count": 45,
   "id": "40723b72",
   "metadata": {},
   "outputs": [
    {
     "ename": "TypeError",
     "evalue": "Dog.__init__() missing 2 required positional arguments: 'name' and 'age'",
     "output_type": "error",
     "traceback": [
      "\u001b[1;31m---------------------------------------------------------------------------\u001b[0m",
      "\u001b[1;31mTypeError\u001b[0m                                 Traceback (most recent call last)",
      "Cell \u001b[1;32mIn[45], line 1\u001b[0m\n\u001b[1;32m----> 1\u001b[0m Dog()\n",
      "\u001b[1;31mTypeError\u001b[0m: Dog.__init__() missing 2 required positional arguments: 'name' and 'age'"
     ]
    }
   ],
   "source": [
    "Dog()"
   ]
  },
  {
   "cell_type": "code",
   "execution_count": 46,
   "id": "58e61db3",
   "metadata": {},
   "outputs": [
    {
     "ename": "TypeError",
     "evalue": "Dog.__init__() missing 1 required positional argument: 'age'",
     "output_type": "error",
     "traceback": [
      "\u001b[1;31m---------------------------------------------------------------------------\u001b[0m",
      "\u001b[1;31mTypeError\u001b[0m                                 Traceback (most recent call last)",
      "Cell \u001b[1;32mIn[46], line 1\u001b[0m\n\u001b[1;32m----> 1\u001b[0m Dog\u001b[38;5;241m.\u001b[39m\u001b[38;5;21m__init__\u001b[39m(\u001b[38;5;124m\"\u001b[39m\u001b[38;5;124mRufus\u001b[39m\u001b[38;5;124m\"\u001b[39m, \u001b[38;5;241m3\u001b[39m)\n",
      "\u001b[1;31mTypeError\u001b[0m: Dog.__init__() missing 1 required positional argument: 'age'"
     ]
    }
   ],
   "source": [
    "Dog.__init__(\"Rufus\", 3)"
   ]
  },
  {
   "cell_type": "markdown",
   "id": "3f0b2cfa",
   "metadata": {},
   "source": [
    "semua jawaban salah."
   ]
  },
  {
   "cell_type": "markdown",
   "id": "2c41379d",
   "metadata": {},
   "source": [
    "## 9"
   ]
  },
  {
   "cell_type": "markdown",
   "id": "b1ed8186",
   "metadata": {},
   "source": [
    "nie gmn deh, dia set paramnya 101 tp initnya 100"
   ]
  },
  {
   "cell_type": "code",
   "execution_count": 47,
   "id": "09e3c253",
   "metadata": {},
   "outputs": [
    {
     "name": "stdout",
     "output_type": "stream",
     "text": [
      "100 100\n"
     ]
    }
   ],
   "source": [
    "class A(): \n",
    "    def __init__(self,count=101): \n",
    "        self.count=100 \n",
    "obj1=A() \n",
    "obj2=A(102) \n",
    "print(obj1.count, end=' ') \n",
    "print(obj2.count)"
   ]
  },
  {
   "cell_type": "markdown",
   "id": "15b78e3b",
   "metadata": {},
   "source": [
    "In the constructor of class A, the default value of the count parameter is set to 101. However, in the constructor's body, the instance variable self.count is explicitly set to 100. This means that regardless of the value passed as an argument or the default value, the instance variable self.count will always be 100."
   ]
  },
  {
   "cell_type": "markdown",
   "id": "835f80ea",
   "metadata": {},
   "source": [
    "## 10"
   ]
  },
  {
   "cell_type": "markdown",
   "id": "caf3c1f8",
   "metadata": {},
   "source": [
    "misal gue piton"
   ]
  },
  {
   "cell_type": "markdown",
   "id": "bf8a6a11",
   "metadata": {},
   "source": [
    "class A:\n",
    "karena x=5,\n",
    "self calci(30,5) (bisa di override bukan object init)\n",
    "calci(30,5)=90, self.helper\n",
    "(90, 2)\n",
    "\n",
    "b(a):\n",
    "(90,2)\n",
    "360, 5"
   ]
  },
  {
   "cell_type": "code",
   "execution_count": 48,
   "id": "cf3bdcbc",
   "metadata": {},
   "outputs": [],
   "source": [
    "class A: \n",
    "    def __init__(self,x=5): \n",
    "        self.calcI(30,x) \n",
    "        print(\"i from A is\", self.i *self.helper) \n",
    "        \n",
    "        def calcI(self, i,x): \n",
    "            self.i,self.x = 3 * i,self.helper; \n",
    "        \n",
    "        def helper(self,x): \n",
    "            self.x = 2 \n",
    "            \n",
    "class B(A): \n",
    "    def __init__(self): \n",
    "        super().__init__() \n",
    "        \n",
    "    def calcI(self, i,x): \n",
    "        self.i,self.j = 4 * i, 5; "
   ]
  },
  {
   "cell_type": "code",
   "execution_count": 49,
   "id": "7ee0ad20",
   "metadata": {},
   "outputs": [
    {
     "ename": "AttributeError",
     "evalue": "'B' object has no attribute 'helper'",
     "output_type": "error",
     "traceback": [
      "\u001b[1;31m---------------------------------------------------------------------------\u001b[0m",
      "\u001b[1;31mAttributeError\u001b[0m                            Traceback (most recent call last)",
      "Cell \u001b[1;32mIn[49], line 1\u001b[0m\n\u001b[1;32m----> 1\u001b[0m B()\n",
      "Cell \u001b[1;32mIn[48], line 14\u001b[0m, in \u001b[0;36mB.__init__\u001b[1;34m(self)\u001b[0m\n\u001b[0;32m     13\u001b[0m \u001b[38;5;28;01mdef\u001b[39;00m \u001b[38;5;21m__init__\u001b[39m(\u001b[38;5;28mself\u001b[39m): \n\u001b[1;32m---> 14\u001b[0m     \u001b[38;5;28msuper\u001b[39m()\u001b[38;5;241m.\u001b[39m\u001b[38;5;21m__init__\u001b[39m()\n",
      "Cell \u001b[1;32mIn[48], line 4\u001b[0m, in \u001b[0;36mA.__init__\u001b[1;34m(self, x)\u001b[0m\n\u001b[0;32m      2\u001b[0m \u001b[38;5;28;01mdef\u001b[39;00m \u001b[38;5;21m__init__\u001b[39m(\u001b[38;5;28mself\u001b[39m,x\u001b[38;5;241m=\u001b[39m\u001b[38;5;241m5\u001b[39m): \n\u001b[0;32m      3\u001b[0m     \u001b[38;5;28mself\u001b[39m\u001b[38;5;241m.\u001b[39mcalcI(\u001b[38;5;241m30\u001b[39m,x) \n\u001b[1;32m----> 4\u001b[0m     \u001b[38;5;28mprint\u001b[39m(\u001b[38;5;124m\"\u001b[39m\u001b[38;5;124mi from A is\u001b[39m\u001b[38;5;124m\"\u001b[39m, \u001b[38;5;28mself\u001b[39m\u001b[38;5;241m.\u001b[39mi \u001b[38;5;241m*\u001b[39m\u001b[38;5;28mself\u001b[39m\u001b[38;5;241m.\u001b[39mhelper) \n\u001b[0;32m      6\u001b[0m     \u001b[38;5;28;01mdef\u001b[39;00m \u001b[38;5;21mcalcI\u001b[39m(\u001b[38;5;28mself\u001b[39m, i,x): \n\u001b[0;32m      7\u001b[0m         \u001b[38;5;28mself\u001b[39m\u001b[38;5;241m.\u001b[39mi,\u001b[38;5;28mself\u001b[39m\u001b[38;5;241m.\u001b[39mx \u001b[38;5;241m=\u001b[39m \u001b[38;5;241m3\u001b[39m \u001b[38;5;241m*\u001b[39m i,\u001b[38;5;28mself\u001b[39m\u001b[38;5;241m.\u001b[39mhelper; \n",
      "\u001b[1;31mAttributeError\u001b[0m: 'B' object has no attribute 'helper'"
     ]
    }
   ],
   "source": [
    "B()"
   ]
  },
  {
   "cell_type": "markdown",
   "id": "77c8dd95",
   "metadata": {},
   "source": [
    "ternyata kesalahannya adalah dia manggil self.helper kaya manggil attribute biasa, padahal method dipanggilnya self.method(). jd dia manggil helper, pdhl helper punya param, eh ga di pass param"
   ]
  },
  {
   "cell_type": "code",
   "execution_count": 61,
   "id": "0b83a63b",
   "metadata": {},
   "outputs": [
    {
     "name": "stdout",
     "output_type": "stream",
     "text": [
      "i from A is 240\n"
     ]
    },
    {
     "data": {
      "text/plain": [
       "<__main__.B at 0x1a985077d10>"
      ]
     },
     "execution_count": 61,
     "metadata": {},
     "output_type": "execute_result"
    }
   ],
   "source": [
    "class A:\n",
    "    def __init__(self, x=5):\n",
    "        self.calcI(30, x)\n",
    "        print(\"i from A is\", self.i * self.helper(x))\n",
    "\n",
    "    def calcI(self, i, x):\n",
    "        self.i, self.x = 3 * i, self.helper(x)\n",
    "\n",
    "    def helper(self, x):\n",
    "        return 2\n",
    "\n",
    "class B(A):\n",
    "    def __init__(self):\n",
    "        super().__init__()\n",
    "\n",
    "    def calcI(self, i, x):\n",
    "        self.i, self.j = 4 * i, 5\n",
    "\n",
    "B()\n"
   ]
  },
  {
   "cell_type": "markdown",
   "id": "beed8f2e",
   "metadata": {},
   "source": [
    "gue gapaham anj knp dapet 240"
   ]
  },
  {
   "cell_type": "markdown",
   "id": "a96c83fd",
   "metadata": {},
   "source": [
    "## 11"
   ]
  },
  {
   "cell_type": "code",
   "execution_count": 67,
   "id": "f72755d2",
   "metadata": {},
   "outputs": [
    {
     "name": "stdout",
     "output_type": "stream",
     "text": [
      "3 1\n"
     ]
    }
   ],
   "source": [
    "class mystery_a:\n",
    "    def __init__(self):\n",
    "        self.x = 0\n",
    "        self.y = 2\n",
    "\n",
    "class mystery_b(mystery_a):\n",
    "    def __init__(self):\n",
    "        super().__init__()  # Call the constructor of the base class\n",
    "        self.y = 1\n",
    "\n",
    "class mystery_c(mystery_b):\n",
    "    def __init__(self):\n",
    "        super().__init__()  # Call the constructor of mystery_b\n",
    "        self.x = 3\n",
    "\n",
    "def main():\n",
    "    b = mystery_c()\n",
    "    print(b.x, b.y)\n",
    "\n",
    "main()\n",
    "# ini versi bner karena pake super method\n"
   ]
  },
  {
   "cell_type": "code",
   "execution_count": 68,
   "id": "82a4f586",
   "metadata": {},
   "outputs": [
    {
     "ename": "AttributeError",
     "evalue": "'mystery_c' object has no attribute 'y'",
     "output_type": "error",
     "traceback": [
      "\u001b[1;31m---------------------------------------------------------------------------\u001b[0m",
      "\u001b[1;31mAttributeError\u001b[0m                            Traceback (most recent call last)",
      "Cell \u001b[1;32mIn[68], line 20\u001b[0m\n\u001b[0;32m     17\u001b[0m     b \u001b[38;5;241m=\u001b[39m mystery_c()\n\u001b[0;32m     18\u001b[0m     \u001b[38;5;28mprint\u001b[39m(b\u001b[38;5;241m.\u001b[39mx, b\u001b[38;5;241m.\u001b[39my)\n\u001b[1;32m---> 20\u001b[0m main()\n",
      "Cell \u001b[1;32mIn[68], line 18\u001b[0m, in \u001b[0;36mmain\u001b[1;34m()\u001b[0m\n\u001b[0;32m     16\u001b[0m \u001b[38;5;28;01mdef\u001b[39;00m \u001b[38;5;21mmain\u001b[39m():\n\u001b[0;32m     17\u001b[0m     b \u001b[38;5;241m=\u001b[39m mystery_c()\n\u001b[1;32m---> 18\u001b[0m     \u001b[38;5;28mprint\u001b[39m(b\u001b[38;5;241m.\u001b[39mx, b\u001b[38;5;241m.\u001b[39my)\n",
      "\u001b[1;31mAttributeError\u001b[0m: 'mystery_c' object has no attribute 'y'"
     ]
    }
   ],
   "source": [
    "class mystery_a:\n",
    "    def __init__(self):\n",
    "        self.x = 0\n",
    "        self.y = 2\n",
    "\n",
    "class mystery_b(mystery_a):\n",
    "    def __init__(self):\n",
    "#         super().__init__()  # Call the constructor of the base class\n",
    "        self.y = 1\n",
    "\n",
    "class mystery_c(mystery_b):\n",
    "    def __init__(self):\n",
    "#         super().__init__()  # Call the constructor of mystery_b\n",
    "        self.x = 3\n",
    "\n",
    "def main():\n",
    "    b = mystery_c()\n",
    "    print(b.x, b.y)\n",
    "\n",
    "main()\n",
    "# ini versi bner karena pake super method\n"
   ]
  },
  {
   "cell_type": "markdown",
   "id": "22bac74b",
   "metadata": {},
   "source": [
    "jadi, di sini kan gue override yh, y di parent 2 tp gue jadiin 1, x di parent 0 tp di child 3. nah, gweh harus pake super di case kaya gini, terutama yang diinherit itu ada dibagian init method"
   ]
  },
  {
   "cell_type": "code",
   "execution_count": 65,
   "id": "f63206ac",
   "metadata": {},
   "outputs": [
    {
     "name": "stdout",
     "output_type": "stream",
     "text": [
      "42\n",
      "99\n"
     ]
    }
   ],
   "source": [
    "class Parent:\n",
    "    def __init__(self):\n",
    "        self.parent_attribute = 42\n",
    "\n",
    "class Child(Parent):\n",
    "    def __init__(self):\n",
    "        super().__init__()  # Call the constructor of the parent class\n",
    "        self.child_attribute = 99\n",
    "\n",
    "# Create an instance of the child class\n",
    "child_instance = Child()\n",
    "\n",
    "# Access attributes from both parent and child classes\n",
    "print(child_instance.parent_attribute)  # This will print 42\n",
    "print(child_instance.child_attribute)   # This will print 99\n"
   ]
  },
  {
   "cell_type": "code",
   "execution_count": 66,
   "id": "b210a3c2",
   "metadata": {},
   "outputs": [
    {
     "ename": "AttributeError",
     "evalue": "'Child' object has no attribute 'parent_attribute'",
     "output_type": "error",
     "traceback": [
      "\u001b[1;31m---------------------------------------------------------------------------\u001b[0m",
      "\u001b[1;31mAttributeError\u001b[0m                            Traceback (most recent call last)",
      "Cell \u001b[1;32mIn[66], line 14\u001b[0m\n\u001b[0;32m     11\u001b[0m child_instance \u001b[38;5;241m=\u001b[39m Child()\n\u001b[0;32m     13\u001b[0m \u001b[38;5;66;03m# Access attributes from both parent and child classes\u001b[39;00m\n\u001b[1;32m---> 14\u001b[0m \u001b[38;5;28mprint\u001b[39m(child_instance\u001b[38;5;241m.\u001b[39mparent_attribute)  \u001b[38;5;66;03m# This will print 42\u001b[39;00m\n\u001b[0;32m     15\u001b[0m \u001b[38;5;28mprint\u001b[39m(child_instance\u001b[38;5;241m.\u001b[39mchild_attribute)\n",
      "\u001b[1;31mAttributeError\u001b[0m: 'Child' object has no attribute 'parent_attribute'"
     ]
    }
   ],
   "source": [
    "class Parent:\n",
    "    def __init__(self):\n",
    "        self.parent_attribute = 42\n",
    "\n",
    "class Child(Parent):\n",
    "    def __init__(self):\n",
    "#         super().__init__()  # Call the constructor of the parent class\n",
    "        self.child_attribute = 99\n",
    "\n",
    "# Create an instance of the child class\n",
    "child_instance = Child()\n",
    "\n",
    "# Access attributes from both parent and child classes\n",
    "print(child_instance.parent_attribute)  # This will print 42\n",
    "print(child_instance.child_attribute)   # This will print 99\n"
   ]
  },
  {
   "cell_type": "markdown",
   "id": "56e30491",
   "metadata": {},
   "source": [
    "#### jawabannya: attribute error."
   ]
  },
  {
   "cell_type": "markdown",
   "id": "78e5915d",
   "metadata": {},
   "source": [
    "## 12"
   ]
  },
  {
   "cell_type": "markdown",
   "id": "0353c90c",
   "metadata": {},
   "source": [
    "misal gue piton\n",
    "\n",
    "(8,6)\n",
    "    (7, 14)\n",
    "        (6, 21)\n",
    "            (5, 27)\n",
    "                (4, 32)\n",
    "                    (3, 36)\n",
    "                        (2, 39)\n",
    "                            (1, 41)\n",
    "                                (0, 42)\n",
    "                                    42"
   ]
  },
  {
   "cell_type": "markdown",
   "id": "e3e41c29",
   "metadata": {},
   "source": [
    "## 14"
   ]
  },
  {
   "cell_type": "code",
   "execution_count": 69,
   "id": "fdcc4beb",
   "metadata": {},
   "outputs": [],
   "source": [
    "def mystery(x):\n",
    "    if x == 0:\n",
    "        return\n",
    "    else:\n",
    "        mystery(int(x/2))\n",
    "        print(x%2)"
   ]
  },
  {
   "cell_type": "code",
   "execution_count": 70,
   "id": "da09b120",
   "metadata": {},
   "outputs": [
    {
     "name": "stdout",
     "output_type": "stream",
     "text": [
      "1\n",
      "0\n",
      "0\n",
      "1\n"
     ]
    }
   ],
   "source": [
    "mystery(9)"
   ]
  },
  {
   "cell_type": "code",
   "execution_count": 82,
   "id": "34728115",
   "metadata": {},
   "outputs": [
    {
     "name": "stdout",
     "output_type": "stream",
     "text": [
      "9\n"
     ]
    }
   ],
   "source": [
    "def binary_to_decimal(binary_str):\n",
    "    if not binary_str:\n",
    "        return 0\n",
    "    else:\n",
    "        return int(binary_str[-1]) + 2 * binary_to_decimal(binary_str[:-1])\n",
    "\n",
    "# Example usage:\n",
    "binary_number = \"1001\"\n",
    "decimal_result = binary_to_decimal(binary_number)\n",
    "print(decimal_result)\n"
   ]
  },
  {
   "cell_type": "markdown",
   "id": "b88bf298",
   "metadata": {},
   "source": [
    "## 15"
   ]
  },
  {
   "cell_type": "markdown",
   "id": "34a3a931",
   "metadata": {},
   "source": [
    "Bank INI merupakan bank baru yang hendak melakukan transformasi digital. Anda ditunjuk sebagai pengembang aplikasi digital banking dari Bank INI. Digital banking Bank INI memungkinkan nasabah untuk menyimpan sejumlah uang pada beberapa jenis akun rekening, yakni rekening tabungan dan rekening deposito. Dalam kedua jenis rekening tersebut nasabah memiliki nomor rekening dan dapat melakukan transfer ke rekening bank lain, penarikan uang hingga mendapatkan bunga tabungan yang diberikan setiap bulan. Khusus rekening tabungan, nasabah memiliki batas penarikan uang dan transfer bulanan. Jika seorang nasabah melebihi batas tersebut maka, penarikan uang atau transfer dikenakan biaya tambahan sebesar 6500. Sementara itu, rekening deposito memiliki tanggal jatuh tempo yang berpengaruh pada transaksi penarikan uang. Jika dilakukan penarikan uang sebelum tanggal jatuh tempo, maka akan dikenakan biaya sebesar 10% dari jumlah tabungan deposito. Dana yang disimpan pada rekening deposito tidak dapat ditransfer ke bank lain. Untuk kepentingan administrasi, aplikasi tersebut juga menyimpan identitas personal meliputi nama, tanggal lahir, pekerjaan, dan gaji tahunan untuk setiap akun yang disimpan dalam format dictionary. Identitas personal selain nama dan tanggal lahir dapat diubah oleh nasabah sewaktu-waktu. Contoh dictionary identitas personal adalah sebagai berikut: personal_identity = { 'name':'Justinus Laksana', 'date_of_birth':'11/04/1997', 'occupation': 'teacher', 'anual_salary': 140000000 } Buatlah program OOP yang dapat memfasilitasi kebutuhan pada narasi tersebut menggunakan Python! Gunakan modul-modul python tambahan (contoh: datetime) jika diperlukan"
   ]
  },
  {
   "cell_type": "code",
   "execution_count": 75,
   "id": "82876335",
   "metadata": {},
   "outputs": [
    {
     "name": "stdout",
     "output_type": "stream",
     "text": [
      "Initial customer info: {'name': 'Justinus Laksana', 'date_of_birth': '11/04/1997', 'occupation': 'teacher', 'annual_salary': 140000000}\n",
      "occupation updated successfully.\n",
      "Updated customer info: {'name': 'Justinus Laksana', 'date_of_birth': '11/04/1997', 'occupation': 'software engineer', 'annual_salary': 140000000}\n",
      "Deposit of 50000 successfully made. New balance: 150000\n",
      "Withdrawal of 20000 successfully made. New balance: 130000\n",
      "Transfer of 100000 to DA001 successfully made.\n",
      "Your new balance: 30000\n",
      "Withdrawal fee of 40000.0 applied. New balance: 560000.0\n"
     ]
    }
   ],
   "source": [
    "from datetime import datetime\n",
    "\n",
    "class Account:\n",
    "    def __init__(self, account_number, balance=0):\n",
    "        self.account_number = account_number\n",
    "        self.balance = balance\n",
    " \n",
    "    def deposit(self, amount):\n",
    "        self.balance += amount\n",
    "        print(f\"Deposit of {amount} successfully made. New balance: {self.balance}\")\n",
    "\n",
    "    def withdraw(self, amount):\n",
    "        self.balance -= amount\n",
    "        print(f\"Withdrawal of {amount} successfully made. New balance: {self.balance}\")\n",
    "\n",
    "    def transfer(self, recipient, amount):\n",
    "        if isinstance(recipient, Account):\n",
    "            self.balance -= amount\n",
    "            recipient.balance += amount\n",
    "            print(f\"Transfer of {amount} to {recipient.account_number} successfully made.\")\n",
    "            print(f\"Your new balance: {self.balance}\")\n",
    "        else:\n",
    "            print(\"Invalid recipient for transfer.\")\n",
    "\n",
    "class SavingsAccount(Account):\n",
    "    def __init__(self, account_number, balance=0, withdrawal_limit=50000, transfer_limit=1000000):\n",
    "        super().__init__(account_number, balance)\n",
    "        self.withdrawal_limit = withdrawal_limit\n",
    "        self.transfer_limit = transfer_limit\n",
    "\n",
    "    def withdraw(self, amount):\n",
    "        if amount <= self.withdrawal_limit:\n",
    "            super().withdraw(amount)\n",
    "        else:\n",
    "            fee = 6500\n",
    "            self.balance -= fee\n",
    "            print(f\"Withdrawal fee of {fee} applied. New balance: {self.balance}\")\n",
    "\n",
    "    def transfer(self, recipient, amount):\n",
    "        if isinstance(recipient, Account):\n",
    "            if amount <= self.transfer_limit:\n",
    "                super().transfer(recipient, amount)\n",
    "            else:\n",
    "                fee = 6500\n",
    "                self.balance -= fee\n",
    "                print(f\"Transfer fee of {fee} applied. New balance: {self.balance}\")\n",
    "        else:\n",
    "            print(\"Invalid recipient for transfer.\")\n",
    "\n",
    "class DepositAccount(Account):\n",
    "    def __init__(self, account_number, balance=0, maturity_date=None):\n",
    "        super().__init__(account_number, balance)\n",
    "        self.maturity_date = maturity_date\n",
    "\n",
    "    def withdraw(self, amount):\n",
    "        if self.maturity_date and datetime.now() < self.maturity_date:\n",
    "            fee = amount * 0.1\n",
    "            self.balance -= fee\n",
    "            print(f\"Withdrawal fee of {fee} applied. New balance: {self.balance}\")\n",
    "        else:\n",
    "            super().withdraw(amount)\n",
    "\n",
    "class Customer:\n",
    "    def __init__(self, name, date_of_birth, occupation, annual_salary):\n",
    "        self.personal_identity = {\n",
    "            'name': name,\n",
    "            'date_of_birth': date_of_birth,\n",
    "            'occupation': occupation,\n",
    "            'annual_salary': annual_salary\n",
    "        }\n",
    "\n",
    "    def update_personal_info(self, key, value):\n",
    "        if key in self.personal_identity and key not in ['name', 'date_of_birth']:\n",
    "            self.personal_identity[key] = value\n",
    "            print(f\"{key} updated successfully.\")\n",
    "        else:\n",
    "            print(\"Invalid key or key not allowed for update.\")\n",
    "\n",
    "# Example usage:\n",
    "customer1 = Customer('Justinus Laksana', '11/04/1997', 'teacher', 140000000)\n",
    "savings_account1 = SavingsAccount('SA001', 100000, withdrawal_limit=30000, transfer_limit=500000)\n",
    "deposit_account1 = DepositAccount('DA001', 500000, maturity_date=datetime(2023, 12, 31))\n",
    "\n",
    "print(\"Initial customer info:\", customer1.personal_identity)\n",
    "customer1.update_personal_info('occupation', 'software engineer')\n",
    "print(\"Updated customer info:\", customer1.personal_identity)\n",
    "\n",
    "savings_account1.deposit(50000)\n",
    "savings_account1.withdraw(20000)\n",
    "savings_account1.transfer(deposit_account1, 100000)\n",
    "\n",
    "deposit_account1.withdraw(400000)\n"
   ]
  },
  {
   "cell_type": "code",
   "execution_count": 79,
   "id": "aa19c66a",
   "metadata": {},
   "outputs": [],
   "source": [
    "from datetime import datetime\n",
    "\n",
    "class Akun:\n",
    "    def __init__(self, rekening_customer, saldo = 0):\n",
    "        self.rekening_customer = rekening_customer\n",
    "        self.saldo = saldo\n",
    "    \n",
    "    def tarik_uang(self, jumlah_tarik):\n",
    "        if self.saldo >= self.jumlah_tarik:\n",
    "            self.saldo -= self.jumlah_tarik\n",
    "            print(f'Berhasil melakukan penarikan uang sebesar Rp{self.jumlah_tarik}')\n",
    "        else:\n",
    "            print('Penarikan uang tidak berhasil karena saldo tidak mencukupi.')\n",
    "        print(f'Sisa saldo anda sebesar Rp{self.saldo}/n')\n",
    "    \n",
    "    def deposit_uang(self, jumlah_deposit):\n",
    "        self.saldo += self.jumlah_deposit\n",
    "        print(f'Berhasil melakukan penambahan uang sebesar Rp{self.jumlah_deposit}')\n",
    "        print(f'Sisa saldo anda sebesar Rp{self.saldo}/n')\n",
    "        \n",
    "    def transfer_uang(self, jumlah_transfer, rekening_penerima):\n",
    "        if self.saldo >= self.jumlah_transfer:\n",
    "            self.saldo -= self.jumlah_transfer\n",
    "            print(f'Berhasil melakukan transfer ke akun {rekening_penerima} sebesar Rp{self.jumlah_deposit}')\n",
    "        else:\n",
    "            print('Transfer uang tidak berhasil karena saldo tidak mencukupi.')\n",
    "        print(f'Sisa saldo anda sebesar Rp{self.saldo}/n')\n",
    "        \n",
    "class RekeningTabungan(Akun):\n",
    "    def __init__(self, rekening_customer, saldo = 0, batas_tarik = 10000000, batas_transfer = 10000000):\n",
    "        super().__init__(rekening_customer, saldo)\n",
    "        self.batas_tarik = batas_tarik\n",
    "        self.batas_transfer = batas_transfer\n",
    "    \n",
    "    def tarik_tabungan(self, jumlah_tarik):\n",
    "        if self.jumlah_tarik > self.batas_tarik:\n",
    "            self.saldo -= 6500\n",
    "            print(f'Anda melebihi batas penarikan sehingga dikenakan biaya tambahan sebesar Rp6500.')\n",
    "            \n",
    "        if jumlah_tarik <= batas_tarik:\n",
    "            super().tarik_uang(jumlah_tarik)\n",
    "    \n",
    "    def transfer_tabungan(self, jumlah_transfer):\n",
    "        if self.jumlah_transfer > self.batas_transfer:\n",
    "            self.saldo -= 6500\n",
    "            print(f'Anda melebihi batas penarikan sehingga dikenakan biaya tambahan sebesar Rp6500.')\n",
    "            \n",
    "        if jumlah_transfer <= batas_transfer:\n",
    "            super().transfer_uang(jumlah_transfer)\n",
    "\n",
    "class Deposit(Akun):\n",
    "    def __init__(self, rekening_customer, saldo = 0, jatuh_tempo = None):\n",
    "        super().__init__(rekening_customer, saldo)\n",
    "        self.saldo_deposit = saldo_deposit\n",
    "        self.jatuh_tempo = jatuh_tempo\n",
    "        \n",
    "    def tarik_deposit(jumlah_tarik):\n",
    "        if datetime.now() > jatuh_tempo:\n",
    "            fee = jumlah_tarik * 0.1\n",
    "            self.saldo -= fee\n",
    "            print(f'Anda melakukan penarikan sebelum jatuh tempo sehingga dikenakan tambahan fee sebesar Rp{fee}')\n",
    "        \n",
    "        super().tarik_uang(jumlah_tarik)\n",
    "            \n",
    "class Customer:\n",
    "    def __init__(self, nama, tanggal_lahir, pekerjaan, gaji_tahunan):\n",
    "        self.identitas_customer = {\n",
    "            'nama' : nama,\n",
    "            'tanggal_lahir' : tanggal_lahir,\n",
    "            'pekerjaan' : pekerjaan,\n",
    "            'gaji_tahunan' : gaji_tahunan\n",
    "        }\n",
    "    \n",
    "    def update_identitas(self, key, value):\n",
    "        if key in ['pekerjaan', 'gaji_tahunan']:\n",
    "            self.identitas_customer[key] = value\n",
    "        else:\n",
    "            print('Identitas tidak berhasil diubah')\n",
    "            \n",
    "        \n"
   ]
  },
  {
   "cell_type": "markdown",
   "id": "c703164c",
   "metadata": {},
   "source": [
    "kebingungan gue adalah kan katanya punya si anak ini balance ny dependent yh, tapi kenapa malah dia di specify param balance =0, trs super init balance juga?\n",
    "\n",
    "ternyata, anak kalo manggil dari parent itu supaya ga nulis berulang ulang aja, tapi anaknya itu sendiri mandiri dan bakal override. jd cm menghindari penulisan kode mekanisme withdraw atau transfer berulang ulang, cukup panggil parent"
   ]
  },
  {
   "cell_type": "markdown",
   "id": "f6eeda23",
   "metadata": {},
   "source": [
    "woy kalo mnggil kelas parent pake super trs mau derive initnya\n",
    "harus di pass jg param yg nya di init apa yg di derive!!\n"
   ]
  },
  {
   "cell_type": "code",
   "execution_count": null,
   "id": "7b5d69c6",
   "metadata": {},
   "outputs": [],
   "source": []
  }
 ],
 "metadata": {
  "kernelspec": {
   "display_name": "Python 3 (ipykernel)",
   "language": "python",
   "name": "python3"
  },
  "language_info": {
   "codemirror_mode": {
    "name": "ipython",
    "version": 3
   },
   "file_extension": ".py",
   "mimetype": "text/x-python",
   "name": "python",
   "nbconvert_exporter": "python",
   "pygments_lexer": "ipython3",
   "version": "3.11.4"
  }
 },
 "nbformat": 4,
 "nbformat_minor": 5
}
