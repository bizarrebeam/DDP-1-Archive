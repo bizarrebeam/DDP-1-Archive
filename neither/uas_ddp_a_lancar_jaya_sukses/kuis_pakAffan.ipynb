{
 "cells": [
  {
   "cell_type": "code",
   "execution_count": 1,
   "id": "0cb0fafb",
   "metadata": {},
   "outputs": [],
   "source": [
    "import copy"
   ]
  },
  {
   "cell_type": "code",
   "execution_count": 4,
   "id": "747d534f",
   "metadata": {},
   "outputs": [],
   "source": [
    "class Book:\n",
    "    def __init__(self, name, author, content):\n",
    "        self.__name = name\n",
    "        self.__author = author\n",
    "        self.__content = content\n",
    "    \n",
    "    def get_name(self):\n",
    "        return self.__name\n",
    "    \n",
    "    def get_author(self):\n",
    "        return self.__author\n",
    "    \n",
    "    def get_content(self):\n",
    "        return self.__content\n",
    "    \n",
    "    def __repr__(self):\n",
    "        return 'Buku' + self.__name\n",
    "    \n",
    "class Library:\n",
    "    def __init__(self, library_name):\n",
    "        self.__library_name = library_name\n",
    "        self.__books = []\n",
    "        \n",
    "    #1\n",
    "    def get_library_name(self):\n",
    "        return self.__library_name\n",
    "    \n",
    "    #2\n",
    "    def get_books(self):\n",
    "        copy_books = copy.deepcopy(self.__books)\n",
    "        return copy_books\n",
    "    \n",
    "    #3\n",
    "    def add_books(self, book):\n",
    "        self.__books.append(book)\n",
    "        return self.__books\n",
    "    \n",
    "    #4\n",
    "    def __contains__(self, book):\n",
    "        return book in self.__books\n",
    "    \n",
    "    #5\n",
    "    def __add__(self, other):\n",
    "        new_library = Library(\n",
    "            f'Perpustakaan kombinasi dari {self.get_library_name()} dan {other.get_library_name()}'\n",
    "        )\n",
    "        new_library.__books = self.__books + other.__books\n",
    "        \n",
    "        return new_library\n",
    "\n",
    "class PublicLibrary:\n",
    "    def __init__(self):\n",
    "        self.__books = []\n",
    "    \n",
    "    def borrow(self, borrowed):\n",
    "        for book in self.__books:\n",
    "            if book.get_name() == borrowed: # ingat akses priv var itu khusus\n",
    "                return book\n",
    "        return None\n",
    "    # jd nanti instance class Book kan book, dia bakal connected sndiri gitu\n",
    "    # lho karena namanya sama\n",
    "    # jd gaperlu specify lg get_content atau get_name karena si book ini\n",
    "    # dh mastiin dia ada atau ga\n",
    "    \n",
    "class PrivateLibrary:\n",
    "    def __init__(self):\n",
    "        self.__books = []\n",
    "    \n",
    "    def read_in_place(self, readed):\n",
    "        for book in self.__books:\n",
    "            if book.get_name() == readed:\n",
    "                return book\n",
    "        return None\n",
    "        \n",
    "    "
   ]
  },
  {
   "cell_type": "markdown",
   "id": "aefa7333",
   "metadata": {},
   "source": [
    "## 2"
   ]
  },
  {
   "cell_type": "markdown",
   "id": "b4110f87",
   "metadata": {},
   "source": [
    "In the base case, the function returns the object itself when the object is not a data structure (e.g., int, float, complex, bool, str) or when it is `None`. The reason for this is that in a deep copy operation, primitive data types and `None` don't need to be copied because they are immutable. Instead, they can be directly reused without any side effects.\n"
   ]
  },
  {
   "cell_type": "code",
   "execution_count": 6,
   "id": "67559b7d",
   "metadata": {},
   "outputs": [],
   "source": [
    "# def my_deepcopy(obj):\n",
    "#     # base case: primitive datatype\n",
    "#     # they're immutable and can be just copied without change\n",
    "#         # the original\n",
    "#     if obj is None or type(obj) not in (tuple, list, set, dict):\n",
    "#         return obj\n",
    "    \n",
    "#     # recursive\n",
    "#     elif isinstance(obj, tuple):\n",
    "#         return (my_deepcopy(element) for element in obj)\n",
    "#     elif isinstance(obj, list):\n",
    "#         return [my_deepcopy(element) for element in obj]\n",
    "#     elif isinstance(obj, set):\n",
    "#         return {my_deepcopy(element) for element in obj}\n",
    "#     elif isinstance(obj, dict):\n",
    "#         return {my_deepcopy(key): my_deepcopy(value) for key, value in obj.items()}\n",
    "    "
   ]
  },
  {
   "cell_type": "code",
   "execution_count": 12,
   "id": "d34ebae4",
   "metadata": {},
   "outputs": [],
   "source": [
    "def my_deepcopy(obj):\n",
    "    # base case: primitive datatype\n",
    "    if obj is None or type(obj) not in (tuple, list, set, dict):\n",
    "        return obj\n",
    "    \n",
    "    # recursive\n",
    "    elif isinstance(obj, tuple):\n",
    "        return tuple(my_deepcopy(element) for element in obj)\n",
    "    elif isinstance(obj, list):\n",
    "        return [my_deepcopy(element) for element in obj]\n",
    "    elif isinstance(obj, set):\n",
    "        return {my_deepcopy(element) for element in obj}\n",
    "    elif isinstance(obj, dict):\n",
    "        return {my_deepcopy(key): my_deepcopy(value) for key, value in obj.items()}\n",
    "    elif isinstance(obj, (map, filter, zip)):\n",
    "        # Handle generator objects separately\n",
    "        return type(obj)(my_deepcopy(element) for element in obj)"
   ]
  },
  {
   "cell_type": "code",
   "execution_count": 13,
   "id": "8e0dfd76",
   "metadata": {},
   "outputs": [],
   "source": [
    "old_data = ['Bambang', {'Usep': {'Huki'}, ('Safira', 'Azhara'): ('Cimi', 'Hugo', [1,2,3])}]\n"
   ]
  },
  {
   "cell_type": "code",
   "execution_count": 14,
   "id": "49c3e41b",
   "metadata": {},
   "outputs": [],
   "source": [
    "new_data = my_deepcopy(old_data)"
   ]
  },
  {
   "cell_type": "code",
   "execution_count": 15,
   "id": "20921869",
   "metadata": {},
   "outputs": [],
   "source": [
    "new_data[1]['Usep'].add('Cimung')"
   ]
  },
  {
   "cell_type": "code",
   "execution_count": 16,
   "id": "0bb2daca",
   "metadata": {},
   "outputs": [
    {
     "name": "stdout",
     "output_type": "stream",
     "text": [
      "['Bambang', {'Usep': {'Huki', 'Cimung'}, ('Safira', 'Azhara'): ('Cimi', 'Hugo', [1, 2, 3])}]\n"
     ]
    }
   ],
   "source": [
    "print(new_data)"
   ]
  },
  {
   "cell_type": "code",
   "execution_count": 17,
   "id": "fd12a1b7",
   "metadata": {},
   "outputs": [],
   "source": [
    "from tkinter import *\n",
    "from tkinter.scrolledtext import *\n",
    "\n",
    "class MyNotepad:\n",
    "\n",
    "    def __init__(self, master):\n",
    "        self.master = master\n",
    "        master.title(\"MyNotepad\")\n",
    "        master.geometry(\"1000x500\")\n",
    "\n",
    "        self.txt = ScrolledText(master)\n",
    "        self.txt.pack(fill=BOTH, expand=True)\n",
    "        self.txt.focus()\n",
    "\n",
    "        self.btn = Button(master, text=\"Save\", command=self.save)\n",
    "        self.btn.pack(fill=X)\n",
    "\n",
    "    def save(self):\n",
    "        out = open(\"MyNotepad.txt\", \"w\")\n",
    "        # input should be read from line one, char zero, till END\n",
    "        out.write(self.txt.get(\"1.0\", END))\n",
    "        out.close()\n",
    "\n",
    "root = Tk()\n",
    "my_notepad = MyNotepad(root)\n",
    "root.mainloop()\n"
   ]
  },
  {
   "cell_type": "code",
   "execution_count": 18,
   "id": "ca64fa3d",
   "metadata": {},
   "outputs": [
    {
     "name": "stderr",
     "output_type": "stream",
     "text": [
      "Exception in Tkinter callback\n",
      "Traceback (most recent call last):\n",
      "  File \"C:\\Users\\adel\\anaconda3\\Lib\\tkinter\\__init__.py\", line 1948, in __call__\n",
      "    return self.func(*args)\n",
      "           ^^^^^^^^^^^^^^^^\n",
      "  File \"C:\\Users\\adel\\AppData\\Local\\Temp\\ipykernel_4008\\1553829173.py\", line 29, in open_file\n",
      "    file_path = filedialog.askopenfilename(defaultextension=\".txt\", filetypes=[(\"Text files\", \"*.txt\")])\n",
      "                ^^^^^^^^^^\n",
      "NameError: name 'filedialog' is not defined\n",
      "Exception in Tkinter callback\n",
      "Traceback (most recent call last):\n",
      "  File \"C:\\Users\\adel\\anaconda3\\Lib\\tkinter\\__init__.py\", line 1948, in __call__\n",
      "    return self.func(*args)\n",
      "           ^^^^^^^^^^^^^^^^\n",
      "  File \"C:\\Users\\adel\\AppData\\Local\\Temp\\ipykernel_4008\\1553829173.py\", line 22, in save\n",
      "    file_path = filedialog.asksaveasfilename(defaultextension=\".txt\", filetypes=[(\"Text files\", \"*.txt\")])\n",
      "                ^^^^^^^^^^\n",
      "NameError: name 'filedialog' is not defined\n"
     ]
    }
   ],
   "source": [
    "from tkinter import *\n",
    "from tkinter.scrolledtext import *\n",
    "\n",
    "class InternationalNotepad:\n",
    "\n",
    "    def __init__(self, master):\n",
    "        self.master = master\n",
    "        master.title(\"International Notepad\")\n",
    "        master.geometry(\"1000x500\")\n",
    "\n",
    "        self.txt = ScrolledText(master)\n",
    "        self.txt.pack(fill=BOTH, expand=True)\n",
    "        self.txt.focus()\n",
    "\n",
    "        self.save_btn = Button(master, text=\"Save\", command=self.save)\n",
    "        self.save_btn.pack(side=LEFT)\n",
    "\n",
    "        self.open_btn = Button(master, text=\"Open\", command=self.open_file)\n",
    "        self.open_btn.pack(side=LEFT)\n",
    "\n",
    "    def save(self):\n",
    "        file_path = filedialog.asksaveasfilename(defaultextension=\".txt\", filetypes=[(\"Text files\", \"*.txt\")])\n",
    "        if file_path:\n",
    "            with open(file_path, \"w\", encoding=\"utf-8\") as out:\n",
    "                # input should be read from line one, char zero, till END\n",
    "                out.write(self.txt.get(\"1.0\", END))\n",
    "\n",
    "    def open_file(self):\n",
    "        file_path = filedialog.askopenfilename(defaultextension=\".txt\", filetypes=[(\"Text files\", \"*.txt\")])\n",
    "        if file_path:\n",
    "            with open(file_path, \"r\", encoding=\"utf-8\") as file:\n",
    "                content = file.read()\n",
    "                self.txt.delete(\"1.0\", END)\n",
    "                self.txt.insert(END, content)\n",
    "\n",
    "root = Tk()\n",
    "international_notepad = InternationalNotepad(root)\n",
    "root.mainloop()\n"
   ]
  },
  {
   "cell_type": "code",
   "execution_count": 19,
   "id": "03ad996f",
   "metadata": {},
   "outputs": [],
   "source": [
    "class Pecahan(object):\n",
    "    def __init__(self, numer, denom=1):\n",
    "        self.numer = numer\n",
    "        self.denom = denom\n",
    "    \n",
    "    def __str__(self):\n",
    "        return str(self.numer) + '/' + str(self.denom)\n",
    "    \n",
    "    def __repr__(self):\n",
    "        return \"Pecahan\" + \"(\" + str(self.numer) + \",\" + str(self.denom) + \")\"\n"
   ]
  },
  {
   "cell_type": "code",
   "execution_count": 20,
   "id": "bbfdd350",
   "metadata": {},
   "outputs": [
    {
     "data": {
      "text/plain": [
       "Pecahan(1,2)"
      ]
     },
     "execution_count": 20,
     "metadata": {},
     "output_type": "execute_result"
    }
   ],
   "source": [
    "p1 = Pecahan(1,2)\n",
    "p1"
   ]
  },
  {
   "cell_type": "code",
   "execution_count": 21,
   "id": "1d966773",
   "metadata": {},
   "outputs": [
    {
     "name": "stdout",
     "output_type": "stream",
     "text": [
      "1/2\n"
     ]
    }
   ],
   "source": [
    "print(p1)"
   ]
  },
  {
   "cell_type": "code",
   "execution_count": 22,
   "id": "f508a326",
   "metadata": {},
   "outputs": [
    {
     "data": {
      "text/plain": [
       "'1/2'"
      ]
     },
     "execution_count": 22,
     "metadata": {},
     "output_type": "execute_result"
    }
   ],
   "source": [
    "str(p1)"
   ]
  },
  {
   "cell_type": "code",
   "execution_count": null,
   "id": "d2295263",
   "metadata": {},
   "outputs": [],
   "source": []
  }
 ],
 "metadata": {
  "kernelspec": {
   "display_name": "Python 3 (ipykernel)",
   "language": "python",
   "name": "python3"
  },
  "language_info": {
   "codemirror_mode": {
    "name": "ipython",
    "version": 3
   },
   "file_extension": ".py",
   "mimetype": "text/x-python",
   "name": "python",
   "nbconvert_exporter": "python",
   "pygments_lexer": "ipython3",
   "version": "3.11.4"
  }
 },
 "nbformat": 4,
 "nbformat_minor": 5
}
