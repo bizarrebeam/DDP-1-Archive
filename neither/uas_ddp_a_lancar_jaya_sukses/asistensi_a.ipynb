{
 "cells": [
  {
   "cell_type": "code",
   "execution_count": 5,
   "id": "4ccdd36e",
   "metadata": {},
   "outputs": [],
   "source": [
    "dict1={'one':1, 'two':2, 'three':3}\n",
    "dict2={'three':9, 'four':4, 'five':5}"
   ]
  },
  {
   "cell_type": "code",
   "execution_count": 6,
   "id": "b4e8fa6f",
   "metadata": {},
   "outputs": [],
   "source": [
    "dict3=dict1.copy()\n",
    "dict3.update(dict2)"
   ]
  },
  {
   "cell_type": "code",
   "execution_count": 7,
   "id": "bf8d7aec",
   "metadata": {},
   "outputs": [
    {
     "data": {
      "text/plain": [
       "{'one': 1, 'two': 2, 'three': 9, 'four': 4, 'five': 5}"
      ]
     },
     "execution_count": 7,
     "metadata": {},
     "output_type": "execute_result"
    }
   ],
   "source": [
    "dict3"
   ]
  },
  {
   "cell_type": "code",
   "execution_count": 8,
   "id": "8d2288fd",
   "metadata": {},
   "outputs": [],
   "source": [
    "bag_of_words = 'apple orange banana banana orange pineapple apricot'"
   ]
  },
  {
   "cell_type": "code",
   "execution_count": 10,
   "id": "4781b4b9",
   "metadata": {},
   "outputs": [
    {
     "name": "stdout",
     "output_type": "stream",
     "text": [
      "banana\n"
     ]
    }
   ],
   "source": [
    "def puzzle(bag_of_words):\n",
    "    bag_of_words = bag_of_words.split()\n",
    "    dict_ = dict()\n",
    "    \n",
    "    for item in bag_of_words:\n",
    "        dict_[item]= dict_.get(item, 0) + 1\n",
    "    select = max(dict_.values())\n",
    "    \n",
    "    a_list = [k for k, v in dict_.items() if v == select]\n",
    "    \n",
    "    return sorted(a_list)[0]\n",
    "\n",
    "print(puzzle(bag_of_words))"
   ]
  },
  {
   "cell_type": "code",
   "execution_count": 13,
   "id": "c3dc8de3",
   "metadata": {},
   "outputs": [
    {
     "name": "stdout",
     "output_type": "stream",
     "text": [
      "None\n"
     ]
    }
   ],
   "source": [
    "a =[1,2]\n",
    "def halo(b):\n",
    "    b=[3,4]\n",
    "print(halo(a))"
   ]
  },
  {
   "cell_type": "code",
   "execution_count": 14,
   "id": "e95f1bd2",
   "metadata": {},
   "outputs": [],
   "source": [
    "def mutation(something):\n",
    "    something = something[1]"
   ]
  },
  {
   "cell_type": "code",
   "execution_count": 15,
   "id": "68729036",
   "metadata": {},
   "outputs": [
    {
     "ename": "TypeError",
     "evalue": "'set' object is not subscriptable",
     "output_type": "error",
     "traceback": [
      "\u001b[1;31m---------------------------------------------------------------------------\u001b[0m",
      "\u001b[1;31mTypeError\u001b[0m                                 Traceback (most recent call last)",
      "Cell \u001b[1;32mIn[15], line 2\u001b[0m\n\u001b[0;32m      1\u001b[0m var \u001b[38;5;241m=\u001b[39m {\u001b[38;5;241m1\u001b[39m,\u001b[38;5;241m2\u001b[39m,\u001b[38;5;241m3\u001b[39m}\n\u001b[1;32m----> 2\u001b[0m mutation(var)\n",
      "Cell \u001b[1;32mIn[14], line 2\u001b[0m, in \u001b[0;36mmutation\u001b[1;34m(something)\u001b[0m\n\u001b[0;32m      1\u001b[0m \u001b[38;5;28;01mdef\u001b[39;00m \u001b[38;5;21mmutation\u001b[39m(something):\n\u001b[1;32m----> 2\u001b[0m     something \u001b[38;5;241m=\u001b[39m something[\u001b[38;5;241m1\u001b[39m]\n",
      "\u001b[1;31mTypeError\u001b[0m: 'set' object is not subscriptable"
     ]
    }
   ],
   "source": [
    "var = {1,2,3}\n",
    "mutation(var)"
   ]
  },
  {
   "cell_type": "code",
   "execution_count": null,
   "id": "a7eae56f",
   "metadata": {},
   "outputs": [],
   "source": []
  }
 ],
 "metadata": {
  "kernelspec": {
   "display_name": "Python 3 (ipykernel)",
   "language": "python",
   "name": "python3"
  },
  "language_info": {
   "codemirror_mode": {
    "name": "ipython",
    "version": 3
   },
   "file_extension": ".py",
   "mimetype": "text/x-python",
   "name": "python",
   "nbconvert_exporter": "python",
   "pygments_lexer": "ipython3",
   "version": "3.11.4"
  }
 },
 "nbformat": 4,
 "nbformat_minor": 5
}
