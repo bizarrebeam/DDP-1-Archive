{
 "cells": [
  {
   "cell_type": "markdown",
   "id": "85061a16",
   "metadata": {},
   "source": [
    "## 1"
   ]
  },
  {
   "cell_type": "code",
   "execution_count": 1,
   "id": "61c519fa",
   "metadata": {},
   "outputs": [
    {
     "name": "stdout",
     "output_type": "stream",
     "text": [
      "{1: 'a', 2: 'b', 3: 'c', 4: 'd'}\n"
     ]
    }
   ],
   "source": [
    "myDict = {1:'a',2:'b',3:'c',4:'d'}\n",
    "search = '1'\n",
    "if search in myDict:\n",
    "    myDict[search] = 'satu'\n",
    "print(myDict)"
   ]
  },
  {
   "cell_type": "markdown",
   "id": "a7a37420",
   "metadata": {},
   "source": [
    "search is a string one, not int 1!"
   ]
  },
  {
   "cell_type": "code",
   "execution_count": 4,
   "id": "13d29ea6",
   "metadata": {},
   "outputs": [
    {
     "data": {
      "text/plain": [
       "True"
      ]
     },
     "execution_count": 4,
     "metadata": {},
     "output_type": "execute_result"
    }
   ],
   "source": [
    "1 in myDict"
   ]
  },
  {
   "cell_type": "code",
   "execution_count": 5,
   "id": "cf7a36aa",
   "metadata": {},
   "outputs": [
    {
     "data": {
      "text/plain": [
       "False"
      ]
     },
     "execution_count": 5,
     "metadata": {},
     "output_type": "execute_result"
    }
   ],
   "source": [
    "'a' in myDict"
   ]
  },
  {
   "cell_type": "markdown",
   "id": "8028b6d5",
   "metadata": {},
   "source": [
    "ok so 'in' method only works for key"
   ]
  },
  {
   "cell_type": "code",
   "execution_count": 6,
   "id": "bdcab368",
   "metadata": {},
   "outputs": [
    {
     "data": {
      "text/plain": [
       "True"
      ]
     },
     "execution_count": 6,
     "metadata": {},
     "output_type": "execute_result"
    }
   ],
   "source": [
    "'a' in myDict.values()"
   ]
  },
  {
   "cell_type": "code",
   "execution_count": 7,
   "id": "67da0375",
   "metadata": {},
   "outputs": [
    {
     "data": {
      "text/plain": [
       "False"
      ]
     },
     "execution_count": 7,
     "metadata": {},
     "output_type": "execute_result"
    }
   ],
   "source": [
    "'a' in myDict.items() # oh it only works for key, value pair"
   ]
  },
  {
   "cell_type": "code",
   "execution_count": 8,
   "id": "77ac2045",
   "metadata": {},
   "outputs": [
    {
     "data": {
      "text/plain": [
       "False"
      ]
     },
     "execution_count": 8,
     "metadata": {},
     "output_type": "execute_result"
    }
   ],
   "source": [
    "1 in myDict.items()"
   ]
  },
  {
   "cell_type": "code",
   "execution_count": 9,
   "id": "b339d4c1",
   "metadata": {},
   "outputs": [
    {
     "data": {
      "text/plain": [
       "dict_items([(1, 'a'), (2, 'b'), (3, 'c'), (4, 'd')])"
      ]
     },
     "execution_count": 9,
     "metadata": {},
     "output_type": "execute_result"
    }
   ],
   "source": [
    "myDict.items()"
   ]
  },
  {
   "cell_type": "markdown",
   "id": "de3d31d7",
   "metadata": {},
   "source": [
    "## 2"
   ]
  },
  {
   "cell_type": "code",
   "execution_count": 10,
   "id": "1decafa9",
   "metadata": {},
   "outputs": [
    {
     "ename": "TypeError",
     "evalue": "unhashable type: 'list'",
     "output_type": "error",
     "traceback": [
      "\u001b[1;31m---------------------------------------------------------------------------\u001b[0m",
      "\u001b[1;31mTypeError\u001b[0m                                 Traceback (most recent call last)",
      "Cell \u001b[1;32mIn[10], line 1\u001b[0m\n\u001b[1;32m----> 1\u001b[0m new_set \u001b[38;5;241m=\u001b[39m {[x, x\u001b[38;5;241m+\u001b[39m\u001b[38;5;241m1\u001b[39m] \u001b[38;5;28;01mfor\u001b[39;00m x \u001b[38;5;129;01min\u001b[39;00m \u001b[38;5;28mrange\u001b[39m(\u001b[38;5;241m10\u001b[39m)}\n",
      "Cell \u001b[1;32mIn[10], line 1\u001b[0m, in \u001b[0;36m<setcomp>\u001b[1;34m(.0)\u001b[0m\n\u001b[1;32m----> 1\u001b[0m new_set \u001b[38;5;241m=\u001b[39m {[x, x\u001b[38;5;241m+\u001b[39m\u001b[38;5;241m1\u001b[39m] \u001b[38;5;28;01mfor\u001b[39;00m x \u001b[38;5;129;01min\u001b[39;00m \u001b[38;5;28mrange\u001b[39m(\u001b[38;5;241m10\u001b[39m)}\n",
      "\u001b[1;31mTypeError\u001b[0m: unhashable type: 'list'"
     ]
    }
   ],
   "source": [
    "new_set = {[x, x+1] for x in range(10)}"
   ]
  },
  {
   "cell_type": "markdown",
   "id": "cf7458dc",
   "metadata": {},
   "source": [
    "set gabisa punya list sebagai elemen"
   ]
  },
  {
   "cell_type": "code",
   "execution_count": 15,
   "id": "26f95a88",
   "metadata": {},
   "outputs": [],
   "source": [
    "new_set = set([(\"a\", \"b\"), (1, 2), None]) "
   ]
  },
  {
   "cell_type": "markdown",
   "id": "c75f7be2",
   "metadata": {},
   "source": [
    "liat elemennya: tuple sama none. both hashable"
   ]
  },
  {
   "cell_type": "code",
   "execution_count": 12,
   "id": "96baea2f",
   "metadata": {},
   "outputs": [
    {
     "ename": "TypeError",
     "evalue": "unhashable type: 'list'",
     "output_type": "error",
     "traceback": [
      "\u001b[1;31m---------------------------------------------------------------------------\u001b[0m",
      "\u001b[1;31mTypeError\u001b[0m                                 Traceback (most recent call last)",
      "Cell \u001b[1;32mIn[12], line 1\u001b[0m\n\u001b[1;32m----> 1\u001b[0m new_set \u001b[38;5;241m=\u001b[39m {[\u001b[38;5;124m\"\u001b[39m\u001b[38;5;124ma\u001b[39m\u001b[38;5;124m\"\u001b[39m, \u001b[38;5;124m\"\u001b[39m\u001b[38;5;124mb\u001b[39m\u001b[38;5;124m\"\u001b[39m, \u001b[38;5;241m1\u001b[39m, \u001b[38;5;241m2\u001b[39m, \u001b[38;5;28;01mNone\u001b[39;00m]}\n",
      "\u001b[1;31mTypeError\u001b[0m: unhashable type: 'list'"
     ]
    }
   ],
   "source": [
    "new_set = {[\"a\", \"b\", 1, 2, None]}"
   ]
  },
  {
   "cell_type": "markdown",
   "id": "f9ccfd60",
   "metadata": {},
   "source": [
    "kalo ada list dia marah"
   ]
  },
  {
   "cell_type": "code",
   "execution_count": 13,
   "id": "dbb5e8db",
   "metadata": {},
   "outputs": [
    {
     "ename": "TypeError",
     "evalue": "unhashable type: 'set'",
     "output_type": "error",
     "traceback": [
      "\u001b[1;31m---------------------------------------------------------------------------\u001b[0m",
      "\u001b[1;31mTypeError\u001b[0m                                 Traceback (most recent call last)",
      "Cell \u001b[1;32mIn[13], line 1\u001b[0m\n\u001b[1;32m----> 1\u001b[0m new_set \u001b[38;5;241m=\u001b[39m {\u001b[38;5;241m1\u001b[39m, {\u001b[38;5;241m2\u001b[39m, \u001b[38;5;241m3\u001b[39m, {\u001b[38;5;241m4\u001b[39m}}}\n",
      "\u001b[1;31mTypeError\u001b[0m: unhashable type: 'set'"
     ]
    }
   ],
   "source": [
    "new_set = {1, {2, 3, {4}}}"
   ]
  },
  {
   "cell_type": "code",
   "execution_count": 14,
   "id": "fd072060",
   "metadata": {},
   "outputs": [
    {
     "ename": "TypeError",
     "evalue": "unhashable type: 'dict'",
     "output_type": "error",
     "traceback": [
      "\u001b[1;31m---------------------------------------------------------------------------\u001b[0m",
      "\u001b[1;31mTypeError\u001b[0m                                 Traceback (most recent call last)",
      "Cell \u001b[1;32mIn[14], line 1\u001b[0m\n\u001b[1;32m----> 1\u001b[0m new_set \u001b[38;5;241m=\u001b[39m \u001b[38;5;28mset\u001b[39m([\u001b[38;5;124m\"\u001b[39m\u001b[38;5;124ma\u001b[39m\u001b[38;5;124m\"\u001b[39m, \u001b[38;5;124m\"\u001b[39m\u001b[38;5;124mb\u001b[39m\u001b[38;5;124m\"\u001b[39m, \u001b[38;5;124m\"\u001b[39m\u001b[38;5;124mc\u001b[39m\u001b[38;5;124m\"\u001b[39m, {\u001b[38;5;124m\"\u001b[39m\u001b[38;5;124mUsep\u001b[39m\u001b[38;5;124m\"\u001b[39m: \u001b[38;5;241m1\u001b[39m, \u001b[38;5;124m\"\u001b[39m\u001b[38;5;124mHuki\u001b[39m\u001b[38;5;124m\"\u001b[39m: \u001b[38;5;241m3\u001b[39m}])\n",
      "\u001b[1;31mTypeError\u001b[0m: unhashable type: 'dict'"
     ]
    }
   ],
   "source": [
    "new_set = set([\"a\", \"b\", \"c\", {\"Usep\": 1, \"Huki\": 3}])"
   ]
  },
  {
   "cell_type": "markdown",
   "id": "6c83b76b",
   "metadata": {},
   "source": [
    "hashable: bisa diconvert misalnya kaya string dari huruf kan bisa ditemuin nilai asci (bilbul) nya semacam itu\n",
    "\n",
    "hashable bisa kalo konsisten, karena kalo diconvert berkalikali, hasilnya harus konsisten dan unik untuk tiap object yang dihash\n",
    "\n",
    "mutable kaya list, dictionary, set gbs di hash simply karena mereka bisa berubah ubah bisa diupdate--note set mutable! jd nested set, set nya sendiri malah marah\n",
    "\n",
    "set cm accept hashable immutable datatype tp dia sendiri ga hashable!\n",
    "\n",
    "string sama tuple aman untuk hashable"
   ]
  },
  {
   "cell_type": "markdown",
   "id": "ceb2bf47",
   "metadata": {},
   "source": [
    "#### ternyata ada perbedaan bikin set dengan set() sama {} right away!"
   ]
  },
  {
   "cell_type": "code",
   "execution_count": 17,
   "id": "5287221e",
   "metadata": {},
   "outputs": [],
   "source": [
    "mylist=[(\"a\", \"b\"), (1, 2), None]"
   ]
  },
  {
   "cell_type": "code",
   "execution_count": 18,
   "id": "aa1f454f",
   "metadata": {},
   "outputs": [
    {
     "ename": "TypeError",
     "evalue": "unhashable type: 'list'",
     "output_type": "error",
     "traceback": [
      "\u001b[1;31m---------------------------------------------------------------------------\u001b[0m",
      "\u001b[1;31mTypeError\u001b[0m                                 Traceback (most recent call last)",
      "Cell \u001b[1;32mIn[18], line 1\u001b[0m\n\u001b[1;32m----> 1\u001b[0m new_hair \u001b[38;5;241m=\u001b[39m {mylist}\n",
      "\u001b[1;31mTypeError\u001b[0m: unhashable type: 'list'"
     ]
    }
   ],
   "source": [
    "new_hair = {mylist}"
   ]
  },
  {
   "cell_type": "code",
   "execution_count": 19,
   "id": "41087eb0",
   "metadata": {},
   "outputs": [],
   "source": [
    "new_tee = set(mylist)"
   ]
  },
  {
   "cell_type": "markdown",
   "id": "3d3d183f",
   "metadata": {},
   "source": [
    "{} create set but only accept immutable hashable datatype\n",
    "\n",
    "\n",
    "set() itu CONSTRUCTOR set. can be used to create an empty set or convert an iterable (e.g., list, tuple) into a set. It provides a clear way to create sets, especially when dealing with iterable data"
   ]
  },
  {
   "cell_type": "markdown",
   "id": "e424193f",
   "metadata": {},
   "source": [
    "jadi set itu, meskipun dikasie list, dia bakal iterate tiap elemen di iterable datatype itulah, kira kira aman gsie kalo dibikin set"
   ]
  },
  {
   "cell_type": "code",
   "execution_count": 21,
   "id": "4a8e7c19",
   "metadata": {},
   "outputs": [],
   "source": [
    "new_jeans = ['make', 'you', ['feel', 'like']]"
   ]
  },
  {
   "cell_type": "code",
   "execution_count": 22,
   "id": "2ceaff26",
   "metadata": {},
   "outputs": [
    {
     "ename": "TypeError",
     "evalue": "unhashable type: 'list'",
     "output_type": "error",
     "traceback": [
      "\u001b[1;31m---------------------------------------------------------------------------\u001b[0m",
      "\u001b[1;31mTypeError\u001b[0m                                 Traceback (most recent call last)",
      "Cell \u001b[1;32mIn[22], line 1\u001b[0m\n\u001b[1;32m----> 1\u001b[0m \u001b[38;5;28mset\u001b[39m(new_jeans)\n",
      "\u001b[1;31mTypeError\u001b[0m: unhashable type: 'list'"
     ]
    }
   ],
   "source": [
    "set(new_jeans) "
   ]
  },
  {
   "cell_type": "markdown",
   "id": "b9c9eadf",
   "metadata": {},
   "source": [
    "nie, meskipun set() bisa convert iterable, tp iterable ini malah tetep punya nested list (nested iterable lg) jadi dia gamau"
   ]
  },
  {
   "cell_type": "markdown",
   "id": "9197cf62",
   "metadata": {},
   "source": [
    "## 4"
   ]
  },
  {
   "cell_type": "code",
   "execution_count": 24,
   "id": "4f94fd81",
   "metadata": {},
   "outputs": [
    {
     "name": "stdout",
     "output_type": "stream",
     "text": [
      "{0: 20, 1: 19, 4: 18, 9: 17, 6: 16, 5: 15}\n"
     ]
    }
   ],
   "source": [
    "print({((x ** 2) % 10): x for x in range(21)})"
   ]
  },
  {
   "cell_type": "code",
   "execution_count": null,
   "id": "4ccd14e3",
   "metadata": {},
   "outputs": [],
   "source": [
    "{((x ** 2) % 10): x for x in range(21)}"
   ]
  },
  {
   "cell_type": "code",
   "execution_count": 31,
   "id": "7d65a1ba",
   "metadata": {},
   "outputs": [
    {
     "name": "stdout",
     "output_type": "stream",
     "text": [
      "0 supposed to be the 0 key\n",
      "0 supposed to be the 0 value \n",
      "\n",
      "1 supposed to be the 1 key\n",
      "1 supposed to be the 1 value \n",
      "\n",
      "4 supposed to be the 2 key\n",
      "2 supposed to be the 2 value \n",
      "\n",
      "9 supposed to be the 3 key\n",
      "3 supposed to be the 3 value \n",
      "\n",
      "6 supposed to be the 4 key\n",
      "4 supposed to be the 4 value \n",
      "\n",
      "5 supposed to be the 5 key\n",
      "5 supposed to be the 5 value \n",
      "\n",
      "6 supposed to be the 6 key\n",
      "6 supposed to be the 6 value \n",
      "\n",
      "9 supposed to be the 7 key\n",
      "7 supposed to be the 7 value \n",
      "\n",
      "4 supposed to be the 8 key\n",
      "8 supposed to be the 8 value \n",
      "\n",
      "1 supposed to be the 9 key\n",
      "9 supposed to be the 9 value \n",
      "\n",
      "0 supposed to be the 10 key\n",
      "10 supposed to be the 10 value \n",
      "\n",
      "1 supposed to be the 11 key\n",
      "11 supposed to be the 11 value \n",
      "\n",
      "4 supposed to be the 12 key\n",
      "12 supposed to be the 12 value \n",
      "\n",
      "9 supposed to be the 13 key\n",
      "13 supposed to be the 13 value \n",
      "\n",
      "6 supposed to be the 14 key\n",
      "14 supposed to be the 14 value \n",
      "\n",
      "5 supposed to be the 15 key\n",
      "15 supposed to be the 15 value \n",
      "\n",
      "6 supposed to be the 16 key\n",
      "16 supposed to be the 16 value \n",
      "\n",
      "9 supposed to be the 17 key\n",
      "17 supposed to be the 17 value \n",
      "\n",
      "4 supposed to be the 18 key\n",
      "18 supposed to be the 18 value \n",
      "\n",
      "1 supposed to be the 19 key\n",
      "19 supposed to be the 19 value \n",
      "\n",
      "0 supposed to be the 20 key\n",
      "20 supposed to be the 20 value \n",
      "\n",
      "{0: 20, 1: 19, 4: 18, 9: 17, 6: 16, 5: 15}\n"
     ]
    }
   ],
   "source": [
    "mydict = {}\n",
    "for x in range(21):\n",
    "    print((x ** 2) % 10, f'supposed to be the', x, 'key')\n",
    "    mydict[(x ** 2) % 10] = x\n",
    "    print(x, 'supposed to be the', x, 'value', '\\n')\n",
    "print(mydict)\n",
    "\n",
    "\n",
    "    "
   ]
  },
  {
   "cell_type": "markdown",
   "id": "6d129653",
   "metadata": {},
   "source": [
    "pay attention kalo dia bakal ada reassign key yg sama tp dengan value yg berbeda! \n",
    "\n",
    "nilai key nya bakal berulag terus karena remainder pembagian sepuluh dari bilangan kuadrat ya kalo ga 0,1,4,6,5,9\n",
    "\n",
    "jadi, kalo ada potential reassignment kaya gini, coba pake x index loop nya dari terakhir!"
   ]
  },
  {
   "cell_type": "markdown",
   "id": "dfe1345b",
   "metadata": {},
   "source": [
    "pertama: gue list dlu mod 10 nya. ini kan x in range 21, simply bakal 0,1....20\n",
    "\n",
    "nanti keliatan kalo pola hasilnya itu bakal berulang karena dia remainder!\n",
    "\n",
    "kalo ternyata gue dh ngeh berulang, skrg gue masukin key value pairnya pake index pengulangan terakhir! jd mundur aja!\n",
    "\n",
    "kebetulan ini x-index di key nya gaberpengaruh sm apa yg diproses di loop nya karena cm range 21 aja. hasil process loopnya gaberpengaruh ke loop selanjutnya"
   ]
  },
  {
   "cell_type": "markdown",
   "id": "ea6369ce",
   "metadata": {},
   "source": [
    "## 5"
   ]
  },
  {
   "cell_type": "code",
   "execution_count": 42,
   "id": "4036e5d6",
   "metadata": {},
   "outputs": [],
   "source": [
    "def issublist(lst, other_lst):\n",
    "    if len(lst) == 0: \n",
    "        return True\n",
    "    if len(other_lst) == 0:\n",
    "        return False\n",
    "    if lst[0] == other_lst[0]: # kalo gue ngasie bneran simple, right what u search\n",
    "        return [issublist(lst[1:], other_lst[1:])] #':' anticipate bcs obc this is recursive and you might need to go to the rest of the code length\n",
    "    else:\n",
    "        return [issublist(lst, other_lst[1:])] # 'sublist' yg dicari kan mw urut, dia harus tetep stay sebagai patokan"
   ]
  },
  {
   "cell_type": "code",
   "execution_count": 43,
   "id": "2c6bc106",
   "metadata": {},
   "outputs": [
    {
     "data": {
      "text/plain": [
       "[[[[False]]]]"
      ]
     },
     "execution_count": 43,
     "metadata": {},
     "output_type": "execute_result"
    }
   ],
   "source": [
    "#testcase\n",
    "issublist([1,3], [3,6,2,1])"
   ]
  },
  {
   "cell_type": "markdown",
   "id": "b0edd546",
   "metadata": {},
   "source": [
    "how to think recursively\n",
    "\n",
    "1. base case where yeah i give nothing\n",
    "2. base case where i give you exactly what you search\n",
    "3. recursive case: just go check the next"
   ]
  },
  {
   "cell_type": "markdown",
   "id": "76ce3b6a",
   "metadata": {},
   "source": [
    "## 6"
   ]
  },
  {
   "cell_type": "code",
   "execution_count": 45,
   "id": "4bfecd49",
   "metadata": {},
   "outputs": [],
   "source": [
    "def mystic(x):\n",
    "    print(f\"mystic {x}\")\n",
    "    if x <= 4:\n",
    "        return x\n",
    "    return mystic(x-2) + mystic(x-4)"
   ]
  },
  {
   "cell_type": "code",
   "execution_count": 46,
   "id": "c0ba5c55",
   "metadata": {},
   "outputs": [
    {
     "name": "stdout",
     "output_type": "stream",
     "text": [
      "mystic 7\n",
      "mystic 5\n",
      "mystic 3\n",
      "mystic 1\n",
      "mystic 3\n"
     ]
    },
    {
     "data": {
      "text/plain": [
       "7"
      ]
     },
     "execution_count": 46,
     "metadata": {},
     "output_type": "execute_result"
    }
   ],
   "source": [
    "mystic(7)"
   ]
  },
  {
   "cell_type": "markdown",
   "id": "81d5d947",
   "metadata": {},
   "source": [
    "bntar mncoba seakan gue piton\n",
    "\n",
    "1. mystic 7\n",
    "print mystic 7\n",
    "return mystic(5) + mystic (3)\n",
    "\n",
    "    mystic(5)-- print mystic 5 -- return mystic(3) + mystic(1)\n",
    "    \n",
    "        mystic(3) -- print mystic 3 --return 3\n",
    "        \n",
    "        mystic(1) -- print mystic 1 -- return 1\n",
    "        \n",
    "    mystic(3)-- print mystic 3 return 3\n",
    "    \n",
    "ini yg direturn 3+1+3 = 7\n"
   ]
  },
  {
   "cell_type": "markdown",
   "id": "e5155998",
   "metadata": {},
   "source": [
    "## 7"
   ]
  },
  {
   "cell_type": "code",
   "execution_count": 47,
   "id": "6ad2e6b3",
   "metadata": {},
   "outputs": [],
   "source": [
    "class A:\n",
    "    def __strs__(self):\n",
    "        return 'Hello World!'\n",
    "    def __lt__(self, x): # si lt ini adalah magic operator\n",
    "        return x\n",
    "    def f(self, x):\n",
    "        return x\n",
    "\n",
    "class B(A):\n",
    "    def f(self,x, y):\n",
    "        return x+y"
   ]
  },
  {
   "cell_type": "markdown",
   "id": "a62e7b75",
   "metadata": {},
   "source": [
    "first thing first, magic operator sudah pasti overloading\n",
    "\n",
    "overloading operator di class:\n",
    "jdie, kita bakal ngasi tau gimana cara method di kelas kita behave\n",
    "kalo ternyata parameter yg di pass beda"
   ]
  },
  {
   "cell_type": "code",
   "execution_count": 57,
   "id": "3191a726",
   "metadata": {},
   "outputs": [],
   "source": [
    "# misal, gweh punya\n",
    "class Angka:\n",
    "    def __init__(self, angka):\n",
    "        self.angka = angka"
   ]
  },
  {
   "cell_type": "code",
   "execution_count": 58,
   "id": "61571b6b",
   "metadata": {},
   "outputs": [],
   "source": [
    "# trs gweh ngide mw nambah 10 + 20  pake class yg sama"
   ]
  },
  {
   "cell_type": "code",
   "execution_count": 59,
   "id": "eada59b7",
   "metadata": {},
   "outputs": [
    {
     "ename": "TypeError",
     "evalue": "unsupported operand type(s) for +: 'Angka' and 'Angka'",
     "output_type": "error",
     "traceback": [
      "\u001b[1;31m---------------------------------------------------------------------------\u001b[0m",
      "\u001b[1;31mTypeError\u001b[0m                                 Traceback (most recent call last)",
      "Cell \u001b[1;32mIn[59], line 4\u001b[0m\n\u001b[0;32m      1\u001b[0m x1 \u001b[38;5;241m=\u001b[39m Angka(\u001b[38;5;241m10\u001b[39m)\n\u001b[0;32m      2\u001b[0m x2 \u001b[38;5;241m=\u001b[39m Angka(\u001b[38;5;241m20\u001b[39m)\n\u001b[1;32m----> 4\u001b[0m x1\u001b[38;5;241m+\u001b[39mx2\n",
      "\u001b[1;31mTypeError\u001b[0m: unsupported operand type(s) for +: 'Angka' and 'Angka'"
     ]
    }
   ],
   "source": [
    "x1 = Angka(10)\n",
    "x2 = Angka(20)\n",
    "\n",
    "x1+x2"
   ]
  },
  {
   "cell_type": "markdown",
   "id": "e183874f",
   "metadata": {},
   "source": [
    "kan gweh cm nerima 1 angka bjir dalam 1 instance??? katanya bgitu"
   ]
  },
  {
   "cell_type": "code",
   "execution_count": 60,
   "id": "bcac3835",
   "metadata": {},
   "outputs": [],
   "source": [
    "# di saat inielah magic method berguna\n",
    "class Angka:\n",
    "    def __init__(self, angka):\n",
    "        self.angka = angka\n",
    "\n",
    "    def __add__(self, objek): # param: objek. beda dgn construct angka\n",
    "        return self.angka + objek.angka"
   ]
  },
  {
   "cell_type": "code",
   "execution_count": 61,
   "id": "06534246",
   "metadata": {},
   "outputs": [
    {
     "data": {
      "text/plain": [
       "30"
      ]
     },
     "execution_count": 61,
     "metadata": {},
     "output_type": "execute_result"
    }
   ],
   "source": [
    "x1 = Angka(10)\n",
    "x2 = Angka(20)\n",
    "\n",
    "x1+x2"
   ]
  },
  {
   "cell_type": "markdown",
   "id": "1a2d2946",
   "metadata": {},
   "source": [
    "jd, magic operator bakal curiga kalo instance inie, pas dipanggil, ada operator. si magic method kaya __add__ atau __lt__ ini telah diassociate dgn operator"
   ]
  },
  {
   "cell_type": "code",
   "execution_count": 66,
   "id": "94a1d724",
   "metadata": {},
   "outputs": [],
   "source": [
    "# di saat inielah magic method berguna\n",
    "class Angka:\n",
    "    def __init__(self, angka):\n",
    "        self.angka = angka\n",
    "\n",
    "    def nambah(self, objek): # param: objek. beda dgn construct angka\n",
    "        return self.angka * objek.angka"
   ]
  },
  {
   "cell_type": "code",
   "execution_count": 67,
   "id": "8ad53b9b",
   "metadata": {},
   "outputs": [
    {
     "ename": "TypeError",
     "evalue": "unsupported operand type(s) for +: 'Angka' and 'Angka'",
     "output_type": "error",
     "traceback": [
      "\u001b[1;31m---------------------------------------------------------------------------\u001b[0m",
      "\u001b[1;31mTypeError\u001b[0m                                 Traceback (most recent call last)",
      "Cell \u001b[1;32mIn[67], line 4\u001b[0m\n\u001b[0;32m      1\u001b[0m x1 \u001b[38;5;241m=\u001b[39m Angka(\u001b[38;5;241m10\u001b[39m)\n\u001b[0;32m      2\u001b[0m x2 \u001b[38;5;241m=\u001b[39m Angka(\u001b[38;5;241m20\u001b[39m)\n\u001b[1;32m----> 4\u001b[0m x1\u001b[38;5;241m+\u001b[39mx2\n",
      "\u001b[1;31mTypeError\u001b[0m: unsupported operand type(s) for +: 'Angka' and 'Angka'"
     ]
    }
   ],
   "source": [
    "x1 = Angka(10)\n",
    "x2 = Angka(20)\n",
    "\n",
    "x1+x2"
   ]
  },
  {
   "cell_type": "markdown",
   "id": "81a08311",
   "metadata": {},
   "source": [
    "akowkowdowoew ttep methodnya harus nama magic method bru bisa diassociate dgn operator"
   ]
  },
  {
   "cell_type": "markdown",
   "id": "4d49a222",
   "metadata": {},
   "source": [
    "## 8"
   ]
  },
  {
   "cell_type": "markdown",
   "id": "fada9c7d",
   "metadata": {},
   "source": [
    "got an insight about polymorphysm!\n",
    "\n",
    "polymorphysm it's simply method with the same name, uniform name, make it easy to call repeated times. like len() method would always return the same operation meskipun gue panggil di mana mana\n",
    "\n",
    "kalo di class, ini refer kaya method di child yg sama kaya method di parent simply biar manggilnya sama gitu, seragam\n",
    "\n",
    "jadi, identify ada polymorpysm atau ga: liat, ada yg sama ga nama methodnya kaya yang di parent?"
   ]
  },
  {
   "cell_type": "markdown",
   "id": "63c0c6a5",
   "metadata": {},
   "source": [
    "a.\n",
    "instance\n",
    "dari class B ketika menjalankan method\n",
    "get_value\n",
    "maka yang dijalankan adalah method\n",
    "get_value\n",
    "di dalam class A\n",
    "\n",
    "gadong, kan udh di super init trs sm dia dirombak di value +5"
   ]
  },
  {
   "cell_type": "markdown",
   "id": "00c64f72",
   "metadata": {},
   "source": [
    "b.\n",
    "class\n",
    "A, B dan C mempunyai nama\n",
    "instance attribute\n",
    "yang sama\n",
    "\n",
    "betul, sama sama value. dari parent dikasie nama value, anak anaknya jg make vlue"
   ]
  },
  {
   "cell_type": "markdown",
   "id": "2fcd79c4",
   "metadata": {},
   "source": [
    "c.\n",
    "instance\n",
    "dari class C ketika menjalankan method\n",
    "get_value\n",
    "maka yang dijalankan adalah method\n",
    "cek_value\n",
    "di dalam class C\n",
    "\n",
    "ga, org di ga define getter. yg di inherit cm object 'value'"
   ]
  },
  {
   "cell_type": "code",
   "execution_count": 70,
   "id": "7ef9acfb",
   "metadata": {},
   "outputs": [
    {
     "name": "stdout",
     "output_type": "stream",
     "text": [
      "there\n",
      "fore\n",
      "therefore\n"
     ]
    }
   ],
   "source": [
    "class MyClass:\n",
    "    a = \"hi\"\n",
    "    pass\n",
    "\n",
    "a1 = MyClass()\n",
    "a2 = MyClass()\n",
    "a3 = MyClass()\n",
    "\n",
    "a1.a = \"there\"\n",
    "MyClass.a = \"fore\"\n",
    "print(a1.a)\n",
    "print(a2.a)\n",
    "\n",
    "MyClass.a = a1.a + a2.a\n",
    "print(a3.a)"
   ]
  },
  {
   "cell_type": "markdown",
   "id": "188b530f",
   "metadata": {},
   "source": [
    "anggep gue berpikir seperti piton\n",
    "\n",
    "awal: hi\n",
    "    \n",
    "buat 3 instance yg refer ke hi\n",
    "\n",
    "a1.a gue assign ke there. buat a1 ajh\n",
    "\n",
    "myClass.a, gue ganti keseluruhan di memorinya jadi fore\n",
    "\n",
    "print a1.a, td udh gue assign dia jadi there\n",
    "print a2.a, blm gue apa apain daritadi, ywdh dia ngikutin refer di memori aj yg udah berubah jadi fore\n",
    "\n",
    "memori gue ganti semua jadi there+fore (therefore)\n",
    "a3.a daritadi blm gue otak atik jadinya dia ngikutin sesuai memori"
   ]
  },
  {
   "cell_type": "markdown",
   "id": "ae3e4944",
   "metadata": {},
   "source": [
    "## 10"
   ]
  },
  {
   "cell_type": "code",
   "execution_count": 73,
   "id": "193d947e",
   "metadata": {},
   "outputs": [],
   "source": [
    "class Rumah:\n",
    "    asal = None\n",
    "    \n",
    "    def __init__(self, kt, km):\n",
    "        self.kt = kt\n",
    "        self.km = km\n",
    "        \n",
    "class Gadang(Rumah):\n",
    "    asal = 'Sumbar'\n",
    "\n",
    "class Honai(Rumah):\n",
    "    asal = 'Papua'"
   ]
  },
  {
   "cell_type": "markdown",
   "id": "8e0c168f",
   "metadata": {},
   "source": [
    "perhatikan ini inheritance. tiap manggil anak/parent WAJIB PASS 2 PARAM!"
   ]
  },
  {
   "cell_type": "code",
   "execution_count": 75,
   "id": "58b0f709",
   "metadata": {},
   "outputs": [
    {
     "ename": "TypeError",
     "evalue": "Rumah.__init__() missing 1 required positional argument: 'km'",
     "output_type": "error",
     "traceback": [
      "\u001b[1;31m---------------------------------------------------------------------------\u001b[0m",
      "\u001b[1;31mTypeError\u001b[0m                                 Traceback (most recent call last)",
      "Cell \u001b[1;32mIn[75], line 2\u001b[0m\n\u001b[0;32m      1\u001b[0m x \u001b[38;5;241m=\u001b[39m Gadang(\u001b[38;5;241m1000\u001b[39m, \u001b[38;5;241m100\u001b[39m) \u001b[38;5;66;03m# BOWLE\u001b[39;00m\n\u001b[1;32m----> 2\u001b[0m x \u001b[38;5;241m=\u001b[39m Honai(\u001b[38;5;124m\"\u001b[39m\u001b[38;5;124mPapua\u001b[39m\u001b[38;5;124m\"\u001b[39m)\n\u001b[0;32m      3\u001b[0m x \u001b[38;5;241m=\u001b[39m Honai() \n\u001b[0;32m      4\u001b[0m x \u001b[38;5;241m=\u001b[39m Gadang(\u001b[38;5;241m5\u001b[39m, \u001b[38;5;241m3\u001b[39m, \u001b[38;5;241m1\u001b[39m)\n",
      "\u001b[1;31mTypeError\u001b[0m: Rumah.__init__() missing 1 required positional argument: 'km'"
     ]
    }
   ],
   "source": [
    "x = Gadang(1000, 100) # BOWLE\n",
    "x = Honai(\"Papua\")\n",
    "x = Honai() \n",
    "x = Gadang(5, 3, 1)"
   ]
  },
  {
   "cell_type": "markdown",
   "id": "05330983",
   "metadata": {},
   "source": [
    "## 12"
   ]
  },
  {
   "cell_type": "markdown",
   "id": "f786bbe0",
   "metadata": {},
   "source": [
    "note:\n",
    "misal, parent punya class attr sendiri\n",
    "trs anaknya inherit class parent, punya attr dgn nama variable sama, tap value berbeda\n",
    "\n",
    "yang di parent remain unchanged"
   ]
  },
  {
   "cell_type": "markdown",
   "id": "2cc424e8",
   "metadata": {},
   "source": [
    "makanya di sini valuenya jadi 10"
   ]
  },
  {
   "cell_type": "markdown",
   "id": "00af57fa",
   "metadata": {},
   "source": [
    "## 13"
   ]
  },
  {
   "cell_type": "code",
   "execution_count": 76,
   "id": "fbfede27",
   "metadata": {},
   "outputs": [],
   "source": [
    "class A:\n",
    "    def f(self):\n",
    "        return 5\n",
    "\n",
    "class B(A):\n",
    "    def f(self):\n",
    "        return 3"
   ]
  },
  {
   "cell_type": "code",
   "execution_count": 77,
   "id": "86eb025e",
   "metadata": {},
   "outputs": [
    {
     "name": "stdout",
     "output_type": "stream",
     "text": [
      "3\n"
     ]
    }
   ],
   "source": [
    "b = B()\n",
    "print(b.f())"
   ]
  },
  {
   "cell_type": "code",
   "execution_count": 79,
   "id": "96f9a98d",
   "metadata": {},
   "outputs": [],
   "source": [
    "class A:\n",
    "    def f(self):\n",
    "        return 5\n",
    "\n",
    "class B(A):\n",
    "    def f(self):\n",
    "        pass"
   ]
  },
  {
   "cell_type": "code",
   "execution_count": 80,
   "id": "7b614e08",
   "metadata": {},
   "outputs": [
    {
     "name": "stdout",
     "output_type": "stream",
     "text": [
      "None\n"
     ]
    }
   ],
   "source": [
    "b = B()\n",
    "print(b.f()) # gue penasaran knp soal inherit nilai method jg tanpa"
   ]
  },
  {
   "cell_type": "markdown",
   "id": "056a1bf2",
   "metadata": {},
   "source": [
    "loh loh loh coba kerjain soal"
   ]
  },
  {
   "cell_type": "code",
   "execution_count": 81,
   "id": "c7bf77ef",
   "metadata": {},
   "outputs": [],
   "source": [
    "class A:\n",
    "    def f(self):\n",
    "        return 5\n",
    "\n",
    "class B(A):\n",
    "    def f(self):\n",
    "        return 3\n",
    "    \n",
    "class C(B):\n",
    "    pass\n",
    "\n",
    "class D(C):\n",
    "    def g(self):\n",
    "        return 1\n",
    "\n",
    "class E(C):\n",
    "    def f(self):\n",
    "        return 20\n",
    "\n",
    "c=C()\n",
    "d=D()\n",
    "e=E()"
   ]
  },
  {
   "cell_type": "code",
   "execution_count": 83,
   "id": "1f42130c",
   "metadata": {},
   "outputs": [
    {
     "name": "stdout",
     "output_type": "stream",
     "text": [
      "26\n",
      "3\n",
      "3\n",
      "20\n"
     ]
    }
   ],
   "source": [
    "print(c.f() + d.f() + e.f())\n",
    "print(c.f())\n",
    "print(d.f())\n",
    "print(e.f())\n",
    "\n",
    "# jadi, karena udh inherit, meskipun method nya tida di define di anaknya,\n",
    "# tetep bisa dipanggil karena dh didefine di parentnya"
   ]
  },
  {
   "cell_type": "code",
   "execution_count": 85,
   "id": "0c23d4f9",
   "metadata": {},
   "outputs": [],
   "source": [
    "# bjir ini cara gampang paham inheritance, \n",
    "# ap aj yg diturunin at the very basic\n",
    "\n",
    "class Orang:\n",
    "\n",
    "    def __init__ (self, nama, asal):\n",
    "        self.nama = nama\n",
    "        self.asal = asal\n",
    "\n",
    "    def perkenalan (self):\n",
    "        print(f'Perkenalkan nama saya {self.nama} dari {self.asal}')\n",
    "\n",
    "class Pelajar (Orang):\n",
    "    pass\n",
    "\n",
    "class Pekerja (Orang):\n",
    "    pass\n"
   ]
  },
  {
   "cell_type": "code",
   "execution_count": 86,
   "id": "9ba49fd6",
   "metadata": {},
   "outputs": [
    {
     "name": "stdout",
     "output_type": "stream",
     "text": [
      "Perkenalkan nama saya Andi dari Surabaya\n",
      "Perkenalkan nama saya Deni dari Makassar\n",
      "Perkenalkan nama saya Budi dari Pontianak\n"
     ]
    }
   ],
   "source": [
    "andi = Orang('Andi', 'Surabaya')\n",
    "andi.perkenalan()\n",
    "\n",
    "deni = Pelajar('Deni', 'Makassar')\n",
    "deni.perkenalan()\n",
    "\n",
    "budi = Pekerja('Budi', 'Pontianak')\n",
    "budi.perkenalan()\n",
    "\n",
    "# it's like python buildin method"
   ]
  },
  {
   "cell_type": "markdown",
   "id": "8941d290",
   "metadata": {},
   "source": [
    "## 16"
   ]
  },
  {
   "cell_type": "markdown",
   "id": "72685cb3",
   "metadata": {},
   "source": [
    "ini masih questionable di the way nama negara inherit dari class keju"
   ]
  },
  {
   "cell_type": "code",
   "execution_count": 88,
   "id": "363200c0",
   "metadata": {},
   "outputs": [],
   "source": [
    "class Keju:\n",
    "    def __init__(self, nama_keju, asal_negara, komposisi):\n",
    "        self.nama_keju = nama_keju\n",
    "        self.asal_negara = asal_negara\n",
    "        self.komposisi = set(komposisi)\n",
    "        \n",
    "class Negara(Keju):\n",
    "    def __init__(self, nama, tahun_merdeka=None):\n",
    "        super().__init__(asal_negara = nama)\n",
    "        self.tahun_merdeka = tahun_merdeka"
   ]
  },
  {
   "cell_type": "markdown",
   "id": "f96f0d29",
   "metadata": {},
   "source": [
    "## 17"
   ]
  },
  {
   "cell_type": "code",
   "execution_count": 89,
   "id": "684b3fd3",
   "metadata": {},
   "outputs": [],
   "source": [
    "import tkinter as tk\n",
    "\n",
    "class MainApp(tk.Tk):\n",
    "    def __init__(self, master=None):\n",
    "        super().__init__(master)\n",
    "        self.sistolik = tk.StringVar()\n",
    "        self.diastolik = tk.StringVar()\n",
    "        self.klasifikasi = tk.StringVar()\n",
    "        self.create_widgets()\n",
    "\n",
    "    def create_widgets(self):\n",
    "        self.ent_sistolik = tk.Entry(self, textvariable=self.sistolik)\n",
    "        self.ent_diastolik = tk.Entry(self, textvariable=self.diastolik)\n",
    "        self.ent_klasifikasi = tk.Entry(self, textvariable=self.klasifikasi, state=tk.DISABLED)\n",
    "        self.lbl_sistolik = tk.Label(self, text=\"Sistolik (mmHG)\")\n",
    "        self.lbl_diastolik = tk.Label(self, text=\"Diastolik (mmHG)\")\n",
    "        self.lbl_klasifikasi = tk.Label(self, text=\"Klasifikasi\")\n",
    "        self.btn_check = tk.Button(self, text=\"check\")\n",
    "        \n",
    "        self.lbl_sistolik.pack()\n",
    "        self.ent_sistolik.pack()\n",
    "        self.lbl_diastolik.pack()\n",
    "        self.ent_diastolik.pack()\n",
    "        self.lbl_klasifikasi.pack()\n",
    "        self.ent_klasifikasi.pack()\n",
    "        self.btn_check.pack()\n",
    "        self.btn_check.bind(\"<Button-1>\", self.btn_check_clicked)\n",
    "\n",
    "    def btn_check_clicked(self, event):\n",
    "        sistolik = int(self.ent_sistolik.get())\n",
    "        diastolik = int(self.ent_diastolik.get())\n",
    "        \n",
    "        if sistolik <80 or diastolik <60:\n",
    "            # liat kalo entry klasifikasi diambil dari object self klasifikasi\n",
    "            # berarti updatenya langsung objectnya\n",
    "            self.klasifikasi.set('Hipotensi')\n",
    "        elif (80 <= sistolik <= 120) and (60 <= diastolik <= 80): \n",
    "            self.klasifikasi.set('Normal')\n",
    "        else:\n",
    "            self.klasifikasi.set('Hipertensi')\n",
    "\n",
    "app = MainApp()\n",
    "app.geometry(\"300x200\")\n",
    "app.title(\"Tekanan Darah\")\n",
    "app.mainloop()\n"
   ]
  },
  {
   "cell_type": "markdown",
   "id": "1a82fcaa",
   "metadata": {},
   "source": [
    "## 18"
   ]
  },
  {
   "cell_type": "code",
   "execution_count": 105,
   "id": "e6a753e3",
   "metadata": {},
   "outputs": [],
   "source": [
    "daftar_nilai = {\n",
    "    \"Matematika\": {\n",
    "        \"Ani\": 74, \"Anto\": 77, \"Budi\": 98, \"Bunga\": 90, \"Chandra\": 40,\n",
    "        \"Cinta\": 54, \"Danang\": 86, \"Donita\": 98, \"Einstein\": 99, \"Elisa\": 0\n",
    "    },\n",
    "    \"Fisika\": {\n",
    "        \"Ani\": 10, \"Anto\": 20, \"Budi\": 30, \"Bunga\": 40, \"Chandra\": 50,\n",
    "        \"Cinta\": 60, \"Danang\": 70, \"Donita\": 80, \"Einstein\": 100, \"Elisa\": 0\n",
    "    },\n",
    "    \"Bahasa Indonesia\": {\n",
    "        \"Ani\": 89, \"Anto\": 90, \"Budi\": 95, \"Bunga\": 97, \"Chandra\": 87,\n",
    "        \"Cinta\": 99, \"Danang\": 89, \"Donita\": 90, \"Einstein\": 60, \"Elisa\": 0\n",
    "    },\n",
    "    \"Geografi\": {\n",
    "        \"Ani\": 70, \"Anto\": 70, \"Budi\": 70, \"Bunga\": 70, \"Chandra\": 70,\n",
    "        \"Cinta\": 70, \"Danang\": 70, \"Donita\": 70, \"Einstein\": 75, \"Elisa\": 100\n",
    "    },\n",
    "    \"Sejarah\": {\n",
    "        \"Ani\": 40, \"Anto\": 50, \"Budi\": 90, \"Bunga\": 20, \"Chandra\": 40,\n",
    "        \"Cinta\": 80, \"Danang\": 40, \"Donita\": 95, \"Einstein\": 85, \"Elisa\": 100\n",
    "    }\n",
    "}\n"
   ]
  },
  {
   "cell_type": "code",
   "execution_count": 107,
   "id": "41e75233",
   "metadata": {},
   "outputs": [
    {
     "data": {
      "text/plain": [
       "74"
      ]
     },
     "execution_count": 107,
     "metadata": {},
     "output_type": "execute_result"
    }
   ],
   "source": [
    "daftar_nilai['Matematika']['Ani']"
   ]
  },
  {
   "cell_type": "code",
   "execution_count": 134,
   "id": "490f858a",
   "metadata": {},
   "outputs": [],
   "source": [
    "def cek_nilai(daftar_nilai):\n",
    "    result = []\n",
    "    \n",
    "    for pelajaran, data_nama in daftar_nilai.items():\n",
    "        nama = list(data_nama.keys())\n",
    "        tertinggi = nama[0]\n",
    "\n",
    "        for i in range(1, len(nama)):\n",
    "            if int(data_nama[tertinggi]) < int(data_nama[nama[i]]):\n",
    "                tertinggi = nama[i]\n",
    "\n",
    "        result.append(f\"Nilai tertinggi untuk mata pelajaran {pelajaran} diraih oleh {tertinggi}\")\n",
    "    return result\n"
   ]
  },
  {
   "cell_type": "code",
   "execution_count": 136,
   "id": "eefaded7",
   "metadata": {},
   "outputs": [
    {
     "name": "stdout",
     "output_type": "stream",
     "text": [
      "Nilai tertinggi untuk mata pelajaran Matematika diraih oleh Einstein\n",
      "Nilai tertinggi untuk mata pelajaran Fisika diraih oleh Einstein\n",
      "Nilai tertinggi untuk mata pelajaran Bahasa Indonesia diraih oleh Cinta\n",
      "Nilai tertinggi untuk mata pelajaran Geografi diraih oleh Elisa\n",
      "Nilai tertinggi untuk mata pelajaran Sejarah diraih oleh Elisa\n"
     ]
    }
   ],
   "source": [
    "for i in cek_nilai(daftar_nilai):\n",
    "    print(i)"
   ]
  },
  {
   "cell_type": "markdown",
   "id": "8b490079",
   "metadata": {},
   "source": [
    "## 19"
   ]
  },
  {
   "cell_type": "code",
   "execution_count": 145,
   "id": "5e7c85d4",
   "metadata": {},
   "outputs": [],
   "source": [
    "def seimbang(expr):\n",
    "    if expr == \"\":\n",
    "        return True\n",
    "    if expr[0] == \"(\" or expr[-1] == \")\":\n",
    "        return seimbang(expr[1:-1])\n",
    "    for i in range(1,len(expr)):\n",
    "        return (seimbang(expr[:i]) and seimbang(expr[i:]))\n",
    "    \n",
    "# nootice dia blm ada mekanisme utk bilang false"
   ]
  },
  {
   "cell_type": "code",
   "execution_count": 163,
   "id": "bc0146b7",
   "metadata": {},
   "outputs": [],
   "source": [
    "def seimbang(expr):\n",
    "    if expr == \"\":\n",
    "        return True\n",
    "    \n",
    "    hasil = False\n",
    "\n",
    "    if expr[0] == \"(\" and expr[-1] == \")\":\n",
    "        hasil = hasil or seimbang(expr[1:-1])\n",
    "\n",
    "    for i in range(1, len(expr)):\n",
    "        hasil = hasil or (seimbang(expr[:i]) and seimbang(expr[i:]))\n",
    "    \n",
    "    return hasil\n",
    "\n",
    "# jd ini tuh seimbang somehow kanan kirinya harus sama kan, harus in/close paran\n",
    "# nah, yg expression pertama, dia pake or karena hasil remain false, recursive\n",
    "# call nya bakal ngecek kalo di tengah tengahnya itu seimbang g. knp tengah2ny aja\n",
    "# karena depan belakangnya udah seimbang\n",
    "\n",
    "# expr 2, dia ngecek all possible sides gt. misal \"()()\"\n",
    "# For i = 1, it checks the balance of \"()\" and \")\".\n",
    "# For i = 2, it checks the balance of \"()(\" and \")\".\n",
    "# For i = 3, it checks the balance of \"()()\" and \"\".\n",
    "# ternyata balance pa i =3. makanya dia pake or buat accumulate seengganya\n",
    "# ditemukan balance gk kalo split nya aneh aneh"
   ]
  },
  {
   "cell_type": "code",
   "execution_count": 164,
   "id": "5421e47e",
   "metadata": {},
   "outputs": [
    {
     "data": {
      "text/plain": [
       "True"
      ]
     },
     "execution_count": 164,
     "metadata": {},
     "output_type": "execute_result"
    }
   ],
   "source": [
    "seimbang( \"(())\" )"
   ]
  },
  {
   "cell_type": "code",
   "execution_count": 165,
   "id": "3527c4ce",
   "metadata": {},
   "outputs": [
    {
     "data": {
      "text/plain": [
       "True"
      ]
     },
     "execution_count": 165,
     "metadata": {},
     "output_type": "execute_result"
    }
   ],
   "source": [
    "seimbang( \"()()\" )"
   ]
  },
  {
   "cell_type": "code",
   "execution_count": 166,
   "id": "05a2808c",
   "metadata": {},
   "outputs": [
    {
     "data": {
      "text/plain": [
       "False"
      ]
     },
     "execution_count": 166,
     "metadata": {},
     "output_type": "execute_result"
    }
   ],
   "source": [
    "seimbang( \")(\"  )"
   ]
  },
  {
   "cell_type": "markdown",
   "id": "6e9a8a29",
   "metadata": {},
   "source": [
    "## 20"
   ]
  },
  {
   "cell_type": "code",
   "execution_count": null,
   "id": "ca82337c",
   "metadata": {},
   "outputs": [],
   "source": [
    "class Animal:\n",
    "    # birthdate menggunakan struktur tuple dengan format (\"dd\", \"mm\", \"yyyy\"),\n",
    "    # contohnya (\"05\", \"12\", \"2020\")\n",
    "    # sedangkan colors menggunakan struktur list\n",
    "    def __init__(self, name, birthdate, diet, colors):\n",
    "        self.name = name\n",
    "        self.birthdate = birthdate\n",
    "        self.diet = diet\n",
    "        self.colors = colors\n",
    "\n",
    "    def eats(self):\n",
    "        print(self.name, \"is eating...\")\n",
    "\n",
    "    # task: lengkapi method birthmonth\n",
    "    def birthmonth(self):\n",
    "        return self.birthdate[1] # kan tuple dd mm yyyy\n",
    "\n",
    "    # task: lengkapi method di bawah ini\n",
    "    def __str__(self): # kalo nama method blank, pasti special method\n",
    "        return f\"{self.name} born in month {self.birthmonth()} is {self.diet}\"\n",
    "\n",
    "class Tiger(Animal):\n",
    "    def __init__(self, name, birthdate):\n",
    "        super().__init__(name, birthdate, \"Carnivore\", [\"Yellow\", \"Black\"])\n",
    "\n",
    "    # task: lengkapi method di bawah ini (yang melakukan overriding)\n",
    "    def eats(self):\n",
    "        print(\"Yummy!\")\n",
    "\n",
    "class Camel(Animal):\n",
    "    # task: lengkapi method __init__\n",
    "    # perhatikan bahwa unta tergolong ke herbivore\n",
    "    # serta warnanya cokelat\n",
    "    def __init__(self, name, birthdate):\n",
    "        super().__init__(name, birthdate, \"Herbivore\", [\"Brown\"])\n",
    "\n",
    "class Zebra(Animal):\n",
    "    pass # minimal mungkin di sini adalah polymorphysm karena\n",
    "# dia ngikutin apa adanya dari class parentnya\n"
   ]
  },
  {
   "cell_type": "markdown",
   "id": "2a0f1db3",
   "metadata": {},
   "source": [
    "## 21"
   ]
  },
  {
   "cell_type": "markdown",
   "id": "7a8fea39",
   "metadata": {},
   "source": [
    "pusing"
   ]
  },
  {
   "cell_type": "code",
   "execution_count": 2,
   "id": "443a2687",
   "metadata": {},
   "outputs": [],
   "source": [
    "network = {\n",
    "\"Safira\": {\"Affan\", \"Kadek\", \"Mutia\", \"Nurmala\"},\n",
    "\"Affan\": {\"Safira\", \"Ridwan\", \"Mutia\", \"Ilham\"},\n",
    "\"Kadek\": {\"Safira\", \"Usep\", \"Mutia\", \"Gio\"},\n",
    "\"Mutia\": {\"Safira\", \"Affan\", \"Nurmala\", \"Dewi\"}\n",
    "}"
   ]
  },
  {
   "cell_type": "code",
   "execution_count": 3,
   "id": "8a3fc63a",
   "metadata": {},
   "outputs": [
    {
     "name": "stdout",
     "output_type": "stream",
     "text": [
      "{'Mutia', 'Usep', 'Dewi', 'Nurmala', 'Ridwan', 'Affan', 'Ilham', 'Gio'}\n",
      "set()\n"
     ]
    }
   ],
   "source": [
    "def friends_of_friends(network, person):\n",
    "    # Check if the person is in the network\n",
    "    if person not in network:\n",
    "        return set()  # If the person is not in the network, return an empty set\n",
    "    \n",
    "    friends_set = network[person]  # Get the set of friends for the given person\n",
    "    friends_of_friends_set = set()  # Initialize an empty set for friends-of-friends\n",
    "    \n",
    "    # Iterate through each friend of the person\n",
    "    for friend in friends_set:\n",
    "        # Check if the friend is in the network\n",
    "        if friend in network:\n",
    "            # Add friends of the friend to the friends-of-friends set\n",
    "            friends_of_friends_set.update(network[friend])\n",
    "    \n",
    "    # Remove the original person from the set\n",
    "    friends_of_friends_set.discard(person)\n",
    "    \n",
    "    return friends_of_friends_set\n",
    "\n",
    "# Example usage:\n",
    "network = {\n",
    "    \"Safira\": {\"Affan\", \"Kadek\", \"Mutia\", \"Nurmala\"},\n",
    "    \"Affan\": {\"Safira\", \"Ridwan\", \"Mutia\", \"Ilham\"},\n",
    "    \"Kadek\": {\"Safira\", \"Usep\", \"Mutia\", \"Gio\"},\n",
    "    \"Mutia\": {\"Safira\", \"Affan\", \"Nurmala\", \"Dewi\"}\n",
    "}\n",
    "\n",
    "result = friends_of_friends(network, \"Safira\")\n",
    "print(result)\n",
    "# Output: {'Ridwan', 'Mutia', 'Ilham', 'Usep', 'Gio', 'Affan', 'Nurmala', 'Dewi'}\n",
    "\n",
    "result = friends_of_friends(network, \"Ilham\")\n",
    "print(result)\n",
    "# Output: set()\n",
    "\n"
   ]
  },
  {
   "cell_type": "code",
   "execution_count": null,
   "id": "0635eb12",
   "metadata": {},
   "outputs": [],
   "source": []
  }
 ],
 "metadata": {
  "kernelspec": {
   "display_name": "Python 3 (ipykernel)",
   "language": "python",
   "name": "python3"
  },
  "language_info": {
   "codemirror_mode": {
    "name": "ipython",
    "version": 3
   },
   "file_extension": ".py",
   "mimetype": "text/x-python",
   "name": "python",
   "nbconvert_exporter": "python",
   "pygments_lexer": "ipython3",
   "version": "3.11.4"
  }
 },
 "nbformat": 4,
 "nbformat_minor": 5
}
