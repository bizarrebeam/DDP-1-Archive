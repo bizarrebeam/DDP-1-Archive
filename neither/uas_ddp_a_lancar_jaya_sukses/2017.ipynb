{
 "cells": [
  {
   "cell_type": "markdown",
   "id": "291868c4",
   "metadata": {},
   "source": [
    "# 1"
   ]
  },
  {
   "cell_type": "code",
   "execution_count": 1,
   "id": "4a86e049",
   "metadata": {},
   "outputs": [
    {
     "name": "stdout",
     "output_type": "stream",
     "text": [
      "57\n",
      "67\n"
     ]
    }
   ],
   "source": [
    "x = 20\n",
    "y = 10\n",
    "try :\n",
    "    x += int ( \" 7 \" )\n",
    "except ( ValueError , NameError ):\n",
    "    y += 10\n",
    "    x = x + y\n",
    "else :\n",
    "    x += 30\n",
    "finally :\n",
    "    y += x\n",
    "    print ( x )\n",
    "print ( y )"
   ]
  },
  {
   "cell_type": "markdown",
   "id": "96275503",
   "metadata": {},
   "source": [
    "### 3"
   ]
  },
  {
   "cell_type": "code",
   "execution_count": 2,
   "id": "e0caa70a",
   "metadata": {},
   "outputs": [
    {
     "name": "stdout",
     "output_type": "stream",
     "text": [
      "{'uas': 3, 'ddp': 3, 'dan': 3}\n"
     ]
    }
   ],
   "source": [
    "# 3 3 3 3 \n",
    "print ({ x : len ( x ) for x in \" uas ddp kesatu dan ddp kedua \" . split () if len ( x ) <4})"
   ]
  },
  {
   "cell_type": "markdown",
   "id": "074d6f4d",
   "metadata": {},
   "source": [
    "##### 5"
   ]
  },
  {
   "cell_type": "code",
   "execution_count": 3,
   "id": "4dfd9c10",
   "metadata": {},
   "outputs": [
    {
     "name": "stdout",
     "output_type": "stream",
     "text": [
      "{1, 2, 3}\n",
      "{2, 3, 4}\n",
      "{4, 5}\n"
     ]
    }
   ],
   "source": [
    "def fun (x , y ):\n",
    "    x = y\n",
    "    y = {5 ,2 ,3}\n",
    "    return x.symmetric_difference(y)\n",
    "a , b = {1 ,3 ,2 ,3} , {4 ,2 ,3 ,4}\n",
    "z = fun(a, b)\n",
    "print(a)\n",
    "print(b)\n",
    "print(z)"
   ]
  },
  {
   "cell_type": "code",
   "execution_count": 13,
   "id": "72a96272",
   "metadata": {},
   "outputs": [
    {
     "name": "stdout",
     "output_type": "stream",
     "text": [
      "2.5\n",
      "2.5\n"
     ]
    }
   ],
   "source": [
    "def rata_rata(alist):\n",
    "    if len(alist) == 0:\n",
    "        return 0\n",
    "    elif len(alist) == 1:\n",
    "        return alist[0]\n",
    "\n",
    "    def get_sum(lst):\n",
    "        if not lst:\n",
    "            return 0\n",
    "        elif isinstance(lst[0], list):\n",
    "            return get_sum(lst[0]) + get_sum(lst[1:])\n",
    "        else:\n",
    "            return lst[0] + get_sum(lst[1:])\n",
    "\n",
    "    def get_count(lst):\n",
    "        if not lst:\n",
    "            return 0\n",
    "        elif isinstance(lst[0], list):\n",
    "            return get_count(lst[0]) + get_count(lst[1:])\n",
    "        else:\n",
    "            return 1 + get_count(lst[1:])\n",
    "\n",
    "    total = get_sum(alist)\n",
    "    count = get_count(alist)\n",
    "\n",
    "    if count == 0:\n",
    "        return 0\n",
    "    else:\n",
    "        return total / count\n",
    "\n",
    "# Contoh penggunaan\n",
    "result1 = rata_rata([1, [2, 3, [4]]])\n",
    "print(result1)  # Output: 2.5\n",
    "\n",
    "result2 = rata_rata([[[1]], [[2], [3], [4]]])\n",
    "print(result2)  # Output: 2.5\n"
   ]
  },
  {
   "cell_type": "code",
   "execution_count": 14,
   "id": "905f97c8",
   "metadata": {},
   "outputs": [],
   "source": [
    "def f(x):\n",
    "    y = set()\n",
    "    for v,w in x.items():\n",
    "        if w in y:\n",
    "            return True\n",
    "        else:\n",
    "            y.add(w)\n",
    "    return False"
   ]
  },
  {
   "cell_type": "code",
   "execution_count": 15,
   "id": "ea561315",
   "metadata": {},
   "outputs": [
    {
     "data": {
      "text/plain": [
       "False"
      ]
     },
     "execution_count": 15,
     "metadata": {},
     "output_type": "execute_result"
    }
   ],
   "source": [
    "f({\"name\": \"Mike\", \"salary\": 8000} )"
   ]
  },
  {
   "cell_type": "code",
   "execution_count": 24,
   "id": "dd3872c2",
   "metadata": {},
   "outputs": [],
   "source": [
    "fib_call_count = []\n",
    "\n",
    "def fib(n):\n",
    "    fib_call_count.append(1)\n",
    "    if n == 0 or n == 1:\n",
    "        return n\n",
    "    else:\n",
    "        return fib(n - 1) + fib(n - 2)\n",
    "\n",
    "ffib_call_count = []\n",
    "\n",
    "def ffib(n, memo={}):\n",
    "    ffib_call_count.append(1)\n",
    "    if n == 0 or n == 1:\n",
    "        return n\n",
    "    try:\n",
    "        return memo[n]\n",
    "    except KeyError:\n",
    "        result = ffib(n - 1, memo) + ffib(n - 2, memo)\n",
    "        memo[n] = result\n",
    "        print(memo)  # Print the contents of memo\n",
    "        return result\n"
   ]
  },
  {
   "cell_type": "code",
   "execution_count": 25,
   "id": "decf8e4f",
   "metadata": {},
   "outputs": [
    {
     "name": "stdout",
     "output_type": "stream",
     "text": [
      "fib(6): 8\n",
      "called fib 25 times\n",
      "{2: 1}\n",
      "{2: 1, 3: 2}\n",
      "{2: 1, 3: 2, 4: 3}\n",
      "{2: 1, 3: 2, 4: 3, 5: 5}\n",
      "{2: 1, 3: 2, 4: 3, 5: 5, 6: 8}\n",
      "ffib(6): 8\n",
      "called ffib 11 times\n"
     ]
    }
   ],
   "source": [
    "k = 6\n",
    "print(\"fib({}): {}\".format(k, fib(k)))\n",
    "print(\"called fib\", len(fib_call_count), \"times\")\n",
    "\n",
    "print(\"ffib({}): {}\".format(k, ffib(k)))\n",
    "print(\"called ffib\", len(ffib_call_count), \"times\")"
   ]
  },
  {
   "cell_type": "code",
   "execution_count": null,
   "id": "3db0e71d",
   "metadata": {},
   "outputs": [],
   "source": []
  }
 ],
 "metadata": {
  "kernelspec": {
   "display_name": "Python 3 (ipykernel)",
   "language": "python",
   "name": "python3"
  },
  "language_info": {
   "codemirror_mode": {
    "name": "ipython",
    "version": 3
   },
   "file_extension": ".py",
   "mimetype": "text/x-python",
   "name": "python",
   "nbconvert_exporter": "python",
   "pygments_lexer": "ipython3",
   "version": "3.11.4"
  }
 },
 "nbformat": 4,
 "nbformat_minor": 5
}
