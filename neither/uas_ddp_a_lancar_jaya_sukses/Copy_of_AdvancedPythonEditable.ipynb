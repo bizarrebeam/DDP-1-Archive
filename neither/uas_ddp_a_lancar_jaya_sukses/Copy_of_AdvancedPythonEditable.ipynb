{
 "cells": [
  {
   "cell_type": "markdown",
   "metadata": {
    "id": "bjGPEGkCe2CN"
   },
   "source": [
    "# Advanced Python Example and Exercises"
   ]
  },
  {
   "cell_type": "markdown",
   "metadata": {
    "id": "cAfvWqLELCtt"
   },
   "source": [
    "Untuk menyimpan dan melakukan eksplorasi pada notebook ini silahkan copy notebook ke drive masing-masing dengan menekan\n",
    "\n",
    "<code>File > Save a copy in Drive</code>"
   ]
  },
  {
   "cell_type": "markdown",
   "metadata": {
    "id": "M909vr9pe7HG"
   },
   "source": [
    "## Higher Order Function\n",
    "Function atau method juga sebuah object, jadi bisa di pass sebagai argumen."
   ]
  },
  {
   "cell_type": "code",
   "execution_count": 1,
   "metadata": {
    "id": "tilZ0WeuezI4"
   },
   "outputs": [
    {
     "name": "stdout",
     "output_type": "stream",
     "text": [
      "<bound method MyClass.print_hehe of <__main__.MyClass object at 0x000001DBCA339C90>>\n",
      "<function print_meong at 0x000001DBC4BAE340>\n"
     ]
    }
   ],
   "source": [
    "class MyClass:\n",
    "    def print_hehe(self):\n",
    "        print(\"hehe, saya sebuah method.\")\n",
    "\n",
    "def print_meong():\n",
    "    print(\"meong, saya sebuah fungsi.\")\n",
    "\n",
    "an_object = MyClass()\n",
    "print(an_object.print_hehe)\n",
    "print(print_meong)"
   ]
  },
  {
   "cell_type": "markdown",
   "metadata": {
    "id": "PL5YKACrft88"
   },
   "source": [
    "## Pass By Object Reference\n",
    "Ketika parameter sebuah fungsi merupakan sebuah object instansiasi suatu class, maka fungsi tersebut akan mengarah pada alamat yang sama dengan variabel pada parameter tersebut."
   ]
  },
  {
   "cell_type": "code",
   "execution_count": 2,
   "metadata": {
    "id": "6Cv905LsgKrW"
   },
   "outputs": [
    {
     "name": "stdout",
     "output_type": "stream",
     "text": [
      "<__main__.MyClass object at 0x000001DBCA327390>\n",
      "<__main__.MyClass object at 0x000001DBCA327390> 25\n"
     ]
    }
   ],
   "source": [
    "class MyClass:\n",
    "    def print_hehe(self):\n",
    "        print(\"hehe, saya sebuah method.\")\n",
    "\n",
    "def process(left_side, right_side):\n",
    "    print(left_side, right_side)\n",
    "\n",
    "an_object = MyClass()\n",
    "print(an_object)\n",
    "process(an_object, 25)"
   ]
  },
  {
   "cell_type": "markdown",
   "metadata": {
    "id": "emV1OlhQgpVL"
   },
   "source": [
    "## \\*args dan \\**kwargs\n",
    "\n",
    "- args menyimpan **postional** argument yang dimasukin selain yang tertulis di definisi fungsi\n",
    "- kwargs menyimpan **keyword** argument yang dimasukin selain yang tertulis di definisi fungsi\n",
    "- Yang menandakan dia args atau kwargs bukan namanya, tapi jumlah \\* nya. Jadi ga harus \\*args atau \\*\\*kwargs, tapi bisa aja \\*additional atau \\**keywords."
   ]
  },
  {
   "cell_type": "code",
   "execution_count": null,
   "metadata": {
    "id": "kkR2UkUUiOzF"
   },
   "outputs": [],
   "source": [
    "def cek_argumen(nama, *additional, **keywords):\n",
    "    print(nama)\n",
    "    print(additional)\n",
    "    print(keywords)\n",
    "\n",
    "cek_argumen(\"Bambang\", 30, 178, lokasi=\"Depok\", instansi=\"UI\")"
   ]
  },
  {
   "cell_type": "markdown",
   "metadata": {
    "id": "ZWD-J7PTihDR"
   },
   "source": [
    "- Sebaliknya juga bisa, kita masukin \\*args dan \\**kwargs nya waktu call function"
   ]
  },
  {
   "cell_type": "code",
   "execution_count": 4,
   "metadata": {
    "id": "hFIMdRp4iolV"
   },
   "outputs": [
    {
     "name": "stdout",
     "output_type": "stream",
     "text": [
      "Bambang\n",
      "30\n",
      "178\n",
      "Depok\n",
      "UI\n"
     ]
    }
   ],
   "source": [
    "def cek_argumen2(nama, usia, tinggi, lokasi=None, instansi=None):\n",
    "    print(nama)\n",
    "    print(usia)\n",
    "    print(tinggi)\n",
    "    print(lokasi)\n",
    "    print(instansi)\n",
    "\n",
    "lst = [\"Bambang\", 30, 178]\n",
    "dct = {\"lokasi\": \"Depok\", \"instansi\": \"UI\"}\n",
    "cek_argumen2(*lst, **dct)"
   ]
  },
  {
   "cell_type": "markdown",
   "metadata": {
    "id": "QvG_S7Y4i7QR"
   },
   "source": [
    "Gimana dong kalo kwargsnya ga sesuai?\n",
    "Dia akan throw error karena argumentsnya gak sesuai."
   ]
  },
  {
   "cell_type": "code",
   "execution_count": 5,
   "metadata": {
    "id": "aNg2N9H6jCB-"
   },
   "outputs": [
    {
     "ename": "TypeError",
     "evalue": "cek_argumen2() got an unexpected keyword argument 'deskripsi'",
     "output_type": "error",
     "traceback": [
      "\u001b[1;31m---------------------------------------------------------------------------\u001b[0m",
      "\u001b[1;31mTypeError\u001b[0m                                 Traceback (most recent call last)",
      "Cell \u001b[1;32mIn[5], line 3\u001b[0m\n\u001b[0;32m      1\u001b[0m lst \u001b[38;5;241m=\u001b[39m [\u001b[38;5;124m\"\u001b[39m\u001b[38;5;124mBambang\u001b[39m\u001b[38;5;124m\"\u001b[39m, \u001b[38;5;241m30\u001b[39m, \u001b[38;5;241m178\u001b[39m]\n\u001b[0;32m      2\u001b[0m dct \u001b[38;5;241m=\u001b[39m {\u001b[38;5;124m\"\u001b[39m\u001b[38;5;124mlokasi\u001b[39m\u001b[38;5;124m\"\u001b[39m: \u001b[38;5;124m\"\u001b[39m\u001b[38;5;124mDepok\u001b[39m\u001b[38;5;124m\"\u001b[39m, \u001b[38;5;124m\"\u001b[39m\u001b[38;5;124minstansi\u001b[39m\u001b[38;5;124m\"\u001b[39m: \u001b[38;5;124m\"\u001b[39m\u001b[38;5;124mUI\u001b[39m\u001b[38;5;124m\"\u001b[39m,\u001b[38;5;124m\"\u001b[39m\u001b[38;5;124mdeskripsi\u001b[39m\u001b[38;5;124m\"\u001b[39m:\u001b[38;5;124m\"\u001b[39m\u001b[38;5;124mgaada kosong\u001b[39m\u001b[38;5;124m\"\u001b[39m }\n\u001b[1;32m----> 3\u001b[0m cek_argumen2(\u001b[38;5;241m*\u001b[39mlst, \u001b[38;5;241m*\u001b[39m\u001b[38;5;241m*\u001b[39mdct)\n",
      "\u001b[1;31mTypeError\u001b[0m: cek_argumen2() got an unexpected keyword argument 'deskripsi'"
     ]
    }
   ],
   "source": [
    "lst = [\"Bambang\", 30, 178]\n",
    "dct = {\"lokasi\": \"Depok\", \"instansi\": \"UI\",\"deskripsi\":\"gaada kosong\" }\n",
    "cek_argumen2(*lst, **dct)"
   ]
  },
  {
   "cell_type": "markdown",
   "metadata": {
    "id": "GzTQVlJ2jshH"
   },
   "source": [
    "## Decorator Function"
   ]
  },
  {
   "cell_type": "markdown",
   "metadata": {
    "id": "yjbs-n9EjutQ"
   },
   "source": [
    "### Decorator\n",
    "Kita bisa pake decorator kalo kita mau ada function call didalam function call tapi ga harus secara eksplisit ditulis. Misalnya:"
   ]
  },
  {
   "cell_type": "code",
   "execution_count": 6,
   "metadata": {
    "id": "YCS33mYAkG2G"
   },
   "outputs": [
    {
     "name": "stdout",
     "output_type": "stream",
     "text": [
      "A\n",
      "B\n",
      "C\n",
      "40\n"
     ]
    }
   ],
   "source": [
    "def tambah_lima(func):\n",
    "    def fungsi_internal(*args, **kwargs):\n",
    "        print(\"B\")\n",
    "        return 5 + func(*args, **kwargs)\n",
    "    print(\"A\")\n",
    "    return fungsi_internal\n",
    "\n",
    "@tambah_lima\n",
    "def perkalian(kiri, kanan):\n",
    "    print(\"C\")\n",
    "    return kiri * kanan\n",
    "\n",
    "print(perkalian(5, 7))\n"
   ]
  },
  {
   "cell_type": "markdown",
   "metadata": {
    "id": "AQW9CppPkPa6"
   },
   "source": [
    "Kalo kita liat di function call perkalian() diatas, dia akan otomatis call function tambah_lima sebelum melakukan block codenya sendiri. \\\n",
    "Contoh lain misalnya:"
   ]
  },
  {
   "cell_type": "code",
   "execution_count": null,
   "metadata": {
    "id": "LuXd_jXOk0rn"
   },
   "outputs": [],
   "source": [
    "def squared(func):\n",
    "    def fungsi_internal(*args, **kwargs):\n",
    "        return func(*args, **kwargs) ** 2\n",
    "    return fungsi_internal\n",
    "\n",
    "def jumlahkan(left,right):\n",
    "    return left+right\n",
    "\n",
    "def kurangkan(left, right):\n",
    "    return left-right\n",
    "\n",
    "squared_jumlahan = squared(jumlahkan)\n",
    "squared_selisih = squared(kurangkan)\n",
    "\n",
    "print(squared_jumlahan(2,5))\n",
    "print(squared_selisih(2,5))"
   ]
  },
  {
   "cell_type": "markdown",
   "metadata": {
    "id": "qyFKHfUNk6gb"
   },
   "source": [
    "Disini, fungsi squared menerima function lain untuk dijalankan didalam functionnya sendiri. Dengan demikian, urutan function callnya bisa dimodifikasi sesuai keinginan."
   ]
  },
  {
   "cell_type": "markdown",
   "metadata": {
    "id": "13vGPsoHlkaC"
   },
   "source": [
    "### Class Method Decorator\n",
    "Kalau pake class method, method yang dimiliki suatu kelas itu akan menerima kelas itu sendiri sebagai argumen, bukan self dari instansiasi objeknya. Liat contoh berikut."
   ]
  },
  {
   "cell_type": "code",
   "execution_count": 7,
   "metadata": {
    "id": "uKsdbcUSl8Q0"
   },
   "outputs": [
    {
     "name": "stdout",
     "output_type": "stream",
     "text": [
      "Kelas MyClass: <class '__main__.MyClass'>\n",
      "Instansiasi object MyClass: <__main__.MyClass object at 0x000001DBCA89CF10>\n",
      "7\n",
      "5\n",
      "5\n"
     ]
    }
   ],
   "source": [
    "class MyClass:\n",
    "    angka = 5\n",
    "\n",
    "    def __init__(self):\n",
    "        self.angka = 7\n",
    "\n",
    "    @classmethod\n",
    "    def get_angka(cls):\n",
    "        return cls.angka\n",
    "\n",
    "    def get_self_angka(self):\n",
    "        return self.angka\n",
    "\n",
    "an_object = MyClass()\n",
    "\n",
    "print(\"Kelas MyClass:\",MyClass)\n",
    "print(\"Instansiasi object MyClass:\",an_object)\n",
    "\n",
    "print(an_object.get_self_angka())\n",
    "print(an_object.get_angka())\n",
    "print(MyClass.get_angka())\n"
   ]
  },
  {
   "cell_type": "markdown",
   "metadata": {
    "id": "b7pigzE1qP4m"
   },
   "source": [
    "### Static Method Decorator\n",
    "Kalau pake static method, method di suatu kelas itu gaakan panggil class (cls)ataupun object (self) di argumen pertamanya. Misalnya:"
   ]
  },
  {
   "cell_type": "code",
   "execution_count": 8,
   "metadata": {
    "id": "0gTpHhf_qqLX"
   },
   "outputs": [
    {
     "name": "stdout",
     "output_type": "stream",
     "text": [
      "hehe\n",
      "haha\n",
      "hehe\n"
     ]
    }
   ],
   "source": [
    "class MyClass:\n",
    "\n",
    "    def __init__(self):\n",
    "        self.message = \"haha\"\n",
    "\n",
    "    @staticmethod\n",
    "    def get_string():\n",
    "        return \"hehe\"\n",
    "\n",
    "    def get_string_not_static(self):\n",
    "        return self.message\n",
    "\n",
    "an_object = MyClass()\n",
    "print(an_object.get_string())\n",
    "print(an_object.get_string_not_static())\n",
    "print(MyClass.get_string())"
   ]
  },
  {
   "cell_type": "markdown",
   "metadata": {
    "id": "xSxuRUIH_iO1"
   },
   "source": [
    "## Lambda"
   ]
  },
  {
   "cell_type": "markdown",
   "metadata": {
    "id": "yR6hqHkL_j1L"
   },
   "source": [
    "Lambda dapat digunakan untuk menggantikan fungsi one-liner (yang simpel-simpel). Jadi ga perlu ngedefine function untuk melakukan hal yang simpel. Sintaks untuk membuat lambda adalah:\n",
    "    \n",
    "    lambda arg1, arg2, ...: return_value"
   ]
  },
  {
   "cell_type": "markdown",
   "metadata": {
    "id": "tvQYrgAv_3Gm"
   },
   "source": [
    "### Simple Lambda"
   ]
  },
  {
   "cell_type": "markdown",
   "metadata": {
    "id": "lGYye9m1_9gS"
   },
   "source": [
    "Misalnya, kita mau membuat sebuah fungsi untuk menemukan hasil dari 2x+3y+z untuk kombinasi (x,y,z) tertentu. Kita bisa pake dua approach untuk bisa memodelkan fungsi tersebut."
   ]
  },
  {
   "cell_type": "markdown",
   "metadata": {
    "id": "55037W54BWbL"
   },
   "source": [
    "**Dengan Function**"
   ]
  },
  {
   "cell_type": "code",
   "execution_count": null,
   "metadata": {
    "id": "mCDb926OBbCa"
   },
   "outputs": [],
   "source": [
    "def fungsi(x,y,z):\n",
    "    return 2*x + 3*y + z\n",
    "\n",
    "print(fungsi(1,2,3))"
   ]
  },
  {
   "cell_type": "markdown",
   "metadata": {
    "id": "FY7av_-3Bs1v"
   },
   "source": [
    "**Dengan Lambda**"
   ]
  },
  {
   "cell_type": "code",
   "execution_count": null,
   "metadata": {
    "id": "rJRNOU8QBvPA"
   },
   "outputs": [],
   "source": [
    "lambda_fungsi = lambda x, y, z: 2*x + 3*y + z\n",
    "\n",
    "print(lambda_fungsi(1,2,3))"
   ]
  },
  {
   "cell_type": "markdown",
   "metadata": {
    "id": "mHFA-qQxCSwX"
   },
   "source": [
    "Kalau kita print function dan lambdanya, kita bisa lihat apa jenis object mereka."
   ]
  },
  {
   "cell_type": "code",
   "execution_count": null,
   "metadata": {
    "id": "HW-9jrhzCZ3W"
   },
   "outputs": [],
   "source": [
    "print(function)\n",
    "print(lambda_fungsi)"
   ]
  },
  {
   "cell_type": "markdown",
   "metadata": {
    "id": "jfuZuPhpDMFa"
   },
   "source": [
    "### Contoh Penerapan Lambda:\n",
    "**Sorting Dictionary**"
   ]
  },
  {
   "cell_type": "markdown",
   "metadata": {
    "id": "NiUkSJFfDR3H"
   },
   "source": [
    "Kita bisa memanfaatkan lambda untuk mengatur key sorting ketika kita melakukan sorting pada suatu dictionary. Kita telah mengetahui bahwa dictionary terdiri dari key:values. Kita dapat melakukan sorting dictionary dengan cara:"
   ]
  },
  {
   "cell_type": "code",
   "execution_count": 9,
   "metadata": {
    "id": "jD5y1Q5PDRRi"
   },
   "outputs": [
    {
     "name": "stdout",
     "output_type": "stream",
     "text": [
      "{'Duki': 1, 'Bambang': 5, 'Asep': 7}\n",
      "{'Asep': 7, 'Bambang': 5, 'Duki': 1}\n"
     ]
    }
   ],
   "source": [
    "dct = {\"Bambang\": 5, \"Asep\": 7, \"Duki\": 1}\n",
    "sorted_dct_by_value = dict(sorted(dct.items(), key=lambda item: item[1]))\n",
    "\n",
    "sorted_dct_by_key = dict(sorted(dct.items(), key=lambda item: item[0]))\n",
    "\n",
    "print(sorted_dct_by_value)\n",
    "print(sorted_dct_by_key)\n"
   ]
  },
  {
   "cell_type": "markdown",
   "metadata": {
    "id": "MIDPeKsSEyw1"
   },
   "source": [
    "**Special Condition Sorting**"
   ]
  },
  {
   "cell_type": "markdown",
   "metadata": {
    "id": "M5apF4lHEylp"
   },
   "source": [
    "Misalnya kita mau melakukan sorting dengan sebuah kondisi spesial, yaitu sorting berdasarkan ganjil atau genap kemudian dari yang terkecil. Kita bisa memanfaatkan lambda untuk menerapkan special case tersebut seperti berikut."
   ]
  },
  {
   "cell_type": "code",
   "execution_count": null,
   "metadata": {
    "id": "jV0-NQOzFMd3"
   },
   "outputs": [],
   "source": [
    "import random\n",
    "\n",
    "list_number = [random.randint(1,100) for x in range(10)]\n",
    "\n",
    "new_list = sorted(sorted(list_number), key=lambda item: item%2)\n",
    "\n",
    "print(new_list)"
   ]
  },
  {
   "cell_type": "markdown",
   "metadata": {
    "id": "s8cuxpmhG47I"
   },
   "source": [
    "## Generator & Iterator\n"
   ]
  },
  {
   "cell_type": "markdown",
   "metadata": {
    "id": "UjiFmW48G9O-"
   },
   "source": [
    "### Generator\n",
    "\n",
    "Ingat List Comprehension? List Comprehension merupakan salah satu bentuk ekspresi dari generator."
   ]
  },
  {
   "cell_type": "code",
   "execution_count": null,
   "metadata": {
    "id": "Er3cnQyXHp53"
   },
   "outputs": [],
   "source": [
    "# Sebuah list comprehension\n",
    "squared_number = (x**2 for x in range(4))\n",
    "squared_number_list = [x**2 for x in range(4)]\n",
    "\n",
    "print(squared_number)\n",
    "print(list(squared_number))\n",
    "print(squared_number_list)\n",
    "\n",
    "# fitur next untuk pop satu persatu\n",
    "random_number = (random.randint(1,100) for x in range(4))\n",
    "\n",
    "print(next(random_number))\n",
    "print(next(random_number))\n",
    "print(next(random_number))\n",
    "print(next(random_number))\n",
    "# Line selanjutnya pasti error karena value yang digenerate hanya 4\n",
    "print(next(random_number))"
   ]
  },
  {
   "cell_type": "markdown",
   "metadata": {
    "id": "Fn2PLw-ZJdpO"
   },
   "source": [
    "### Iterator"
   ]
  },
  {
   "cell_type": "markdown",
   "metadata": {
    "id": "_vj4O9fTJj9Y"
   },
   "source": [
    "Iterator function adalah fungsi generator untuk\n",
    "melakukan iterasi satu per satu terhadap isi dari suatu\n",
    "struktur data (list, set, tuple, dictionary, string, dst.)\n",
    "Dalam Python, kita bisa mendefinisikan “iterator\n",
    "method” untuk suatu kelas dengan\n",
    "mengimplementasikan method \\_\\_iter__.\n"
   ]
  },
  {
   "cell_type": "code",
   "execution_count": null,
   "metadata": {
    "id": "SZF0DSbfJmNq"
   },
   "outputs": [],
   "source": [
    "class FriendList:\n",
    "    def __init__(self):\n",
    "        self.friends = []\n",
    "    def add(self, name):\n",
    "        self.friends.append(name)\n",
    "    def __iter__(self):\n",
    "        sorted_friends = sorted(self.friends)\n",
    "        for friend in sorted_friends:\n",
    "            yield friend\n",
    "\n",
    "friendlist = FriendList()\n",
    "friendlist.add(\"Huki\")\n",
    "friendlist.add(\"Areng\")\n",
    "friendlist.add(\"Cimung\")\n",
    "\n",
    "iter_obj = iter(friendlist)\n",
    "print(next(iter_obj))\n",
    "print(next(iter_obj))\n",
    "print(next(iter_obj))\n",
    "# Line selanjutnya pasti error karena value pada list hanya ada 3\n",
    "print(next(iter_obj))"
   ]
  }
 ],
 "metadata": {
  "colab": {
   "provenance": []
  },
  "kernelspec": {
   "display_name": "Python 3 (ipykernel)",
   "language": "python",
   "name": "python3"
  },
  "language_info": {
   "codemirror_mode": {
    "name": "ipython",
    "version": 3
   },
   "file_extension": ".py",
   "mimetype": "text/x-python",
   "name": "python",
   "nbconvert_exporter": "python",
   "pygments_lexer": "ipython3",
   "version": "3.11.4"
  }
 },
 "nbformat": 4,
 "nbformat_minor": 1
}
