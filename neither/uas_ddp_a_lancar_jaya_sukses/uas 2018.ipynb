{
 "cells": [
  {
   "cell_type": "code",
   "execution_count": 1,
   "id": "d5b64050",
   "metadata": {},
   "outputs": [],
   "source": [
    "x = str('abc')*3"
   ]
  },
  {
   "cell_type": "code",
   "execution_count": 2,
   "id": "2b34cb6d",
   "metadata": {},
   "outputs": [
    {
     "data": {
      "text/plain": [
       "'abcabcabc'"
      ]
     },
     "execution_count": 2,
     "metadata": {},
     "output_type": "execute_result"
    }
   ],
   "source": [
    "x"
   ]
  },
  {
   "cell_type": "code",
   "execution_count": 3,
   "id": "5f6030ca",
   "metadata": {},
   "outputs": [],
   "source": [
    "x+= 'z'"
   ]
  },
  {
   "cell_type": "code",
   "execution_count": 4,
   "id": "72a8489d",
   "metadata": {},
   "outputs": [
    {
     "data": {
      "text/plain": [
       "'abcabcabcz'"
      ]
     },
     "execution_count": 4,
     "metadata": {},
     "output_type": "execute_result"
    }
   ],
   "source": [
    "x"
   ]
  },
  {
   "cell_type": "code",
   "execution_count": 5,
   "id": "5625c208",
   "metadata": {},
   "outputs": [
    {
     "ename": "TypeError",
     "evalue": "can only concatenate str (not \"int\") to str",
     "output_type": "error",
     "traceback": [
      "\u001b[1;31m---------------------------------------------------------------------------\u001b[0m",
      "\u001b[1;31mTypeError\u001b[0m                                 Traceback (most recent call last)",
      "Cell \u001b[1;32mIn[5], line 1\u001b[0m\n\u001b[1;32m----> 1\u001b[0m x\u001b[38;5;241m+\u001b[39m\u001b[38;5;241m7\u001b[39m\n",
      "\u001b[1;31mTypeError\u001b[0m: can only concatenate str (not \"int\") to str"
     ]
    }
   ],
   "source": [
    "x+7"
   ]
  },
  {
   "cell_type": "code",
   "execution_count": 6,
   "id": "623c33c4",
   "metadata": {},
   "outputs": [
    {
     "name": "stdout",
     "output_type": "stream",
     "text": [
      "24\n",
      "17\n"
     ]
    }
   ],
   "source": [
    "x = 20\n",
    "y = 15\n",
    "\n",
    "try:\n",
    "    x = str(\"abc\") * 3\n",
    "    y += 2\n",
    "    x += \"z\"\n",
    "except ZeroDivisionError:\n",
    "    y += 5\n",
    "except NameError:\n",
    "    y += 10\n",
    "except:\n",
    "    x += 1\n",
    "else:\n",
    "    x = 7\n",
    "finally:\n",
    "    x += y\n",
    "\n",
    "print(x)\n",
    "print(y)\n"
   ]
  },
  {
   "cell_type": "code",
   "execution_count": 16,
   "id": "5a371de6",
   "metadata": {},
   "outputs": [],
   "source": [
    "in_file = 'saos;ayam,tomat;susu,beras,micin'\n"
   ]
  },
  {
   "cell_type": "code",
   "execution_count": 23,
   "id": "a7ebf84e",
   "metadata": {},
   "outputs": [
    {
     "data": {
      "text/plain": [
       "['saos;ayam', 'tomat;susu', 'beras', 'micin']"
      ]
     },
     "execution_count": 23,
     "metadata": {},
     "output_type": "execute_result"
    }
   ],
   "source": [
    "mystic = in_file.split(',')\n",
    "mystic"
   ]
  },
  {
   "cell_type": "code",
   "execution_count": 24,
   "id": "5d9f37c1",
   "metadata": {},
   "outputs": [
    {
     "data": {
      "text/plain": [
       "['saos;ayam', 'beras']"
      ]
     },
     "execution_count": 24,
     "metadata": {},
     "output_type": "execute_result"
    }
   ],
   "source": [
    "mystic[0:len(mystic):2]"
   ]
  },
  {
   "cell_type": "code",
   "execution_count": 25,
   "id": "8f8f2ff6",
   "metadata": {},
   "outputs": [
    {
     "name": "stdout",
     "output_type": "stream",
     "text": [
      "C\n",
      "A\n",
      "D\n",
      "True\n",
      "True\n",
      "True\n",
      "True\n"
     ]
    }
   ],
   "source": [
    "class A:\n",
    "    def __init__(self):\n",
    "        print(\"A\")\n",
    "\n",
    "class B(A):\n",
    "    def __init__(self):\n",
    "        print(\"B\")\n",
    "        super().__init__()\n",
    "\n",
    "class C(B):\n",
    "    def __init__(self):\n",
    "        print(\"C\")\n",
    "        A()\n",
    "\n",
    "class D(C):\n",
    "    def __init__(self):\n",
    "        super().__init__()\n",
    "        print(\"D\")\n",
    "\n",
    "d = D()\n",
    "\n",
    "print(isinstance(d, A))\n",
    "print(isinstance(d, B))\n",
    "print(isinstance(d, C))\n",
    "print(isinstance(d, D))\n"
   ]
  },
  {
   "cell_type": "code",
   "execution_count": 27,
   "id": "4d471889",
   "metadata": {},
   "outputs": [
    {
     "name": "stdout",
     "output_type": "stream",
     "text": [
      "7\n",
      "7\n",
      "7\n",
      "7\n",
      "7\n",
      "7\n",
      "7\n",
      "7\n",
      "7\n",
      "4\n",
      "4\n",
      "7\n",
      "7\n",
      "7\n",
      "7\n",
      "7\n",
      "7\n",
      "7\n",
      "7\n",
      "7\n",
      "4\n",
      "3\n",
      "3\n",
      "7\n",
      "7\n",
      "7\n",
      "7\n",
      "7\n",
      "7\n",
      "7\n",
      "7\n",
      "7\n",
      "4\n",
      "4\n",
      "7\n",
      "7\n",
      "7\n",
      "7\n",
      "7\n",
      "7\n",
      "7\n",
      "7\n",
      "7\n",
      "4\n",
      "3\n",
      "5\n",
      "7\n",
      "7\n",
      "7\n",
      "7\n",
      "7\n",
      "7\n",
      "7\n",
      "7\n",
      "7\n",
      "4\n",
      "4\n",
      "7\n",
      "7\n",
      "7\n",
      "7\n",
      "7\n",
      "7\n",
      "7\n",
      "7\n",
      "7\n",
      "4\n",
      "3\n",
      "3\n",
      "7\n",
      "7\n",
      "7\n",
      "7\n",
      "7\n",
      "7\n",
      "7\n",
      "7\n",
      "7\n",
      "4\n",
      "4\n",
      "7\n",
      "7\n",
      "7\n",
      "7\n",
      "7\n",
      "7\n",
      "7\n",
      "7\n",
      "7\n",
      "4\n",
      "3\n",
      "5\n"
     ]
    }
   ],
   "source": [
    "def abc(num):\n",
    "    if num < 10:\n",
    "        return num\n",
    "    else:\n",
    "        return abc(num % 10 + abc(num // 10))\n",
    "\n",
    "def main():\n",
    "    n = 799682\n",
    "    print(abc(n))\n",
    "\n",
    "if __name__ == '__main__':\n",
    "    main()\n"
   ]
  },
  {
   "cell_type": "code",
   "execution_count": null,
   "id": "174aa344",
   "metadata": {},
   "outputs": [],
   "source": []
  }
 ],
 "metadata": {
  "kernelspec": {
   "display_name": "Python 3 (ipykernel)",
   "language": "python",
   "name": "python3"
  },
  "language_info": {
   "codemirror_mode": {
    "name": "ipython",
    "version": 3
   },
   "file_extension": ".py",
   "mimetype": "text/x-python",
   "name": "python",
   "nbconvert_exporter": "python",
   "pygments_lexer": "ipython3",
   "version": "3.11.4"
  }
 },
 "nbformat": 4,
 "nbformat_minor": 5
}
