{
 "cells": [
  {
   "cell_type": "markdown",
   "id": "74c0cc27",
   "metadata": {},
   "source": [
    "## 1"
   ]
  },
  {
   "cell_type": "code",
   "execution_count": 1,
   "id": "5bbd12da",
   "metadata": {},
   "outputs": [],
   "source": [
    "x = {1,2,3,4,5}\n",
    "y = {4,5,6,7,8}\n"
   ]
  },
  {
   "cell_type": "code",
   "execution_count": 2,
   "id": "964bd7e6",
   "metadata": {},
   "outputs": [
    {
     "data": {
      "text/plain": [
       "{1, 2, 3, 4, 5, 6, 7, 8}"
      ]
     },
     "execution_count": 2,
     "metadata": {},
     "output_type": "execute_result"
    }
   ],
   "source": [
    "x|y"
   ]
  },
  {
   "cell_type": "code",
   "execution_count": 3,
   "id": "ca422bcc",
   "metadata": {},
   "outputs": [
    {
     "data": {
      "text/plain": [
       "{1, 2, 3, 4, 5, 6, 7, 8}"
      ]
     },
     "execution_count": 3,
     "metadata": {},
     "output_type": "execute_result"
    }
   ],
   "source": [
    "x.union(y)"
   ]
  },
  {
   "cell_type": "markdown",
   "id": "3752e353",
   "metadata": {},
   "source": [
    "## 2"
   ]
  },
  {
   "cell_type": "code",
   "execution_count": 42,
   "id": "4f4f28c2",
   "metadata": {},
   "outputs": [
    {
     "name": "stdout",
     "output_type": "stream",
     "text": [
      "\n",
      "\n",
      "11\n"
     ]
    }
   ],
   "source": [
    "with open ('ddp1.txt', 'rb') as x:\n",
    "    x.seek(5) # got to the 5th byte\n",
    "    print(x.read(4).decode('utf-8')) # start to read sebanyak 4 byte, output: asik\n",
    "    x.seek(11) # sampai di ujung /n \n",
    "    print(x.read(4).decode('utf-8')) # baca 4 byte, ddp2\n",
    "    print(x.tell()) # check the current cursor position"
   ]
  },
  {
   "cell_type": "markdown",
   "id": "149e811a",
   "metadata": {},
   "source": [
    "## 3"
   ]
  },
  {
   "cell_type": "code",
   "execution_count": 17,
   "id": "810f0d5d",
   "metadata": {},
   "outputs": [
    {
     "name": "stdout",
     "output_type": "stream",
     "text": [
      "[2, 4, 6, 8, 10]\n"
     ]
    }
   ],
   "source": [
    "nums = [1,2,3,4,5,6,7,8,9,10]\n",
    "even_nums = list(filter(lambda x: x % 2 == 0, nums))\n",
    "\n",
    "print(even_nums)\n"
   ]
  },
  {
   "cell_type": "markdown",
   "id": "0b34eb9f",
   "metadata": {},
   "source": [
    "## 4"
   ]
  },
  {
   "cell_type": "code",
   "execution_count": 18,
   "id": "ba2247c7",
   "metadata": {},
   "outputs": [
    {
     "name": "stdout",
     "output_type": "stream",
     "text": [
      "Making a call with Apple iPhone 13 running iOS\n"
     ]
    }
   ],
   "source": [
    "class Gadget:\n",
    "    def __init__(self, brand, model):\n",
    "        self.brand = brand\n",
    "        self.model = model\n",
    "    \n",
    "    def display_info(self):\n",
    "        return f'{self.brand} {self.model}'\n",
    "    \n",
    "    def use(self):\n",
    "        return None\n",
    "    \n",
    "class Phone(Gadget):\n",
    "    def __init__(self, brand, model, operating_system):\n",
    "        super().__init__(brand, model)\n",
    "        self.operating_system = operating_system\n",
    "    \n",
    "    def use(self):\n",
    "        return f'Making a call with {self.brand} {self.model} running {self.operating_system}'\n",
    "\n",
    "def use_gadget(gadget):\n",
    "    return gadget.use()\n",
    "\n",
    "iphone = Phone('Apple', 'iPhone 13', 'iOS')\n",
    "print(use_gadget(iphone))"
   ]
  },
  {
   "cell_type": "markdown",
   "id": "ddcda7d5",
   "metadata": {},
   "source": [
    "## 5 "
   ]
  },
  {
   "cell_type": "markdown",
   "id": "a3be8d79",
   "metadata": {},
   "source": [
    "misal gue piton\n",
    "\n",
    "(3,2)\n",
    "    (2, 3)\n",
    "        (1, 5)\n",
    "            (0, 9)\n",
    "                9"
   ]
  },
  {
   "cell_type": "markdown",
   "id": "b02388f1",
   "metadata": {},
   "source": [
    "## 6"
   ]
  },
  {
   "cell_type": "code",
   "execution_count": 22,
   "id": "d2c343ea",
   "metadata": {},
   "outputs": [
    {
     "name": "stdout",
     "output_type": "stream",
     "text": [
      "1\n",
      "5\n",
      "25\n",
      "125\n"
     ]
    }
   ],
   "source": [
    "def mystery():\n",
    "    num= 1\n",
    "    \n",
    "    while True:\n",
    "        yield num\n",
    "        num*=5\n",
    "        \n",
    "generator=mystery()\n",
    "print(next(generator)) # output 1\n",
    "print(next(generator)) # output 5\n",
    "print(next(generator))\n",
    "print(next(generator))"
   ]
  },
  {
   "cell_type": "markdown",
   "id": "9f7d9f2e",
   "metadata": {},
   "source": [
    "## 7"
   ]
  },
  {
   "cell_type": "code",
   "execution_count": 24,
   "id": "07772b2f",
   "metadata": {},
   "outputs": [],
   "source": [
    "myDict = {\n",
    "    'emp1': {'name': 'John', 'salary': 7500},\n",
    "    'emp2': {'name': 'Emma', 'salary': 8000},\n",
    "    'emp3': {'name': 'Brad', 'salary': 6500},\n",
    "}"
   ]
  },
  {
   "cell_type": "code",
   "execution_count": 25,
   "id": "a5411d19",
   "metadata": {},
   "outputs": [],
   "source": [
    "myDict['emp2']['salary'] = 7000"
   ]
  },
  {
   "cell_type": "code",
   "execution_count": 26,
   "id": "b9f1f099",
   "metadata": {},
   "outputs": [
    {
     "name": "stdout",
     "output_type": "stream",
     "text": [
      "{'emp1': {'name': 'John', 'salary': 7500}, 'emp2': {'name': 'Emma', 'salary': 7000}, 'emp3': {'name': 'Brad', 'salary': 6500}}\n"
     ]
    }
   ],
   "source": [
    "print(myDict)"
   ]
  },
  {
   "cell_type": "code",
   "execution_count": 27,
   "id": "37393742",
   "metadata": {},
   "outputs": [],
   "source": [
    "myDict['emp3']['name']='Brader'"
   ]
  },
  {
   "cell_type": "code",
   "execution_count": 28,
   "id": "b57c928e",
   "metadata": {},
   "outputs": [
    {
     "name": "stdout",
     "output_type": "stream",
     "text": [
      "{'emp1': {'name': 'John', 'salary': 7500}, 'emp2': {'name': 'Emma', 'salary': 7000}, 'emp3': {'name': 'Brader', 'salary': 6500}}\n"
     ]
    }
   ],
   "source": [
    "print(myDict)"
   ]
  },
  {
   "cell_type": "markdown",
   "id": "04eac838",
   "metadata": {},
   "source": [
    "## 8"
   ]
  },
  {
   "cell_type": "code",
   "execution_count": 33,
   "id": "764192e8",
   "metadata": {},
   "outputs": [
    {
     "ename": "AttributeError",
     "evalue": "'InventarisManajer' object has no attribute 'inventaris'",
     "output_type": "error",
     "traceback": [
      "\u001b[1;31m---------------------------------------------------------------------------\u001b[0m",
      "\u001b[1;31mAttributeError\u001b[0m                            Traceback (most recent call last)",
      "Cell \u001b[1;32mIn[33], line 18\u001b[0m\n\u001b[0;32m     15\u001b[0m         \u001b[38;5;28;01mreturn\u001b[39;00m total_value\n\u001b[0;32m     17\u001b[0m manajer \u001b[38;5;241m=\u001b[39m InventarisManajer()\n\u001b[1;32m---> 18\u001b[0m manajer\u001b[38;5;241m.\u001b[39mtambah_produk(\u001b[38;5;124m'\u001b[39m\u001b[38;5;124mp1\u001b[39m\u001b[38;5;124m'\u001b[39m, \u001b[38;5;124m'\u001b[39m\u001b[38;5;124mlaptop\u001b[39m\u001b[38;5;124m'\u001b[39m, \u001b[38;5;241m1000\u001b[39m, \u001b[38;5;241m100\u001b[39m)\n\u001b[0;32m     19\u001b[0m manajer\u001b[38;5;241m.\u001b[39mtambah_produk(\u001b[38;5;124m'\u001b[39m\u001b[38;5;124mp2\u001b[39m\u001b[38;5;124m'\u001b[39m, \u001b[38;5;124m'\u001b[39m\u001b[38;5;124mphone\u001b[39m\u001b[38;5;124m'\u001b[39m, \u001b[38;5;241m800\u001b[39m, \u001b[38;5;241m10\u001b[39m)\n\u001b[0;32m     20\u001b[0m manajer\u001b[38;5;241m.\u001b[39mtambah_produk(\u001b[38;5;124m'\u001b[39m\u001b[38;5;124mp3\u001b[39m\u001b[38;5;124m'\u001b[39m, \u001b[38;5;124m'\u001b[39m\u001b[38;5;124mheadphone\u001b[39m\u001b[38;5;124m'\u001b[39m, \u001b[38;5;241m50\u001b[39m, \u001b[38;5;241m20\u001b[39m)\n",
      "Cell \u001b[1;32mIn[33], line 6\u001b[0m, in \u001b[0;36mInventarisManajer.tambah_produk\u001b[1;34m(self, kode_produk, nama_produk, harga_unit, kuantitas)\u001b[0m\n\u001b[0;32m      5\u001b[0m \u001b[38;5;28;01mdef\u001b[39;00m \u001b[38;5;21mtambah_produk\u001b[39m(\u001b[38;5;28mself\u001b[39m,kode_produk, nama_produk, harga_unit, kuantitas):\n\u001b[1;32m----> 6\u001b[0m     \u001b[38;5;28mself\u001b[39m\u001b[38;5;241m.\u001b[39minventaris[kode_produk] \u001b[38;5;241m=\u001b[39m {\u001b[38;5;124m'\u001b[39m\u001b[38;5;124mnama\u001b[39m\u001b[38;5;124m'\u001b[39m: nama_produk,\n\u001b[0;32m      7\u001b[0m                                    \u001b[38;5;124m'\u001b[39m\u001b[38;5;124mharga_unit\u001b[39m\u001b[38;5;124m'\u001b[39m: harga_unit,\n\u001b[0;32m      8\u001b[0m                                    \u001b[38;5;124m'\u001b[39m\u001b[38;5;124mkuantitas\u001b[39m\u001b[38;5;124m'\u001b[39m: kuantitas}\n",
      "\u001b[1;31mAttributeError\u001b[0m: 'InventarisManajer' object has no attribute 'inventaris'"
     ]
    }
   ],
   "source": [
    "class InventarisManajer:\n",
    "    def __init(self):\n",
    "        self.inventaris = {}\n",
    "        \n",
    "    def tambah_produk(self,kode_produk, nama_produk, harga_unit, kuantitas):\n",
    "        self.inventaris[kode_produk] = {'nama': nama_produk,\n",
    "                                       'harga_unit': harga_unit,\n",
    "                                       'kuantitas': kuantitas}\n",
    "    def hitung_total_value(info_produk):\n",
    "        total_value = 0\n",
    "        for kode_produk, data in info_produk.items():\n",
    "            harga_unit = info_produk[harga_unit]\n",
    "            kuantitas = info_produk[kuantitas]\n",
    "            total_value += harga_unit*kuantitas\n",
    "        return total_value\n",
    "\n",
    "manajer = InventarisManajer()\n",
    "manajer.tambah_produk('p1', 'laptop', 1000, 100)\n",
    "manajer.tambah_produk('p2', 'phone', 800, 10)\n",
    "manajer.tambah_produk('p3', 'headphone', 50, 20)\n",
    "        \n",
    "total_value = hitung_total_value(manajer.inventaris)\n",
    "print(total_value)"
   ]
  },
  {
   "cell_type": "markdown",
   "id": "c1178829",
   "metadata": {},
   "source": [
    "makanya soalnya gaje.."
   ]
  },
  {
   "cell_type": "markdown",
   "id": "15b6d9bd",
   "metadata": {},
   "source": [
    "## 9"
   ]
  },
  {
   "cell_type": "code",
   "execution_count": null,
   "id": "22b112c6",
   "metadata": {},
   "outputs": [],
   "source": [
    "import unittest\n",
    "\n",
    "class TestEmployeeClasses(unittest.TestCase):\n",
    "    def test_employee(self):\n",
    "        employee = Employee('adel3005', 'Adelya', 30000000)\n",
    "        self.assertEqual(display_info(), 'Employee adel3005: Adelya, Salary: $30000000')\n",
    "        self.assertEqual(calculate_bonus(), 0)\n",
    "    \n",
    "    def test_manager(self):\n",
    "        manager = Manager('Software Engineer')\n",
    "        self.assertEqual(display_info(), 'Employee adel3005: Adelya, Salary: $30000000, Department: Software Engineer')\n",
    "        self.assertEqual(calculate_bonus(), 3000000)\n",
    "        ## calculate_bonus() manager\n"
   ]
  },
  {
   "cell_type": "markdown",
   "id": "0525d7a1",
   "metadata": {},
   "source": [
    "## 10"
   ]
  },
  {
   "cell_type": "code",
   "execution_count": 43,
   "id": "dd23065b",
   "metadata": {
    "scrolled": true
   },
   "outputs": [],
   "source": [
    "from tkinter import *\n",
    "\n",
    "class MyFirstGUI:\n",
    "    def __init__(self, master):\n",
    "        self.master = master\n",
    "        master.title('MyGUI')\n",
    "        master.geometry('210x50')\n",
    "        self.yes_button = Button(master, text = 'Yes')\n",
    "        self.no_button = Button(master, text = 'No')\n",
    "        self.yes_button.pack(fill = X)\n",
    "        self.no_button.pack(fill = X)\n",
    "        \n",
    "root = Tk()\n",
    "my_gui=MyFirstGUI(root)\n",
    "root.mainloop()"
   ]
  },
  {
   "cell_type": "code",
   "execution_count": null,
   "id": "001e47e3",
   "metadata": {},
   "outputs": [],
   "source": []
  }
 ],
 "metadata": {
  "kernelspec": {
   "display_name": "Python 3 (ipykernel)",
   "language": "python",
   "name": "python3"
  },
  "language_info": {
   "codemirror_mode": {
    "name": "ipython",
    "version": 3
   },
   "file_extension": ".py",
   "mimetype": "text/x-python",
   "name": "python",
   "nbconvert_exporter": "python",
   "pygments_lexer": "ipython3",
   "version": "3.11.4"
  }
 },
 "nbformat": 4,
 "nbformat_minor": 5
}
