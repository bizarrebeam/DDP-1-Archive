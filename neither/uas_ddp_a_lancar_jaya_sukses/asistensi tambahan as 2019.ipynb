{
 "cells": [
  {
   "cell_type": "markdown",
   "id": "6a2c59eb",
   "metadata": {},
   "source": [
    "1"
   ]
  },
  {
   "cell_type": "code",
   "execution_count": 4,
   "id": "1c9b2768",
   "metadata": {},
   "outputs": [],
   "source": [
    "y=10\n",
    "\n",
    "def f1(x):\n",
    "    global y\n",
    "    y = y ** x\n",
    "def f2(l):\n",
    "    for i in range(len(l)):\n",
    "        l[i] = y**l[i]\n",
    "def f3(l):\n",
    "    for val in l:\n",
    "        val *= y\n"
   ]
  },
  {
   "cell_type": "code",
   "execution_count": 5,
   "id": "e2b274a2",
   "metadata": {},
   "outputs": [
    {
     "name": "stdout",
     "output_type": "stream",
     "text": [
      "100\n"
     ]
    }
   ],
   "source": [
    "x1 =2 \n",
    "f1(x1)\n",
    "print(y)"
   ]
  },
  {
   "cell_type": "code",
   "execution_count": 6,
   "id": "89de5edc",
   "metadata": {},
   "outputs": [
    {
     "name": "stdout",
     "output_type": "stream",
     "text": [
      "[100, 10000, 1]\n"
     ]
    }
   ],
   "source": [
    "l1=[1,2,0]\n",
    "f2(l1)\n",
    "print(l1)"
   ]
  },
  {
   "cell_type": "code",
   "execution_count": 11,
   "id": "7fce37ef",
   "metadata": {},
   "outputs": [
    {
     "name": "stdout",
     "output_type": "stream",
     "text": [
      "[1, 2, 0]\n"
     ]
    }
   ],
   "source": [
    "l2 =[1,2,0]\n",
    "f3(l2)\n",
    "print(l2)"
   ]
  },
  {
   "cell_type": "markdown",
   "id": "24cdb6a7",
   "metadata": {},
   "source": [
    "## 2"
   ]
  },
  {
   "cell_type": "code",
   "execution_count": 12,
   "id": "36919885",
   "metadata": {},
   "outputs": [],
   "source": [
    "x = {i*j for i in range(2,15) for j in range(2,15)}"
   ]
  },
  {
   "cell_type": "code",
   "execution_count": 13,
   "id": "92e1d49d",
   "metadata": {},
   "outputs": [
    {
     "name": "stdout",
     "output_type": "stream",
     "text": [
      "{130, 4, 132, 6, 8, 9, 10, 12, 140, 14, 15, 16, 143, 18, 144, 20, 21, 22, 24, 25, 26, 27, 28, 154, 30, 156, 32, 33, 35, 36, 39, 40, 168, 42, 169, 44, 45, 48, 49, 50, 52, 54, 55, 56, 182, 60, 63, 64, 65, 66, 196, 70, 72, 77, 78, 80, 81, 84, 88, 90, 91, 96, 98, 99, 100, 104, 108, 110, 112, 117, 120, 121, 126}\n"
     ]
    }
   ],
   "source": [
    "print(x)"
   ]
  },
  {
   "cell_type": "code",
   "execution_count": 15,
   "id": "4557b0a9",
   "metadata": {},
   "outputs": [
    {
     "name": "stdout",
     "output_type": "stream",
     "text": [
      "4\n",
      "6\n",
      "8\n",
      "10\n",
      "12\n",
      "14\n",
      "16\n",
      "18\n",
      "20\n",
      "22\n",
      "24\n",
      "26\n",
      "28\n",
      "6\n",
      "9\n",
      "12\n",
      "15\n",
      "18\n",
      "21\n",
      "24\n",
      "27\n",
      "30\n",
      "33\n",
      "36\n",
      "39\n",
      "42\n",
      "8\n",
      "12\n",
      "16\n",
      "20\n",
      "24\n",
      "28\n",
      "32\n",
      "36\n",
      "40\n",
      "44\n",
      "48\n",
      "52\n",
      "56\n",
      "10\n",
      "15\n",
      "20\n",
      "25\n",
      "30\n",
      "35\n",
      "40\n",
      "45\n",
      "50\n",
      "55\n",
      "60\n",
      "65\n",
      "70\n",
      "12\n",
      "18\n",
      "24\n",
      "30\n",
      "36\n",
      "42\n",
      "48\n",
      "54\n",
      "60\n",
      "66\n",
      "72\n",
      "78\n",
      "84\n",
      "14\n",
      "21\n",
      "28\n",
      "35\n",
      "42\n",
      "49\n",
      "56\n",
      "63\n",
      "70\n",
      "77\n",
      "84\n",
      "91\n",
      "98\n",
      "16\n",
      "24\n",
      "32\n",
      "40\n",
      "48\n",
      "56\n",
      "64\n",
      "72\n",
      "80\n",
      "88\n",
      "96\n",
      "104\n",
      "112\n",
      "18\n",
      "27\n",
      "36\n",
      "45\n",
      "54\n",
      "63\n",
      "72\n",
      "81\n",
      "90\n",
      "99\n",
      "108\n",
      "117\n",
      "126\n",
      "20\n",
      "30\n",
      "40\n",
      "50\n",
      "60\n",
      "70\n",
      "80\n",
      "90\n",
      "100\n",
      "110\n",
      "120\n",
      "130\n",
      "140\n",
      "22\n",
      "33\n",
      "44\n",
      "55\n",
      "66\n",
      "77\n",
      "88\n",
      "99\n",
      "110\n",
      "121\n",
      "132\n",
      "143\n",
      "154\n",
      "24\n",
      "36\n",
      "48\n",
      "60\n",
      "72\n",
      "84\n",
      "96\n",
      "108\n",
      "120\n",
      "132\n",
      "144\n",
      "156\n",
      "168\n",
      "26\n",
      "39\n",
      "52\n",
      "65\n",
      "78\n",
      "91\n",
      "104\n",
      "117\n",
      "130\n",
      "143\n",
      "156\n",
      "169\n",
      "182\n",
      "28\n",
      "42\n",
      "56\n",
      "70\n",
      "84\n",
      "98\n",
      "112\n",
      "126\n",
      "140\n",
      "154\n",
      "168\n",
      "182\n",
      "196\n"
     ]
    },
    {
     "ename": "TypeError",
     "evalue": "object of type 'int' has no len()",
     "output_type": "error",
     "traceback": [
      "\u001b[1;31m---------------------------------------------------------------------------\u001b[0m",
      "\u001b[1;31mTypeError\u001b[0m                                 Traceback (most recent call last)",
      "Cell \u001b[1;32mIn[15], line 5\u001b[0m\n\u001b[0;32m      3\u001b[0m         u \u001b[38;5;241m=\u001b[39m i\u001b[38;5;241m*\u001b[39mj\n\u001b[0;32m      4\u001b[0m         \u001b[38;5;28mprint\u001b[39m(u)\n\u001b[1;32m----> 5\u001b[0m \u001b[38;5;28mprint\u001b[39m(\u001b[38;5;28mlen\u001b[39m(u))\n",
      "\u001b[1;31mTypeError\u001b[0m: object of type 'int' has no len()"
     ]
    }
   ],
   "source": [
    "for i in range(2,15):\n",
    "    for j in range(2,15):\n",
    "        u = i*j\n",
    "        print(u)"
   ]
  },
  {
   "cell_type": "markdown",
   "id": "4811bb36",
   "metadata": {},
   "source": [
    "## 3"
   ]
  },
  {
   "cell_type": "markdown",
   "id": "38a94b83",
   "metadata": {},
   "source": [
    "lst = [str(i) + str(j) for i in range(4) for j in range(5,3,-1)]"
   ]
  },
  {
   "cell_type": "code",
   "execution_count": 18,
   "id": "2c07cd9a",
   "metadata": {},
   "outputs": [
    {
     "name": "stdout",
     "output_type": "stream",
     "text": [
      "['05', '04', '15', '14', '25', '24', '35', '34']\n"
     ]
    }
   ],
   "source": [
    "print(lst)"
   ]
  },
  {
   "cell_type": "markdown",
   "id": "c8dc8514",
   "metadata": {},
   "source": [
    "##### 5"
   ]
  },
  {
   "cell_type": "code",
   "execution_count": 21,
   "id": "fa2bee88",
   "metadata": {},
   "outputs": [],
   "source": [
    "def sq(lst, val = 0):\n",
    "    for i in lst:\n",
    "        if isinstance(i, int):\n",
    "            val += (i)**2 \n",
    "    return val"
   ]
  },
  {
   "cell_type": "code",
   "execution_count": 22,
   "id": "f7ccb250",
   "metadata": {},
   "outputs": [
    {
     "data": {
      "text/plain": [
       "75"
      ]
     },
     "execution_count": 22,
     "metadata": {},
     "output_type": "execute_result"
    }
   ],
   "source": [
    "sq([7,7.5, -5, 'abc', 1])"
   ]
  },
  {
   "cell_type": "markdown",
   "id": "bd4207b7",
   "metadata": {},
   "source": [
    "## 6"
   ]
  },
  {
   "cell_type": "code",
   "execution_count": 23,
   "id": "94786167",
   "metadata": {},
   "outputs": [
    {
     "ename": "SyntaxError",
     "evalue": "expected ':' (1157560000.py, line 4)",
     "output_type": "error",
     "traceback": [
      "\u001b[1;36m  Cell \u001b[1;32mIn[23], line 4\u001b[1;36m\u001b[0m\n\u001b[1;33m    if set(x).issubset(set(s))\u001b[0m\n\u001b[1;37m                              ^\u001b[0m\n\u001b[1;31mSyntaxError\u001b[0m\u001b[1;31m:\u001b[0m expected ':'\n"
     ]
    }
   ],
   "source": [
    "def f(x,y):\n",
    "    cnt = 0\n",
    "    for s in y:\n",
    "        if set(x).issubset(set(s)):\n",
    "            cnt += 1\n",
    "    return cnt"
   ]
  },
  {
   "cell_type": "markdown",
   "id": "1da502cf",
   "metadata": {},
   "source": [
    "## 7"
   ]
  },
  {
   "cell_type": "code",
   "execution_count": 24,
   "id": "f278e2d3",
   "metadata": {},
   "outputs": [],
   "source": [
    "def distribution(filename):\n",
    "    infile = open(filename)\n",
    "    content = infile.read() #fill\n",
    "    infile.close()\n",
    "    \n",
    "    grades = content.split()\n",
    "    \n",
    "    # for every grade print the number of times it occurs if any\n",
    "    for grade in ['A', 'B', 'C', 'D', 'E']:\n",
    "        num = grades.count(grade)\n",
    "        if num >0:\n",
    "            print('{}students got {}'.format(num,grade))"
   ]
  },
  {
   "cell_type": "markdown",
   "id": "213542b9",
   "metadata": {},
   "source": [
    "## 8"
   ]
  },
  {
   "cell_type": "code",
   "execution_count": 35,
   "id": "8b8dca3d",
   "metadata": {},
   "outputs": [],
   "source": [
    "def gambarNSegitiga(M, N):\n",
    "    blank = M\n",
    "    for i in range(M):\n",
    "        str = '*' * (i+1) + \" \" * blank\n",
    "        print(str*N)\n",
    "        blank -= 1"
   ]
  },
  {
   "cell_type": "code",
   "execution_count": 36,
   "id": "c5440afc",
   "metadata": {},
   "outputs": [
    {
     "name": "stdout",
     "output_type": "stream",
     "text": [
      "*       *       *       \n",
      "**      **      **      \n",
      "***     ***     ***     \n",
      "****    ****    ****    \n",
      "*****   *****   *****   \n",
      "******  ******  ******  \n",
      "******* ******* ******* \n"
     ]
    }
   ],
   "source": [
    "gambarNSegitiga(7,3)"
   ]
  },
  {
   "cell_type": "markdown",
   "id": "ae82981b",
   "metadata": {},
   "source": [
    "## 9"
   ]
  },
  {
   "cell_type": "markdown",
   "id": "c42e3beb",
   "metadata": {},
   "source": [
    "misal gue piton\n",
    "\n",
    "test1 = A(), y=0\n",
    "    self x = 0\n",
    "    attr x = 1\n",
    "\n",
    "test2 = A(5), y =5\n",
    "    self x = 5\n",
    "    attr x = 1\n",
    "    \n",
    "test1.x = 1\n",
    "test2.x = 1\n",
    "\n",
    "test2.fun(2)-- 2*5=10\n",
    "\n",
    "test3 = b(5)\n",
    "    inherit paretnnya yg attrnya 0\n",
    "    test3.fun2 = 0*2 = 0\n",
    "\n",
    "print(A.x) = 1/0? 1 kayanya"
   ]
  },
  {
   "cell_type": "code",
   "execution_count": 37,
   "id": "a9df115b",
   "metadata": {},
   "outputs": [],
   "source": [
    "class A:\n",
    "    x = 0\n",
    "    def __init__(self, y = 0):\n",
    "        self.x = y\n",
    "        A.x += 1\n",
    "    def fun(self, a):\n",
    "        return a*self.x\n",
    "class B(A):\n",
    "    def fun(self, a):\n",
    "        return A.x*a"
   ]
  },
  {
   "cell_type": "code",
   "execution_count": 38,
   "id": "18d9a448",
   "metadata": {},
   "outputs": [
    {
     "name": "stdout",
     "output_type": "stream",
     "text": [
      "0\n",
      "5\n",
      "10\n",
      "6\n",
      "3\n"
     ]
    }
   ],
   "source": [
    "test1=A()\n",
    "test2=A(5)\n",
    "\n",
    "print(test1.x) # refer ke self\n",
    "print(test2.x) # refer ke self\n",
    "print(test2.fun(2))\n",
    "test3 = B(5)\n",
    "print(test3.fun(2))\n",
    "print(A.x)"
   ]
  },
  {
   "cell_type": "markdown",
   "id": "8e97d6b1",
   "metadata": {},
   "source": [
    "oh, jadi setiap diinstantiate, attrnya kan increment by 1. makanya bisa dapet 6 simply karena di isntantiate 3 kali, trs param si fun 2"
   ]
  },
  {
   "cell_type": "markdown",
   "id": "ee062ec8",
   "metadata": {},
   "source": [
    "## 10"
   ]
  },
  {
   "cell_type": "code",
   "execution_count": 39,
   "id": "2f34d31c",
   "metadata": {},
   "outputs": [
    {
     "name": "stdout",
     "output_type": "stream",
     "text": [
      "Struk 1 = {'sabun': 2000, 'sikat gigi': 6000, 'deterjen': 2000, 'shampoo': 5000}\n",
      "Struk 2 = {'sabun': 5000, 'sikat gigi': 12000, 'pewangi': 2500}\n",
      "Struk 1 + Struk 2 = {'sabun': 5000, 'sikat gigi': 12000, 'pewangi': 2500}\n"
     ]
    }
   ],
   "source": [
    "class Struk:\n",
    "    def __init__(self, rincian):\n",
    "        self.rincian = rincian\n",
    "\n",
    "    def __str__(self):\n",
    "        return str(self.rincian)\n",
    "\n",
    "    def __add__(self, struk2):  #1\n",
    "        hasil = {}  #2\n",
    "        for barang in struk2.rincian:\n",
    "            if barang in hasil:\n",
    "                hasil[barang] += struk2.rincian[barang]  #3\n",
    "            else:\n",
    "                hasil[barang] = struk2.rincian[barang]  #4\n",
    "        return Struk(hasil)  #5\n",
    "\n",
    "struk_1 = Struk({\"sabun\": 2000, \"sikat gigi\": 6000, \"deterjen\": 2000, \"shampoo\": 5000})\n",
    "struk_2 = Struk({\"sabun\": 5000, \"sikat gigi\": 12000, \"pewangi\": 2500})\n",
    "\n",
    "print(\"Struk 1 =\", struk_1)\n",
    "print(\"Struk 2 =\", struk_2)\n",
    "\n",
    "hasil = struk_1 + struk_2\n",
    "print(\"Struk 1 + Struk 2 =\", hasil)\n"
   ]
  },
  {
   "cell_type": "markdown",
   "id": "c0b58c7d",
   "metadata": {},
   "source": [
    "# 11"
   ]
  },
  {
   "cell_type": "code",
   "execution_count": 45,
   "id": "99e22777",
   "metadata": {},
   "outputs": [],
   "source": [
    "def power_of_three(n):\n",
    "    num = 1\n",
    "    for i in range(n):\n",
    "        yield num\n",
    "        num *=3"
   ]
  },
  {
   "cell_type": "code",
   "execution_count": 46,
   "id": "8e72243b",
   "metadata": {},
   "outputs": [
    {
     "name": "stdout",
     "output_type": "stream",
     "text": [
      "1\n"
     ]
    }
   ],
   "source": [
    "nums = power_of_three(6)\n",
    "print(next(nums))"
   ]
  },
  {
   "cell_type": "code",
   "execution_count": 47,
   "id": "cc43c20f",
   "metadata": {},
   "outputs": [
    {
     "name": "stdout",
     "output_type": "stream",
     "text": [
      "3\n"
     ]
    }
   ],
   "source": [
    "print(next(nums))"
   ]
  },
  {
   "cell_type": "code",
   "execution_count": 48,
   "id": "397d0dcc",
   "metadata": {},
   "outputs": [
    {
     "name": "stdout",
     "output_type": "stream",
     "text": [
      "9\n"
     ]
    }
   ],
   "source": [
    "print(next(nums))"
   ]
  },
  {
   "cell_type": "code",
   "execution_count": 50,
   "id": "05293c6a",
   "metadata": {},
   "outputs": [],
   "source": [
    "# mintanya infinite\n",
    "def power_of_three():\n",
    "    num = 1\n",
    "    while True:\n",
    "        yield num\n",
    "        num *=3"
   ]
  },
  {
   "cell_type": "markdown",
   "id": "7e13bd32",
   "metadata": {},
   "source": [
    "## 12"
   ]
  },
  {
   "cell_type": "code",
   "execution_count": 51,
   "id": "93492a79",
   "metadata": {},
   "outputs": [],
   "source": [
    "from functools import reduce\n",
    "\n",
    "lst = [5, 32, 98, 883, 101, 50]\n",
    "m=list(map(lambda x:x*3, lst))"
   ]
  },
  {
   "cell_type": "code",
   "execution_count": 52,
   "id": "d1144938",
   "metadata": {},
   "outputs": [
    {
     "data": {
      "text/plain": [
       "[15, 96, 294, 2649, 303, 150]"
      ]
     },
     "execution_count": 52,
     "metadata": {},
     "output_type": "execute_result"
    }
   ],
   "source": [
    "m"
   ]
  },
  {
   "cell_type": "code",
   "execution_count": 59,
   "id": "b372083d",
   "metadata": {},
   "outputs": [],
   "source": [
    "f = list(filter(lambda x: x%2 == 0, m))"
   ]
  },
  {
   "cell_type": "code",
   "execution_count": 60,
   "id": "0b741845",
   "metadata": {},
   "outputs": [
    {
     "data": {
      "text/plain": [
       "[96, 294, 150]"
      ]
     },
     "execution_count": 60,
     "metadata": {},
     "output_type": "execute_result"
    }
   ],
   "source": [
    "f"
   ]
  },
  {
   "cell_type": "code",
   "execution_count": 63,
   "id": "3bf68aa1",
   "metadata": {},
   "outputs": [],
   "source": [
    "result = reduce(lambda x, y: x+y, f)"
   ]
  },
  {
   "cell_type": "code",
   "execution_count": 64,
   "id": "7778f4d6",
   "metadata": {},
   "outputs": [
    {
     "name": "stdout",
     "output_type": "stream",
     "text": [
      "540\n"
     ]
    }
   ],
   "source": [
    "print(result)"
   ]
  },
  {
   "cell_type": "markdown",
   "id": "cc205a4c",
   "metadata": {},
   "source": [
    "# 13"
   ]
  },
  {
   "cell_type": "code",
   "execution_count": 65,
   "id": "4ae03db5",
   "metadata": {},
   "outputs": [],
   "source": [
    "def f(*w,**z):\n",
    "    if len(w) == 0:\n",
    "        return None\n",
    "    return lambda x,y: x*y*max(w) + len(z)"
   ]
  },
  {
   "cell_type": "code",
   "execution_count": 67,
   "id": "7d041fa7",
   "metadata": {},
   "outputs": [
    {
     "name": "stdout",
     "output_type": "stream",
     "text": [
      "62\n"
     ]
    }
   ],
   "source": [
    "print(f(5,2,1,a=5,b=2)(3,4))"
   ]
  },
  {
   "cell_type": "code",
   "execution_count": 68,
   "id": "94f5ec3c",
   "metadata": {},
   "outputs": [
    {
     "name": "stdout",
     "output_type": "stream",
     "text": [
      "28\n"
     ]
    }
   ],
   "source": [
    "print(f(2) (2,7))"
   ]
  },
  {
   "cell_type": "code",
   "execution_count": null,
   "id": "61414adf",
   "metadata": {},
   "outputs": [],
   "source": []
  }
 ],
 "metadata": {
  "kernelspec": {
   "display_name": "Python 3 (ipykernel)",
   "language": "python",
   "name": "python3"
  },
  "language_info": {
   "codemirror_mode": {
    "name": "ipython",
    "version": 3
   },
   "file_extension": ".py",
   "mimetype": "text/x-python",
   "name": "python",
   "nbconvert_exporter": "python",
   "pygments_lexer": "ipython3",
   "version": "3.11.4"
  }
 },
 "nbformat": 4,
 "nbformat_minor": 5
}
