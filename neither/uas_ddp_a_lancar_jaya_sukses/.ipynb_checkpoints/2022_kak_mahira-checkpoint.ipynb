{
 "cells": [
  {
   "cell_type": "markdown",
   "id": "8c9e6190",
   "metadata": {},
   "source": [
    "## 1"
   ]
  },
  {
   "cell_type": "code",
   "execution_count": 1,
   "id": "90df7dcf",
   "metadata": {},
   "outputs": [
    {
     "name": "stdout",
     "output_type": "stream",
     "text": [
      "{1: 'a', 2: 'b', 3: 'c', 4: 'd'}\n"
     ]
    }
   ],
   "source": [
    "myDict = {1:'a',2:'b',3:'c',4:'d'}\n",
    "search = '1'\n",
    "if search in myDict:\n",
    "    myDict[search] = 'satu'\n",
    "print(myDict)"
   ]
  },
  {
   "cell_type": "markdown",
   "id": "26a15b66",
   "metadata": {},
   "source": [
    "search is a string one, not int 1!"
   ]
  },
  {
   "cell_type": "code",
   "execution_count": 4,
   "id": "49306806",
   "metadata": {},
   "outputs": [
    {
     "data": {
      "text/plain": [
       "True"
      ]
     },
     "execution_count": 4,
     "metadata": {},
     "output_type": "execute_result"
    }
   ],
   "source": [
    "1 in myDict"
   ]
  },
  {
   "cell_type": "code",
   "execution_count": 5,
   "id": "38a00b0d",
   "metadata": {},
   "outputs": [
    {
     "data": {
      "text/plain": [
       "False"
      ]
     },
     "execution_count": 5,
     "metadata": {},
     "output_type": "execute_result"
    }
   ],
   "source": [
    "'a' in myDict"
   ]
  },
  {
   "cell_type": "markdown",
   "id": "4ac7c07b",
   "metadata": {},
   "source": [
    "ok so 'in' method only works for key"
   ]
  },
  {
   "cell_type": "code",
   "execution_count": 6,
   "id": "a31f5e63",
   "metadata": {},
   "outputs": [
    {
     "data": {
      "text/plain": [
       "True"
      ]
     },
     "execution_count": 6,
     "metadata": {},
     "output_type": "execute_result"
    }
   ],
   "source": [
    "'a' in myDict.values()"
   ]
  },
  {
   "cell_type": "code",
   "execution_count": 7,
   "id": "a8f9511e",
   "metadata": {},
   "outputs": [
    {
     "data": {
      "text/plain": [
       "False"
      ]
     },
     "execution_count": 7,
     "metadata": {},
     "output_type": "execute_result"
    }
   ],
   "source": [
    "'a' in myDict.items() # oh it only works for key, value pair"
   ]
  },
  {
   "cell_type": "code",
   "execution_count": 8,
   "id": "8232cfa5",
   "metadata": {},
   "outputs": [
    {
     "data": {
      "text/plain": [
       "False"
      ]
     },
     "execution_count": 8,
     "metadata": {},
     "output_type": "execute_result"
    }
   ],
   "source": [
    "1 in myDict.items()"
   ]
  },
  {
   "cell_type": "code",
   "execution_count": 9,
   "id": "6bfbc769",
   "metadata": {},
   "outputs": [
    {
     "data": {
      "text/plain": [
       "dict_items([(1, 'a'), (2, 'b'), (3, 'c'), (4, 'd')])"
      ]
     },
     "execution_count": 9,
     "metadata": {},
     "output_type": "execute_result"
    }
   ],
   "source": [
    "myDict.items()"
   ]
  },
  {
   "cell_type": "markdown",
   "id": "56141b02",
   "metadata": {},
   "source": [
    "## 2"
   ]
  },
  {
   "cell_type": "code",
   "execution_count": 10,
   "id": "92c645ca",
   "metadata": {},
   "outputs": [
    {
     "ename": "TypeError",
     "evalue": "unhashable type: 'list'",
     "output_type": "error",
     "traceback": [
      "\u001b[1;31m---------------------------------------------------------------------------\u001b[0m",
      "\u001b[1;31mTypeError\u001b[0m                                 Traceback (most recent call last)",
      "Cell \u001b[1;32mIn[10], line 1\u001b[0m\n\u001b[1;32m----> 1\u001b[0m new_set \u001b[38;5;241m=\u001b[39m {[x, x\u001b[38;5;241m+\u001b[39m\u001b[38;5;241m1\u001b[39m] \u001b[38;5;28;01mfor\u001b[39;00m x \u001b[38;5;129;01min\u001b[39;00m \u001b[38;5;28mrange\u001b[39m(\u001b[38;5;241m10\u001b[39m)}\n",
      "Cell \u001b[1;32mIn[10], line 1\u001b[0m, in \u001b[0;36m<setcomp>\u001b[1;34m(.0)\u001b[0m\n\u001b[1;32m----> 1\u001b[0m new_set \u001b[38;5;241m=\u001b[39m {[x, x\u001b[38;5;241m+\u001b[39m\u001b[38;5;241m1\u001b[39m] \u001b[38;5;28;01mfor\u001b[39;00m x \u001b[38;5;129;01min\u001b[39;00m \u001b[38;5;28mrange\u001b[39m(\u001b[38;5;241m10\u001b[39m)}\n",
      "\u001b[1;31mTypeError\u001b[0m: unhashable type: 'list'"
     ]
    }
   ],
   "source": [
    "new_set = {[x, x+1] for x in range(10)}"
   ]
  },
  {
   "cell_type": "markdown",
   "id": "c2e6bbd9",
   "metadata": {},
   "source": [
    "set gabisa punya list sebagai elemen"
   ]
  },
  {
   "cell_type": "code",
   "execution_count": 15,
   "id": "2e3d1151",
   "metadata": {},
   "outputs": [],
   "source": [
    "new_set = set([(\"a\", \"b\"), (1, 2), None]) "
   ]
  },
  {
   "cell_type": "markdown",
   "id": "a3ef5edc",
   "metadata": {},
   "source": [
    "liat elemennya: tuple sama none. both hashable"
   ]
  },
  {
   "cell_type": "code",
   "execution_count": 12,
   "id": "5be1795c",
   "metadata": {},
   "outputs": [
    {
     "ename": "TypeError",
     "evalue": "unhashable type: 'list'",
     "output_type": "error",
     "traceback": [
      "\u001b[1;31m---------------------------------------------------------------------------\u001b[0m",
      "\u001b[1;31mTypeError\u001b[0m                                 Traceback (most recent call last)",
      "Cell \u001b[1;32mIn[12], line 1\u001b[0m\n\u001b[1;32m----> 1\u001b[0m new_set \u001b[38;5;241m=\u001b[39m {[\u001b[38;5;124m\"\u001b[39m\u001b[38;5;124ma\u001b[39m\u001b[38;5;124m\"\u001b[39m, \u001b[38;5;124m\"\u001b[39m\u001b[38;5;124mb\u001b[39m\u001b[38;5;124m\"\u001b[39m, \u001b[38;5;241m1\u001b[39m, \u001b[38;5;241m2\u001b[39m, \u001b[38;5;28;01mNone\u001b[39;00m]}\n",
      "\u001b[1;31mTypeError\u001b[0m: unhashable type: 'list'"
     ]
    }
   ],
   "source": [
    "new_set = {[\"a\", \"b\", 1, 2, None]}"
   ]
  },
  {
   "cell_type": "markdown",
   "id": "18d9d3d9",
   "metadata": {},
   "source": [
    "kalo ada list dia marah"
   ]
  },
  {
   "cell_type": "code",
   "execution_count": 13,
   "id": "f237330c",
   "metadata": {},
   "outputs": [
    {
     "ename": "TypeError",
     "evalue": "unhashable type: 'set'",
     "output_type": "error",
     "traceback": [
      "\u001b[1;31m---------------------------------------------------------------------------\u001b[0m",
      "\u001b[1;31mTypeError\u001b[0m                                 Traceback (most recent call last)",
      "Cell \u001b[1;32mIn[13], line 1\u001b[0m\n\u001b[1;32m----> 1\u001b[0m new_set \u001b[38;5;241m=\u001b[39m {\u001b[38;5;241m1\u001b[39m, {\u001b[38;5;241m2\u001b[39m, \u001b[38;5;241m3\u001b[39m, {\u001b[38;5;241m4\u001b[39m}}}\n",
      "\u001b[1;31mTypeError\u001b[0m: unhashable type: 'set'"
     ]
    }
   ],
   "source": [
    "new_set = {1, {2, 3, {4}}}"
   ]
  },
  {
   "cell_type": "code",
   "execution_count": 14,
   "id": "dd15bf32",
   "metadata": {},
   "outputs": [
    {
     "ename": "TypeError",
     "evalue": "unhashable type: 'dict'",
     "output_type": "error",
     "traceback": [
      "\u001b[1;31m---------------------------------------------------------------------------\u001b[0m",
      "\u001b[1;31mTypeError\u001b[0m                                 Traceback (most recent call last)",
      "Cell \u001b[1;32mIn[14], line 1\u001b[0m\n\u001b[1;32m----> 1\u001b[0m new_set \u001b[38;5;241m=\u001b[39m \u001b[38;5;28mset\u001b[39m([\u001b[38;5;124m\"\u001b[39m\u001b[38;5;124ma\u001b[39m\u001b[38;5;124m\"\u001b[39m, \u001b[38;5;124m\"\u001b[39m\u001b[38;5;124mb\u001b[39m\u001b[38;5;124m\"\u001b[39m, \u001b[38;5;124m\"\u001b[39m\u001b[38;5;124mc\u001b[39m\u001b[38;5;124m\"\u001b[39m, {\u001b[38;5;124m\"\u001b[39m\u001b[38;5;124mUsep\u001b[39m\u001b[38;5;124m\"\u001b[39m: \u001b[38;5;241m1\u001b[39m, \u001b[38;5;124m\"\u001b[39m\u001b[38;5;124mHuki\u001b[39m\u001b[38;5;124m\"\u001b[39m: \u001b[38;5;241m3\u001b[39m}])\n",
      "\u001b[1;31mTypeError\u001b[0m: unhashable type: 'dict'"
     ]
    }
   ],
   "source": [
    "new_set = set([\"a\", \"b\", \"c\", {\"Usep\": 1, \"Huki\": 3}])"
   ]
  },
  {
   "cell_type": "markdown",
   "id": "fed1cf2c",
   "metadata": {},
   "source": [
    "hashable: bisa diconvert misalnya kaya string dari huruf kan bisa ditemuin nilai asci (bilbul) nya semacam itu\n",
    "\n",
    "hashable bisa kalo konsisten, karena kalo diconvert berkalikali, hasilnya harus konsisten dan unik untuk tiap object yang dihash\n",
    "\n",
    "mutable kaya list, dictionary, set gbs di hash simply karena mereka bisa berubah ubah bisa diupdate--note set mutable! jd nested set, set nya sendiri malah marah\n",
    "\n",
    "set cm accept hashable immutable datatype tp dia sendiri ga hashable!\n",
    "\n",
    "string sama tuple aman untuk hashable"
   ]
  },
  {
   "cell_type": "markdown",
   "id": "9e25bcb5",
   "metadata": {},
   "source": [
    "#### ternyata ada perbedaan bikin set dengan set() sama {} right away!"
   ]
  },
  {
   "cell_type": "code",
   "execution_count": 17,
   "id": "eb70a7b9",
   "metadata": {},
   "outputs": [],
   "source": [
    "mylist=[(\"a\", \"b\"), (1, 2), None]"
   ]
  },
  {
   "cell_type": "code",
   "execution_count": 18,
   "id": "73d55ce5",
   "metadata": {},
   "outputs": [
    {
     "ename": "TypeError",
     "evalue": "unhashable type: 'list'",
     "output_type": "error",
     "traceback": [
      "\u001b[1;31m---------------------------------------------------------------------------\u001b[0m",
      "\u001b[1;31mTypeError\u001b[0m                                 Traceback (most recent call last)",
      "Cell \u001b[1;32mIn[18], line 1\u001b[0m\n\u001b[1;32m----> 1\u001b[0m new_hair \u001b[38;5;241m=\u001b[39m {mylist}\n",
      "\u001b[1;31mTypeError\u001b[0m: unhashable type: 'list'"
     ]
    }
   ],
   "source": [
    "new_hair = {mylist}"
   ]
  },
  {
   "cell_type": "code",
   "execution_count": 19,
   "id": "3f98a38e",
   "metadata": {},
   "outputs": [],
   "source": [
    "new_tee = set(mylist)"
   ]
  },
  {
   "cell_type": "markdown",
   "id": "6f6cdf04",
   "metadata": {},
   "source": [
    "{} create set but only accept immutable hashable datatype\n",
    "\n",
    "\n",
    "set() itu CONSTRUCTOR set. can be used to create an empty set or convert an iterable (e.g., list, tuple) into a set. It provides a clear way to create sets, especially when dealing with iterable data"
   ]
  },
  {
   "cell_type": "markdown",
   "id": "afd7274e",
   "metadata": {},
   "source": [
    "jadi set itu, meskipun dikasie list, dia bakal iterate tiap elemen di iterable datatype itulah, kira kira aman gsie kalo dibikin set"
   ]
  },
  {
   "cell_type": "code",
   "execution_count": 21,
   "id": "acf0811f",
   "metadata": {},
   "outputs": [],
   "source": [
    "new_jeans = ['make', 'you', ['feel', 'like']]"
   ]
  },
  {
   "cell_type": "code",
   "execution_count": 22,
   "id": "75fe5d93",
   "metadata": {},
   "outputs": [
    {
     "ename": "TypeError",
     "evalue": "unhashable type: 'list'",
     "output_type": "error",
     "traceback": [
      "\u001b[1;31m---------------------------------------------------------------------------\u001b[0m",
      "\u001b[1;31mTypeError\u001b[0m                                 Traceback (most recent call last)",
      "Cell \u001b[1;32mIn[22], line 1\u001b[0m\n\u001b[1;32m----> 1\u001b[0m \u001b[38;5;28mset\u001b[39m(new_jeans)\n",
      "\u001b[1;31mTypeError\u001b[0m: unhashable type: 'list'"
     ]
    }
   ],
   "source": [
    "set(new_jeans) "
   ]
  },
  {
   "cell_type": "markdown",
   "id": "e6355225",
   "metadata": {},
   "source": [
    "nie, meskipun set() bisa convert iterable, tp iterable ini malah tetep punya nested list (nested iterable lg) jadi dia gamau"
   ]
  },
  {
   "cell_type": "markdown",
   "id": "03ccaf43",
   "metadata": {},
   "source": [
    "## 4"
   ]
  },
  {
   "cell_type": "code",
   "execution_count": 24,
   "id": "163f2a96",
   "metadata": {},
   "outputs": [
    {
     "name": "stdout",
     "output_type": "stream",
     "text": [
      "{0: 20, 1: 19, 4: 18, 9: 17, 6: 16, 5: 15}\n"
     ]
    }
   ],
   "source": [
    "print({((x ** 2) % 10): x for x in range(21)})"
   ]
  },
  {
   "cell_type": "code",
   "execution_count": null,
   "id": "eeb2e20f",
   "metadata": {},
   "outputs": [],
   "source": [
    "{((x ** 2) % 10): x for x in range(21)}"
   ]
  },
  {
   "cell_type": "code",
   "execution_count": 31,
   "id": "df218932",
   "metadata": {},
   "outputs": [
    {
     "name": "stdout",
     "output_type": "stream",
     "text": [
      "0 supposed to be the 0 key\n",
      "0 supposed to be the 0 value \n",
      "\n",
      "1 supposed to be the 1 key\n",
      "1 supposed to be the 1 value \n",
      "\n",
      "4 supposed to be the 2 key\n",
      "2 supposed to be the 2 value \n",
      "\n",
      "9 supposed to be the 3 key\n",
      "3 supposed to be the 3 value \n",
      "\n",
      "6 supposed to be the 4 key\n",
      "4 supposed to be the 4 value \n",
      "\n",
      "5 supposed to be the 5 key\n",
      "5 supposed to be the 5 value \n",
      "\n",
      "6 supposed to be the 6 key\n",
      "6 supposed to be the 6 value \n",
      "\n",
      "9 supposed to be the 7 key\n",
      "7 supposed to be the 7 value \n",
      "\n",
      "4 supposed to be the 8 key\n",
      "8 supposed to be the 8 value \n",
      "\n",
      "1 supposed to be the 9 key\n",
      "9 supposed to be the 9 value \n",
      "\n",
      "0 supposed to be the 10 key\n",
      "10 supposed to be the 10 value \n",
      "\n",
      "1 supposed to be the 11 key\n",
      "11 supposed to be the 11 value \n",
      "\n",
      "4 supposed to be the 12 key\n",
      "12 supposed to be the 12 value \n",
      "\n",
      "9 supposed to be the 13 key\n",
      "13 supposed to be the 13 value \n",
      "\n",
      "6 supposed to be the 14 key\n",
      "14 supposed to be the 14 value \n",
      "\n",
      "5 supposed to be the 15 key\n",
      "15 supposed to be the 15 value \n",
      "\n",
      "6 supposed to be the 16 key\n",
      "16 supposed to be the 16 value \n",
      "\n",
      "9 supposed to be the 17 key\n",
      "17 supposed to be the 17 value \n",
      "\n",
      "4 supposed to be the 18 key\n",
      "18 supposed to be the 18 value \n",
      "\n",
      "1 supposed to be the 19 key\n",
      "19 supposed to be the 19 value \n",
      "\n",
      "0 supposed to be the 20 key\n",
      "20 supposed to be the 20 value \n",
      "\n",
      "{0: 20, 1: 19, 4: 18, 9: 17, 6: 16, 5: 15}\n"
     ]
    }
   ],
   "source": [
    "mydict = {}\n",
    "for x in range(21):\n",
    "    print((x ** 2) % 10, f'supposed to be the', x, 'key')\n",
    "    mydict[(x ** 2) % 10] = x\n",
    "    print(x, 'supposed to be the', x, 'value', '\\n')\n",
    "print(mydict)\n",
    "\n",
    "\n",
    "    "
   ]
  },
  {
   "cell_type": "markdown",
   "id": "e9ef7f80",
   "metadata": {},
   "source": [
    "pay attention kalo dia bakal ada reassign key yg sama tp dengan value yg berbeda! \n",
    "\n",
    "nilai key nya bakal berulag terus karena remainder pembagian sepuluh dari bilangan kuadrat ya kalo ga 0,1,4,6,5,9\n",
    "\n",
    "jadi, kalo ada potential reassignment kaya gini, coba pake x index loop nya dari terakhir!"
   ]
  },
  {
   "cell_type": "markdown",
   "id": "e4b36950",
   "metadata": {},
   "source": [
    "pertama: gue list dlu mod 10 nya. ini kan x in range 21, simply bakal 0,1....20\n",
    "\n",
    "nanti keliatan kalo pola hasilnya itu bakal berulang karena dia remainder!\n",
    "\n",
    "kalo ternyata gue dh ngeh berulang, skrg gue masukin key value pairnya pake index pengulangan terakhir! jd mundur aja!\n",
    "\n",
    "kebetulan ini x-index di key nya gaberpengaruh sm apa yg diproses di loop nya karena cm range 21 aja. hasil process loopnya gaberpengaruh ke loop selanjutnya"
   ]
  },
  {
   "cell_type": "markdown",
   "id": "e1401d74",
   "metadata": {},
   "source": [
    "## 5"
   ]
  },
  {
   "cell_type": "code",
   "execution_count": 42,
   "id": "9e5f984d",
   "metadata": {},
   "outputs": [],
   "source": [
    "def issublist(lst, other_lst):\n",
    "    if len(lst) == 0: \n",
    "        return True\n",
    "    if len(other_lst) == 0:\n",
    "        return False\n",
    "    if lst[0] == other_lst[0]: # kalo gue ngasie bneran simple, right what u search\n",
    "        return [issublist(lst[1:], other_lst[1:])] #':' anticipate bcs obc this is recursive and you might need to go to the rest of the code length\n",
    "    else:\n",
    "        return [issublist(lst, other_lst[1:])] # 'sublist' yg dicari kan mw urut, dia harus tetep stay sebagai patokan"
   ]
  },
  {
   "cell_type": "code",
   "execution_count": 43,
   "id": "d375d33d",
   "metadata": {},
   "outputs": [
    {
     "data": {
      "text/plain": [
       "[[[[False]]]]"
      ]
     },
     "execution_count": 43,
     "metadata": {},
     "output_type": "execute_result"
    }
   ],
   "source": [
    "#testcase\n",
    "issublist([1,3], [3,6,2,1])"
   ]
  },
  {
   "cell_type": "markdown",
   "id": "ef055575",
   "metadata": {},
   "source": [
    "how to think recursively\n",
    "\n",
    "1. base case where yeah i give nothing\n",
    "2. base case where i give you exactly what you search\n",
    "3. recursive case: just go check the next"
   ]
  },
  {
   "cell_type": "markdown",
   "id": "48cf6ba1",
   "metadata": {},
   "source": [
    "## 6"
   ]
  },
  {
   "cell_type": "code",
   "execution_count": 45,
   "id": "de56df1f",
   "metadata": {},
   "outputs": [],
   "source": [
    "def mystic(x):\n",
    "    print(f\"mystic {x}\")\n",
    "    if x <= 4:\n",
    "        return x\n",
    "    return mystic(x-2) + mystic(x-4)"
   ]
  },
  {
   "cell_type": "code",
   "execution_count": 46,
   "id": "c97f4e40",
   "metadata": {},
   "outputs": [
    {
     "name": "stdout",
     "output_type": "stream",
     "text": [
      "mystic 7\n",
      "mystic 5\n",
      "mystic 3\n",
      "mystic 1\n",
      "mystic 3\n"
     ]
    },
    {
     "data": {
      "text/plain": [
       "7"
      ]
     },
     "execution_count": 46,
     "metadata": {},
     "output_type": "execute_result"
    }
   ],
   "source": [
    "mystic(7)"
   ]
  },
  {
   "cell_type": "markdown",
   "id": "57a0ca04",
   "metadata": {},
   "source": [
    "bntar mncoba seakan gue piton\n",
    "\n",
    "1. mystic 7\n",
    "print mystic 7\n",
    "return mystic(5) + mystic (3)\n",
    "\n",
    "    mystic(5)-- print mystic 5 -- return mystic(3) + mystic(1)\n",
    "    \n",
    "        mystic(3) -- print mystic 3 --return 3\n",
    "        \n",
    "        mystic(1) -- print mystic 1 -- return 1\n",
    "        \n",
    "    mystic(3)-- print mystic 3 return 3\n",
    "    \n",
    "ini yg direturn 3+1+3 = 7\n"
   ]
  },
  {
   "cell_type": "markdown",
   "id": "a10b5f91",
   "metadata": {},
   "source": [
    "## 7"
   ]
  },
  {
   "cell_type": "code",
   "execution_count": 47,
   "id": "8df98648",
   "metadata": {},
   "outputs": [],
   "source": [
    "class A:\n",
    "    def __strs__(self):\n",
    "        return 'Hello World!'\n",
    "    def __lt__(self, x):\n",
    "        return x\n",
    "    def f(self, x):\n",
    "        return x\n",
    "\n",
    "class B(A):\n",
    "    def f(self,x, y):\n",
    "        return x+y"
   ]
  },
  {
   "cell_type": "markdown",
   "id": "129565d7",
   "metadata": {},
   "source": [
    "first thing first, magic operator sudah pasti overloading\n",
    "\n",
    "overloading operator di class:\n",
    "jdie, kita bakal ngasi tau gimana cara method di kelas kita behave\n",
    "kalo ternyata parameter yg di pass beda"
   ]
  },
  {
   "cell_type": "code",
   "execution_count": null,
   "id": "8d175ce0",
   "metadata": {},
   "outputs": [],
   "source": [
    "misal, "
   ]
  }
 ],
 "metadata": {
  "kernelspec": {
   "display_name": "Python 3 (ipykernel)",
   "language": "python",
   "name": "python3"
  },
  "language_info": {
   "codemirror_mode": {
    "name": "ipython",
    "version": 3
   },
   "file_extension": ".py",
   "mimetype": "text/x-python",
   "name": "python",
   "nbconvert_exporter": "python",
   "pygments_lexer": "ipython3",
   "version": "3.11.4"
  }
 },
 "nbformat": 4,
 "nbformat_minor": 5
}
