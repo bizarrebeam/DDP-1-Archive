{
 "cells": [
  {
   "cell_type": "markdown",
   "id": "ce882cc8",
   "metadata": {},
   "source": [
    "## UAS TAHUN LALU (drive 22)"
   ]
  },
  {
   "cell_type": "markdown",
   "id": "cac0d9a4",
   "metadata": {},
   "source": [
    "nomor 1"
   ]
  },
  {
   "cell_type": "code",
   "execution_count": 1,
   "id": "06611862",
   "metadata": {},
   "outputs": [
    {
     "name": "stdout",
     "output_type": "stream",
     "text": [
      "diameter = 20\n",
      "luas = 314.0\n"
     ]
    }
   ],
   "source": [
    "class Circle(object):\n",
    "    num_of_instances = 0\n",
    "    \n",
    "    def __init__(self, radius):\n",
    "        self.radius = radius\n",
    "        Circle.num_of_instances += 1\n",
    "        \n",
    "    def area(self):\n",
    "        return Circle.PI * (self.radius ** 2)\n",
    "    \n",
    "if __name__ == \"__main__\":\n",
    "    circle_object = Circle(10)\n",
    "    circle_object.diameter = 2 * circle_object.radius\n",
    "    Circle.PI = 3.14\n",
    "    print(\"diameter = {}\".format(circle_object.diameter))\n",
    "    print(\"luas = {}\".format(circle_object.area()))"
   ]
  },
  {
   "cell_type": "markdown",
   "id": "ce13887b",
   "metadata": {},
   "source": [
    "num_of_instance itu obvious class namespace\n",
    "\n",
    "PI jg class namespace karena lo aksesnya pake Circle.PI terus dia defined mandiri gitu, di assign 3.14 (meskipun di assignya di bawah name == main). tp yg jelas, nilainya statis dan dipake buat keseluruhan class itu\n",
    "\n",
    "<<The correct answer is: instance namespace: radius, diameter, num_of_instances, dan PI\n",
    "class namespace: PI & num_of_instances>>\n",
    "\n",
    "knp num_of_instance msup ke instante namespace jg, simply karena class atribute bisa dipanggil lewat instance"
   ]
  },
  {
   "cell_type": "markdown",
   "id": "da5fe1d4",
   "metadata": {},
   "source": [
    "## nomor 2"
   ]
  },
  {
   "cell_type": "code",
   "execution_count": 2,
   "id": "8f8c4500",
   "metadata": {},
   "outputs": [],
   "source": [
    "class MyClass(object):\n",
    "    class_var = 5\n",
    "\n",
    "    def __init__(self, inst_var):\n",
    "        self.inst_var = inst_var\n",
    "\n",
    "if __name__ == \"__main__\":\n",
    "    obj1 = MyClass(10)\n",
    "    obj2 = MyClass(15)\n",
    "    obj3 = MyClass(20)"
   ]
  },
  {
   "cell_type": "code",
   "execution_count": 3,
   "id": "5edfb6f4",
   "metadata": {},
   "outputs": [
    {
     "name": "stdout",
     "output_type": "stream",
     "text": [
      "30\n"
     ]
    }
   ],
   "source": [
    "MyClass.class_var = 30\n",
    "print(MyClass.class_var) # 30, keganti karena akses langsung\n",
    "# dari kelasnya"
   ]
  },
  {
   "cell_type": "code",
   "execution_count": 4,
   "id": "e55a5908",
   "metadata": {},
   "outputs": [
    {
     "name": "stdout",
     "output_type": "stream",
     "text": [
      "30\n",
      "30\n"
     ]
    }
   ],
   "source": [
    "obj1.class_var = 30\n",
    "print(obj1.class_var)\n",
    "print(MyClass.class_var) # akses dr instance, instance jd 30,\n",
    "# class attr tetep 5"
   ]
  },
  {
   "cell_type": "code",
   "execution_count": 5,
   "id": "791a469f",
   "metadata": {},
   "outputs": [
    {
     "name": "stdout",
     "output_type": "stream",
     "text": [
      "30\n",
      "30\n"
     ]
    }
   ],
   "source": [
    "# cek attr di object lainnya (state cm assign 30 ke obj1)\n",
    "print(obj2.class_var)\n",
    "print(obj2.class_var)\n",
    "# ternyata tetep ga keganti yh, masih ngikut class attr"
   ]
  },
  {
   "cell_type": "markdown",
   "id": "fafc2a74",
   "metadata": {},
   "source": [
    "## nomor 4"
   ]
  },
  {
   "cell_type": "code",
   "execution_count": 6,
   "id": "018a9544",
   "metadata": {},
   "outputs": [],
   "source": [
    "class Vehicle(object):\n",
    "    def __init__(self):\n",
    "        self.horsepower = 30\n",
    "\n",
    "class Car(Vehicle):\n",
    "    def __init__(self, engine_location):\n",
    "        self.engine_location = engine_location\n",
    "\n",
    "if __name__ == '__main__':\n",
    "    mobil = Car(\"forward\")"
   ]
  },
  {
   "cell_type": "code",
   "execution_count": 7,
   "id": "8db55ce7",
   "metadata": {},
   "outputs": [
    {
     "ename": "AttributeError",
     "evalue": "'Car' object has no attribute 'horsepower'",
     "output_type": "error",
     "traceback": [
      "\u001b[1;31m---------------------------------------------------------------------------\u001b[0m",
      "\u001b[1;31mAttributeError\u001b[0m                            Traceback (most recent call last)",
      "Cell \u001b[1;32mIn[7], line 1\u001b[0m\n\u001b[1;32m----> 1\u001b[0m \u001b[38;5;28mprint\u001b[39m(\u001b[43mmobil\u001b[49m\u001b[38;5;241;43m.\u001b[39;49m\u001b[43mhorsepower\u001b[49m)\n\u001b[0;32m      2\u001b[0m \u001b[38;5;66;03m# jadinya tidak bisa diakses yh meskipun keliatannya ini\u001b[39;00m\n\u001b[0;32m      3\u001b[0m \u001b[38;5;66;03m# inheritance karena harusnya dipanggil lg instance vehicle\u001b[39;00m\n\u001b[0;32m      4\u001b[0m \u001b[38;5;66;03m# di init nya car\u001b[39;00m\n",
      "\u001b[1;31mAttributeError\u001b[0m: 'Car' object has no attribute 'horsepower'"
     ]
    }
   ],
   "source": [
    "print(mobil.horsepower)\n",
    "# jadinya tidak bisa diakses yh meskipun keliatannya ini\n",
    "# inheritance karena harusnya dipanggil lg instance vehicle\n",
    "# di init nya car"
   ]
  },
  {
   "cell_type": "code",
   "execution_count": null,
   "id": "a1cf1f77",
   "metadata": {},
   "outputs": [],
   "source": [
    "#  harusnya\n",
    "class Vehicle(object):\n",
    "    def __init__(self):\n",
    "        self.horsepower = 30\n",
    "\n",
    "class Car(Vehicle):\n",
    "    def __init__(self, engine_location):\n",
    "        super().__init__()\n",
    "        self.engine_location = engine_location\n",
    "\n",
    "if __name__ == '__main__':\n",
    "    mobil = Car(\"forward\")"
   ]
  },
  {
   "cell_type": "code",
   "execution_count": null,
   "id": "998949e7",
   "metadata": {},
   "outputs": [],
   "source": [
    "print(mobil.horsepower) # yeay baru bisa keakses"
   ]
  },
  {
   "cell_type": "markdown",
   "id": "8ee5a71b",
   "metadata": {},
   "source": [
    "## nomor 5"
   ]
  },
  {
   "cell_type": "code",
   "execution_count": null,
   "id": "214ccec8",
   "metadata": {},
   "outputs": [],
   "source": [
    "class Programmer(object):\n",
    "    def __init__(self, name, experience):\n",
    "        self.__name = name\n",
    "        self.__experience = experience\n",
    "        \n",
    "    def get_name(self):\n",
    "        return self.__name\n",
    "    def get_experience(self):\n",
    "        return self.__experience"
   ]
  },
  {
   "cell_type": "code",
   "execution_count": null,
   "id": "20dc1774",
   "metadata": {},
   "outputs": [],
   "source": [
    "p = Programmer(\"anto\", 5)\n",
    "print(p._Programmer__name) # ini kan akses variable yh\n",
    "# soal manggled var ini, jd langsung panggil nama var nya yh\n",
    "print(p.__name)"
   ]
  },
  {
   "cell_type": "markdown",
   "id": "9db9d4ea",
   "metadata": {},
   "source": [
    "## nomor 6"
   ]
  },
  {
   "cell_type": "code",
   "execution_count": null,
   "id": "0d500ab2",
   "metadata": {},
   "outputs": [],
   "source": [
    "def f(n):\n",
    "    if n >= 0:\n",
    "        return 0\n",
    "#     else:\n",
    "#         return 1+f(n+1)\n",
    "    return 4\n",
    "    "
   ]
  },
  {
   "cell_type": "code",
   "execution_count": null,
   "id": "86711e35",
   "metadata": {},
   "outputs": [],
   "source": [
    "f(-2)"
   ]
  },
  {
   "cell_type": "code",
   "execution_count": null,
   "id": "cdfeede0",
   "metadata": {},
   "outputs": [],
   "source": [
    "def g(n):\n",
    "    if n == 0:\n",
    "        return 0\n",
    "    elif n>0:\n",
    "        return 3+g(n-1)\n",
    "    else:\n",
    "        return -3+g(n+1)"
   ]
  },
  {
   "cell_type": "code",
   "execution_count": null,
   "id": "69b31aac",
   "metadata": {},
   "outputs": [],
   "source": [
    "g(-5) # berarti return nya harus kelipatan 3"
   ]
  },
  {
   "cell_type": "code",
   "execution_count": null,
   "id": "f9aace5b",
   "metadata": {},
   "outputs": [],
   "source": [
    "def h(n):\n",
    "    if n == 0:\n",
    "        return 0\n",
    "    elif n == 1:\n",
    "        return 3\n",
    "    else:\n",
    "        return h(n-5)\n"
   ]
  },
  {
   "cell_type": "code",
   "execution_count": null,
   "id": "9a80cda5",
   "metadata": {},
   "outputs": [],
   "source": [
    "h(10) # harusnya code ini work ut kelipatan 5 aja"
   ]
  },
  {
   "cell_type": "code",
   "execution_count": null,
   "id": "603f322a",
   "metadata": {},
   "outputs": [],
   "source": [
    "h(4)"
   ]
  },
  {
   "cell_type": "markdown",
   "id": "cdea23ea",
   "metadata": {},
   "source": [
    "## 16"
   ]
  },
  {
   "cell_type": "code",
   "execution_count": null,
   "id": "7223a14c",
   "metadata": {},
   "outputs": [],
   "source": [
    "a_tuple = (100, 200)\n",
    "a_tuple * 2"
   ]
  },
  {
   "cell_type": "code",
   "execution_count": null,
   "id": "3d62c899",
   "metadata": {},
   "outputs": [],
   "source": [
    "d1 = {'one':1, 'two':2, 'three':3}\n",
    "d2 = {'three':9, 'four':4, 'five':5}\n",
    "# jadi, kalau ada key yg sama, value yang kepake\n",
    "# itu value yang paling updated"
   ]
  },
  {
   "cell_type": "code",
   "execution_count": null,
   "id": "e67cd0f3",
   "metadata": {},
   "outputs": [],
   "source": [
    "d3 = d1.copy()\n",
    "print(d3)\n",
    "d3.update(d2)\n",
    "print(d3)"
   ]
  },
  {
   "cell_type": "code",
   "execution_count": null,
   "id": "2b5ca919",
   "metadata": {},
   "outputs": [],
   "source": [
    "for k, v in d3.items():\n",
    "    print(v, end=' ')"
   ]
  },
  {
   "cell_type": "markdown",
   "id": "c7608574",
   "metadata": {},
   "source": [
    "## 18"
   ]
  },
  {
   "cell_type": "markdown",
   "id": "8a5dd94d",
   "metadata": {},
   "source": [
    "tuple bowle jd keys nya dict, tp set gabisa karena set mutable\n",
    "\n",
    "inisiasi var_a bertipe dict cukup var_a = {}\n",
    "\n",
    "mhs['nama'] sama aj ky mhs.get('nama') (mau access value dict mhs)\n",
    "\n"
   ]
  },
  {
   "cell_type": "markdown",
   "id": "7750b5eb",
   "metadata": {},
   "source": [
    "## 19"
   ]
  },
  {
   "cell_type": "code",
   "execution_count": null,
   "id": "2fa83667",
   "metadata": {},
   "outputs": [],
   "source": [
    "var_a = {}\n",
    "type(var_a)"
   ]
  },
  {
   "cell_type": "code",
   "execution_count": null,
   "id": "3e014e48",
   "metadata": {},
   "outputs": [],
   "source": [
    "# jadi kalau mau initialize empty set, pake set()\n",
    "var_b = set()\n",
    "type(var_b)"
   ]
  },
  {
   "cell_type": "code",
   "execution_count": null,
   "id": "25f80793",
   "metadata": {},
   "outputs": [],
   "source": [
    "sampleSet = {\"Red\", \"Black\", \"Yellow\"}\n",
    "sampleSet.pop() # index not guaranteed in set"
   ]
  },
  {
   "cell_type": "code",
   "execution_count": null,
   "id": "c07ccd22",
   "metadata": {},
   "outputs": [],
   "source": [
    "sampleSet = {\"Red\", \"Black\", \"Yellow\"}\n",
    "sampleSet.pop(\"Yellow\")"
   ]
  },
  {
   "cell_type": "markdown",
   "id": "ad51806c",
   "metadata": {},
   "source": [
    " Sets in Python can only contain elements of immutable types (like numbers, strings, or other sets) but not mutable types like lists or tuples"
   ]
  },
  {
   "cell_type": "markdown",
   "id": "0e18ab02",
   "metadata": {},
   "source": [
    "## 21 bahas polymorphism, blum"
   ]
  },
  {
   "cell_type": "markdown",
   "id": "eb095f1f",
   "metadata": {},
   "source": [
    "## 26"
   ]
  },
  {
   "cell_type": "code",
   "execution_count": null,
   "id": "332c3859",
   "metadata": {},
   "outputs": [],
   "source": [
    "class Book(object):\n",
    "    def __init__(self, title, price):\n",
    "        self.__title = title\n",
    "        self.__price = price\n",
    "        \n",
    "    def get_title(self):\n",
    "        return self.__title\n",
    "    \n",
    "    def get_price(self):\n",
    "        return self.__price \n",
    "    \n",
    "class Cart(object):\n",
    "    def __init__(self):\n",
    "        self.__shopping_cart = []\n",
    "        \n",
    "    def add_item(self, item):\n",
    "        \"\"\" menambahkan sebuah item di posisi akhir list shopping cart \"\"\"\n",
    "        return self.__shopping_cart.append(item)\n",
    "   \n",
    "    def total_price(self):\n",
    "        \"\"\" melakukan loop terhadap shopping cart, dan menghitung total harga \"\"\"\n",
    "        total = 0\n",
    "        for i in self.__shopping_cart:\n",
    "            total += i.get_price()\n",
    "        return total\n",
    "    \n",
    "if __name__ == '__main__':\n",
    "    my_cart = Cart()\n",
    "    my_cart.add_item(Book(\"Python\", 50000))\n",
    "    my_cart.add_item(Book(\"Java\", 30000))\n",
    "    my_cart.add_item(Book(\"Data Mining\", 45000))\n",
    "    my_cart.add_item(Book(\"Clean Code\", 70000))\n",
    "    my_cart.add_item(Book(\"Effective Programming\", 70000))\n",
    "    print(\"total price = {}\".format(my_cart.total_price()))"
   ]
  },
  {
   "cell_type": "markdown",
   "id": "59174089",
   "metadata": {},
   "source": [
    "liat deh cara manggil di bawah name==main. my cart itu class Cart, tp gimana bisa kehubung sm book, simply karena add_item nya manggil class book\n"
   ]
  },
  {
   "cell_type": "code",
   "execution_count": null,
   "id": "8fae6ada",
   "metadata": {},
   "outputs": [],
   "source": [
    "import tkinter as tk\n",
    "\n",
    "class MyApp(tk.Frame):\n",
    "    def __init__(self, master = None):\n",
    "        super().__init__(master)\n",
    "        self.pack()\n",
    "        self.titik_str = tk.StringVar() #fill\n",
    "        self.create_widgets()\n",
    "    \n",
    "    def create_widgets(self):\n",
    "        self.lbl_title = tk.Label(self, text = \"Input titik koordinat\")\n",
    "        self.lbl_title.pack()\n",
    "        self.ent_titik = tk.Entry(self, textvariable = self.titik_str, width = 32)\n",
    "        self.ent_titik.bind('<Return>', self.draw_line) # fill\n",
    "        self.ent_titik.pack()\n",
    "        self.canvas = tk.Canvas(self, width = 200, height = 100, bg = \"white\")\n",
    "        self.canvas.pack()\n",
    "    \n",
    "    def draw_line(self, event):\n",
    "        location = self.titik_str.get().split(',')\n",
    "        x1, y1, x2, y2 = int(location[0]), int(location[1]), int(location[2]), int\n",
    "        (location[3])\n",
    "        self.canvas.create_line(x1, y1, x2, y2)\n",
    "    \n",
    "if __name__ == '__main__':\n",
    "    myapp = MyApp()\n",
    "    myapp.mainloop()"
   ]
  },
  {
   "cell_type": "markdown",
   "id": "38bb1701",
   "metadata": {},
   "source": [
    "## 28"
   ]
  },
  {
   "cell_type": "code",
   "execution_count": null,
   "id": "9498aec4",
   "metadata": {},
   "outputs": [],
   "source": [
    "num_sinonim = int(input(\"banyaknya pasangan sinonim: \"))\n",
    "dict_sinonim = {}\n",
    "\n",
    "for i in range(num_sinonim):\n",
    "    first, second = input().split()\n",
    "    dict_sinonim[\"first\"] = first\n",
    "    dict_sinonim[\"second\"] = second\n",
    "\n",
    "print()\n",
    "\n",
    "word = input(\"kata yang ingin dicari sinonimnya: \")\n",
    "for key in dict_sinonim:\n",
    "    if dict_sinonim['key'] == word:\n",
    "        print(dict_sinonim['key'])\n"
   ]
  },
  {
   "cell_type": "code",
   "execution_count": null,
   "id": "b644143f",
   "metadata": {},
   "outputs": [],
   "source": [
    "aku = {}\n",
    "me = 'aku mau'\n",
    "bisa, jadi = me.split()"
   ]
  },
  {
   "cell_type": "code",
   "execution_count": null,
   "id": "1fbcade4",
   "metadata": {},
   "outputs": [],
   "source": [
    "print(bisa)\n",
    "print(jadi)"
   ]
  },
  {
   "cell_type": "code",
   "execution_count": null,
   "id": "fbe371b8",
   "metadata": {},
   "outputs": [],
   "source": [
    "aku['bisa'] = bisa\n",
    "aku['jadi'] = jadi\n",
    "print(aku)"
   ]
  },
  {
   "cell_type": "code",
   "execution_count": 11,
   "id": "6b3a557c",
   "metadata": {},
   "outputs": [
    {
     "name": "stdout",
     "output_type": "stream",
     "text": [
      "banyaknya pasangan sinonim: 3\n",
      "Hello Hi\n",
      "Bye Goodbye\n",
      "Senarai Array\n",
      "\n",
      "kata yang ingin dicari sinonimnya: Goodbye\n",
      "Bye\n"
     ]
    }
   ],
   "source": [
    "num_sinonim = int(input(\"banyaknya pasangan sinonim: \"))\n",
    "dict_sinonim = {}\n",
    "\n",
    "for i in range(num_sinonim):\n",
    "    first, second = input().split()\n",
    "    dict_sinonim[first] = second\n",
    "   \n",
    "print()\n",
    "\n",
    "word = input(\"kata yang ingin dicari sinonimnya: \")\n",
    "for key, value in dict_sinonim.items():\n",
    "    if value == word:\n",
    "        print(key)\n",
    "        break\n"
   ]
  },
  {
   "cell_type": "code",
   "execution_count": 15,
   "id": "00e36ee3",
   "metadata": {},
   "outputs": [
    {
     "name": "stdout",
     "output_type": "stream",
     "text": [
      "5\n",
      "3\n",
      "<2,1,4,2,6>\n",
      "<0,1,2,2,8>\n",
      "-3\n",
      "8.0\n",
      "4\n"
     ]
    }
   ],
   "source": [
    "import math\n",
    "\n",
    "class Vector5(list):\n",
    "    jumlah_vector = 0 # a class variable\n",
    "\n",
    "    def __init__(self, data = 5*[0]):\n",
    "        super().__init__(data)\n",
    "        Vector5.jumlah_vector += 1\n",
    "\n",
    "    def __str__(self):\n",
    "        return f\"<{self[0]},{self[1]},{self[2]},{self[3]},{self[4]}>\"\n",
    "\n",
    "    def __add__(self, param):\n",
    "        data = 5*[0]\n",
    "\n",
    "        if type(param) == Vector5:\n",
    "            for i in range(5):\n",
    "                data[i] = self[i] + param[i]\n",
    "            return Vector5(data)\n",
    "        else:\n",
    "            raise(TypeError)\n",
    "\n",
    "    def __sub__(self, param):\n",
    "        data = 5*[0]\n",
    "\n",
    "        if type(param) == Vector5:\n",
    "            for i in range(5):\n",
    "                data[i] = self[i] - param[i]\n",
    "            return Vector5(data)\n",
    "        else:\n",
    "            raise(TypeError)\n",
    "    \n",
    "    # dot product g balikin vector tp value \n",
    "    def __mul__(self, param):\n",
    "        if type(param) == Vector5:\n",
    "            return sum(self[i] * param[i] for i in range(5))\n",
    "        else:\n",
    "            raise(TypeError)\n",
    "\n",
    "    def norm(self):\n",
    "        return math.sqrt(self * self)\n",
    "    \n",
    "def main():\n",
    "    v1 = Vector5([1,1,3,2,7])\n",
    "    v2 = Vector5([1,0,1,0,-1])\n",
    "    v3 = v1 + v2\n",
    "    v4 = v1 - v2\n",
    "        \n",
    "    print(len(v1)) # 5, len() bisa diterapkan karena \"Vector5 is a list\"\n",
    "    print(v1[2]) # 3, indexing bisa diterapkan karena \"Vector5 is a list\"\n",
    "    print(v3) # <2,1,4,2,6>\n",
    "    print(v4) # <0,1,2,2,8>\n",
    "    print(v1 * v2) # -3\n",
    "    print(v1.norm()) # 8.0\n",
    "    print(Vector5.jumlah_vector) # 4\n",
    "    \n",
    "if __name__ == '__main__':\n",
    "    main()"
   ]
  },
  {
   "cell_type": "markdown",
   "id": "e124bb46",
   "metadata": {},
   "source": [
    "Summary:\n",
    "__str__: String representation of the vector.\n",
    "\n",
    "__add__: Addition behavior.\n",
    "\n",
    "__sub__: Subtraction behavior.\n",
    "\n",
    "These methods (__str__, __add__, and __sub__) are indeed special methods (often called \"magic\" or \"dunder\" methods) provided by Python. They define how instances of your class behave in certain situations.\n",
    "\n",
    " you can use the __mul__ method to define multiplication behavior for instances of your Vector5 class. The __mul__ method is called when you use the * operator with instances of your class."
   ]
  },
  {
   "cell_type": "markdown",
   "id": "282165e3",
   "metadata": {},
   "source": [
    "## 30 terakhir plz"
   ]
  },
  {
   "cell_type": "code",
   "execution_count": 20,
   "id": "c1d3b067",
   "metadata": {},
   "outputs": [
    {
     "name": "stdout",
     "output_type": "stream",
     "text": [
      "amount of money = 50000\n",
      "100000\n",
      "amount of money = 104000\n",
      "amount of money = 30000\n",
      "amount of money = 124000\n"
     ]
    }
   ],
   "source": [
    "class BankAccount(object):\n",
    "    def __init__(self, balance):\n",
    "        self.__balance = balance\n",
    "        \n",
    "    def get_balance(self):\n",
    "        \"\"\" getter untuk atribut balance yang non-public \"\"\"\n",
    "        return self.__balance\n",
    "    \n",
    "    def deposit(self, amount):\n",
    "        \"\"\" menabung sejumlah amount ke self account \"\"\"\n",
    "        self.__balance += amount\n",
    "        return self.__balance\n",
    "        \n",
    "    def withdraw(self, amount):\n",
    "        \"\"\" mengambil uang sejumlah amount dari\n",
    "        self account (boleh negatif)\n",
    "        \"\"\"\n",
    "        self.__balance -= amount\n",
    "        return self.__balance\n",
    "        \n",
    "    def transfer(self, other_account, amount):\n",
    "        \"\"\" transfer uang dari 'self' account ke other account\"\"\"\n",
    "        # kan ini acc nya beda tapi derived dari class sama\n",
    "        self.withdraw(amount)\n",
    "        other_account.deposit(amount)\n",
    "        \n",
    "    def __str__(self):\n",
    "        return f\"amount of money = {self.get_balance()}\"\n",
    "\n",
    "if __name__ == '__main__':\n",
    "    my_account = BankAccount(50000)\n",
    "    your_account = BankAccount(100000)\n",
    "    print(my_account) # amount of money = 50000\n",
    "    print(your_account.get_balance()) # 100000\n",
    "    your_account.deposit(4000)\n",
    "    print(your_account) # amount of money = 104000\n",
    "    my_account.transfer(your_account, 20000)\n",
    "    print(my_account) # amount of money = 30000\n",
    "    print(your_account) # amount of money = 124000"
   ]
  },
  {
   "cell_type": "markdown",
   "id": "44a5efd3",
   "metadata": {},
   "source": [
    "#### making getters make sense"
   ]
  },
  {
   "cell_type": "markdown",
   "id": "dc437da9",
   "metadata": {},
   "source": [
    "jdie, kita kan pake priv variable gitu kan. nah itu tuh intendnya kalo di python bukan buat real priv aja, tp lebih ke biar ga gampang diotak atik.\n",
    "\n",
    "contohnya, balance user. kita kan mau tau balancenya berapa, tp balance y ttp balance, gabisa sembarang di otak atik kecuali melakukan transaksi, dan transaksi tersebut juga terjadi di background. kita cuma butuh display tuh balance nya aja, tp balancenya mw diapa apain, itu di scope kelasnya aja\n",
    "\n",
    "makanya kita pake getters. cuma get value dr priv variable aja"
   ]
  },
  {
   "cell_type": "code",
   "execution_count": 16,
   "id": "c9447658",
   "metadata": {},
   "outputs": [
    {
     "name": "stdout",
     "output_type": "stream",
     "text": [
      "Balance: 1000\n"
     ]
    }
   ],
   "source": [
    "class BankAccount:\n",
    "    def __init__(self, balance):\n",
    "        self.__balance = balance\n",
    "\n",
    "    def get_balance(self):\n",
    "        \"\"\"Getter for the private attribute __balance.\"\"\"\n",
    "        return self.__balance\n",
    "\n",
    "# Usage:\n",
    "account = BankAccount(1000)\n",
    "balance = account.get_balance()\n",
    "print(\"Balance:\", balance)\n"
   ]
  },
  {
   "cell_type": "markdown",
   "id": "2098e378",
   "metadata": {},
   "source": [
    "###### making setters make sense"
   ]
  },
  {
   "cell_type": "markdown",
   "id": "0e60469e",
   "metadata": {},
   "source": [
    "getters: ak cm pengen mw liat\n",
    "setters: ak mw update, tp karna priv variable intended supaya ak ga sembarang otak atik variable, ak harus validasi dlu nie updatenya supaya tidak melenceng\n"
   ]
  },
  {
   "cell_type": "code",
   "execution_count": 17,
   "id": "5aa3f86c",
   "metadata": {},
   "outputs": [
    {
     "name": "stdout",
     "output_type": "stream",
     "text": [
      "Current Age: 25\n",
      "New Age: 30\n",
      "Invalid age. Age must be between 0 and 120.\n"
     ]
    }
   ],
   "source": [
    "class Person:\n",
    "    def __init__(self, name, age):\n",
    "        self.__name = name\n",
    "        self.__age = age\n",
    "\n",
    "    def get_age(self):\n",
    "        \"\"\"Getter for the private attribute __age.\"\"\"\n",
    "        return self.__age\n",
    "\n",
    "    def set_age(self, new_age):\n",
    "        \"\"\"Setter for the private attribute __age.\"\"\"\n",
    "        if 0 <= new_age <= 120:  # Assume valid age range is 0 to 120.\n",
    "            self.__age = new_age\n",
    "        else:\n",
    "            print(\"Invalid age. Age must be between 0 and 120.\")\n",
    "\n",
    "# Usage:\n",
    "person = Person(\"John\", 25)\n",
    "\n",
    "# Using the getter to retrieve age\n",
    "current_age = person.get_age()\n",
    "print(\"Current Age:\", current_age)  # Output: Current Age: 25\n",
    "\n",
    "# Using the setter to update age with validation\n",
    "person.set_age(30)  # Valid age update\n",
    "new_age = person.get_age()\n",
    "print(\"New Age:\", new_age)  # Output: New Age: 30\n",
    "\n",
    "person.set_age(150)  # Invalid age update\n"
   ]
  },
  {
   "cell_type": "markdown",
   "id": "83ecc713",
   "metadata": {},
   "source": [
    "liat de, ak harus patuhin bbrp restriction kalo mau update umur orgnya."
   ]
  },
  {
   "cell_type": "markdown",
   "id": "7da43877",
   "metadata": {},
   "source": [
    "### To access an attribute within the class, you use self.attribute.\n",
    "### To call a method within the class, you use self.method()."
   ]
  },
  {
   "cell_type": "markdown",
   "id": "411c4fbf",
   "metadata": {},
   "source": [
    "#### gabisa pakeoperator assignment += atau -= untuk return statement"
   ]
  },
  {
   "cell_type": "markdown",
   "id": "bfd8c0c1",
   "metadata": {},
   "source": [
    "# msie ada 1 lagi wkwkwkwkwkwk 31"
   ]
  },
  {
   "cell_type": "markdown",
   "id": "968f138e",
   "metadata": {},
   "source": [
    "## pattern for check adjacent chara:\n",
    "for i in range(math.ceil(pnjg/2)):\n",
    "\n",
    "    if s[i] == s[panjang-1-i]"
   ]
  },
  {
   "cell_type": "code",
   "execution_count": 2,
   "id": "c11dbcf4",
   "metadata": {},
   "outputs": [],
   "source": [
    "import math\n",
    "\n",
    "def f(s):\n",
    "    panjang = len(s)\n",
    "    new_s = ''\n",
    "    \n",
    "    for i in range(math.ceil(panjang/2)):\n",
    "        if s[i] == s[panjang - 1 - i]:\n",
    "            if i == panjang-1-i:\n",
    "                new_s = new_s[:len(new_s)//2] + s[i] + new_s[len(new_s)//2 :]\n",
    "            else:\n",
    "                new_s = new_s[:len(new_s)//2] + s[i] + s[i] + new_s[len(new_s)//2 :]\n",
    "    \n",
    "    return new_s"
   ]
  },
  {
   "cell_type": "code",
   "execution_count": 22,
   "id": "cd8453d4",
   "metadata": {},
   "outputs": [
    {
     "name": "stdout",
     "output_type": "stream",
     "text": [
      "abba\n"
     ]
    }
   ],
   "source": [
    "print(f('abba'))"
   ]
  },
  {
   "cell_type": "code",
   "execution_count": null,
   "id": "dc96d7f0",
   "metadata": {},
   "outputs": [],
   "source": []
  }
 ],
 "metadata": {
  "kernelspec": {
   "display_name": "Python 3 (ipykernel)",
   "language": "python",
   "name": "python3"
  },
  "language_info": {
   "codemirror_mode": {
    "name": "ipython",
    "version": 3
   },
   "file_extension": ".py",
   "mimetype": "text/x-python",
   "name": "python",
   "nbconvert_exporter": "python",
   "pygments_lexer": "ipython3",
   "version": "3.11.4"
  }
 },
 "nbformat": 4,
 "nbformat_minor": 5
}
