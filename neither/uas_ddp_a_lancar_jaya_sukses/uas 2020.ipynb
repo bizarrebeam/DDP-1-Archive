{
 "cells": [
  {
   "cell_type": "markdown",
   "id": "58d19b47",
   "metadata": {},
   "source": [
    "# 1"
   ]
  },
  {
   "cell_type": "code",
   "execution_count": 1,
   "id": "f026e501",
   "metadata": {},
   "outputs": [],
   "source": [
    "class Binatang:\n",
    "    pass\n",
    "class Burung(Binatang):\n",
    "    pass\n",
    "class Elang(Burung):\n",
    "    pass\n",
    "\n",
    "elang1 = Elang()\n",
    "burung1 = Burung()"
   ]
  },
  {
   "cell_type": "code",
   "execution_count": 2,
   "id": "c049e976",
   "metadata": {},
   "outputs": [
    {
     "data": {
      "text/plain": [
       "__main__.Elang"
      ]
     },
     "execution_count": 2,
     "metadata": {},
     "output_type": "execute_result"
    }
   ],
   "source": [
    "type(elang1)"
   ]
  },
  {
   "cell_type": "code",
   "execution_count": 3,
   "id": "47302a2f",
   "metadata": {},
   "outputs": [
    {
     "data": {
      "text/plain": [
       "<__main__.Elang at 0x22b34c0a350>"
      ]
     },
     "execution_count": 3,
     "metadata": {},
     "output_type": "execute_result"
    }
   ],
   "source": [
    "elang1.__class__()"
   ]
  },
  {
   "cell_type": "code",
   "execution_count": 6,
   "id": "b37bbe64",
   "metadata": {},
   "outputs": [
    {
     "ename": "AttributeError",
     "evalue": "'Elang' object has no attribute '__bases__'",
     "output_type": "error",
     "traceback": [
      "\u001b[1;31m---------------------------------------------------------------------------\u001b[0m",
      "\u001b[1;31mAttributeError\u001b[0m                            Traceback (most recent call last)",
      "Cell \u001b[1;32mIn[6], line 1\u001b[0m\n\u001b[1;32m----> 1\u001b[0m elang1\u001b[38;5;241m.\u001b[39m\u001b[38;5;18m__bases__\u001b[39m\n",
      "\u001b[1;31mAttributeError\u001b[0m: 'Elang' object has no attribute '__bases__'"
     ]
    }
   ],
   "source": [
    "elang1.__bases__"
   ]
  },
  {
   "cell_type": "markdown",
   "id": "857b0d57",
   "metadata": {},
   "source": [
    "## 2 "
   ]
  },
  {
   "cell_type": "code",
   "execution_count": 7,
   "id": "00447280",
   "metadata": {},
   "outputs": [],
   "source": [
    "class Saya:\n",
    "    a = 0\n",
    "    pass"
   ]
  },
  {
   "cell_type": "code",
   "execution_count": 19,
   "id": "5d3fd27d",
   "metadata": {},
   "outputs": [],
   "source": [
    "a1 = Saya()\n",
    "a2 = Saya()\n",
    "a3 = Saya()"
   ]
  },
  {
   "cell_type": "code",
   "execution_count": 20,
   "id": "91db6c94",
   "metadata": {},
   "outputs": [
    {
     "name": "stdout",
     "output_type": "stream",
     "text": [
      "10\n"
     ]
    }
   ],
   "source": [
    "a1.a=10\n",
    "print(a1.a)"
   ]
  },
  {
   "cell_type": "code",
   "execution_count": 21,
   "id": "c305bc98",
   "metadata": {},
   "outputs": [
    {
     "name": "stdout",
     "output_type": "stream",
     "text": [
      "100\n"
     ]
    }
   ],
   "source": [
    "Saya.a=100\n",
    "print(Saya.a)"
   ]
  },
  {
   "cell_type": "code",
   "execution_count": 22,
   "id": "4da928f0",
   "metadata": {},
   "outputs": [
    {
     "data": {
      "text/plain": [
       "10"
      ]
     },
     "execution_count": 22,
     "metadata": {},
     "output_type": "execute_result"
    }
   ],
   "source": [
    "a1.a"
   ]
  },
  {
   "cell_type": "code",
   "execution_count": 23,
   "id": "df91b883",
   "metadata": {},
   "outputs": [
    {
     "data": {
      "text/plain": [
       "100"
      ]
     },
     "execution_count": 23,
     "metadata": {},
     "output_type": "execute_result"
    }
   ],
   "source": [
    "a2.a"
   ]
  },
  {
   "cell_type": "code",
   "execution_count": 24,
   "id": "b2ed841c",
   "metadata": {},
   "outputs": [
    {
     "name": "stdout",
     "output_type": "stream",
     "text": [
      "110\n"
     ]
    }
   ],
   "source": [
    "a1.a = a1.a + a2.a\n",
    "print(a1.a)"
   ]
  },
  {
   "cell_type": "code",
   "execution_count": 25,
   "id": "fc8ce0cd",
   "metadata": {},
   "outputs": [
    {
     "data": {
      "text/plain": [
       "100"
      ]
     },
     "execution_count": 25,
     "metadata": {},
     "output_type": "execute_result"
    }
   ],
   "source": [
    "a3.a"
   ]
  },
  {
   "cell_type": "code",
   "execution_count": 26,
   "id": "12ad2de5",
   "metadata": {},
   "outputs": [
    {
     "name": "stdout",
     "output_type": "stream",
     "text": [
      "110\n",
      "100\n",
      "100\n"
     ]
    }
   ],
   "source": [
    "print(a1.a)\n",
    "print(a2.a)\n",
    "print(a3.a)"
   ]
  },
  {
   "cell_type": "markdown",
   "id": "18e7419e",
   "metadata": {},
   "source": [
    "jadi variablenya kalo dh di assign, meskipun diubah keseluruhan kelasnya, ttp bakal sama yh mengikuti yg sebelum diubah"
   ]
  },
  {
   "cell_type": "markdown",
   "id": "6c2df186",
   "metadata": {},
   "source": [
    "# 4"
   ]
  },
  {
   "cell_type": "code",
   "execution_count": null,
   "id": "e5b88535",
   "metadata": {},
   "outputs": [],
   "source": []
  }
 ],
 "metadata": {
  "kernelspec": {
   "display_name": "Python 3 (ipykernel)",
   "language": "python",
   "name": "python3"
  },
  "language_info": {
   "codemirror_mode": {
    "name": "ipython",
    "version": 3
   },
   "file_extension": ".py",
   "mimetype": "text/x-python",
   "name": "python",
   "nbconvert_exporter": "python",
   "pygments_lexer": "ipython3",
   "version": "3.11.4"
  }
 },
 "nbformat": 4,
 "nbformat_minor": 5
}
