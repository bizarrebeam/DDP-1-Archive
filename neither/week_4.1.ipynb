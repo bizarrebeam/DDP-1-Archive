{
 "cells": [
  {
   "cell_type": "code",
   "execution_count": 1,
   "id": "405459f3",
   "metadata": {},
   "outputs": [
    {
     "name": "stdout",
     "output_type": "stream",
     "text": [
      "i = 5 and x = 5\n",
      "i = 4 and x = 9\n",
      "i = 3 and x = 12\n",
      "i = 2 and x = 14\n",
      "14\n"
     ]
    }
   ],
   "source": [
    "\n",
    "x = 0\n",
    "for i in range(5,1,-1):\n",
    "    x += i\n",
    "    print(f\"i = {i} and x = {x}\")\n",
    "print(x)"
   ]
  },
  {
   "cell_type": "code",
   "execution_count": 6,
   "id": "89c477a5",
   "metadata": {},
   "outputs": [
    {
     "name": "stdout",
     "output_type": "stream",
     "text": [
      "Inside while with counter: 3\n",
      "After while loop\n"
     ]
    }
   ],
   "source": [
    "counter = 0\n",
    "\n",
    "while counter < 3:\n",
    "    counter += 1\n",
    "    if counter <= 2:\n",
    "        continue\n",
    "    print(f\"Inside while with counter: {counter}\")\n",
    "print(\"After while loop\")"
   ]
  },
  {
   "cell_type": "code",
   "execution_count": 15,
   "id": "7d249b98",
   "metadata": {},
   "outputs": [
    {
     "name": "stdout",
     "output_type": "stream",
     "text": [
      "x: 11\n",
      "y: 11\n",
      "z: 10\n",
      "The max number is 11\n"
     ]
    }
   ],
   "source": [
    "x = int(input(\"x: \"))\n",
    "y = int(input(\"y: \"))\n",
    "z = int(input(\"z: \"))\n",
    "\n",
    "list = [x, y, z]\n",
    "for num in list:\n",
    "    choosen = max(list)\n",
    "print(f\"The max number is {choosen}\")"
   ]
  },
  {
   "cell_type": "code",
   "execution_count": 13,
   "id": "d497d848",
   "metadata": {},
   "outputs": [
    {
     "name": "stdout",
     "output_type": "stream",
     "text": [
      "x: 12\n",
      "y: 12\n",
      "z: 11\n",
      "The max number is 11!\n"
     ]
    }
   ],
   "source": [
    "x = int(input(\"x: \"))\n",
    "y = int(input(\"y: \"))\n",
    "z = int(input(\"z: \"))\n",
    "\n",
    "if x > y and x > z:\n",
    "    print(f\"The max number is {x}!\")\n",
    "elif y > x and y > z:\n",
    "    print(f\"The max number is {y}!\")\n",
    "else:\n",
    "    print(f\"The max number is {z}!\")"
   ]
  },
  {
   "cell_type": "code",
   "execution_count": 14,
   "id": "cba1a8dd",
   "metadata": {},
   "outputs": [
    {
     "name": "stdout",
     "output_type": "stream",
     "text": [
      "x: 12\n",
      "y: 12\n",
      "z: 11\n",
      "The max number is 12!\n"
     ]
    }
   ],
   "source": [
    "x = int(input(\"x: \"))\n",
    "y = int(input(\"y: \"))\n",
    "z = int(input(\"z: \"))\n",
    "\n",
    "if x >= y and x >= z:\n",
    "    print(f\"The max number is {x}!\")\n",
    "elif y >= x and y >= z:\n",
    "    print(f\"The max number is {y}!\")\n",
    "else:\n",
    "    print(f\"The max number is {z}!\")"
   ]
  },
  {
   "cell_type": "code",
   "execution_count": 21,
   "id": "f04ffc01",
   "metadata": {},
   "outputs": [
    {
     "name": "stdout",
     "output_type": "stream",
     "text": [
      "3\n",
      "i = 0 the total is 0\n",
      "i = 1 the total is 1\n",
      "i = 2 the total is 3\n",
      "i = 3 the total is 6\n",
      "6\n"
     ]
    }
   ],
   "source": [
    "n = int(input())\n",
    "\n",
    "total = 0\n",
    "for i in range(n + 1):\n",
    "    total += i\n",
    "    print(f\"i = {i} the total is {total}\")\n",
    "    \n",
    "print(total)"
   ]
  },
  {
   "cell_type": "code",
   "execution_count": 23,
   "id": "53d84d0b",
   "metadata": {},
   "outputs": [
    {
     "name": "stdout",
     "output_type": "stream",
     "text": [
      "7\n"
     ]
    }
   ],
   "source": [
    "import random\n",
    "x = random.randint(1, 10)\n",
    "print(x)\n"
   ]
  },
  {
   "cell_type": "code",
   "execution_count": null,
   "id": "a8aedb46",
   "metadata": {},
   "outputs": [],
   "source": []
  }
 ],
 "metadata": {
  "kernelspec": {
   "display_name": "Python 3 (ipykernel)",
   "language": "python",
   "name": "python3"
  },
  "language_info": {
   "codemirror_mode": {
    "name": "ipython",
    "version": 3
   },
   "file_extension": ".py",
   "mimetype": "text/x-python",
   "name": "python",
   "nbconvert_exporter": "python",
   "pygments_lexer": "ipython3",
   "version": "3.11.4"
  }
 },
 "nbformat": 4,
 "nbformat_minor": 5
}
